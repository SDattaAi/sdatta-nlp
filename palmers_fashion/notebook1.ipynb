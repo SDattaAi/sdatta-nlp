{
 "cells": [
  {
   "cell_type": "code",
   "execution_count": 13,
   "metadata": {
    "collapsed": true
   },
   "outputs": [],
   "source": [
    "import pandas as pd\n",
    "from sdatta_learn.loader.load_from_postgres import get_all_table, get_sales_between_dates\n",
    "import os"
   ]
  },
  {
   "cell_type": "code",
   "execution_count": 14,
   "outputs": [],
   "source": [
    "config_dict = {'pg_port': os.environ.get('PT_PG_PORT', '5432'),\n",
    "               'pg_user': os.environ.get('PT_PG_USER', 'datatiger'),\n",
    "               'pg_password': os.environ.get('PT_PG_PASSWORD', 'Hwhiupwj6SZ4Sq'),\n",
    "               'pg_host': os.environ.get('PT_PG_HOST', 'sdatta-pg.postgres.database.azure.com'),\n",
    "               'pg_database': os.environ.get('PT_PG_DATABASE', 'postgres'),\n",
    "               'sku_store_col': 'sku, store',\n",
    "               'item_store_col': 'item, store',\n",
    "               'date_col': 'date',\n",
    "               'sales_col': 'sales',\n",
    "               'avg_factor': 7,\n",
    "               'minimum_sparse_val': 0.3,\n",
    "               'sales_table_name': os.environ.get('PT_SALES_TABLE_NAME', 'public.f_sales_v'),\n",
    "               'artikelstamm_table_name': 'l_artikelstamm', }"
   ],
   "metadata": {
    "collapsed": false
   }
  },
  {
   "cell_type": "code",
   "execution_count": 15,
   "outputs": [
    {
     "ename": "OperationalError",
     "evalue": "connection to server at \"sdatta-pg.postgres.database.azure.com\" (4.227.249.9), port 5432 failed: FATAL:  database \"dev\" does not exist\n",
     "output_type": "error",
     "traceback": [
      "\u001B[0;31m---------------------------------------------------------------------------\u001B[0m",
      "\u001B[0;31mOperationalError\u001B[0m                          Traceback (most recent call last)",
      "Cell \u001B[0;32mIn[15], line 1\u001B[0m\n\u001B[0;32m----> 1\u001B[0m l_artikelstamm \u001B[38;5;241m=\u001B[39m \u001B[43mget_all_table\u001B[49m\u001B[43m(\u001B[49m\u001B[43mtable_name\u001B[49m\u001B[38;5;241;43m=\u001B[39;49m\u001B[38;5;124;43m'\u001B[39;49m\u001B[38;5;124;43ml_artikelstamm\u001B[39;49m\u001B[38;5;124;43m'\u001B[39;49m\u001B[43m,\u001B[49m\n\u001B[1;32m      2\u001B[0m \u001B[43m                               \u001B[49m\u001B[43mpg_host\u001B[49m\u001B[38;5;241;43m=\u001B[39;49m\u001B[43mconfig_dict\u001B[49m\u001B[43m[\u001B[49m\u001B[38;5;124;43m'\u001B[39;49m\u001B[38;5;124;43mpg_host\u001B[39;49m\u001B[38;5;124;43m'\u001B[39;49m\u001B[43m]\u001B[49m\u001B[43m,\u001B[49m\n\u001B[1;32m      3\u001B[0m \u001B[43m                               \u001B[49m\u001B[43mpg_port\u001B[49m\u001B[38;5;241;43m=\u001B[39;49m\u001B[43mconfig_dict\u001B[49m\u001B[43m[\u001B[49m\u001B[38;5;124;43m'\u001B[39;49m\u001B[38;5;124;43mpg_port\u001B[39;49m\u001B[38;5;124;43m'\u001B[39;49m\u001B[43m]\u001B[49m\u001B[43m,\u001B[49m\n\u001B[1;32m      4\u001B[0m \u001B[43m                               \u001B[49m\u001B[43mpg_user\u001B[49m\u001B[38;5;241;43m=\u001B[39;49m\u001B[43mconfig_dict\u001B[49m\u001B[43m[\u001B[49m\u001B[38;5;124;43m'\u001B[39;49m\u001B[38;5;124;43mpg_user\u001B[39;49m\u001B[38;5;124;43m'\u001B[39;49m\u001B[43m]\u001B[49m\u001B[43m,\u001B[49m\n\u001B[1;32m      5\u001B[0m \u001B[43m                               \u001B[49m\u001B[43mpg_password\u001B[49m\u001B[38;5;241;43m=\u001B[39;49m\u001B[43mconfig_dict\u001B[49m\u001B[43m[\u001B[49m\u001B[38;5;124;43m'\u001B[39;49m\u001B[38;5;124;43mpg_password\u001B[39;49m\u001B[38;5;124;43m'\u001B[39;49m\u001B[43m]\u001B[49m\u001B[43m,\u001B[49m\n\u001B[1;32m      6\u001B[0m \u001B[43m                               \u001B[49m\u001B[43mpg_database\u001B[49m\u001B[38;5;241;43m=\u001B[39;49m\u001B[38;5;124;43m'\u001B[39;49m\u001B[38;5;124;43mdev\u001B[39;49m\u001B[38;5;124;43m'\u001B[39;49m\u001B[43m)\u001B[49m\n",
      "File \u001B[0;32m~/Desktop/Palmers/palmers/venv/local_oran/lib/python3.9/site-packages/sdatta_learn/loader/load_from_postgres.py:85\u001B[0m, in \u001B[0;36mget_all_table\u001B[0;34m(table_name, pg_host, pg_port, pg_user, pg_password, pg_database)\u001B[0m\n\u001B[1;32m     84\u001B[0m \u001B[38;5;28;01mdef\u001B[39;00m \u001B[38;5;21mget_all_table\u001B[39m(table_name, pg_host, pg_port, pg_user, pg_password, pg_database, ):\n\u001B[0;32m---> 85\u001B[0m     \u001B[38;5;28;01mwith\u001B[39;00m PostgresHandler(host\u001B[38;5;241m=\u001B[39mpg_host, port\u001B[38;5;241m=\u001B[39mpg_port, user\u001B[38;5;241m=\u001B[39mpg_user, password\u001B[38;5;241m=\u001B[39mpg_password,\n\u001B[1;32m     86\u001B[0m                          dbname\u001B[38;5;241m=\u001B[39mpg_database) \u001B[38;5;28;01mas\u001B[39;00m handler:\n\u001B[1;32m     87\u001B[0m         query \u001B[38;5;241m=\u001B[39m \u001B[38;5;124mf\u001B[39m\u001B[38;5;124m\"\"\"\u001B[39m\u001B[38;5;124mSELECT * \u001B[39m\n\u001B[1;32m     88\u001B[0m \u001B[38;5;124m                     FROM \u001B[39m\u001B[38;5;132;01m{\u001B[39;00mtable_name\u001B[38;5;132;01m}\u001B[39;00m\n\u001B[1;32m     89\u001B[0m \u001B[38;5;124m                   \u001B[39m\u001B[38;5;124m\"\"\"\u001B[39m\n\u001B[1;32m     90\u001B[0m         data \u001B[38;5;241m=\u001B[39m handler\u001B[38;5;241m.\u001B[39mread_sql_query(query, params\u001B[38;5;241m=\u001B[39m\u001B[38;5;28;01mNone\u001B[39;00m)\n",
      "File \u001B[0;32m~/Desktop/Palmers/palmers/venv/local_oran/lib/python3.9/site-packages/palmers_agents_general/db_handler.py:126\u001B[0m, in \u001B[0;36mPostgresHandler.__enter__\u001B[0;34m(self)\u001B[0m\n\u001B[1;32m    125\u001B[0m \u001B[38;5;28;01mdef\u001B[39;00m \u001B[38;5;21m__enter__\u001B[39m(\u001B[38;5;28mself\u001B[39m):\n\u001B[0;32m--> 126\u001B[0m     \u001B[38;5;28;43mself\u001B[39;49m\u001B[38;5;241;43m.\u001B[39;49m\u001B[43mconnect\u001B[49m\u001B[43m(\u001B[49m\u001B[43m)\u001B[49m\n\u001B[1;32m    127\u001B[0m     \u001B[38;5;28;01mreturn\u001B[39;00m \u001B[38;5;28mself\u001B[39m\n",
      "File \u001B[0;32m~/Desktop/Palmers/palmers/venv/local_oran/lib/python3.9/site-packages/palmers_agents_general/db_handler.py:22\u001B[0m, in \u001B[0;36mPostgresHandler.connect\u001B[0;34m(self)\u001B[0m\n\u001B[1;32m     21\u001B[0m \u001B[38;5;28;01mdef\u001B[39;00m \u001B[38;5;21mconnect\u001B[39m(\u001B[38;5;28mself\u001B[39m):\n\u001B[0;32m---> 22\u001B[0m     \u001B[38;5;28mself\u001B[39m\u001B[38;5;241m.\u001B[39mconn \u001B[38;5;241m=\u001B[39m \u001B[43mpsycopg2\u001B[49m\u001B[38;5;241;43m.\u001B[39;49m\u001B[43mconnect\u001B[49m\u001B[43m(\u001B[49m\n\u001B[1;32m     23\u001B[0m \u001B[43m        \u001B[49m\u001B[43mdbname\u001B[49m\u001B[38;5;241;43m=\u001B[39;49m\u001B[38;5;28;43mself\u001B[39;49m\u001B[38;5;241;43m.\u001B[39;49m\u001B[43mdbname\u001B[49m\u001B[43m,\u001B[49m\n\u001B[1;32m     24\u001B[0m \u001B[43m        \u001B[49m\u001B[43muser\u001B[49m\u001B[38;5;241;43m=\u001B[39;49m\u001B[38;5;28;43mself\u001B[39;49m\u001B[38;5;241;43m.\u001B[39;49m\u001B[43muser\u001B[49m\u001B[43m,\u001B[49m\n\u001B[1;32m     25\u001B[0m \u001B[43m        \u001B[49m\u001B[43mpassword\u001B[49m\u001B[38;5;241;43m=\u001B[39;49m\u001B[38;5;28;43mself\u001B[39;49m\u001B[38;5;241;43m.\u001B[39;49m\u001B[43mpassword\u001B[49m\u001B[43m,\u001B[49m\n\u001B[1;32m     26\u001B[0m \u001B[43m        \u001B[49m\u001B[43mhost\u001B[49m\u001B[38;5;241;43m=\u001B[39;49m\u001B[38;5;28;43mself\u001B[39;49m\u001B[38;5;241;43m.\u001B[39;49m\u001B[43mhost\u001B[49m\u001B[43m,\u001B[49m\n\u001B[1;32m     27\u001B[0m \u001B[43m        \u001B[49m\u001B[43mport\u001B[49m\u001B[38;5;241;43m=\u001B[39;49m\u001B[38;5;28;43mself\u001B[39;49m\u001B[38;5;241;43m.\u001B[39;49m\u001B[43mport\u001B[49m\n\u001B[1;32m     28\u001B[0m \u001B[43m    \u001B[49m\u001B[43m)\u001B[49m\n\u001B[1;32m     29\u001B[0m     \u001B[38;5;28mself\u001B[39m\u001B[38;5;241m.\u001B[39mcursor \u001B[38;5;241m=\u001B[39m \u001B[38;5;28mself\u001B[39m\u001B[38;5;241m.\u001B[39mconn\u001B[38;5;241m.\u001B[39mcursor(cursor_factory\u001B[38;5;241m=\u001B[39mRealDictCursor)\n",
      "File \u001B[0;32m~/Desktop/Palmers/palmers/venv/local_oran/lib/python3.9/site-packages/psycopg2/__init__.py:122\u001B[0m, in \u001B[0;36mconnect\u001B[0;34m(dsn, connection_factory, cursor_factory, **kwargs)\u001B[0m\n\u001B[1;32m    119\u001B[0m     kwasync[\u001B[38;5;124m'\u001B[39m\u001B[38;5;124masync_\u001B[39m\u001B[38;5;124m'\u001B[39m] \u001B[38;5;241m=\u001B[39m kwargs\u001B[38;5;241m.\u001B[39mpop(\u001B[38;5;124m'\u001B[39m\u001B[38;5;124masync_\u001B[39m\u001B[38;5;124m'\u001B[39m)\n\u001B[1;32m    121\u001B[0m dsn \u001B[38;5;241m=\u001B[39m _ext\u001B[38;5;241m.\u001B[39mmake_dsn(dsn, \u001B[38;5;241m*\u001B[39m\u001B[38;5;241m*\u001B[39mkwargs)\n\u001B[0;32m--> 122\u001B[0m conn \u001B[38;5;241m=\u001B[39m \u001B[43m_connect\u001B[49m\u001B[43m(\u001B[49m\u001B[43mdsn\u001B[49m\u001B[43m,\u001B[49m\u001B[43m \u001B[49m\u001B[43mconnection_factory\u001B[49m\u001B[38;5;241;43m=\u001B[39;49m\u001B[43mconnection_factory\u001B[49m\u001B[43m,\u001B[49m\u001B[43m \u001B[49m\u001B[38;5;241;43m*\u001B[39;49m\u001B[38;5;241;43m*\u001B[39;49m\u001B[43mkwasync\u001B[49m\u001B[43m)\u001B[49m\n\u001B[1;32m    123\u001B[0m \u001B[38;5;28;01mif\u001B[39;00m cursor_factory \u001B[38;5;129;01mis\u001B[39;00m \u001B[38;5;129;01mnot\u001B[39;00m \u001B[38;5;28;01mNone\u001B[39;00m:\n\u001B[1;32m    124\u001B[0m     conn\u001B[38;5;241m.\u001B[39mcursor_factory \u001B[38;5;241m=\u001B[39m cursor_factory\n",
      "\u001B[0;31mOperationalError\u001B[0m: connection to server at \"sdatta-pg.postgres.database.azure.com\" (4.227.249.9), port 5432 failed: FATAL:  database \"dev\" does not exist\n"
     ]
    }
   ],
   "source": [
    "l_artikelstamm = get_all_table(table_name='l_artikelstamm',\n",
    "                               pg_host=config_dict['pg_host'],\n",
    "                               pg_port=config_dict['pg_port'],\n",
    "                               pg_user=config_dict['pg_user'],\n",
    "                               pg_password=config_dict['pg_password'],\n",
    "                               pg_database='dev')"
   ],
   "metadata": {
    "collapsed": false
   }
  },
  {
   "cell_type": "code",
   "execution_count": null,
   "outputs": [],
   "source": [
    "f_sales_v = get_sales_between_dates(table_name='f_sales_v',\n",
    "                          pg_host=config_dict['pg_host'],\n",
    "                          pg_port=config_dict['pg_port'],\n",
    "                          pg_user=config_dict['pg_user'],\n",
    "                          pg_password=config_dict['pg_password'],\n",
    "                          pg_database='dev')"
   ],
   "metadata": {
    "collapsed": false
   }
  }
 ],
 "metadata": {
  "kernelspec": {
   "display_name": "Python 3",
   "language": "python",
   "name": "python3"
  },
  "language_info": {
   "codemirror_mode": {
    "name": "ipython",
    "version": 2
   },
   "file_extension": ".py",
   "mimetype": "text/x-python",
   "name": "python",
   "nbconvert_exporter": "python",
   "pygments_lexer": "ipython2",
   "version": "2.7.6"
  }
 },
 "nbformat": 4,
 "nbformat_minor": 0
}

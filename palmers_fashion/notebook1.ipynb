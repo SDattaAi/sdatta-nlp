{
 "cells": [
  {
   "cell_type": "code",
   "execution_count": 1,
   "metadata": {
    "collapsed": true
   },
   "outputs": [],
   "source": [
    "import pandas as pd"
   ]
  },
  {
   "cell_type": "code",
   "execution_count": 2,
   "outputs": [
    {
     "data": {
      "text/plain": "                     sku store       date  average_price  \\\n0        100009119000002    76 2019-08-05          49.90   \n1        100009134000001  4134 2018-02-27          49.99   \n2        100009134000003  4904 2018-02-03          49.99   \n3        100009134000004  4904 2018-01-11          49.99   \n4        100009134000004  4904 2018-02-08          49.99   \n...                  ...   ...        ...            ...   \n4990972  201999999991001    95 2018-08-30           2.99   \n4990973  201999999991001    95 2018-08-31           2.99   \n4990974  201999999991001    95 2018-12-03           2.99   \n4990975  201999999991001    96 2018-12-08           2.99   \n4990976  201999999991001    99 2021-07-20           2.99   \n\n         average_dicounted_price  sales             item  \n0                           5.00    1.0  100009119000002  \n1                          24.99    1.0  100009134000001  \n2                          24.99    1.0  100009134000003  \n3                          24.99    1.0  100009134000004  \n4                          24.99    1.0  100009134000004  \n...                          ...    ...              ...  \n4990972                     0.00    1.0  201999999991001  \n4990973                     0.00    2.0  201999999991001  \n4990974                     0.00    4.0  201999999991001  \n4990975                     2.99    1.0  201999999991001  \n4990976                     0.00    1.0  201999999991001  \n\n[4990977 rows x 7 columns]",
      "text/html": "<div>\n<style scoped>\n    .dataframe tbody tr th:only-of-type {\n        vertical-align: middle;\n    }\n\n    .dataframe tbody tr th {\n        vertical-align: top;\n    }\n\n    .dataframe thead th {\n        text-align: right;\n    }\n</style>\n<table border=\"1\" class=\"dataframe\">\n  <thead>\n    <tr style=\"text-align: right;\">\n      <th></th>\n      <th>sku</th>\n      <th>store</th>\n      <th>date</th>\n      <th>average_price</th>\n      <th>average_dicounted_price</th>\n      <th>sales</th>\n      <th>item</th>\n    </tr>\n  </thead>\n  <tbody>\n    <tr>\n      <th>0</th>\n      <td>100009119000002</td>\n      <td>76</td>\n      <td>2019-08-05</td>\n      <td>49.90</td>\n      <td>5.00</td>\n      <td>1.0</td>\n      <td>100009119000002</td>\n    </tr>\n    <tr>\n      <th>1</th>\n      <td>100009134000001</td>\n      <td>4134</td>\n      <td>2018-02-27</td>\n      <td>49.99</td>\n      <td>24.99</td>\n      <td>1.0</td>\n      <td>100009134000001</td>\n    </tr>\n    <tr>\n      <th>2</th>\n      <td>100009134000003</td>\n      <td>4904</td>\n      <td>2018-02-03</td>\n      <td>49.99</td>\n      <td>24.99</td>\n      <td>1.0</td>\n      <td>100009134000003</td>\n    </tr>\n    <tr>\n      <th>3</th>\n      <td>100009134000004</td>\n      <td>4904</td>\n      <td>2018-01-11</td>\n      <td>49.99</td>\n      <td>24.99</td>\n      <td>1.0</td>\n      <td>100009134000004</td>\n    </tr>\n    <tr>\n      <th>4</th>\n      <td>100009134000004</td>\n      <td>4904</td>\n      <td>2018-02-08</td>\n      <td>49.99</td>\n      <td>24.99</td>\n      <td>1.0</td>\n      <td>100009134000004</td>\n    </tr>\n    <tr>\n      <th>...</th>\n      <td>...</td>\n      <td>...</td>\n      <td>...</td>\n      <td>...</td>\n      <td>...</td>\n      <td>...</td>\n      <td>...</td>\n    </tr>\n    <tr>\n      <th>4990972</th>\n      <td>201999999991001</td>\n      <td>95</td>\n      <td>2018-08-30</td>\n      <td>2.99</td>\n      <td>0.00</td>\n      <td>1.0</td>\n      <td>201999999991001</td>\n    </tr>\n    <tr>\n      <th>4990973</th>\n      <td>201999999991001</td>\n      <td>95</td>\n      <td>2018-08-31</td>\n      <td>2.99</td>\n      <td>0.00</td>\n      <td>2.0</td>\n      <td>201999999991001</td>\n    </tr>\n    <tr>\n      <th>4990974</th>\n      <td>201999999991001</td>\n      <td>95</td>\n      <td>2018-12-03</td>\n      <td>2.99</td>\n      <td>0.00</td>\n      <td>4.0</td>\n      <td>201999999991001</td>\n    </tr>\n    <tr>\n      <th>4990975</th>\n      <td>201999999991001</td>\n      <td>96</td>\n      <td>2018-12-08</td>\n      <td>2.99</td>\n      <td>2.99</td>\n      <td>1.0</td>\n      <td>201999999991001</td>\n    </tr>\n    <tr>\n      <th>4990976</th>\n      <td>201999999991001</td>\n      <td>99</td>\n      <td>2021-07-20</td>\n      <td>2.99</td>\n      <td>0.00</td>\n      <td>1.0</td>\n      <td>201999999991001</td>\n    </tr>\n  </tbody>\n</table>\n<p>4990977 rows × 7 columns</p>\n</div>"
     },
     "execution_count": 2,
     "metadata": {},
     "output_type": "execute_result"
    }
   ],
   "source": [
    "sales_data = pd.read_csv('/Users/guybasson/Desktop/sdatta-nlp/palmers_fashion/f_sales_v_fashion.csv')\n",
    "sales_data['date'] = pd.to_datetime(sales_data['date'])\n",
    "sales_data['item'] = sales_data['sku'].astype(str)\n",
    "sales_data['store'] = sales_data['store'].astype(str)\n",
    "sales_data = sales_data.rename(columns={'total_sales':'sales'})\n",
    "sales_data"
   ],
   "metadata": {
    "collapsed": false
   }
  },
  {
   "cell_type": "code",
   "execution_count": 3,
   "outputs": [
    {
     "data": {
      "text/plain": "          store              sku valid_from_date valid_to_date  stock  \\\n0           123  100549055000004      2017-04-21    2099-12-31    0.0   \n1            89  100532175000001      2017-04-21    2099-12-31    0.0   \n2            43  100553018000001      2017-04-21    2099-12-31    0.0   \n3           104  100548169000007      2017-04-21    2099-12-31    0.0   \n4            85  100549049000003      2017-04-21    2099-12-31    0.0   \n...         ...              ...             ...           ...    ...   \n17812117     18  100552850000002      2020-05-07    2099-12-31    0.0   \n17812118     99  100653096000013      2020-05-07    2020-08-14    1.0   \n17812119     46  100557049000004      2018-11-17    2099-12-31    0.0   \n17812120      8  100511203000004      2017-04-21    2099-12-31    0.0   \n17812121   3202  100542009000007      2017-04-21    2099-12-31    0.0   \n\n                  item  \n0         100549055000  \n1         100532175000  \n2         100553018000  \n3         100548169000  \n4         100549049000  \n...                ...  \n17812117  100552850000  \n17812118  100653096000  \n17812119  100557049000  \n17812120  100511203000  \n17812121  100542009000  \n\n[17812122 rows x 6 columns]",
      "text/html": "<div>\n<style scoped>\n    .dataframe tbody tr th:only-of-type {\n        vertical-align: middle;\n    }\n\n    .dataframe tbody tr th {\n        vertical-align: top;\n    }\n\n    .dataframe thead th {\n        text-align: right;\n    }\n</style>\n<table border=\"1\" class=\"dataframe\">\n  <thead>\n    <tr style=\"text-align: right;\">\n      <th></th>\n      <th>store</th>\n      <th>sku</th>\n      <th>valid_from_date</th>\n      <th>valid_to_date</th>\n      <th>stock</th>\n      <th>item</th>\n    </tr>\n  </thead>\n  <tbody>\n    <tr>\n      <th>0</th>\n      <td>123</td>\n      <td>100549055000004</td>\n      <td>2017-04-21</td>\n      <td>2099-12-31</td>\n      <td>0.0</td>\n      <td>100549055000</td>\n    </tr>\n    <tr>\n      <th>1</th>\n      <td>89</td>\n      <td>100532175000001</td>\n      <td>2017-04-21</td>\n      <td>2099-12-31</td>\n      <td>0.0</td>\n      <td>100532175000</td>\n    </tr>\n    <tr>\n      <th>2</th>\n      <td>43</td>\n      <td>100553018000001</td>\n      <td>2017-04-21</td>\n      <td>2099-12-31</td>\n      <td>0.0</td>\n      <td>100553018000</td>\n    </tr>\n    <tr>\n      <th>3</th>\n      <td>104</td>\n      <td>100548169000007</td>\n      <td>2017-04-21</td>\n      <td>2099-12-31</td>\n      <td>0.0</td>\n      <td>100548169000</td>\n    </tr>\n    <tr>\n      <th>4</th>\n      <td>85</td>\n      <td>100549049000003</td>\n      <td>2017-04-21</td>\n      <td>2099-12-31</td>\n      <td>0.0</td>\n      <td>100549049000</td>\n    </tr>\n    <tr>\n      <th>...</th>\n      <td>...</td>\n      <td>...</td>\n      <td>...</td>\n      <td>...</td>\n      <td>...</td>\n      <td>...</td>\n    </tr>\n    <tr>\n      <th>17812117</th>\n      <td>18</td>\n      <td>100552850000002</td>\n      <td>2020-05-07</td>\n      <td>2099-12-31</td>\n      <td>0.0</td>\n      <td>100552850000</td>\n    </tr>\n    <tr>\n      <th>17812118</th>\n      <td>99</td>\n      <td>100653096000013</td>\n      <td>2020-05-07</td>\n      <td>2020-08-14</td>\n      <td>1.0</td>\n      <td>100653096000</td>\n    </tr>\n    <tr>\n      <th>17812119</th>\n      <td>46</td>\n      <td>100557049000004</td>\n      <td>2018-11-17</td>\n      <td>2099-12-31</td>\n      <td>0.0</td>\n      <td>100557049000</td>\n    </tr>\n    <tr>\n      <th>17812120</th>\n      <td>8</td>\n      <td>100511203000004</td>\n      <td>2017-04-21</td>\n      <td>2099-12-31</td>\n      <td>0.0</td>\n      <td>100511203000</td>\n    </tr>\n    <tr>\n      <th>17812121</th>\n      <td>3202</td>\n      <td>100542009000007</td>\n      <td>2017-04-21</td>\n      <td>2099-12-31</td>\n      <td>0.0</td>\n      <td>100542009000</td>\n    </tr>\n  </tbody>\n</table>\n<p>17812122 rows × 6 columns</p>\n</div>"
     },
     "execution_count": 3,
     "metadata": {},
     "output_type": "execute_result"
    }
   ],
   "source": [
    "mbew_fashion = pd.read_csv('mbew_fashion.csv')\n",
    "mbew_fashion['valid_to_date'] = mbew_fashion['valid_to_date'].replace('9999-12-31', sales_data['date'].max())\n",
    "mbew_fashion['valid_to_date'] = pd.to_datetime(mbew_fashion['valid_to_date'])\n",
    "mbew_fashion['valid_from_date'] = pd.to_datetime(mbew_fashion['valid_from_date'])\n",
    "mbew_fashion['item'] = mbew_fashion['sku'].astype(str).str[:12]\n",
    "mbew_fashion"
   ],
   "metadata": {
    "collapsed": false
   }
  },
  {
   "cell_type": "code",
   "execution_count": 4,
   "outputs": [
    {
     "data": {
      "text/plain": "Index(['sku', 'store', 'date', 'average_price', 'average_dicounted_price',\n       'sales', 'item'],\n      dtype='object')"
     },
     "execution_count": 4,
     "metadata": {},
     "output_type": "execute_result"
    }
   ],
   "source": [
    "sales_data.columns"
   ],
   "metadata": {
    "collapsed": false
   }
  },
  {
   "cell_type": "code",
   "execution_count": 5,
   "outputs": [],
   "source": [
    "AAA = [3, 18, 22, 28, 29, 44, 51, 57, 63, 73, 74, 76, 79, 88, 89, 91, 96, 100, 117, 119, 123, 130, 133, 135, 136, 141, 143, 144, 149, 150, 152, 162, 164, 166, 167, 168, 171, 172, 175, 179, 181, 184, 185, 186, 188, 189, 202, 214, 216, 217, 226, 3005, 3202, 3205, 3208, 4104, 4123, 4129, 4134, 4803, 4805, 4904, 4906, 4, 5, 7, 8, 10, 11, 15, 21, 26, 27, 35, 36, 37, 42, 43, 45, 46, 47, 50, 52, 55, 56, 61, 64, 67, 68, 69, 81, 82, 84, 85, 90, 95, 99, 104, 105, 106, 109, 114, 121, 122, 147, 156, 159, 160, 163, 170, 173, 174, 180, 182, 183, 201, 203, 213, 215, 218, 219, 220, 221, 225, 3245, 4133]\n",
    "#AAA to str\n",
    "AAA  = [str(x) for x in AAA]"
   ],
   "metadata": {
    "collapsed": false
   }
  },
  {
   "cell_type": "code",
   "execution_count": 6,
   "outputs": [
    {
     "name": "stdout",
     "output_type": "stream",
     "text": [
      "126\n"
     ]
    }
   ],
   "source": [
    "print(len(AAA))"
   ],
   "metadata": {
    "collapsed": false
   }
  },
  {
   "cell_type": "code",
   "execution_count": 7,
   "outputs": [
    {
     "ename": "KeyError",
     "evalue": "'fashiongrade'",
     "output_type": "error",
     "traceback": [
      "\u001B[0;31m---------------------------------------------------------------------------\u001B[0m",
      "\u001B[0;31mKeyError\u001B[0m                                  Traceback (most recent call last)",
      "File \u001B[0;32m~/Desktop/Palmers/palmers/venv/local_oran/lib/python3.9/site-packages/pandas/core/indexes/base.py:3802\u001B[0m, in \u001B[0;36mIndex.get_loc\u001B[0;34m(self, key, method, tolerance)\u001B[0m\n\u001B[1;32m   3801\u001B[0m \u001B[38;5;28;01mtry\u001B[39;00m:\n\u001B[0;32m-> 3802\u001B[0m     \u001B[38;5;28;01mreturn\u001B[39;00m \u001B[38;5;28;43mself\u001B[39;49m\u001B[38;5;241;43m.\u001B[39;49m\u001B[43m_engine\u001B[49m\u001B[38;5;241;43m.\u001B[39;49m\u001B[43mget_loc\u001B[49m\u001B[43m(\u001B[49m\u001B[43mcasted_key\u001B[49m\u001B[43m)\u001B[49m\n\u001B[1;32m   3803\u001B[0m \u001B[38;5;28;01mexcept\u001B[39;00m \u001B[38;5;167;01mKeyError\u001B[39;00m \u001B[38;5;28;01mas\u001B[39;00m err:\n",
      "File \u001B[0;32m~/Desktop/Palmers/palmers/venv/local_oran/lib/python3.9/site-packages/pandas/_libs/index.pyx:138\u001B[0m, in \u001B[0;36mpandas._libs.index.IndexEngine.get_loc\u001B[0;34m()\u001B[0m\n",
      "File \u001B[0;32m~/Desktop/Palmers/palmers/venv/local_oran/lib/python3.9/site-packages/pandas/_libs/index.pyx:165\u001B[0m, in \u001B[0;36mpandas._libs.index.IndexEngine.get_loc\u001B[0;34m()\u001B[0m\n",
      "File \u001B[0;32mpandas/_libs/hashtable_class_helper.pxi:5745\u001B[0m, in \u001B[0;36mpandas._libs.hashtable.PyObjectHashTable.get_item\u001B[0;34m()\u001B[0m\n",
      "File \u001B[0;32mpandas/_libs/hashtable_class_helper.pxi:5753\u001B[0m, in \u001B[0;36mpandas._libs.hashtable.PyObjectHashTable.get_item\u001B[0;34m()\u001B[0m\n",
      "\u001B[0;31mKeyError\u001B[0m: 'fashiongrade'",
      "\nThe above exception was the direct cause of the following exception:\n",
      "\u001B[0;31mKeyError\u001B[0m                                  Traceback (most recent call last)",
      "Cell \u001B[0;32mIn[7], line 1\u001B[0m\n\u001B[0;32m----> 1\u001B[0m sales_data \u001B[38;5;241m=\u001B[39m sales_data[\u001B[43msales_data\u001B[49m\u001B[43m[\u001B[49m\u001B[38;5;124;43m'\u001B[39;49m\u001B[38;5;124;43mfashiongrade\u001B[39;49m\u001B[38;5;124;43m'\u001B[39;49m\u001B[43m]\u001B[49m \u001B[38;5;241m==\u001B[39m \u001B[38;5;124m'\u001B[39m\u001B[38;5;124mM\u001B[39m\u001B[38;5;124m'\u001B[39m]\n",
      "File \u001B[0;32m~/Desktop/Palmers/palmers/venv/local_oran/lib/python3.9/site-packages/pandas/core/frame.py:3807\u001B[0m, in \u001B[0;36mDataFrame.__getitem__\u001B[0;34m(self, key)\u001B[0m\n\u001B[1;32m   3805\u001B[0m \u001B[38;5;28;01mif\u001B[39;00m \u001B[38;5;28mself\u001B[39m\u001B[38;5;241m.\u001B[39mcolumns\u001B[38;5;241m.\u001B[39mnlevels \u001B[38;5;241m>\u001B[39m \u001B[38;5;241m1\u001B[39m:\n\u001B[1;32m   3806\u001B[0m     \u001B[38;5;28;01mreturn\u001B[39;00m \u001B[38;5;28mself\u001B[39m\u001B[38;5;241m.\u001B[39m_getitem_multilevel(key)\n\u001B[0;32m-> 3807\u001B[0m indexer \u001B[38;5;241m=\u001B[39m \u001B[38;5;28;43mself\u001B[39;49m\u001B[38;5;241;43m.\u001B[39;49m\u001B[43mcolumns\u001B[49m\u001B[38;5;241;43m.\u001B[39;49m\u001B[43mget_loc\u001B[49m\u001B[43m(\u001B[49m\u001B[43mkey\u001B[49m\u001B[43m)\u001B[49m\n\u001B[1;32m   3808\u001B[0m \u001B[38;5;28;01mif\u001B[39;00m is_integer(indexer):\n\u001B[1;32m   3809\u001B[0m     indexer \u001B[38;5;241m=\u001B[39m [indexer]\n",
      "File \u001B[0;32m~/Desktop/Palmers/palmers/venv/local_oran/lib/python3.9/site-packages/pandas/core/indexes/base.py:3804\u001B[0m, in \u001B[0;36mIndex.get_loc\u001B[0;34m(self, key, method, tolerance)\u001B[0m\n\u001B[1;32m   3802\u001B[0m     \u001B[38;5;28;01mreturn\u001B[39;00m \u001B[38;5;28mself\u001B[39m\u001B[38;5;241m.\u001B[39m_engine\u001B[38;5;241m.\u001B[39mget_loc(casted_key)\n\u001B[1;32m   3803\u001B[0m \u001B[38;5;28;01mexcept\u001B[39;00m \u001B[38;5;167;01mKeyError\u001B[39;00m \u001B[38;5;28;01mas\u001B[39;00m err:\n\u001B[0;32m-> 3804\u001B[0m     \u001B[38;5;28;01mraise\u001B[39;00m \u001B[38;5;167;01mKeyError\u001B[39;00m(key) \u001B[38;5;28;01mfrom\u001B[39;00m \u001B[38;5;21;01merr\u001B[39;00m\n\u001B[1;32m   3805\u001B[0m \u001B[38;5;28;01mexcept\u001B[39;00m \u001B[38;5;167;01mTypeError\u001B[39;00m:\n\u001B[1;32m   3806\u001B[0m     \u001B[38;5;66;03m# If we have a listlike key, _check_indexing_error will raise\u001B[39;00m\n\u001B[1;32m   3807\u001B[0m     \u001B[38;5;66;03m#  InvalidIndexError. Otherwise we fall through and re-raise\u001B[39;00m\n\u001B[1;32m   3808\u001B[0m     \u001B[38;5;66;03m#  the TypeError.\u001B[39;00m\n\u001B[1;32m   3809\u001B[0m     \u001B[38;5;28mself\u001B[39m\u001B[38;5;241m.\u001B[39m_check_indexing_error(key)\n",
      "\u001B[0;31mKeyError\u001B[0m: 'fashiongrade'"
     ]
    }
   ],
   "source": [
    "sales_data = sales_data[sales_data['fashiongrade'] == 'M']"
   ],
   "metadata": {
    "collapsed": false
   }
  },
  {
   "cell_type": "code",
   "execution_count": null,
   "outputs": [],
   "source": [
    "sales_data['item'] = sales_data['sku'].astype(str).str[:12]"
   ],
   "metadata": {
    "collapsed": false
   }
  },
  {
   "cell_type": "code",
   "execution_count": null,
   "outputs": [],
   "source": [
    "sales_data_g_item = sales_data.groupby(['date','item'])['sales'].sum().reset_index()"
   ],
   "metadata": {
    "collapsed": false
   }
  },
  {
   "cell_type": "code",
   "execution_count": null,
   "outputs": [],
   "source": [
    "sales_data_g_item['date'] = pd.to_datetime(sales_data_g_item['date'])"
   ],
   "metadata": {
    "collapsed": false
   }
  },
  {
   "cell_type": "code",
   "execution_count": null,
   "outputs": [],
   "source": [
    "# sales of sum for each item in 2023 that are large then 0 and fashiongrade is 'M'\n",
    "items_sales_in_2023 = sales_data_g_item[sales_data_g_item['date'].dt.year == 2023].groupby('item')['sales'].sum().sort_values(ascending=False)[sales_data_g_item[sales_data_g_item['date'].dt.year == 2023].groupby('item')['sales'].sum().sort_values(ascending=False) > 100].index\n"
   ],
   "metadata": {
    "collapsed": false
   }
  },
  {
   "cell_type": "code",
   "execution_count": null,
   "outputs": [],
   "source": [
    "import matplotlib.pyplot as plt\n",
    "for item in items_sales_in_2023[50:100]:\n",
    "    item_data = sales_data_g_item[sales_data_g_item['item'] == item].groupby('date')['sales'].sum()\n",
    "    fashiongrade = sales_data[sales_data['item'] == item]['fashiongrade'].unique()[0]\n",
    "    # reindex to fill in missing dates\n",
    "    item_data = item_data.reindex(pd.date_range(start=sales_data_g_item['date'].min(),\n",
    "                                                # today\n",
    "                                                end=sales_data_g_item['date'].max(),\n",
    "\n",
    "                                                freq='D')).fillna(0)\n",
    "    item_data_w = item_data.resample('W').sum()\n",
    "    # fig size\n",
    "    plt.figure(figsize=(20,4))\n",
    "    plt.title('item: ' + item + ' fashiongrade: ' + str(fashiongrade))\n",
    "    item_data_w.plot()\n",
    "    plt.show()"
   ],
   "metadata": {
    "collapsed": false
   }
  },
  {
   "cell_type": "code",
   "execution_count": null,
   "outputs": [],
   "source": [
    "for store in sales_data['store'].unique()[:1]:\n",
    "    store_sales = sales_data[sales_data['store'] == store]\n",
    "    for item in store_sales['item'].unique()[:1]:\n",
    "        item_store_sales = store_sales[store_sales['item'] == item].groupby('date').agg({'average_price':'mean',\n",
    "                                                                                'average_dicounted_price':'mean',\n",
    "                                                                                'sales':'sum'})\n",
    "        item_store_sales = item_store_sales.reindex(pd.date_range(start=item_store_sales.index.min(),\n",
    "                                                    end=item_store_sales.index.max(),\n",
    "                                                    freq='D'))\n",
    "        item_store_sales['average_price'] = item_store_sales['average_price'].fillna(method='ffill')\n",
    "        item_store_sales['average_dicounted_price'] = item_store_sales['average_dicounted_price'].fillna(method='ffill')\n",
    "        item_store_sales['sales'] = item_store_sales['sales'].fillna(0)\n",
    "\n",
    "        item_store_sales.plot(figsize=(20,4))\n",
    "        plt.title('item: ' + item + ' store: ' + str(store))\n",
    "        plt.show()"
   ],
   "metadata": {
    "collapsed": false
   }
  },
  {
   "cell_type": "code",
   "execution_count": null,
   "outputs": [],
   "source": [
    "for item in ['100652103000']:\n",
    "    item_data = sales_data[sales_data['item'] == item].groupby('date').agg({'average_price':'mean',\n",
    "                                                                            'average_dicounted_price':'mean',\n",
    "                                                                            'sales':'sum'})\n",
    "    item_data = item_data.reindex(pd.date_range(start=item_data.index.min(),\n",
    "                                                end=item_data.index.max(),\n",
    "                                                freq='D'))\n",
    "    item_data['average_price'] = item_data['average_price'].fillna(method='ffill')\n",
    "    item_data['average_dicounted_price'] = item_data['average_dicounted_price'].fillna(method='ffill')\n",
    "    item_data['sales'] = item_data['sales'].fillna(0)\n",
    "    item_data.plot(figsize=(20,4))\n",
    "    plt.title('item: ' + item)\n",
    "    plt.show()\n"
   ],
   "metadata": {
    "collapsed": false
   }
  },
  {
   "cell_type": "code",
   "execution_count": null,
   "outputs": [],
   "source": [
    "sales_data[sales_data['item'] == '100652103000']['sku'].unique().tolist()"
   ],
   "metadata": {
    "collapsed": false
   }
  },
  {
   "cell_type": "code",
   "execution_count": null,
   "outputs": [],
   "source": [
    "store_sales['store'].unique()"
   ],
   "metadata": {
    "collapsed": false
   }
  },
  {
   "cell_type": "code",
   "execution_count": null,
   "outputs": [],
   "source": [
    "\n",
    "\n",
    "for store in sales_data['store'].unique()[:10]:\n",
    "    store_sales = sales_data[sales_data['store'] == store]\n",
    "    store_stock = mbew_fashion[mbew_fashion['store'].astype(str) == store]\n",
    "    for sku in [100652103000001, 100652103000002, 100652103000003, 100652103000004]:\n",
    "        stock_sku_store_data = pd.DataFrame()\n",
    "        sku_store_stock = store_stock[store_stock['sku'].astype(str) == str(sku)]\n",
    "        for row in sku_store_stock.iterrows():\n",
    "            stock_sku_store_data = pd.concat([stock_sku_store_data,\n",
    "                                            pd.DataFrame({'date':pd.date_range(start=row[1]['valid_from_date'],\n",
    "                                                                                end=row[1]['valid_to_date'],\n",
    "                                                                                freq='D'),\n",
    "                                                        'stock':row[1]['stock']})])\n",
    "        if stock_sku_store_data.empty:\n",
    "            continue\n",
    "        stock_sku_store_data = stock_sku_store_data.set_index('date')\n",
    "        sku_store_sales = store_sales[store_sales['sku'] == sku].groupby('date').agg({'average_price':'mean',\n",
    "                                                                                'average_dicounted_price':'mean',\n",
    "                                                                                'sales':'sum'})\n",
    "        if sku_store_sales.empty:\n",
    "            continue\n",
    "        sku_store_sales = sku_store_sales.reindex(pd.date_range(start=sku_store_sales.index.min(),\n",
    "                                                    end=sku_store_sales.index.max(),\n",
    "                                                    freq='D'))\n",
    "        sku_store_sales['average_price'] = sku_store_sales['average_price'].fillna(method='ffill')\n",
    "        sku_store_sales['average_dicounted_price'] = sku_store_sales['average_dicounted_price'].fillna(method='ffill')\n",
    "        sku_store_sales['sales'] = sku_store_sales['sales'].fillna(0)\n",
    "        sku_store_sales = sku_store_sales.merge(stock_sku_store_data, left_index=True, right_index=True)\n",
    "        df = sku_store_sales\n",
    "        # Plotting\n",
    "        fig, ax1 = plt.subplots(figsize=(20, 4))\n",
    "\n",
    "        # Left y-axis for prices\n",
    "        ax1.plot(df.index, df['average_price'], label='Average Price', color='b')\n",
    "        ax1.plot(df.index, df['average_dicounted_price'], label='Average Discounted Price', color='g')\n",
    "        ax1.set_xlabel('Date')\n",
    "        ax1.set_ylabel('Price ($)', color='g')\n",
    "        ax1.tick_params(axis='y', labelcolor='g')\n",
    "        ax1.legend(loc='upper left')\n",
    "\n",
    "        # Right y-axis for quantities\n",
    "        ax2 = ax1.twinx()\n",
    "        ax2.plot(df.index, df['sales'], label='Sales', color='r')\n",
    "        ax2.plot(df.index, df['stock'], label='Stock', color='purple')\n",
    "        ax2.set_ylabel('Quantity', color='r')\n",
    "        ax2.tick_params(axis='y', labelcolor='r')\n",
    "        ax2.legend(loc='upper right')\n",
    "\n",
    "        # Title\n",
    "        plt.title('SKU Sales and Stock Analysis, Store: ' + str(store) + ' SKU: ' + str(sku))\n",
    "\n",
    "        plt.show()"
   ],
   "metadata": {
    "collapsed": false
   }
  },
  {
   "cell_type": "code",
   "execution_count": null,
   "outputs": [],
   "source": [
    "sku_store_sales"
   ],
   "metadata": {
    "collapsed": false
   }
  },
  {
   "cell_type": "code",
   "execution_count": null,
   "outputs": [],
   "source": [
    "sales_data.groupby('date')['sales'].sum().plot()\n"
   ],
   "metadata": {
    "collapsed": false
   }
  },
  {
   "cell_type": "code",
   "execution_count": null,
   "outputs": [],
   "source": [
    "sales_data.info()"
   ],
   "metadata": {
    "collapsed": false
   }
  },
  {
   "cell_type": "code",
   "execution_count": null,
   "outputs": [],
   "source": [
    "sales_data[(sales_data['sku']== 100531067000003) & (sales_data['store'] == '42')]"
   ],
   "metadata": {
    "collapsed": false
   }
  },
  {
   "cell_type": "code",
   "execution_count": null,
   "outputs": [],
   "source": [
    "print(mbew_fashion[(mbew_fashion['sku'] == 100531067000003) & (mbew_fashion['store'] == 42)])\n"
   ],
   "metadata": {
    "collapsed": false
   }
  },
  {
   "cell_type": "code",
   "execution_count": null,
   "outputs": [],
   "source": [
    "mbew_fashion['store'].nunique()"
   ],
   "metadata": {
    "collapsed": false
   }
  },
  {
   "cell_type": "code",
   "execution_count": null,
   "outputs": [],
   "source": [
    "mbew_fashion[mbew_fashion['sku'] == 100652805000002].sort_values('valid_from_date')"
   ],
   "metadata": {
    "collapsed": false
   }
  },
  {
   "cell_type": "code",
   "execution_count": null,
   "outputs": [],
   "source": [],
   "metadata": {
    "collapsed": false
   }
  }
 ],
 "metadata": {
  "kernelspec": {
   "display_name": "Python 3",
   "language": "python",
   "name": "python3"
  },
  "language_info": {
   "codemirror_mode": {
    "name": "ipython",
    "version": 2
   },
   "file_extension": ".py",
   "mimetype": "text/x-python",
   "name": "python",
   "nbconvert_exporter": "python",
   "pygments_lexer": "ipython2",
   "version": "2.7.6"
  }
 },
 "nbformat": 4,
 "nbformat_minor": 0
}

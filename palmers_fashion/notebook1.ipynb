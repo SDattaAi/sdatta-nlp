{
 "cells": [
  {
   "cell_type": "code",
   "execution_count": null,
   "metadata": {
    "collapsed": true
   },
   "outputs": [],
   "source": [
    "import pandas as pd"
   ]
  },
  {
   "cell_type": "code",
   "execution_count": null,
   "outputs": [],
   "source": [
    "sales_data = pd.read_csv('/Users/guybasson/Desktop/sdatta-nlp/palmers_fashion/f_sales_v_fashion_with_price.csv')\n",
    "sales_data['date'] = pd.to_datetime(sales_data['date'])\n",
    "sales_data['item'] = sales_data['sku'].astype(str)\n",
    "sales_data['store'] = sales_data['store'].astype(str)\n",
    "sales_data = sales_data.rename(columns={'total_sales':'sales'})\n",
    "sales_data"
   ],
   "metadata": {
    "collapsed": false
   }
  },
  {
   "cell_type": "code",
   "execution_count": null,
   "outputs": [],
   "source": [
    "mbew_fashion = pd.read_csv('mbew_fashion.csv')\n",
    "mbew_fashion['valid_to_date'] = mbew_fashion['valid_to_date'].replace('9999-12-31', sales_data['date'].max())\n",
    "mbew_fashion['valid_to_date'] = pd.to_datetime(mbew_fashion['valid_to_date'])\n",
    "mbew_fashion['valid_from_date'] = pd.to_datetime(mbew_fashion['valid_from_date'])\n",
    "mbew_fashion['item'] = mbew_fashion['sku'].astype(str).str[:12]\n",
    "mbew_fashion"
   ],
   "metadata": {
    "collapsed": false
   }
  },
  {
   "cell_type": "code",
   "execution_count": null,
   "outputs": [],
   "source": [
    "sales_data.columns"
   ],
   "metadata": {
    "collapsed": false
   }
  },
  {
   "cell_type": "code",
   "execution_count": null,
   "outputs": [],
   "source": [
    "relevant_stores_list = ['100', '117', '119', '123', '130', '133', '135', '136', '141', '143', '144', '149', '150', '152', '162', '164', '166', '167', '168', '171', '172', '175', '179', '18', '181', '184', '185', '186', '188', '189', '202', '214', '216', '217', '22', '226', '28', '29', '3', '3005', '3202', '3205', '3208', '4104', '4123', '4129', '4134', '44', '4803', '4805', '4904', '4906', '51', '57', '63', '73', '74', '76', '79', '88', '89', '91', '96']"
   ],
   "metadata": {
    "collapsed": false
   }
  },
  {
   "cell_type": "code",
   "execution_count": null,
   "outputs": [],
   "source": [
    "sales_data = sales_data[sales_data['fashiongrade'] == 'M']\n",
    "sales_data = sales_data[sales_data['store'].astype(str).isin(relevant_stores_list)]"
   ],
   "metadata": {
    "collapsed": false
   }
  },
  {
   "cell_type": "code",
   "execution_count": null,
   "outputs": [],
   "source": [
    "sales_data['item'] = sales_data['sku'].astype(str).str[:12]"
   ],
   "metadata": {
    "collapsed": false
   }
  },
  {
   "cell_type": "code",
   "execution_count": null,
   "outputs": [],
   "source": [
    "sales_data_g_item = sales_data.groupby(['date','item'])['sales'].sum().reset_index()"
   ],
   "metadata": {
    "collapsed": false
   }
  },
  {
   "cell_type": "code",
   "execution_count": null,
   "outputs": [],
   "source": [
    "sales_data_g_item['date'] = pd.to_datetime(sales_data_g_item['date'])"
   ],
   "metadata": {
    "collapsed": false
   }
  },
  {
   "cell_type": "code",
   "execution_count": null,
   "outputs": [],
   "source": [
    "# sales of sum for each item in 2023 that are large then 0 and fashiongrade is 'M'\n",
    "items_sales_in_2023 = sales_data_g_item[sales_data_g_item['date'].dt.year == 2023].groupby('item')['sales'].sum().sort_values(ascending=False)[sales_data_g_item[sales_data_g_item['date'].dt.year == 2023].groupby('item')['sales'].sum().sort_values(ascending=False) > 100].index\n"
   ],
   "metadata": {
    "collapsed": false
   }
  },
  {
   "cell_type": "code",
   "execution_count": null,
   "outputs": [],
   "source": [
    "import matplotlib.pyplot as plt\n",
    "for item in items_sales_in_2023[50:100]:\n",
    "    item_data = sales_data_g_item[sales_data_g_item['item'] == item].groupby('date')['sales'].sum()\n",
    "    fashiongrade = sales_data[sales_data['item'] == item]['fashiongrade'].unique()[0]\n",
    "    # reindex to fill in missing dates\n",
    "    item_data = item_data.reindex(pd.date_range(start=sales_data_g_item['date'].min(),\n",
    "                                                # today\n",
    "                                                end=sales_data_g_item['date'].max(),\n",
    "\n",
    "                                                freq='D')).fillna(0)\n",
    "    item_data_w = item_data.resample('W').sum()\n",
    "    # fig size\n",
    "    plt.figure(figsize=(20,4))\n",
    "    plt.title('item: ' + item + ' fashiongrade: ' + str(fashiongrade))\n",
    "    item_data_w.plot()\n",
    "    plt.show()"
   ],
   "metadata": {
    "collapsed": false
   }
  },
  {
   "cell_type": "code",
   "execution_count": null,
   "outputs": [],
   "source": [
    "for store in relevant_stores_list[:1]:\n",
    "    store_sales = sales_data[sales_data['store'] == store]\n",
    "    for item in store_sales['item'].unique()[:1]:\n",
    "        item_store_sales = store_sales[store_sales['item'] == item].groupby('date').agg({'average_price':'mean',\n",
    "                                                                                'average_dicounted_price':'mean',\n",
    "                                                                                'sales':'sum'})\n",
    "        item_store_sales = item_store_sales.reindex(pd.date_range(start=item_store_sales.index.min(),\n",
    "                                                    end=item_store_sales.index.max(),\n",
    "                                                    freq='D'))\n",
    "        item_store_sales['average_price'] = item_store_sales['average_price'].fillna(method='ffill')\n",
    "        item_store_sales['average_dicounted_price'] = item_store_sales['average_dicounted_price'].fillna(method='ffill')\n",
    "        item_store_sales['sales'] = item_store_sales['sales'].fillna(0)\n",
    "\n",
    "        item_store_sales.plot(figsize=(20,4))\n",
    "        plt.title('item: ' + item + ' store: ' + str(store))\n",
    "        plt.show()"
   ],
   "metadata": {
    "collapsed": false
   }
  },
  {
   "cell_type": "code",
   "execution_count": null,
   "outputs": [],
   "source": [
    "for item in sales_data['item'].unique()[:1]:\n",
    "    item_data = sales_data[sales_data['item'] == item].groupby('date').agg({'average_price':'mean',\n",
    "                                                                            'average_dicounted_price':'mean',\n",
    "                                                                            'sales':'sum'})\n",
    "    item_data = item_data.reindex(pd.date_range(start=item_data.index.min(),\n",
    "                                                end=item_data.index.max(),\n",
    "                                                freq='D'))\n",
    "    item_data['average_price'] = item_data['average_price'].fillna(method='ffill')\n",
    "    item_data['average_dicounted_price'] = item_data['average_dicounted_price'].fillna(method='ffill')\n",
    "    item_data['sales'] = item_data['sales'].fillna(0)\n",
    "    item_data.plot(figsize=(20,4))\n",
    "    plt.title('item: ' + item)\n",
    "    plt.show()\n"
   ],
   "metadata": {
    "collapsed": false
   }
  },
  {
   "cell_type": "code",
   "execution_count": null,
   "outputs": [],
   "source": [
    "sales_data[sales_data['item'] == '100630483000']['sku'].unique().tolist()"
   ],
   "metadata": {
    "collapsed": false
   }
  },
  {
   "cell_type": "code",
   "execution_count": null,
   "outputs": [],
   "source": [
    "sales_data.info()"
   ],
   "metadata": {
    "collapsed": false
   }
  },
  {
   "cell_type": "code",
   "execution_count": null,
   "outputs": [],
   "source": [
    "\n",
    "\n",
    "for store in relevant_stores_list[:10]:\n",
    "    store_sales = sales_data[sales_data['store'] == store]\n",
    "    store_stock = mbew_fashion[mbew_fashion['store'].astype(str) == store]\n",
    "    for sku in [100630483000001, 100630483000002, 100630483000003]:\n",
    "        stock_sku_store_data = pd.DataFrame()\n",
    "        sku_store_stock = store_stock[store_stock['sku'].astype(str) == str(sku)]\n",
    "        for row in sku_store_stock.iterrows():\n",
    "            stock_sku_store_data = pd.concat([stock_sku_store_data,\n",
    "                                            pd.DataFrame({'date':pd.date_range(start=row[1]['valid_from_date'],\n",
    "                                                                                end=row[1]['valid_to_date'],\n",
    "                                                                                freq='D'),\n",
    "                                                        'stock':row[1]['stock']})])\n",
    "        if stock_sku_store_data.empty:\n",
    "            continue\n",
    "        stock_sku_store_data = stock_sku_store_data.set_index('date')\n",
    "        sku_store_sales = store_sales[store_sales['sku'] == sku].groupby('date').agg({'average_price':'mean',\n",
    "                                                                                'average_dicounted_price':'mean',\n",
    "                                                                                'sales':'sum'})\n",
    "        if sku_store_sales.empty:\n",
    "            continue\n",
    "        sku_store_sales = sku_store_sales.reindex(pd.date_range(start=sku_store_sales.index.min(),\n",
    "                                                    end=sku_store_sales.index.max(),\n",
    "                                                    freq='D'))\n",
    "        sku_store_sales['average_price'] = sku_store_sales['average_price'].fillna(method='ffill')\n",
    "        sku_store_sales['average_dicounted_price'] = sku_store_sales['average_dicounted_price'].fillna(method='ffill')\n",
    "        sku_store_sales['sales'] = sku_store_sales['sales'].fillna(0)\n",
    "        sku_store_sales = sku_store_sales.merge(stock_sku_store_data, left_index=True, right_index=True)\n",
    "        df = sku_store_sales\n",
    "        # Plotting\n",
    "        fig, ax1 = plt.subplots(figsize=(20, 4))\n",
    "\n",
    "        # Left y-axis for prices\n",
    "        ax1.plot(df.index, df['average_price'], label='Average Price', color='b')\n",
    "        ax1.plot(df.index, df['average_dicounted_price'], label='Average Discounted Price', color='g')\n",
    "        ax1.set_xlabel('Date')\n",
    "        ax1.set_ylabel('Price ($)', color='g')\n",
    "        ax1.tick_params(axis='y', labelcolor='g')\n",
    "        ax1.legend(loc='upper left')\n",
    "\n",
    "        # Right y-axis for quantities\n",
    "        ax2 = ax1.twinx()\n",
    "        ax2.plot(df.index, df['sales'], label='Sales', color='r')\n",
    "        ax2.plot(df.index, df['stock'], label='Stock', color='purple')\n",
    "        ax2.set_ylabel('Quantity', color='r')\n",
    "        ax2.tick_params(axis='y', labelcolor='r')\n",
    "        ax2.legend(loc='upper right')\n",
    "\n",
    "        # Title\n",
    "        plt.title('SKU Sales and Stock Analysis, Store: ' + str(store) + ' SKU: ' + str(sku))\n",
    "\n",
    "        plt.show()"
   ],
   "metadata": {
    "collapsed": false
   }
  },
  {
   "cell_type": "code",
   "execution_count": null,
   "outputs": [],
   "source": [
    "sku_store_sales"
   ],
   "metadata": {
    "collapsed": false
   }
  },
  {
   "cell_type": "code",
   "execution_count": null,
   "outputs": [],
   "source": [],
   "metadata": {
    "collapsed": false
   }
  }
 ],
 "metadata": {
  "kernelspec": {
   "display_name": "Python 3",
   "language": "python",
   "name": "python3"
  },
  "language_info": {
   "codemirror_mode": {
    "name": "ipython",
    "version": 2
   },
   "file_extension": ".py",
   "mimetype": "text/x-python",
   "name": "python",
   "nbconvert_exporter": "python",
   "pygments_lexer": "ipython2",
   "version": "2.7.6"
  }
 },
 "nbformat": 4,
 "nbformat_minor": 0
}

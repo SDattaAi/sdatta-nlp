{
 "cells": [
  {
   "cell_type": "code",
   "execution_count": null,
   "metadata": {
    "collapsed": true
   },
   "outputs": [],
   "source": [
    "import pandas as pd"
   ]
  },
  {
   "cell_type": "code",
   "execution_count": null,
   "outputs": [],
   "source": [
    "sales_data = pd.read_csv('/Users/guybasson/Desktop/sdatta-nlp/palmers_fashion/f_sales_v_fashion_with_price_126_stores.csv')\n",
    "sales_data['date'] = pd.to_datetime(sales_data['date'])\n",
    "sales_data['item'] = sales_data['sku'].astype(str)\n",
    "sales_data['store'] = sales_data['store'].astype(str)\n",
    "sales_data = sales_data.rename(columns={'total_sales':'sales'})\n",
    "sales_data"
   ],
   "metadata": {
    "collapsed": false
   }
  },
  {
   "cell_type": "code",
   "execution_count": null,
   "outputs": [],
   "source": [
    "mbew_fashion = pd.read_csv('mbew_fashion_126_stores.csv')\n",
    "mbew_fashion['valid_to_date'] = mbew_fashion['valid_to_date'].replace('9999-12-31', sales_data['date'].max())\n",
    "mbew_fashion['valid_to_date'] = pd.to_datetime(mbew_fashion['valid_to_date'])\n",
    "mbew_fashion['valid_from_date'] = pd.to_datetime(mbew_fashion['valid_from_date'])\n",
    "mbew_fashion['item'] = mbew_fashion['sku'].astype(str).str[:12]\n",
    "mbew_fashion"
   ],
   "metadata": {
    "collapsed": false
   }
  },
  {
   "cell_type": "code",
   "execution_count": null,
   "outputs": [],
   "source": [
    "sales_data.columns"
   ],
   "metadata": {
    "collapsed": false
   }
  },
  {
   "cell_type": "code",
   "execution_count": null,
   "outputs": [],
   "source": [
    "AAA = [3, 18, 22, 28, 29, 44, 51, 57, 63, 73, 74, 76, 79, 88, 89, 91, 96, 100, 117, 119, 123, 130, 133, 135, 136, 141, 143, 144, 149, 150, 152, 162, 164, 166, 167, 168, 171, 172, 175, 179, 181, 184, 185, 186, 188, 189, 202, 214, 216, 217, 226, 3005, 3202, 3205, 3208, 4104, 4123, 4129, 4134, 4803, 4805, 4904, 4906, 4, 5, 7, 8, 10, 11, 15, 21, 26, 27, 35, 36, 37, 42, 43, 45, 46, 47, 50, 52, 55, 56, 61, 64, 67, 68, 69, 81, 82, 84, 85, 90, 95, 99, 104, 105, 106, 109, 114, 121, 122, 147, 156, 159, 160, 163, 170, 173, 174, 180, 182, 183, 201, 203, 213, 215, 218, 219, 220, 221, 225, 3245, 4133]\n",
    "#AAA to str\n",
    "AAA  = [str(x) for x in AAA]"
   ],
   "metadata": {
    "collapsed": false
   }
  },
  {
   "cell_type": "code",
   "execution_count": null,
   "outputs": [],
   "source": [
    "print(len(AAA))"
   ],
   "metadata": {
    "collapsed": false
   }
  },
  {
   "cell_type": "code",
   "execution_count": null,
   "outputs": [],
   "source": [
    "sales_data = sales_data[sales_data['fashiongrade'] == 'M']"
   ],
   "metadata": {
    "collapsed": false
   }
  },
  {
   "cell_type": "code",
   "execution_count": null,
   "outputs": [],
   "source": [
    "sales_data['item'] = sales_data['sku'].astype(str).str[:12]"
   ],
   "metadata": {
    "collapsed": false
   }
  },
  {
   "cell_type": "code",
   "execution_count": null,
   "outputs": [],
   "source": [
    "sales_data_g_item = sales_data.groupby(['date','item'])['sales'].sum().reset_index()"
   ],
   "metadata": {
    "collapsed": false
   }
  },
  {
   "cell_type": "code",
   "execution_count": null,
   "outputs": [],
   "source": [
    "sales_data_g_item['date'] = pd.to_datetime(sales_data_g_item['date'])"
   ],
   "metadata": {
    "collapsed": false
   }
  },
  {
   "cell_type": "code",
   "execution_count": null,
   "outputs": [],
   "source": [
    "# sales of sum for each item in 2023 that are large then 0 and fashiongrade is 'M'\n",
    "items_sales_in_2023 = sales_data_g_item[sales_data_g_item['date'].dt.year == 2023].groupby('item')['sales'].sum().sort_values(ascending=False)[sales_data_g_item[sales_data_g_item['date'].dt.year == 2023].groupby('item')['sales'].sum().sort_values(ascending=False) > 100].index\n"
   ],
   "metadata": {
    "collapsed": false
   }
  },
  {
   "cell_type": "code",
   "execution_count": null,
   "outputs": [],
   "source": [
    "import matplotlib.pyplot as plt\n",
    "for item in items_sales_in_2023[50:100]:\n",
    "    item_data = sales_data_g_item[sales_data_g_item['item'] == item].groupby('date')['sales'].sum()\n",
    "    fashiongrade = sales_data[sales_data['item'] == item]['fashiongrade'].unique()[0]\n",
    "    # reindex to fill in missing dates\n",
    "    item_data = item_data.reindex(pd.date_range(start=sales_data_g_item['date'].min(),\n",
    "                                                # today\n",
    "                                                end=sales_data_g_item['date'].max(),\n",
    "\n",
    "                                                freq='D')).fillna(0)\n",
    "    item_data_w = item_data.resample('W').sum()\n",
    "    # fig size\n",
    "    plt.figure(figsize=(20,4))\n",
    "    plt.title('item: ' + item + ' fashiongrade: ' + str(fashiongrade))\n",
    "    item_data_w.plot()\n",
    "    plt.show()"
   ],
   "metadata": {
    "collapsed": false
   }
  },
  {
   "cell_type": "code",
   "execution_count": null,
   "outputs": [],
   "source": [
    "for store in sales_data['store'].unique()[:1]:\n",
    "    store_sales = sales_data[sales_data['store'] == store]\n",
    "    for item in store_sales['item'].unique()[:1]:\n",
    "        item_store_sales = store_sales[store_sales['item'] == item].groupby('date').agg({'average_price':'mean',\n",
    "                                                                                'average_dicounted_price':'mean',\n",
    "                                                                                'sales':'sum'})\n",
    "        item_store_sales = item_store_sales.reindex(pd.date_range(start=item_store_sales.index.min(),\n",
    "                                                    end=item_store_sales.index.max(),\n",
    "                                                    freq='D'))\n",
    "        item_store_sales['average_price'] = item_store_sales['average_price'].fillna(method='ffill')\n",
    "        item_store_sales['average_dicounted_price'] = item_store_sales['average_dicounted_price'].fillna(method='ffill')\n",
    "        item_store_sales['sales'] = item_store_sales['sales'].fillna(0)\n",
    "\n",
    "        item_store_sales.plot(figsize=(20,4))\n",
    "        plt.title('item: ' + item + ' store: ' + str(store))\n",
    "        plt.show()"
   ],
   "metadata": {
    "collapsed": false
   }
  },
  {
   "cell_type": "code",
   "execution_count": null,
   "outputs": [],
   "source": [
    "for item in ['100652103000']:\n",
    "    item_data = sales_data[sales_data['item'] == item].groupby('date').agg({'average_price':'mean',\n",
    "                                                                            'average_dicounted_price':'mean',\n",
    "                                                                            'sales':'sum'})\n",
    "    item_data = item_data.reindex(pd.date_range(start=item_data.index.min(),\n",
    "                                                end=item_data.index.max(),\n",
    "                                                freq='D'))\n",
    "    item_data['average_price'] = item_data['average_price'].fillna(method='ffill')\n",
    "    item_data['average_dicounted_price'] = item_data['average_dicounted_price'].fillna(method='ffill')\n",
    "    item_data['sales'] = item_data['sales'].fillna(0)\n",
    "    item_data.plot(figsize=(20,4))\n",
    "    plt.title('item: ' + item)\n",
    "    plt.show()\n"
   ],
   "metadata": {
    "collapsed": false
   }
  },
  {
   "cell_type": "code",
   "execution_count": null,
   "outputs": [],
   "source": [
    "sales_data[sales_data['item'] == '100652103000']['sku'].unique().tolist()"
   ],
   "metadata": {
    "collapsed": false
   }
  },
  {
   "cell_type": "code",
   "execution_count": null,
   "outputs": [],
   "source": [
    "store_sales['store'].unique()"
   ],
   "metadata": {
    "collapsed": false
   }
  },
  {
   "cell_type": "code",
   "execution_count": null,
   "outputs": [],
   "source": [
    "\n",
    "\n",
    "for store in sales_data['store'].unique()[:10]:\n",
    "    store_sales = sales_data[sales_data['store'] == store]\n",
    "    store_stock = mbew_fashion[mbew_fashion['store'].astype(str) == store]\n",
    "    for sku in [100652103000001, 100652103000002, 100652103000003, 100652103000004]:\n",
    "        stock_sku_store_data = pd.DataFrame()\n",
    "        sku_store_stock = store_stock[store_stock['sku'].astype(str) == str(sku)]\n",
    "        for row in sku_store_stock.iterrows():\n",
    "            stock_sku_store_data = pd.concat([stock_sku_store_data,\n",
    "                                            pd.DataFrame({'date':pd.date_range(start=row[1]['valid_from_date'],\n",
    "                                                                                end=row[1]['valid_to_date'],\n",
    "                                                                                freq='D'),\n",
    "                                                        'stock':row[1]['stock']})])\n",
    "        if stock_sku_store_data.empty:\n",
    "            continue\n",
    "        stock_sku_store_data = stock_sku_store_data.set_index('date')\n",
    "        sku_store_sales = store_sales[store_sales['sku'] == sku].groupby('date').agg({'average_price':'mean',\n",
    "                                                                                'average_dicounted_price':'mean',\n",
    "                                                                                'sales':'sum'})\n",
    "        if sku_store_sales.empty:\n",
    "            continue\n",
    "        sku_store_sales = sku_store_sales.reindex(pd.date_range(start=sku_store_sales.index.min(),\n",
    "                                                    end=sku_store_sales.index.max(),\n",
    "                                                    freq='D'))\n",
    "        sku_store_sales['average_price'] = sku_store_sales['average_price'].fillna(method='ffill')\n",
    "        sku_store_sales['average_dicounted_price'] = sku_store_sales['average_dicounted_price'].fillna(method='ffill')\n",
    "        sku_store_sales['sales'] = sku_store_sales['sales'].fillna(0)\n",
    "        sku_store_sales = sku_store_sales.merge(stock_sku_store_data, left_index=True, right_index=True)\n",
    "        df = sku_store_sales\n",
    "        # Plotting\n",
    "        fig, ax1 = plt.subplots(figsize=(20, 4))\n",
    "\n",
    "        # Left y-axis for prices\n",
    "        ax1.plot(df.index, df['average_price'], label='Average Price', color='b')\n",
    "        ax1.plot(df.index, df['average_dicounted_price'], label='Average Discounted Price', color='g')\n",
    "        ax1.set_xlabel('Date')\n",
    "        ax1.set_ylabel('Price ($)', color='g')\n",
    "        ax1.tick_params(axis='y', labelcolor='g')\n",
    "        ax1.legend(loc='upper left')\n",
    "\n",
    "        # Right y-axis for quantities\n",
    "        ax2 = ax1.twinx()\n",
    "        ax2.plot(df.index, df['sales'], label='Sales', color='r')\n",
    "        ax2.plot(df.index, df['stock'], label='Stock', color='purple')\n",
    "        ax2.set_ylabel('Quantity', color='r')\n",
    "        ax2.tick_params(axis='y', labelcolor='r')\n",
    "        ax2.legend(loc='upper right')\n",
    "\n",
    "        # Title\n",
    "        plt.title('SKU Sales and Stock Analysis, Store: ' + str(store) + ' SKU: ' + str(sku))\n",
    "\n",
    "        plt.show()"
   ],
   "metadata": {
    "collapsed": false
   }
  },
  {
   "cell_type": "code",
   "execution_count": null,
   "outputs": [],
   "source": [
    "sku_store_sales"
   ],
   "metadata": {
    "collapsed": false
   }
  },
  {
   "cell_type": "code",
   "execution_count": 36,
   "outputs": [],
   "source": [
    "sales_data.groupby('date')['sales'].sum().plot()\n"
   ],
   "metadata": {
    "collapsed": false
   }
  },
  {
   "cell_type": "code",
   "execution_count": 37,
   "outputs": [
    {
     "data": {
      "text/plain": "        store              sku valid_from_date valid_to_date  stock  \\\n0        VZ01  100552720000004      2019-10-01    2099-12-31    0.0   \n1        VZ01  100550173000003      2018-03-27    2018-03-27   62.0   \n2        VZ01  100552654000001      2018-03-27    2018-03-27  160.0   \n3        VZ01  100552654000002      2018-03-27    2018-03-27  165.0   \n4        VZ01  100510035000011      2018-03-27    2018-03-27   55.0   \n...       ...              ...             ...           ...    ...   \n1370476  VZ01  100628362000011      2023-06-17    2099-12-31   64.0   \n1370477  VZ01  100628362000008      2023-06-17    2099-12-31   60.0   \n1370478  VZ01  100620362000004      2023-06-17    2099-12-31  154.0   \n1370479  VZ01  100610362000003      2023-06-17    2099-12-31  100.0   \n1370480  VZ01  100630362000002      2023-06-17    2099-12-31  502.0   \n\n        fashiongrade  \n0                  M  \n1                  M  \n2                  M  \n3                  M  \n4                  M  \n...              ...  \n1370476            M  \n1370477            M  \n1370478            M  \n1370479            M  \n1370480            M  \n\n[1370481 rows x 6 columns]",
      "text/html": "<div>\n<style scoped>\n    .dataframe tbody tr th:only-of-type {\n        vertical-align: middle;\n    }\n\n    .dataframe tbody tr th {\n        vertical-align: top;\n    }\n\n    .dataframe thead th {\n        text-align: right;\n    }\n</style>\n<table border=\"1\" class=\"dataframe\">\n  <thead>\n    <tr style=\"text-align: right;\">\n      <th></th>\n      <th>store</th>\n      <th>sku</th>\n      <th>valid_from_date</th>\n      <th>valid_to_date</th>\n      <th>stock</th>\n      <th>fashiongrade</th>\n    </tr>\n  </thead>\n  <tbody>\n    <tr>\n      <th>0</th>\n      <td>VZ01</td>\n      <td>100552720000004</td>\n      <td>2019-10-01</td>\n      <td>2099-12-31</td>\n      <td>0.0</td>\n      <td>M</td>\n    </tr>\n    <tr>\n      <th>1</th>\n      <td>VZ01</td>\n      <td>100550173000003</td>\n      <td>2018-03-27</td>\n      <td>2018-03-27</td>\n      <td>62.0</td>\n      <td>M</td>\n    </tr>\n    <tr>\n      <th>2</th>\n      <td>VZ01</td>\n      <td>100552654000001</td>\n      <td>2018-03-27</td>\n      <td>2018-03-27</td>\n      <td>160.0</td>\n      <td>M</td>\n    </tr>\n    <tr>\n      <th>3</th>\n      <td>VZ01</td>\n      <td>100552654000002</td>\n      <td>2018-03-27</td>\n      <td>2018-03-27</td>\n      <td>165.0</td>\n      <td>M</td>\n    </tr>\n    <tr>\n      <th>4</th>\n      <td>VZ01</td>\n      <td>100510035000011</td>\n      <td>2018-03-27</td>\n      <td>2018-03-27</td>\n      <td>55.0</td>\n      <td>M</td>\n    </tr>\n    <tr>\n      <th>...</th>\n      <td>...</td>\n      <td>...</td>\n      <td>...</td>\n      <td>...</td>\n      <td>...</td>\n      <td>...</td>\n    </tr>\n    <tr>\n      <th>1370476</th>\n      <td>VZ01</td>\n      <td>100628362000011</td>\n      <td>2023-06-17</td>\n      <td>2099-12-31</td>\n      <td>64.0</td>\n      <td>M</td>\n    </tr>\n    <tr>\n      <th>1370477</th>\n      <td>VZ01</td>\n      <td>100628362000008</td>\n      <td>2023-06-17</td>\n      <td>2099-12-31</td>\n      <td>60.0</td>\n      <td>M</td>\n    </tr>\n    <tr>\n      <th>1370478</th>\n      <td>VZ01</td>\n      <td>100620362000004</td>\n      <td>2023-06-17</td>\n      <td>2099-12-31</td>\n      <td>154.0</td>\n      <td>M</td>\n    </tr>\n    <tr>\n      <th>1370479</th>\n      <td>VZ01</td>\n      <td>100610362000003</td>\n      <td>2023-06-17</td>\n      <td>2099-12-31</td>\n      <td>100.0</td>\n      <td>M</td>\n    </tr>\n    <tr>\n      <th>1370480</th>\n      <td>VZ01</td>\n      <td>100630362000002</td>\n      <td>2023-06-17</td>\n      <td>2099-12-31</td>\n      <td>502.0</td>\n      <td>M</td>\n    </tr>\n  </tbody>\n</table>\n<p>1370481 rows × 6 columns</p>\n</div>"
     },
     "execution_count": 37,
     "metadata": {},
     "output_type": "execute_result"
    }
   ],
   "source": [],
   "metadata": {
    "collapsed": false
   }
  }
 ],
 "metadata": {
  "kernelspec": {
   "display_name": "Python 3",
   "language": "python",
   "name": "python3"
  },
  "language_info": {
   "codemirror_mode": {
    "name": "ipython",
    "version": 2
   },
   "file_extension": ".py",
   "mimetype": "text/x-python",
   "name": "python",
   "nbconvert_exporter": "python",
   "pygments_lexer": "ipython2",
   "version": "2.7.6"
  }
 },
 "nbformat": 4,
 "nbformat_minor": 0
}

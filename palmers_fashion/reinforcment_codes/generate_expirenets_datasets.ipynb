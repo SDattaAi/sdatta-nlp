{
 "cells": [
  {
   "cell_type": "code",
   "execution_count": 10,
   "metadata": {
    "collapsed": true
   },
   "outputs": [],
   "source": [
    "import pandas as pd"
   ]
  },
  {
   "cell_type": "code",
   "execution_count": 21,
   "outputs": [],
   "source": [
    "relevant_sku = ['100630105000002', '100090812000001', '100543062000007', '100080135000001', '100060062000001', '201999999991001',\n",
    "       '100080417000001',]"
   ],
   "metadata": {
    "collapsed": false
   }
  },
  {
   "cell_type": "code",
   "execution_count": 22,
   "outputs": [],
   "source": [
    "df_all = pd.DataFrame()"
   ],
   "metadata": {
    "collapsed": false
   }
  },
  {
   "cell_type": "code",
   "execution_count": 23,
   "outputs": [],
   "source": [
    "df_100 = pd.read_parquet('/Users/guybasson/Desktop/sdatta-nlp/palmers_fashion/df_all_store_100.parquet')\n",
    "df_100 = df_100[df_100['sku'].isin(relevant_sku)]\n",
    "df_42 = pd.read_parquet('/Users/guybasson/Desktop/sdatta-nlp/palmers_fashion/df_all_store_42.parquet')\n",
    "df_42 = df_42[df_42['sku'].isin(relevant_sku)]\n",
    "df_4906 = pd.read_parquet('/Users/guybasson/Desktop/sdatta-nlp/palmers_fashion/df_all_store_4906.parquet')\n",
    "df_4906 = df_4906[df_4906['sku'].isin(relevant_sku)]\n",
    "df_109 = pd.read_parquet('/Users/guybasson/Desktop/sdatta-nlp/palmers_fashion/df_all_store_109.parquet')\n",
    "df_109 = df_109[df_109['sku'].isin(relevant_sku)]\n",
    "df_10 = pd.read_parquet('/Users/guybasson/Desktop/sdatta-nlp/palmers_fashion/df_all_store_10.parquet')\n",
    "df_10 = df_10[df_10['sku'].isin(relevant_sku)]\n",
    "df_201 = pd.read_parquet('/Users/guybasson/Desktop/sdatta-nlp/palmers_fashion/df_all_store_201.parquet')\n",
    "df_201 = df_201[df_201['sku'].isin(relevant_sku)]\n",
    "df_82 = pd.read_parquet('/Users/guybasson/Desktop/sdatta-nlp/palmers_fashion/df_all_store_82.parquet')\n",
    "df_82 = df_82[df_82['sku'].isin(relevant_sku)]\n",
    "df_46 = pd.read_parquet('/Users/guybasson/Desktop/sdatta-nlp/palmers_fashion/df_all_store_46.parquet')\n",
    "df_46 = df_46[df_46['sku'].isin(relevant_sku)]\n",
    "df_135 = pd.read_parquet('/Users/guybasson/Desktop/sdatta-nlp/palmers_fashion/df_all_store_135.parquet')\n",
    "df_135 = df_135[df_135['sku'].isin(relevant_sku)]\n",
    "df_213 = pd.read_parquet('/Users/guybasson/Desktop/sdatta-nlp/palmers_fashion/df_all_store_213.parquet')\n",
    "df_213 = df_213[df_213['sku'].isin(relevant_sku)]\n",
    "\n",
    "\n",
    "\n",
    "df_all = pd.concat([df_100, df_42, df_4906, df_109, df_10, df_201, df_82, df_46, df_135, df_213])\n"
   ],
   "metadata": {
    "collapsed": false
   }
  },
  {
   "cell_type": "code",
   "execution_count": 29,
   "outputs": [],
   "source": [
    "df_all.to_csv('/Users/guybasson/Desktop/sdatta-nlp/palmers_fashion/dataset_experiment_2_stock_with_sales.csv')\n"
   ],
   "metadata": {
    "collapsed": false
   }
  },
  {
   "cell_type": "code",
   "execution_count": 33,
   "outputs": [],
   "source": [
    "wharehouse = pd.read_parquet('/Users/guybasson/Desktop/sdatta-nlp/palmers_fashion/df_all_store_VZ01.parquet')"
   ],
   "metadata": {
    "collapsed": false
   }
  },
  {
   "cell_type": "code",
   "execution_count": 34,
   "outputs": [],
   "source": [
    "wharehouse = wharehouse[wharehouse['sku'].astype(str).isin(relevant_sku)]"
   ],
   "metadata": {
    "collapsed": false
   }
  },
  {
   "cell_type": "code",
   "execution_count": 36,
   "outputs": [],
   "source": [
    "wharehouse.to_csv('/Users/guybasson/Desktop/sdatta-nlp/palmers_fashion/dataset_experiment_2_warehouse.csv')"
   ],
   "metadata": {
    "collapsed": false
   }
  },
  {
   "cell_type": "code",
   "execution_count": 24,
   "outputs": [
    {
     "data": {
      "text/plain": "Index(['100080135000001', '100060062000001', '201999999991001',\n       '100080417000001', '100630105000002', '100090812000001',\n       '100543062000007'],\n      dtype='object', name='sku')"
     },
     "execution_count": 24,
     "metadata": {},
     "output_type": "execute_result"
    }
   ],
   "source": [
    "df_100.groupby('sku')['sales'].sum().sort_values(ascending=False).index"
   ],
   "metadata": {
    "collapsed": false
   }
  },
  {
   "cell_type": "code",
   "execution_count": 27,
   "outputs": [],
   "source": [
    "import json\n",
    "\n",
    "with open('/Users/guybasson/Desktop/sdatta-nlp/palmers_fashion/sku_sales_experiment2.json', 'w') as fp:\n",
    "    json.dump(df_all.groupby('sku')['sales'].sum().to_dict(), fp)\n"
   ],
   "metadata": {
    "collapsed": false
   }
  },
  {
   "cell_type": "code",
   "execution_count": null,
   "outputs": [],
   "source": [
    "df_all"
   ],
   "metadata": {
    "collapsed": false
   }
  }
 ],
 "metadata": {
  "kernelspec": {
   "display_name": "Python 3",
   "language": "python",
   "name": "python3"
  },
  "language_info": {
   "codemirror_mode": {
    "name": "ipython",
    "version": 2
   },
   "file_extension": ".py",
   "mimetype": "text/x-python",
   "name": "python",
   "nbconvert_exporter": "python",
   "pygments_lexer": "ipython2",
   "version": "2.7.6"
  }
 },
 "nbformat": 4,
 "nbformat_minor": 0
}

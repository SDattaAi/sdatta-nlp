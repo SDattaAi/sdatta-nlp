{
 "cells": [
  {
   "cell_type": "code",
   "execution_count": null,
   "id": "initial_id",
   "metadata": {
    "collapsed": true,
    "ExecuteTime": {
     "end_time": "2023-12-21T11:00:30.827992Z",
     "start_time": "2023-12-21T11:00:30.689515Z"
    }
   },
   "outputs": [],
   "source": [
    "import pandas as pd\n",
    "import numpy as np\n",
    "import matplotlib.pyplot as plt\n",
    "import seaborn as sns\n",
    "import json"
   ]
  },
  {
   "cell_type": "markdown",
   "source": [
    "# Load Data"
   ],
   "metadata": {
    "collapsed": false
   },
   "id": "5ec64c78a2345b48"
  },
  {
   "cell_type": "code",
   "execution_count": null,
   "outputs": [],
   "source": [
    "df_stock_sales_path = r'/Users/guybasson/Desktop/sdatta-nlp/palmers_fashion/dataset_experiment_2_stock_with_sales.csv'\n",
    "df_warehouse_path = r'/Users/guybasson/Desktop/sdatta-nlp/palmers_fashion/dataset_experiment_2_warehouse.csv'"
   ],
   "metadata": {
    "collapsed": false,
    "ExecuteTime": {
     "end_time": "2023-12-21T11:00:30.845273200Z",
     "start_time": "2023-12-21T11:00:30.831Z"
    }
   },
   "id": "a5cdd0426ede1ce"
  },
  {
   "cell_type": "code",
   "execution_count": null,
   "outputs": [],
   "source": [],
   "metadata": {
    "collapsed": false
   }
  },
  {
   "cell_type": "code",
   "execution_count": null,
   "outputs": [],
   "source": [
    "df_stock_sales = pd.read_csv(df_stock_sales_path).drop(columns=[\"Unnamed: 0\"])\n",
    "df_warehouse = pd.read_csv(df_warehouse_path).drop(columns=[\"Unnamed: 0\"])"
   ],
   "metadata": {
    "collapsed": false,
    "ExecuteTime": {
     "end_time": "2023-12-21T11:00:30.868959800Z",
     "start_time": "2023-12-21T11:00:30.846273300Z"
    }
   },
   "id": "9a4aa2901b6f8301"
  },
  {
   "cell_type": "code",
   "execution_count": null,
   "outputs": [],
   "source": [
    "df_stock_sales['store'].unique()\n"
   ],
   "metadata": {
    "collapsed": false
   }
  },
  {
   "cell_type": "code",
   "execution_count": null,
   "outputs": [],
   "source": [
    "df_warehouse = df_warehouse.rename(columns={\"stock\": \"warehouse_stock\"})"
   ],
   "metadata": {
    "collapsed": false
   }
  },
  {
   "cell_type": "markdown",
   "source": [
    "# Load Dicts distribution of stores and years"
   ],
   "metadata": {
    "collapsed": false
   },
   "id": "332128cae32073fa"
  },
  {
   "cell_type": "code",
   "execution_count": null,
   "outputs": [],
   "source": [
    "dict_per_store_per_year_path = r\"/Users/guybasson/Desktop/sdatta-nlp/palmers_fashion/dict_per_store_per_year.json\"\n",
    "with open(dict_per_store_per_year_path) as json_file:\n",
    "    dict_per_store_per_year = json.load(json_file)"
   ],
   "metadata": {
    "collapsed": false,
    "ExecuteTime": {
     "end_time": "2023-12-21T11:00:30.869960200Z",
     "start_time": "2023-12-21T11:00:30.864779800Z"
    }
   },
   "id": "9086661a4fc0a1ba"
  },
  {
   "cell_type": "code",
   "execution_count": null,
   "outputs": [],
   "source": [
    "#dict_per_store_per_year chnage all keys to int\n",
    "dict_per_store_per_year = {int(year): {int(store): dict_per_store_per_year[year][store] for store in dict_per_store_per_year[year]} for year in dict_per_store_per_year}"
   ],
   "metadata": {
    "collapsed": false
   }
  },
  {
   "cell_type": "code",
   "execution_count": null,
   "outputs": [],
   "source": [
    "df_stock_sales.head()"
   ],
   "metadata": {
    "collapsed": false,
    "ExecuteTime": {
     "end_time": "2023-12-21T11:00:30.887969Z",
     "start_time": "2023-12-21T11:00:30.871960Z"
    }
   },
   "id": "88a7d91c6d931405"
  },
  {
   "cell_type": "code",
   "execution_count": null,
   "outputs": [],
   "source": [
    "df_warehouse.head()"
   ],
   "metadata": {
    "collapsed": false,
    "ExecuteTime": {
     "end_time": "2023-12-21T11:00:30.919066400Z",
     "start_time": "2023-12-21T11:00:30.880969300Z"
    }
   },
   "id": "6bafef74340cf9a1"
  },
  {
   "cell_type": "code",
   "execution_count": null,
   "outputs": [],
   "source": [
    "sku_temp = 100630105000002\n",
    "\n",
    "df_stock_sales_temp = df_stock_sales[df_stock_sales[\"sku\"] == sku_temp]\n",
    "df_warehouse_temp = df_warehouse[df_warehouse[\"sku\"] == sku_temp]"
   ],
   "metadata": {
    "collapsed": false,
    "ExecuteTime": {
     "end_time": "2023-12-21T11:00:30.922066800Z",
     "start_time": "2023-12-21T11:00:30.889969100Z"
    }
   },
   "id": "afd1a9d78920bea8"
  },
  {
   "cell_type": "code",
   "execution_count": null,
   "outputs": [],
   "source": [
    "df_stock_sales_temp.head()"
   ],
   "metadata": {
    "collapsed": false,
    "ExecuteTime": {
     "end_time": "2023-12-21T11:00:31.015062400Z",
     "start_time": "2023-12-21T11:00:30.924066400Z"
    }
   },
   "id": "4c920ab150c0b78a"
  },
  {
   "cell_type": "markdown",
   "source": [
    "# Expirement 3 stores: 100, 42, 4906"
   ],
   "metadata": {
    "collapsed": false
   },
   "id": "bf1aa1eba5838870"
  },
  {
   "cell_type": "code",
   "execution_count": null,
   "outputs": [],
   "source": [
    "first_dist_store_100 =  dict_per_store_per_year[2020][100] / (dict_per_store_per_year[2020][100] + dict_per_store_per_year[2020][42] + dict_per_store_per_year[2020][4906])\n",
    "first_dist_store_42 =  dict_per_store_per_year[2020][42] / (dict_per_store_per_year[2020][100] + dict_per_store_per_year[2020][42] + dict_per_store_per_year[2020][4906])\n",
    "first_dist_store_4906 =  dict_per_store_per_year[2020][4906] / (dict_per_store_per_year[2020][100] + dict_per_store_per_year[2020][42] + dict_per_store_per_year[2020][4906])"
   ],
   "metadata": {
    "collapsed": false,
    "ExecuteTime": {
     "end_time": "2023-12-21T11:00:31.060376500Z",
     "start_time": "2023-12-21T11:00:30.994068800Z"
    }
   },
   "id": "52647a19c7789977"
  },
  {
   "cell_type": "code",
   "execution_count": null,
   "outputs": [],
   "source": [
    "print(first_dist_store_100, first_dist_store_42, first_dist_store_4906)"
   ],
   "metadata": {
    "collapsed": false,
    "ExecuteTime": {
     "end_time": "2023-12-21T11:00:31.106910100Z",
     "start_time": "2023-12-21T11:00:31.062376600Z"
    }
   },
   "id": "f18f1e000c8a095a"
  },
  {
   "cell_type": "markdown",
   "source": [
    "# Assumption:\n",
    "\n",
    "##### 1. The time delivery ahead is 2 weeks (later we will change dynamically between stores for example 1 day - 14 days)\n",
    "##### 2. the prior sales distribution of stores taking from 1 year before the experiment (for example 2019 if the experiment is in 2020)\n",
    "##### 3. All the 126 stores going to be active in the optimization warehouse \n",
    "##### 4. Not all the time series of the stores are the same length, so there are some that starting earlier and some later (it depends on the store time shipping from the warehouse and also the time of the decision to start shipping to the store)\n",
    "##### 5. Discount over time:\n",
    "        \n",
    "        5.1 after 20 weeks the discount is 0.8-0.85 % from the original price (the discount is the worst case for store because the store sales the product in the loss)\n",
    "        \n",
    "##### 6. Removing worst stores over time:\n",
    "        \n",
    "        6.1 6 weeks after store get the first delivery, if the store is in the bottom 10% of the stores from total stores, we remove it from the optimization warehouse\n",
    "        6.2 8 weeks after store get the first delivery, if the store is in the bottom 20% of the stores from total stores, we remove it from the optimization warehouse\n",
    "        6.3 12 weeks after store get the first delivery, if the store is in the bottom 30% of the stores from total stores, we remove it from the optimization warehouse\n",
    "        6.4 14 weeks after store get the first delivery, if the store is in the bottom 40% of the stores from total stores, we remove it from the optimization warehouse\n",
    "\n",
    "##### 7. There is no reordering to the warehouse what we have is what we have\n",
    "##### 8. If the stock in the warehouse is 0 we can move the stock of sku from other store to the store that need it but it is not optimal\n",
    "##### 10. The first allocation of the stock in store is given by the palmers (as 50% of the stock sku in the store they believe that the store can sell)\n",
    "\n"
   ],
   "metadata": {
    "collapsed": false
   },
   "id": "f374817187630ea7"
  },
  {
   "cell_type": "code",
   "execution_count": null,
   "outputs": [],
   "source": [
    "# dict_dynamic_current_decision = {}\n",
    "# dict_dynamic_last_decision = {}\n",
    "# dict_brain_current_global_sku_store = {}\n",
    "# dict_brain_last_global_sku_store = {}\n",
    "# dict_score_local_strategy = {}\n",
    "# dict_score_global_strategy = {}\n",
    "\n",
    "dict_dynamic_init = {}\n",
    "\n"
   ],
   "metadata": {
    "collapsed": false,
    "ExecuteTime": {
     "end_time": "2023-12-21T11:00:31.154474600Z",
     "start_time": "2023-12-21T11:00:31.093403800Z"
    }
   },
   "id": "fdc1b61e05e57f93"
  },
  {
   "cell_type": "code",
   "execution_count": null,
   "outputs": [],
   "source": [
    "df_stock_sales_temp[\"date\"] = pd.to_datetime(df_stock_sales_temp[\"date\"])\n",
    "df_warehouse_temp[\"date\"] = pd.to_datetime(df_warehouse_temp[\"date\"])\n",
    "df_stock_sales_temp = df_stock_sales_temp.sort_values(by=[\"date\", \"store\"])\n",
    "df_warehouse_temp = df_warehouse_temp.sort_values(by=[\"date\"])"
   ],
   "metadata": {
    "collapsed": false,
    "ExecuteTime": {
     "end_time": "2023-12-21T11:00:31.193995900Z",
     "start_time": "2023-12-21T11:00:31.146966900Z"
    }
   },
   "id": "acbc5da1e2d520ae"
  },
  {
   "cell_type": "code",
   "execution_count": null,
   "outputs": [],
   "source": [
    "# current_year = \"2020\"\n",
    "# last_year = \"2019\""
   ],
   "metadata": {
    "collapsed": false,
    "ExecuteTime": {
     "end_time": "2023-12-21T11:00:31.214054600Z",
     "start_time": "2023-12-21T11:00:31.182990100Z"
    }
   },
   "id": "dff8a226adfc8a69"
  },
  {
   "cell_type": "code",
   "execution_count": null,
   "outputs": [],
   "source": [
    "def create_dict_prior_initialize(years_list,stores_list):\n",
    "    \"\"\"\n",
    "    This function create dict_prior_initialize only for the stores and years that we want to initialize and than we normalize the distribution for each year for the stores that we want to initialize\n",
    "    :param years_list: \n",
    "    :param stores_list: \n",
    "    :return: \n",
    "    \"\"\"\n",
    "    dict_prior_initialize_only_stores_from_list = {\n",
    "        year: {\n",
    "            store: dict_per_store_per_year[year][store] / sum(dict_per_store_per_year[year].values())\n",
    "            for store in dict_per_store_per_year[year] if store in stores_list\n",
    "        }\n",
    "        for year in dict_per_store_per_year if year in years_list\n",
    "    }\n",
    "    for year in dict_prior_initialize_only_stores_from_list:\n",
    "        sum_year = sum([dict_prior_initialize_only_stores_from_list[year][store] for store in dict_prior_initialize_only_stores_from_list[year]])\n",
    "        for store in dict_prior_initialize_only_stores_from_list[year]:\n",
    "            dict_prior_initialize_only_stores_from_list[year][store] = dict_prior_initialize_only_stores_from_list[year][store] / sum_year\n",
    "    return dict_prior_initialize_only_stores_from_list\n",
    "    "
   ],
   "metadata": {
    "collapsed": false,
    "ExecuteTime": {
     "end_time": "2023-12-21T11:00:31.236064400Z",
     "start_time": "2023-12-21T11:00:31.217054700Z"
    }
   },
   "id": "b9e0ff638b2aed62"
  },
  {
   "cell_type": "code",
   "execution_count": null,
   "outputs": [],
   "source": [
    "dict_prior_initialize = create_dict_prior_initialize([2018,2019,2020,2021,2022], df_stock_sales['store'].unique())"
   ],
   "metadata": {
    "collapsed": false,
    "ExecuteTime": {
     "end_time": "2023-12-21T11:00:31.256001300Z",
     "start_time": "2023-12-21T11:00:31.238064400Z"
    }
   },
   "id": "fa81c32e2436c444"
  },
  {
   "cell_type": "code",
   "execution_count": null,
   "outputs": [],
   "source": [
    "dict_prior_initialize"
   ],
   "metadata": {
    "collapsed": false
   }
  },
  {
   "cell_type": "code",
   "execution_count": null,
   "outputs": [],
   "source": [
    "dict_sku_static = {}\n",
    "dict_sku_dynamic = {}\n",
    "dict_sku_store_static = {}\n",
    "dict_sku_store_dynamic = {}"
   ],
   "metadata": {
    "collapsed": false,
    "ExecuteTime": {
     "end_time": "2023-12-21T11:00:31.286194400Z",
     "start_time": "2023-12-21T11:00:31.258001200Z"
    }
   },
   "id": "e60298164a6cb251"
  },
  {
   "cell_type": "code",
   "execution_count": null,
   "outputs": [],
   "source": [
    "for sku in df_stock_sales[\"sku\"].unique():\n",
    "    \n",
    "    dict_sku_static[sku] = {}\n",
    "    dict_sku_static[sku][\"flag_stock_arrive_warehouse\"] = False\n",
    "    dict_sku_static[sku][\"flag_remove_worst_stores_10_percent\"] = False\n",
    "    dict_sku_static[sku][\"flag_remove_worst_stores_20_percent\"] = False\n",
    "    dict_sku_static[sku][\"flag_remove_worst_stores_30_percent\"] = False\n",
    "    dict_sku_static[sku][\"flag_remove_worst_stores_40_percent\"] = False\n",
    "    dict_sku_static[sku][\"original_active_stores\"] = []\n",
    "    dict_sku_static[sku][\"flag_6_weeks_after_first_delivery\"] = False\n",
    "    dict_sku_static[sku][\"flag_8_weeks_after_first_delivery\"] = False\n",
    "    dict_sku_static[sku][\"flag_12_weeks_after_first_delivery\"] = False\n",
    "    dict_sku_static[sku][\"flag_14_weeks_after_first_delivery\"] = False\n",
    "    dict_sku_static[sku][\"flag_20_weeks_after_first_delivery\"] = False\n",
    "    dict_sku_static[sku][\"init_stock_in_warehouse\"] = 0\n",
    "    \n",
    "    \n",
    "    dict_sku_dynamic[sku] = {}\n",
    "    dict_sku_dynamic[sku][\"current_remind_stock_in_warehouse\"] = 0\n",
    "    dict_sku_dynamic[sku][\"current_remind_stock_in_warehouse_theoretical\"] = 0 \n",
    "    dict_sku_dynamic[sku][\"store_rank\"] = pd.Series()\n",
    "    dict_sku_dynamic[sku][\"date\"] = None\n",
    "    dict_sku_dynamic[sku][\"prior_dynamic_per_stores\"] = {}\n",
    "    dict_sku_dynamic[sku][\"strategy_global\"] = {}\n",
    "    dict_sku_dynamic[sku][\"active_stores\"] = []\n",
    "    dict_sku_dynamic[sku][\"10_percent_convert_map\"] = 0\n",
    "\n",
    "    \n",
    "    df_stock_sales_sku = df_stock_sales[df_stock_sales[\"sku\"] == sku]\n",
    "    dict_sku_store_static[sku] = {}\n",
    "    dict_sku_store_dynamic[sku] = {}    \n",
    "    for store in df_stock_sales_sku[\"store\"].unique():\n",
    "        dict_sku_store_static[sku][store] = {}\n",
    "        dict_sku_store_static[sku][store][\"flag_stock_arrive_store\"] = False\n",
    "        dict_sku_store_static[sku][store][\"prior_init_distribution\"] = 0\n",
    "        dict_sku_store_static[sku][store][\"init_stock\"] = 0\n",
    "        dict_sku_store_static[sku][store][\"time_delivery_ahead\"] = 14\n",
    "        dict_sku_store_static[sku][store][\"flag_stock_not_enough_in_warehouse_for_store\"] = False\n",
    "        \n",
    "        dict_sku_store_dynamic[sku][store] = {}\n",
    "        dict_sku_store_dynamic[sku][store][\"date\"] = None\n",
    "        dict_sku_store_dynamic[sku][store][\"cum_sum_of_sales\"] = 0\n",
    "        dict_sku_store_dynamic[sku][store][\"prior_dynamic\"] = {}\n",
    "        dict_sku_store_dynamic[sku][store][\"current_learning_rate\"] = 0\n",
    "        dict_sku_store_dynamic[sku][store][\"next_learning_rate\"] = 0\n",
    "        dict_sku_store_dynamic[sku][store][\"current_decision\"] = \"before_init\"\n",
    "        dict_sku_store_dynamic[sku][store][\"next_decision\"] = \"before_init\"   \n",
    "        dict_sku_store_dynamic[sku][store][\"current_stock\"] = 0\n",
    "        dict_sku_store_dynamic[sku][store][\"current_remind_stock_in_store_theoretical\"] = 0\n",
    "        dict_sku_store_dynamic[sku][store][\"current_sales\"] = 0\n",
    "        dict_sku_store_dynamic[sku][store][\"history_data_sales\"] = pd.DataFrame()\n",
    "        dict_sku_store_dynamic[sku][store][\"rolling_mean_of_7_days_sales\"] = 0\n",
    "        dict_sku_store_dynamic[sku][store][\"rolling_mean_of_14_days_sales\"] = 0\n",
    "        dict_sku_store_dynamic[sku][store][\"current_sales_rate_from_start\"] = 0\n",
    "        dict_sku_store_dynamic[sku][store][\"number_of_days_from_first_delivery\"] = 0\n",
    "        dict_sku_store_dynamic[sku][store][\"strategy_local\"] = {}\n",
    "        dict_sku_store_dynamic[sku][store][\"factor_strategy_current\"] = 0\n",
    "        dict_sku_store_dynamic[sku][store][\"palmers_stock\"] = 0  \n",
    "        dict_sku_store_dynamic[sku][store][\"flag_active_store\"] = False"
   ],
   "metadata": {
    "collapsed": false,
    "ExecuteTime": {
     "end_time": "2023-12-21T11:00:31.289729Z",
     "start_time": "2023-12-21T11:00:31.276689600Z"
    }
   },
   "id": "cb0c415e7ced210a"
  },
  {
   "cell_type": "code",
   "execution_count": null,
   "outputs": [],
   "source": [
    "dict_dynamic = {}"
   ],
   "metadata": {
    "collapsed": false
   }
  },
  {
   "cell_type": "code",
   "execution_count": null,
   "outputs": [],
   "source": [
    "df_warehouse_temp.head()"
   ],
   "metadata": {
    "collapsed": false
   }
  },
  {
   "cell_type": "code",
   "execution_count": null,
   "outputs": [],
   "source": [
    "with open('/Users/guybasson/Desktop/sdatta-nlp/palmers_fashion/sku_sales_experiment2.json') as json_file:\n",
    "    sku_sales_experiment = json.load(json_file)\n",
    "#"
   ],
   "metadata": {
    "collapsed": false,
    "ExecuteTime": {
     "end_time": "2023-12-21T11:00:31.471497600Z",
     "start_time": "2023-12-21T11:00:31.445980600Z"
    }
   },
   "id": "c68503e50e820232"
  },
  {
   "cell_type": "code",
   "execution_count": null,
   "outputs": [],
   "source": [
    "# sku_sales_experiment2 keys to in\n",
    "sku_sales_experiment = {int(sku): sku_sales_experiment[sku] for sku in sku_sales_experiment}"
   ],
   "metadata": {
    "collapsed": false
   }
  },
  {
   "cell_type": "code",
   "execution_count": null,
   "outputs": [],
   "source": [
    "for date in df_warehouse_temp[\"date\"].unique()[:80]:\n",
    "    df_warehouse_temp_date = df_warehouse_temp[df_warehouse_temp[\"date\"] <= date]\n",
    "    df_stock_sales_temp_date = df_stock_sales_temp[df_stock_sales_temp[\"date\"] <= date]\n",
    "    \n",
    "    for sku in [100630105000002]:\n",
    "\n",
    "        df_warehouse_temp_date_sku = df_warehouse_temp_date[df_warehouse_temp_date[\"sku\"] == sku]\n",
    "        df_stock_sales_temp_date_sku = df_stock_sales_temp_date[df_stock_sales_temp_date[\"sku\"] == sku]\n",
    "        dict_sku_dynamic[sku][\"date\"] = date\n",
    "        last_year = pd.to_datetime(date).year - 1\n",
    "        if df_warehouse_temp_date_sku[\"warehouse_stock\"].iloc[-1] > 0 and dict_sku_static[sku][\"flag_stock_arrive_warehouse\"]==False:\n",
    "            dict_sku_static[sku][\"flag_stock_arrive_warehouse\"] = True\n",
    "            # dict_sku_static[sku][\"init_stock_in_warehouse\"] = df_warehouse_temp_date_sku[\"warehouse_stock\"].iloc[-1]\n",
    "            dict_sku_static[sku][\"init_stock_in_warehouse\"] = sku_sales_experiment[sku]\n",
    "            # dict_sku_dynamic[sku][\"current_remind_stock_in_warehouse\"] = df_warehouse_temp_date_sku[\"warehouse_stock\"].iloc[-1]\n",
    "            dict_sku_dynamic[sku][\"current_remind_stock_in_warehouse\"] = sku_sales_experiment[sku]\n",
    "            dict_sku_dynamic[sku][\"prior_dynamic_per_stores\"] = create_dict_prior_initialize([last_year], [ 100,   42, 4906,  109,   10,  201,   82,   46,  135,  213])[last_year]\n",
    "\n",
    "        \n",
    "        if dict_sku_static[sku][\"flag_stock_arrive_warehouse\"]:\n",
    "            \n",
    "            if len(df_stock_sales_temp_date_sku) > 0:\n",
    "                \n",
    "                for store in df_stock_sales_temp_date_sku[\"store\"].unique():\n",
    "                    dict_sku_store_dynamic[sku][store][\"date\"] = date\n",
    "                    df_stock_sales_temp_date_sku_store = df_stock_sales_temp_date_sku[df_stock_sales_temp_date_sku[\"store\"] == store]\n",
    "                    dict_sku_store_static[sku][store][\"prior_init_distribution\"] = create_dict_prior_initialize([2018,2019,2020,2021,2022], df_stock_sales['store'].unique())[last_year][store]\n",
    "                    \n",
    "                    \n",
    "                    \n",
    "                    dict_sku_store_dynamic[sku][store][\"current_remind_stock_in_store_theoretical\"] =  dict_sku_store_static[sku][store][\"prior_init_distribution\"] * dict_sku_static[sku][\"init_stock_in_warehouse\"]\n",
    "                    \n",
    "                    if df_stock_sales_temp_date_sku_store[\"stock\"].iloc[-1] > 0 and dict_sku_store_static[sku][store][\"flag_stock_arrive_store\"] == False:\n",
    "                        dict_sku_store_static[sku][store][\"flag_stock_arrive_store\"] = True\n",
    "                        dict_sku_store_dynamic[sku][store][\"prior_dynamic\"] = dict_sku_store_static[sku][store][\"prior_init_distribution\"]\n",
    "                        dict_sku_store_static[sku][store][\"init_stock\"] = df_stock_sales_temp_date_sku_store[\"stock\"].iloc[-1]\n",
    "                        dict_sku_store_dynamic[sku][store][\"current_stock\"] = dict_sku_store_static[sku][store][\"init_stock\"]\n",
    "                        dict_sku_store_dynamic[sku][store][\"number_of_days_from_first_delivery\"] = 1\n",
    "                        dict_sku_dynamic[sku][\"current_remind_stock_in_warehouse\"] -= dict_sku_store_static[sku][store][\"init_stock\"]\n",
    "                        dict_sku_store_dynamic[sku][store][\"flag_active_store\"] = True\n",
    "                        \n",
    "                        \n",
    "                    if dict_sku_store_static[sku][store][\"flag_stock_arrive_store\"]:\n",
    "                        dict_sku_store_dynamic[sku][store][\"number_of_days_from_first_delivery\"] += 1\n",
    "                        dict_sku_store_dynamic[sku][store][\"history_data_sales\"] = df_stock_sales_temp_date_sku_store.set_index(\"date\")[[\"sales\"]]\n",
    "                        dict_sku_store_dynamic[sku][store][\"cum_sum_of_sales\"] = df_stock_sales_temp_date_sku_store[\"sales\"].sum()   \n",
    "                        dict_sku_store_dynamic[sku][store][\"current_sales\"] = df_stock_sales_temp_date_sku_store[\"sales\"].iloc[-1]\n",
    "                        dict_sku_store_dynamic[sku][store][\"current_sales_rate_from_start\"] = dict_sku_store_dynamic[sku][store][\"cum_sum_of_sales\"] / dict_sku_store_dynamic[sku][store][\"number_of_days_from_first_delivery\"]\n",
    "                        dict_sku_store_dynamic[sku][store][\"palmers_stock\"] = df_stock_sales_temp_date_sku_store[\"stock\"].iloc[-1]\n",
    "                        \n",
    "                    if dict_sku_store_dynamic[sku][store][\"number_of_days_from_first_delivery\"] >= 7:\n",
    "                        dict_sku_store_dynamic[sku][store][\"rolling_mean_of_7_days_sales\"] = dict_sku_store_dynamic[sku][store][\"history_data_sales\"][\"sales\"].rolling(7).mean().iloc[-1]\n",
    "                    if dict_sku_store_dynamic[sku][store][\"number_of_days_from_first_delivery\"] >= 14:\n",
    "                        dict_sku_store_dynamic[sku][store][\"rolling_mean_of_14_days_sales\"] = dict_sku_store_dynamic[sku][store][\"history_data_sales\"][\"sales\"].rolling(14).mean().iloc[-1]\n",
    "                    \n",
    "                    if dict_sku_store_dynamic[sku][store][\"number_of_days_from_first_delivery\"] >= 6*7 and dict_sku_static[sku][\"flag_6_weeks_after_first_delivery\"] == False:\n",
    "                        dict_sku_static[sku][\"flag_6_weeks_after_first_delivery\"] = True\n",
    "                    if dict_sku_store_dynamic[sku][store][\"number_of_days_from_first_delivery\"] >= 8*7 and dict_sku_static[sku][\"flag_8_weeks_after_first_delivery\"] == False:\n",
    "                        dict_sku_static[sku][\"flag_8_weeks_after_first_delivery\"] = True        \n",
    "                    if dict_sku_store_dynamic[sku][store][\"number_of_days_from_first_delivery\"] >= 12*7 and dict_sku_static[sku][\"flag_12_weeks_after_first_delivery\"] == False:\n",
    "                        dict_sku_static[sku][\"flag_12_weeks_after_first_delivery\"] = True\n",
    "                    if dict_sku_store_dynamic[sku][store][\"number_of_days_from_first_delivery\"] >= 14*7 and dict_sku_static[sku][\"flag_14_weeks_after_first_delivery\"] == False:\n",
    "                        dict_sku_static[sku][\"flag_14_weeks_after_first_delivery\"] = True   \n",
    "                    if dict_sku_store_dynamic[sku][store][\"number_of_days_from_first_delivery\"] >= 20*7 and dict_sku_static[sku][\"flag_20_weeks_after_first_delivery\"] == False:\n",
    "                        dict_sku_static[sku][\"flag_20_weeks_after_first_delivery\"] = True\n",
    "                        \n",
    "                \n",
    "                        \n",
    "                        \n",
    "                list_active_stores = [store for store in dict_sku_store_static[sku] if dict_sku_store_static[sku][store][\"flag_stock_arrive_store\"]]\n",
    "                dict_sku_static[sku][\"original_active_stores\"] = list_active_stores\n",
    "                \n",
    "                \n",
    "                \n",
    "                df_cumsum_all_stores = pd.DataFrame([[np.nan]*len(list_active_stores)],columns=list_active_stores)\n",
    "                for active_store in list_active_stores:\n",
    "                    df_cumsum_all_stores[active_store] = [dict_sku_store_dynamic[sku][active_store][\"cum_sum_of_sales\"]]\n",
    "                dict_sku_dynamic[sku][\"store_rank\"] = df_cumsum_all_stores.rank(ascending=False, axis=1).T.sort_values(by=0, ascending=True)\n",
    "                \n",
    "                if dict_sku_static[sku][\"flag_6_weeks_after_first_delivery\"]== False:\n",
    "                    dict_sku_dynamic[sku][\"active_stores\"] = dict_sku_static[sku][\"original_active_stores\"]\n",
    "        \n",
    "            \n",
    "                if dict_sku_static[sku][\"flag_6_weeks_after_first_delivery\"]==True and dict_sku_static[sku][\"flag_remove_worst_stores_10_percent\"]==False:\n",
    "                    dict_sku_dynamic[sku][\"10_percent_convert_map\"] = int(len(dict_sku_dynamic[sku][\"active_stores\"])*0.1)\n",
    "                    dict_sku_dynamic[sku][\"active_stores\"] = [dict_sku_dynamic[sku][\"store_rank\"].index[i] for i in range(int(len(dict_sku_dynamic[sku][\"active_stores\"][:-dict_sku_dynamic[sku]['10_percent_convert_map']])))]\n",
    "                    keep_prior_dynamic_list = []\n",
    "                    for store in dict_sku_store_static[sku]:\n",
    "                        if store not in dict_sku_dynamic[sku][\"active_stores\"]:\n",
    "                            dict_sku_store_dynamic[sku][store][\"flag_active_store\"] = False\n",
    "                            dict_sku_store_dynamic[sku][store][\"prior_dynamic\"] =  0\n",
    "                            dict_sku_dynamic[sku][\"prior_dynamic_per_stores\"][store] = 0\n",
    "                        else:\n",
    "                            keep_prior_dynamic_list.append(dict_sku_store_dynamic[sku][store][\"prior_dynamic\"])\n",
    "                    for store in dict_sku_dynamic[sku][\"active_stores\"]:\n",
    "                        dict_sku_store_dynamic[sku][store][\"prior_dynamic\"] = dict_sku_store_dynamic[sku][store][\"prior_dynamic\"] / np.sum(keep_prior_dynamic_list)\n",
    "                    dict_sku_static[sku][\"flag_remove_worst_stores_10_percent\"] = True\n",
    "                    \n",
    "                if dict_sku_static[sku][\"flag_8_weeks_after_first_delivery\"]==True and dict_sku_static[sku][\"flag_remove_worst_stores_20_percent\"]==False:   \n",
    "                    dict_sku_dynamic[sku][\"active_stores\"] = [dict_sku_dynamic[sku][\"store_rank\"].index[i] for i in range(int(len(dict_sku_dynamic[sku][\"active_stores\"][:-dict_sku_dynamic[sku][\"10_percent_convert_map\"]])))]\n",
    "                    keep_prior_dynamic_list = []\n",
    "                    for store in dict_sku_store_static[sku]:\n",
    "                        if store not in dict_sku_dynamic[sku][\"active_stores\"]:\n",
    "                            dict_sku_store_dynamic[sku][store][\"flag_active_store\"] = False\n",
    "                            dict_sku_store_dynamic[sku][store][\"prior_dynamic\"] =  0\n",
    "                            dict_sku_dynamic[sku][\"prior_dynamic_per_stores\"][store] = 0\n",
    "                        else:\n",
    "                            keep_prior_dynamic_list.append(dict_sku_store_dynamic[sku][store][\"prior_dynamic\"])\n",
    "\n",
    "                    for store in dict_sku_dynamic[sku][\"active_stores\"]:\n",
    "                        dict_sku_store_dynamic[sku][store][\"prior_dynamic\"] = dict_sku_store_dynamic[sku][store][\"prior_dynamic\"] / np.sum(keep_prior_dynamic_list)\n",
    "                    dict_sku_static[sku][\"flag_remove_worst_stores_20_percent\"] = True\n",
    "\n",
    "\n",
    "                \n",
    "                if dict_sku_static[sku][\"flag_12_weeks_after_first_delivery\"]==True and dict_sku_static[sku][\"flag_remove_worst_stores_30_percent\"]==False:\n",
    "                    dict_sku_dynamic[sku][\"active_stores\"] = [dict_sku_dynamic[sku][\"store_rank\"].index[i] for i in range(int(len(dict_sku_dynamic[sku][\"active_stores\"][:-dict_sku_dynamic[sku][\"10_percent_convert_map\"]])))]\n",
    "                    keep_prior_dynamic_list = []\n",
    "                    for store in dict_sku_store_static[sku]:\n",
    "                        if store not in dict_sku_dynamic[sku][\"active_stores\"]:\n",
    "                            dict_sku_store_dynamic[sku][store][\"flag_active_store\"] = False\n",
    "                            dict_sku_store_dynamic[sku][store][\"prior_dynamic\"] =  0\n",
    "                            dict_sku_dynamic[sku][\"prior_dynamic_per_stores\"][store] = 0\n",
    "                        else:\n",
    "                            keep_prior_dynamic_list.append(dict_sku_store_dynamic[sku][store][\"prior_dynamic\"])\n",
    "                    for store in dict_sku_dynamic[sku][\"active_stores\"]:\n",
    "                        dict_sku_store_dynamic[sku][store][\"prior_dynamic\"] = dict_sku_store_dynamic[sku][store][\"prior_dynamic\"] / np.sum(keep_prior_dynamic_list)\n",
    "                    dict_sku_static[sku][\"flag_remove_worst_stores_30_percent\"] = True\n",
    "                \n",
    "                if dict_sku_static[sku][\"flag_14_weeks_after_first_delivery\"]==True and dict_sku_static[sku][\"flag_remove_worst_stores_40_percent\"]==False:\n",
    "                    dict_sku_dynamic[sku][\"active_stores\"] = [dict_sku_dynamic[sku][\"store_rank\"].index[i] for i in range(int(len(dict_sku_dynamic[sku][\"active_stores\"][:-dict_sku_dynamic[sku][\"10_percent_convert_map\"]])))]\n",
    "                    keep_prior_dynamic_list = []\n",
    "                    for store in dict_sku_store_static[sku]:\n",
    "                        if store not in dict_sku_dynamic[sku][\"active_stores\"]:\n",
    "                            dict_sku_store_dynamic[sku][store][\"flag_active_store\"] = False\n",
    "                            dict_sku_store_dynamic[sku][store][\"prior_dynamic\"] =  0\n",
    "\n",
    "                            dict_sku_dynamic[sku][\"prior_dynamic_per_stores\"][store] = 0\n",
    "                        else:\n",
    "                            keep_prior_dynamic_list.append(dict_sku_store_dynamic[sku][store][\"prior_dynamic\"])\n",
    "\n",
    "\n",
    "                    for store in dict_sku_dynamic[sku][\"active_stores\"]:\n",
    "                        dict_sku_store_dynamic[sku][store][\"prior_dynamic\"] = dict_sku_store_dynamic[sku][store][\"prior_dynamic\"] / np.sum(keep_prior_dynamic_list)\n",
    "                    dict_sku_static[sku][\"flag_remove_worst_stores_40_percent\"] = True\n",
    "\n",
    "                \n",
    "                \n",
    "                for store in dict_sku_dynamic[sku][\"active_stores\"]:\n",
    "                        dict_sku_dynamic[sku][\"prior_dynamic_per_stores\"][store] = dict_sku_store_dynamic[sku][store][\"prior_dynamic\"]\n",
    "\n",
    "\n",
    "                df_active_stores_dist = pd.DataFrame([[np.nan]*len(dict_sku_dynamic[sku][\"active_stores\"])],columns=dict_sku_dynamic[sku][\"active_stores\"])\n",
    "                df_active_stores_sales_rate_from_start = pd.DataFrame([[np.nan]*len(dict_sku_dynamic[sku][\"active_stores\"])],columns=dict_sku_dynamic[sku][\"active_stores\"])\n",
    "                for active_store in dict_sku_dynamic[sku][\"active_stores\"]:\n",
    "                    df_active_stores_dist[active_store] = dict_sku_store_dynamic[sku][active_store][\"prior_dynamic\"]\n",
    "                    df_active_stores_sales_rate_from_start[active_store] = dict_sku_store_dynamic[sku][active_store][\"current_sales_rate_from_start\"]\n",
    "\n",
    "                a1 = df_active_stores_sales_rate_from_start.sub(df_active_stores_sales_rate_from_start.min(axis=1), axis=0)\n",
    "                a2 = a1.divide(a1.max(axis=1), axis=0).fillna(0)\n",
    "                a2_normalized = a2 * df_active_stores_dist.sum(axis=1).iloc[0]\n",
    "                new_dist_list = []\n",
    "                for active_store in dict_sku_dynamic[sku][\"active_stores\"]:\n",
    "                    old_dist = dict_sku_store_dynamic[sku][active_store][\"prior_dynamic\"]\n",
    "                    new_dist = old_dist + a2_normalized[active_store].iloc[0] * 0.05\n",
    "                    new_dist_list.append(new_dist)\n",
    "\n",
    "                new_dist_list_normalized = np.multiply([new_dist / sum(new_dist_list) for new_dist in  new_dist_list] ,df_active_stores_dist.sum(axis=1).iloc[0])\n",
    "                new_dist_list_normalized_dict = {dict_sku_dynamic[sku][\"active_stores\"][i]: new_dist_list_normalized[i] for i in range(len(dict_sku_dynamic[sku][\"active_stores\"]))}\n",
    "\n",
    "                for active_store in dict_sku_dynamic[sku][\"active_stores\"]:\n",
    "                     dict_sku_store_dynamic[sku][active_store][\"prior_dynamic\"] = new_dist_list_normalized_dict[active_store]\n",
    "                     dict_sku_dynamic[sku]['prior_dynamic_per_stores'][active_store] = new_dist_list_normalized_dict[active_store]\n",
    "\n",
    "                     if active_store  == 201:\n",
    "                        print(f\"date {date} sku {sku} store {active_store} prior {dict_sku_store_dynamic[sku][active_store]['prior_dynamic']} \")\n",
    "                        print(dict_sku_dynamic[sku]['prior_dynamic_per_stores'][active_store])\n"
   ],
   "metadata": {
    "collapsed": false,
    "ExecuteTime": {
     "end_time": "2023-12-21T11:00:31.776671600Z",
     "start_time": "2023-12-21T11:00:31.464993500Z"
    }
   },
   "id": "8c5efff1c088eb39"
  },
  {
   "cell_type": "code",
   "execution_count": null,
   "outputs": [],
   "source": [
    "new_dist_list_normalized"
   ],
   "metadata": {
    "collapsed": false
   }
  },
  {
   "cell_type": "code",
   "execution_count": null,
   "outputs": [],
   "source": [
    "new_dist_list_normalized"
   ],
   "metadata": {
    "collapsed": false
   }
  },
  {
   "cell_type": "code",
   "execution_count": null,
   "outputs": [],
   "source": [
    "dict_sku_dynamic[sku]['prior_dynamic_per_stores']"
   ],
   "metadata": {
    "collapsed": false
   }
  },
  {
   "cell_type": "code",
   "execution_count": null,
   "outputs": [],
   "source": [
    "dict_sku_dynamic[sku][\"active_stores\"]"
   ],
   "metadata": {
    "collapsed": false
   }
  },
  {
   "cell_type": "code",
   "execution_count": null,
   "outputs": [],
   "source": [
    "dict_sku_dynamic[sku]['prior_dynamic_per_stores'][201]"
   ],
   "metadata": {
    "collapsed": false
   }
  },
  {
   "cell_type": "code",
   "execution_count": null,
   "outputs": [],
   "source": [
    "sum(np.sum(dict_sku_dynamic[sku]['prior_dynamic_per_stores'].values()))"
   ],
   "metadata": {
    "collapsed": false
   }
  },
  {
   "cell_type": "code",
   "execution_count": null,
   "outputs": [],
   "source": [
    "list_active_stores"
   ],
   "metadata": {
    "collapsed": false
   }
  },
  {
   "cell_type": "code",
   "execution_count": null,
   "outputs": [],
   "source": [
    "new_dist_list_normalized"
   ],
   "metadata": {
    "collapsed": false
   }
  },
  {
   "cell_type": "code",
   "execution_count": null,
   "outputs": [],
   "source": [
    "7*8"
   ],
   "metadata": {
    "collapsed": false
   }
  },
  {
   "cell_type": "code",
   "execution_count": null,
   "outputs": [],
   "source": [
    "dict_sku_dynamic[sku]"
   ],
   "metadata": {
    "collapsed": false
   }
  },
  {
   "cell_type": "code",
   "execution_count": null,
   "outputs": [],
   "source": [
    "dict_prior_initialize[last_year]"
   ],
   "metadata": {
    "collapsed": false
   }
  },
  {
   "cell_type": "code",
   "execution_count": null,
   "outputs": [],
   "source": [
    "print(df_warehouse_temp_date_sku)"
   ],
   "metadata": {
    "collapsed": false
   }
  },
  {
   "cell_type": "code",
   "execution_count": null,
   "outputs": [],
   "source": [
    "dict_sku_store_dynamic[sku]"
   ],
   "metadata": {
    "collapsed": false
   }
  },
  {
   "cell_type": "code",
   "execution_count": null,
   "outputs": [],
   "source": [
    "keep_prior_dynamic_list"
   ],
   "metadata": {
    "collapsed": false
   }
  },
  {
   "cell_type": "code",
   "execution_count": null,
   "outputs": [],
   "source": [
    "dict_sku_dynamic[sku][\"prior_dynamic_per_stores\"]"
   ],
   "metadata": {
    "collapsed": false
   }
  },
  {
   "cell_type": "code",
   "execution_count": null,
   "outputs": [],
   "source": [
    "dict_sku_store_dynamic[sku]"
   ],
   "metadata": {
    "collapsed": false
   }
  },
  {
   "cell_type": "code",
   "execution_count": null,
   "outputs": [],
   "source": [
    "dict_sku_dynamic"
   ],
   "metadata": {
    "collapsed": false
   }
  },
  {
   "cell_type": "code",
   "execution_count": null,
   "outputs": [],
   "source": [
    "dict_sku_static[sku][\"original_active_stores\"]"
   ],
   "metadata": {
    "collapsed": false
   }
  },
  {
   "cell_type": "code",
   "execution_count": null,
   "outputs": [],
   "source": [
    "# change it to str values in list in dict_sku_static[sku][\"original_active_stores\"]\n",
    "\n"
   ],
   "metadata": {
    "collapsed": false
   }
  },
  {
   "cell_type": "code",
   "execution_count": null,
   "outputs": [],
   "source": [
    "dict_sku_static[sku][\"original_active_stores\"]"
   ],
   "metadata": {
    "collapsed": false
   }
  },
  {
   "cell_type": "code",
   "execution_count": null,
   "outputs": [],
   "source": [
    "create_dict_prior_initialize([str(last_year)], dict_sku_static[sku][\"original_active_stores\"])"
   ],
   "metadata": {
    "collapsed": false
   }
  },
  {
   "cell_type": "code",
   "execution_count": null,
   "outputs": [],
   "source": [
    "dict_sku_dynamic[sku][\"prior_dynamic_per_stores\"][last_year]"
   ],
   "metadata": {
    "collapsed": false
   }
  },
  {
   "cell_type": "code",
   "execution_count": null,
   "outputs": [],
   "source": [
    "dict_sku_dynamic[sku][\"prior_dynamic_per_stores\"][last_year]"
   ],
   "metadata": {
    "collapsed": false,
    "ExecuteTime": {
     "end_time": "2023-12-21T11:00:55.927135800Z",
     "start_time": "2023-12-21T11:00:55.921133Z"
    }
   },
   "id": "5f0503dabd055b2e"
  },
  {
   "cell_type": "code",
   "execution_count": null,
   "outputs": [],
   "source": [
    "# dict_sku_store_dynamic[sku][store][\"date\"] = None\n",
    "#         dict_sku_store_dynamic[sku][store][\"cum_sum_of_sales\"] = 0\n",
    "#         dict_sku_store_dynamic[sku][store][\"prior_dynamic\"] = {}\n",
    "#         dict_sku_store_dynamic[sku][store][\"current_learning_rate\"] = 0\n",
    "#         dict_sku_store_dynamic[sku][store][\"next_learning_rate\"] = 0\n",
    "#         dict_sku_store_dynamic[sku][store][\"current_decision\"] = \"before_init\"\n",
    "#         dict_sku_store_dynamic[sku][store][\"next_decision\"] = \"before_init\"   \n",
    "#         dict_sku_store_dynamic[sku][store][\"current_stock\"] = 0\n",
    "#         dict_sku_store_dynamic[sku][store][\"current_remind_stock_in_store_theoretical\"] = 0\n",
    "#         dict_sku_store_dynamic[sku][store][\"current_sales\"] = 0\n",
    "#         dict_sku_store_dynamic[sku][store][\"history_data_sales\"] = pd.DataFrame()\n",
    "#         dict_sku_store_dynamic[sku][store][\"rolling_sum_of_7_days_sales\"] = 0\n",
    "#         dict_sku_store_dynamic[sku][store][\"rolling_sum_of_14_days_sales\"] = 0\n",
    "#         dict_sku_store_dynamic[sku][store][\"rolling_sum_of_21_days_sales\"] = 0\n",
    "#         dict_sku_store_dynamic[sku][store][\"rolling_sum_of_28_days_sales\"] = 0\n",
    "#         dict_sku_store_dynamic[sku][store][\"current_sales_rate\"] = 0\n",
    "#         dict_sku_store_dynamic[sku][store][\"current_sales_rate_7_days\"] = 0\n",
    "#         dict_sku_store_dynamic[sku][store][\"current_sales_rate_14_days\"] = 0\n",
    "#         dict_sku_store_dynamic[sku][store][\"number_of_days_from_first_delivery\"] = 0\n",
    "#         dict_sku_store_dynamic[sku][store][\"strategy_local\"] = {}\n",
    "#         dict_sku_store_dynamic[sku][store][\"factor_strategy_current\"] = 0\n",
    "#         dict_sku_store_dynamic[sku][store][\"palmers_decision\"] = 0  "
   ],
   "metadata": {
    "collapsed": false,
    "ExecuteTime": {
     "start_time": "2023-12-21T11:00:31.774166200Z"
    }
   },
   "id": "8c46c2abfdb17526"
  },
  {
   "cell_type": "code",
   "execution_count": null,
   "outputs": [],
   "source": [
    "dict_sku_store_dynamic"
   ],
   "metadata": {
    "collapsed": false,
    "ExecuteTime": {
     "start_time": "2023-12-21T11:00:31.774166200Z"
    }
   },
   "id": "6b0cfbfbada8f6d1"
  },
  {
   "cell_type": "code",
   "execution_count": null,
   "outputs": [],
   "source": [
    "dict_sku_store_dynamic[sku][active_store][\"prior_dynamic\"]"
   ],
   "metadata": {
    "collapsed": false,
    "ExecuteTime": {
     "start_time": "2023-12-21T11:00:31.775669Z"
    }
   },
   "id": "8e6ba6c35dcef1ae"
  },
  {
   "cell_type": "code",
   "execution_count": null,
   "outputs": [],
   "source": [
    "dict_sku_store_dynamic[sku][active_store][\"prior_dynamic\"]"
   ],
   "metadata": {
    "collapsed": false,
    "ExecuteTime": {
     "end_time": "2023-12-21T11:00:31.778174300Z",
     "start_time": "2023-12-21T11:00:31.776671600Z"
    }
   },
   "id": "d88aa7ec890bdc04"
  },
  {
   "cell_type": "code",
   "execution_count": null,
   "outputs": [],
   "source": [
    "df_active_stores_sales_rate_from_start"
   ],
   "metadata": {
    "collapsed": false,
    "ExecuteTime": {
     "end_time": "2023-12-21T11:00:31.779176800Z",
     "start_time": "2023-12-21T11:00:31.779176800Z"
    }
   },
   "id": "d512852975760283"
  },
  {
   "cell_type": "code",
   "execution_count": null,
   "outputs": [],
   "source": [
    "np.sum(new_dist_list)"
   ],
   "metadata": {
    "collapsed": false,
    "ExecuteTime": {
     "end_time": "2023-12-21T11:00:31.800506500Z",
     "start_time": "2023-12-21T11:00:31.780179200Z"
    }
   },
   "id": "41bdaf344a68d818"
  },
  {
   "cell_type": "code",
   "execution_count": null,
   "outputs": [],
   "source": [
    "new_dist_list_normalized.sum()"
   ],
   "metadata": {
    "collapsed": false,
    "ExecuteTime": {
     "start_time": "2023-12-21T11:00:31.781178700Z"
    }
   },
   "id": "9da96b99a776c8c4"
  },
  {
   "cell_type": "code",
   "execution_count": null,
   "outputs": [],
   "source": [
    "dict_sku_dynamic"
   ],
   "metadata": {
    "collapsed": false,
    "ExecuteTime": {
     "start_time": "2023-12-21T11:00:31.782178700Z"
    }
   },
   "id": "5fb86dd319ebcc69"
  },
  {
   "cell_type": "code",
   "execution_count": null,
   "outputs": [],
   "source": [
    "dict_sku_store_static[sku]"
   ],
   "metadata": {
    "collapsed": false,
    "ExecuteTime": {
     "start_time": "2023-12-21T11:00:31.783178900Z"
    }
   },
   "id": "2ab66f0a47e073fc"
  },
  {
   "cell_type": "code",
   "execution_count": null,
   "outputs": [],
   "source": [
    "dict_sku_store_dynamic[sku]"
   ],
   "metadata": {
    "collapsed": false,
    "ExecuteTime": {
     "start_time": "2023-12-21T11:00:31.784179100Z"
    }
   },
   "id": "501ae11e1da74759"
  },
  {
   "cell_type": "code",
   "execution_count": null,
   "outputs": [],
   "source": [
    "df_cumsum_all_stores"
   ],
   "metadata": {
    "collapsed": false,
    "ExecuteTime": {
     "start_time": "2023-12-21T11:00:31.785178900Z"
    }
   },
   "id": "f12604da01928bc8"
  },
  {
   "cell_type": "code",
   "execution_count": null,
   "outputs": [],
   "source": [
    "# rank from 1 to len(list_active_stores)\n",
    "df_cumsum_all_stores.rank(ascending=False, axis=1)"
   ],
   "metadata": {
    "collapsed": false,
    "ExecuteTime": {
     "start_time": "2023-12-21T11:00:31.786178900Z"
    }
   },
   "id": "60854829729fa8c"
  },
  {
   "cell_type": "code",
   "execution_count": null,
   "outputs": [],
   "source": [
    "dict_sku_static[sku]"
   ],
   "metadata": {
    "collapsed": false,
    "ExecuteTime": {
     "start_time": "2023-12-21T11:00:31.787178900Z"
    }
   },
   "id": "86bf6beb3232a316"
  },
  {
   "cell_type": "code",
   "execution_count": null,
   "outputs": [],
   "source": [
    "dict_sku_dynamic[sku][\"prior_dynamic_per_stores\"]"
   ],
   "metadata": {
    "collapsed": false,
    "ExecuteTime": {
     "start_time": "2023-12-21T11:00:31.788181100Z"
    }
   },
   "id": "9ec4f85a5ea0d87e"
  },
  {
   "cell_type": "code",
   "execution_count": null,
   "outputs": [],
   "source": [
    "dict_sku_dynamic"
   ],
   "metadata": {
    "collapsed": false,
    "ExecuteTime": {
     "start_time": "2023-12-21T11:00:31.789180600Z"
    }
   },
   "id": "7a7ed0f6acd2eab7"
  },
  {
   "cell_type": "code",
   "execution_count": null,
   "outputs": [],
   "source": [
    "dict_sku_dynamic[sku][\"store_rank\"]"
   ],
   "metadata": {
    "collapsed": false,
    "ExecuteTime": {
     "start_time": "2023-12-21T11:00:31.790181Z"
    }
   },
   "id": "c0809bd7f9bb2719"
  },
  {
   "cell_type": "code",
   "execution_count": null,
   "outputs": [],
   "source": [
    "[store for store in dict_sku_store_static[sku] if dict_sku_dynamic[sku][\"active_stores\"] and dict_sku_dynamic[sku][\"store_rank\"][store].iloc[0] < 1 * len(dict_sku_dynamic[sku][\"active_stores\"])]"
   ],
   "metadata": {
    "collapsed": false,
    "ExecuteTime": {
     "start_time": "2023-12-21T11:00:31.791181400Z"
    }
   },
   "id": "2c13850bbf0284c"
  }
 ],
 "metadata": {
  "kernelspec": {
   "display_name": "Python 3",
   "language": "python",
   "name": "python3"
  },
  "language_info": {
   "codemirror_mode": {
    "name": "ipython",
    "version": 2
   },
   "file_extension": ".py",
   "mimetype": "text/x-python",
   "name": "python",
   "nbconvert_exporter": "python",
   "pygments_lexer": "ipython2",
   "version": "2.7.6"
  }
 },
 "nbformat": 4,
 "nbformat_minor": 5
}

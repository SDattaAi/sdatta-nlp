{
 "cells": [
  {
   "cell_type": "code",
   "execution_count": null,
   "metadata": {
    "collapsed": true
   },
   "outputs": [],
   "source": [
    "import pandas as pd\n",
    "import os\n",
    "import numpy as np\n",
    "import matplotlib.pyplot as plt"
   ]
  },
  {
   "cell_type": "code",
   "execution_count": null,
   "outputs": [],
   "source": [
    "df_warehouse = pd.read_csv('/Users/guybasson/Desktop/sdatta-nlp/palmers_fashion/dataset_experiment_2_warehouse.csv')"
   ],
   "metadata": {
    "collapsed": false
   }
  },
  {
   "cell_type": "code",
   "execution_count": null,
   "outputs": [],
   "source": [
    "folder_of_stock_sales = r'/Users/guybasson/Desktop/sdatta-nlp/palmers_fashion/reinforcment_codes/datasets_3'\n",
    "# read parquat df and concat  with os\n",
    "df_stock_sales = pd.DataFrame()\n",
    "for file in os.listdir(folder_of_stock_sales):\n",
    "    df_stock_sales = pd.concat([df_stock_sales, pd.read_parquet(os.path.join(folder_of_stock_sales, file))])"
   ],
   "metadata": {
    "collapsed": false
   }
  },
  {
   "cell_type": "code",
   "execution_count": null,
   "outputs": [],
   "source": [
    "miss_sales = pd.read_csv('/Users/guybasson/Desktop/sdatta-nlp/palmers_fashion/reinforcment_codes/datasets_with_check_exp/MissedSales.csv')"
   ],
   "metadata": {
    "collapsed": false
   }
  },
  {
   "cell_type": "code",
   "execution_count": null,
   "outputs": [],
   "source": [
    "miss_sales['date'] = pd.to_datetime(miss_sales['date'])"
   ],
   "metadata": {
    "collapsed": false
   }
  },
  {
   "cell_type": "code",
   "execution_count": null,
   "outputs": [],
   "source": [
    "amount_miss_sales_dict = miss_sales.groupby('store')['amount_miss_sales'].max().to_dict()"
   ],
   "metadata": {
    "collapsed": false
   }
  },
  {
   "cell_type": "code",
   "execution_count": null,
   "outputs": [],
   "source": [
    "#give all amount_miss_sales_dict > 0\n",
    "print(list({k: v for k, v in amount_miss_sales_dict.items() if v > 0}.keys()))"
   ],
   "metadata": {
    "collapsed": false
   }
  },
  {
   "cell_type": "code",
   "execution_count": null,
   "outputs": [],
   "source": [
    "df_stock_sales['date'] = pd.to_datetime(df_stock_sales['date'])"
   ],
   "metadata": {
    "collapsed": false
   }
  },
  {
   "cell_type": "code",
   "execution_count": null,
   "outputs": [],
   "source": [
    "stocks = pd.read_csv('stocks.csv')\n",
    "stocks['date'] = pd.to_datetime(stocks['date'])"
   ],
   "metadata": {
    "collapsed": false
   }
  },
  {
   "cell_type": "code",
   "execution_count": null,
   "outputs": [],
   "source": [
    "for store in df_stock_sales['store'].unique():\n",
    "    stocks_store = stocks[stocks['store'] == store].set_index('date')['stock']\n",
    "    palmers_stock_store = df_stock_sales[df_stock_sales['store'] == store].set_index('date')['stock']\n",
    "    sales_store = df_stock_sales[df_stock_sales['store'] == store].set_index('date')['sales']\n",
    "    plt.figure(figsize=(20, 4))\n",
    "    plt.plot(stocks_store, label='our stock')\n",
    "    plt.plot(palmers_stock_store, label='palmers stock')\n",
    "    plt.plot(sales_store, label='sales')\n",
    "    plt.title(store)\n",
    "    miss_sales_store = amount_miss_sales_dict[int(store)]\n",
    "    # plot y = miss_sales_store with dots on the graph with index of stocks_store\n",
    "    plt.plot(pd.DataFrame([miss_sales_store]*len(stocks_store), index=stocks_store.index), linestyle='--', label='missed sales')\n",
    "    plt.legend()\n",
    "\n",
    "    plt.show()"
   ],
   "metadata": {
    "collapsed": false
   }
  },
  {
   "cell_type": "code",
   "execution_count": null,
   "outputs": [],
   "source": [],
   "metadata": {
    "collapsed": false
   }
  },
  {
   "cell_type": "code",
   "execution_count": null,
   "outputs": [],
   "source": [
    "palmers_stock"
   ],
   "metadata": {
    "collapsed": false
   }
  },
  {
   "cell_type": "code",
   "execution_count": null,
   "outputs": [],
   "source": [
    "stocks_100.set_index('date')['stock'].plot()"
   ],
   "metadata": {
    "collapsed": false
   }
  },
  {
   "cell_type": "code",
   "execution_count": null,
   "outputs": [],
   "source": [],
   "metadata": {
    "collapsed": false
   }
  }
 ],
 "metadata": {
  "kernelspec": {
   "display_name": "Python 3",
   "language": "python",
   "name": "python3"
  },
  "language_info": {
   "codemirror_mode": {
    "name": "ipython",
    "version": 2
   },
   "file_extension": ".py",
   "mimetype": "text/x-python",
   "name": "python",
   "nbconvert_exporter": "python",
   "pygments_lexer": "ipython2",
   "version": "2.7.6"
  }
 },
 "nbformat": 4,
 "nbformat_minor": 0
}

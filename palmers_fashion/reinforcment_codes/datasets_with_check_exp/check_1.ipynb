{
 "cells": [
  {
   "cell_type": "code",
   "execution_count": 8,
   "metadata": {
    "collapsed": true
   },
   "outputs": [],
   "source": [
    "import pandas as pd\n",
    "import os\n",
    "import numpy as np\n",
    "import matplotlib.pyplot as plt"
   ]
  },
  {
   "cell_type": "code",
   "execution_count": 9,
   "outputs": [],
   "source": [
    "df_warehouse = pd.read_parquet('/Users/guybasson/Desktop/sdatta-nlp/palmers_fashion/reinforcment_codes/datasets_4/df_all_store_VZ01.parquet')"
   ],
   "metadata": {
    "collapsed": false
   }
  },
  {
   "cell_type": "code",
   "execution_count": 17,
   "outputs": [
    {
     "data": {
      "text/plain": "                   sku       date  stock\n59974  100060075000001 2021-08-20  257.0\n59975  100060075000001 2021-08-21  257.0\n59976  100060075000001 2021-08-22  257.0\n59977  100060075000001 2021-08-23  257.0\n59978  100060075000001 2021-08-24  257.0\n...                ...        ...    ...\n67753  100060075000001 2023-12-08    0.0\n67754  100060075000001 2023-12-09    0.0\n67755  100060075000001 2023-12-10    0.0\n67756  100060075000001 2023-12-11    0.0\n67757  100060075000001 2023-12-12    0.0\n\n[845 rows x 3 columns]",
      "text/html": "<div>\n<style scoped>\n    .dataframe tbody tr th:only-of-type {\n        vertical-align: middle;\n    }\n\n    .dataframe tbody tr th {\n        vertical-align: top;\n    }\n\n    .dataframe thead th {\n        text-align: right;\n    }\n</style>\n<table border=\"1\" class=\"dataframe\">\n  <thead>\n    <tr style=\"text-align: right;\">\n      <th></th>\n      <th>sku</th>\n      <th>date</th>\n      <th>stock</th>\n    </tr>\n  </thead>\n  <tbody>\n    <tr>\n      <th>59974</th>\n      <td>100060075000001</td>\n      <td>2021-08-20</td>\n      <td>257.0</td>\n    </tr>\n    <tr>\n      <th>59975</th>\n      <td>100060075000001</td>\n      <td>2021-08-21</td>\n      <td>257.0</td>\n    </tr>\n    <tr>\n      <th>59976</th>\n      <td>100060075000001</td>\n      <td>2021-08-22</td>\n      <td>257.0</td>\n    </tr>\n    <tr>\n      <th>59977</th>\n      <td>100060075000001</td>\n      <td>2021-08-23</td>\n      <td>257.0</td>\n    </tr>\n    <tr>\n      <th>59978</th>\n      <td>100060075000001</td>\n      <td>2021-08-24</td>\n      <td>257.0</td>\n    </tr>\n    <tr>\n      <th>...</th>\n      <td>...</td>\n      <td>...</td>\n      <td>...</td>\n    </tr>\n    <tr>\n      <th>67753</th>\n      <td>100060075000001</td>\n      <td>2023-12-08</td>\n      <td>0.0</td>\n    </tr>\n    <tr>\n      <th>67754</th>\n      <td>100060075000001</td>\n      <td>2023-12-09</td>\n      <td>0.0</td>\n    </tr>\n    <tr>\n      <th>67755</th>\n      <td>100060075000001</td>\n      <td>2023-12-10</td>\n      <td>0.0</td>\n    </tr>\n    <tr>\n      <th>67756</th>\n      <td>100060075000001</td>\n      <td>2023-12-11</td>\n      <td>0.0</td>\n    </tr>\n    <tr>\n      <th>67757</th>\n      <td>100060075000001</td>\n      <td>2023-12-12</td>\n      <td>0.0</td>\n    </tr>\n  </tbody>\n</table>\n<p>845 rows × 3 columns</p>\n</div>"
     },
     "execution_count": 17,
     "metadata": {},
     "output_type": "execute_result"
    }
   ],
   "source": [
    "folder_of_stock_sales = r'/Users/guybasson/Desktop/sdatta-nlp/palmers_fashion/reinforcment_codes/datasets_4'\n",
    "# read parquat df and concat  with os\n",
    "df_stock_sales = pd.DataFrame()\n",
    "for file in os.listdir(folder_of_stock_sales):\n",
    "    df_stock_sales = pd.concat([df_stock_sales, pd.read_parquet(os.path.join(folder_of_stock_sales, file))])"
   ],
   "metadata": {
    "collapsed": false
   }
  },
  {
   "cell_type": "code",
   "execution_count": 16,
   "outputs": [
    {
     "data": {
      "text/plain": "                   sku store       date  average_price  \\\n44011  100060075000001   100 2021-08-21            NaN   \n44012  100060075000001   100 2021-08-22            NaN   \n44013  100060075000001   100 2021-08-23            NaN   \n44014  100060075000001   100 2021-08-24            NaN   \n44015  100060075000001   100 2021-08-25            NaN   \n...                ...   ...        ...            ...   \n62358  100060075000001   100 2023-12-08            NaN   \n62359  100060075000001   100 2023-12-09            NaN   \n62360  100060075000001   100 2023-12-10            NaN   \n62361  100060075000001   100 2023-12-11            NaN   \n62362  100060075000001   100 2023-12-12            NaN   \n\n       average_dicounted_price  sales  item  stock  \n44011                      NaN    0.0  None    0.0  \n44012                      NaN    0.0  None    0.0  \n44013                      NaN    0.0  None    0.0  \n44014                      NaN    0.0  None    0.0  \n44015                      NaN    0.0  None    0.0  \n...                        ...    ...   ...    ...  \n62358                      NaN    0.0  None    0.0  \n62359                      NaN    0.0  None    0.0  \n62360                      NaN    0.0  None    0.0  \n62361                      NaN    0.0  None    0.0  \n62362                      NaN    0.0  None    0.0  \n\n[844 rows x 8 columns]",
      "text/html": "<div>\n<style scoped>\n    .dataframe tbody tr th:only-of-type {\n        vertical-align: middle;\n    }\n\n    .dataframe tbody tr th {\n        vertical-align: top;\n    }\n\n    .dataframe thead th {\n        text-align: right;\n    }\n</style>\n<table border=\"1\" class=\"dataframe\">\n  <thead>\n    <tr style=\"text-align: right;\">\n      <th></th>\n      <th>sku</th>\n      <th>store</th>\n      <th>date</th>\n      <th>average_price</th>\n      <th>average_dicounted_price</th>\n      <th>sales</th>\n      <th>item</th>\n      <th>stock</th>\n    </tr>\n  </thead>\n  <tbody>\n    <tr>\n      <th>44011</th>\n      <td>100060075000001</td>\n      <td>100</td>\n      <td>2021-08-21</td>\n      <td>NaN</td>\n      <td>NaN</td>\n      <td>0.0</td>\n      <td>None</td>\n      <td>0.0</td>\n    </tr>\n    <tr>\n      <th>44012</th>\n      <td>100060075000001</td>\n      <td>100</td>\n      <td>2021-08-22</td>\n      <td>NaN</td>\n      <td>NaN</td>\n      <td>0.0</td>\n      <td>None</td>\n      <td>0.0</td>\n    </tr>\n    <tr>\n      <th>44013</th>\n      <td>100060075000001</td>\n      <td>100</td>\n      <td>2021-08-23</td>\n      <td>NaN</td>\n      <td>NaN</td>\n      <td>0.0</td>\n      <td>None</td>\n      <td>0.0</td>\n    </tr>\n    <tr>\n      <th>44014</th>\n      <td>100060075000001</td>\n      <td>100</td>\n      <td>2021-08-24</td>\n      <td>NaN</td>\n      <td>NaN</td>\n      <td>0.0</td>\n      <td>None</td>\n      <td>0.0</td>\n    </tr>\n    <tr>\n      <th>44015</th>\n      <td>100060075000001</td>\n      <td>100</td>\n      <td>2021-08-25</td>\n      <td>NaN</td>\n      <td>NaN</td>\n      <td>0.0</td>\n      <td>None</td>\n      <td>0.0</td>\n    </tr>\n    <tr>\n      <th>...</th>\n      <td>...</td>\n      <td>...</td>\n      <td>...</td>\n      <td>...</td>\n      <td>...</td>\n      <td>...</td>\n      <td>...</td>\n      <td>...</td>\n    </tr>\n    <tr>\n      <th>62358</th>\n      <td>100060075000001</td>\n      <td>100</td>\n      <td>2023-12-08</td>\n      <td>NaN</td>\n      <td>NaN</td>\n      <td>0.0</td>\n      <td>None</td>\n      <td>0.0</td>\n    </tr>\n    <tr>\n      <th>62359</th>\n      <td>100060075000001</td>\n      <td>100</td>\n      <td>2023-12-09</td>\n      <td>NaN</td>\n      <td>NaN</td>\n      <td>0.0</td>\n      <td>None</td>\n      <td>0.0</td>\n    </tr>\n    <tr>\n      <th>62360</th>\n      <td>100060075000001</td>\n      <td>100</td>\n      <td>2023-12-10</td>\n      <td>NaN</td>\n      <td>NaN</td>\n      <td>0.0</td>\n      <td>None</td>\n      <td>0.0</td>\n    </tr>\n    <tr>\n      <th>62361</th>\n      <td>100060075000001</td>\n      <td>100</td>\n      <td>2023-12-11</td>\n      <td>NaN</td>\n      <td>NaN</td>\n      <td>0.0</td>\n      <td>None</td>\n      <td>0.0</td>\n    </tr>\n    <tr>\n      <th>62362</th>\n      <td>100060075000001</td>\n      <td>100</td>\n      <td>2023-12-12</td>\n      <td>NaN</td>\n      <td>NaN</td>\n      <td>0.0</td>\n      <td>None</td>\n      <td>0.0</td>\n    </tr>\n  </tbody>\n</table>\n<p>844 rows × 8 columns</p>\n</div>"
     },
     "execution_count": 16,
     "metadata": {},
     "output_type": "execute_result"
    }
   ],
   "source": [
    "miss_sales = pd.read_csv('/Users/guybasson/Desktop/sdatta-nlp/palmers_fashion/reinforcment_codes/datasets_with_check_exp/MissedSales.csv')"
   ],
   "metadata": {
    "collapsed": false
   }
  },
  {
   "cell_type": "code",
   "execution_count": null,
   "outputs": [],
   "source": [
    "miss_sales['date'] = pd.to_datetime(miss_sales['date'])"
   ],
   "metadata": {
    "collapsed": false
   }
  },
  {
   "cell_type": "code",
   "execution_count": null,
   "outputs": [],
   "source": [
    "miss_sales"
   ],
   "metadata": {
    "collapsed": false
   }
  },
  {
   "cell_type": "code",
   "execution_count": null,
   "outputs": [],
   "source": [],
   "metadata": {
    "collapsed": false
   }
  },
  {
   "cell_type": "code",
   "execution_count": null,
   "outputs": [],
   "source": [
    "# take in amount_miss_sales_dict sum of amount_miss_sales_dict[sku, *]\n"
   ],
   "metadata": {
    "collapsed": false
   }
  },
  {
   "cell_type": "code",
   "execution_count": null,
   "outputs": [],
   "source": [
    "df_stock_sales['date'] = pd.to_datetime(df_stock_sales['date'])"
   ],
   "metadata": {
    "collapsed": false
   }
  },
  {
   "cell_type": "code",
   "execution_count": null,
   "outputs": [],
   "source": [
    "stocks = pd.read_csv('/Users/guybasson/Desktop/sdatta-nlp/palmers_fashion/reinforcment_codes/datasets_with_check_exp/stocks.csv')\n",
    "stocks['date'] = pd.to_datetime(stocks['date'])"
   ],
   "metadata": {
    "collapsed": false
   }
  },
  {
   "cell_type": "code",
   "execution_count": null,
   "outputs": [],
   "source": [
    "print(stocks['sku'].unique())"
   ],
   "metadata": {
    "collapsed": false
   }
  },
  {
   "cell_type": "code",
   "execution_count": null,
   "outputs": [],
   "source": [
    "stocks"
   ],
   "metadata": {
    "collapsed": false
   }
  },
  {
   "cell_type": "code",
   "execution_count": null,
   "outputs": [],
   "source": [
    "df_warehouse"
   ],
   "metadata": {
    "collapsed": false
   }
  },
  {
   "cell_type": "code",
   "execution_count": null,
   "outputs": [],
   "source": [
    "df_warehouse[df_warehouse['stock'] > 0].groupby('sku')['date'].min()[int(sku)]"
   ],
   "metadata": {
    "collapsed": false
   }
  },
  {
   "cell_type": "code",
   "execution_count": null,
   "outputs": [],
   "source": [
    "print(df_stock_sales['sku'].unique())"
   ],
   "metadata": {
    "collapsed": false
   }
  },
  {
   "cell_type": "code",
   "execution_count": null,
   "outputs": [],
   "source": [
    "df_stock_sales['sku'] = df_stock_sales['sku'].astype(str)"
   ],
   "metadata": {
    "collapsed": false
   }
  },
  {
   "cell_type": "code",
   "execution_count": null,
   "outputs": [],
   "source": [
    "sku_stocks[(sku_stocks['stock']>0) & (sku_stocks['store'] == store)]"
   ],
   "metadata": {
    "collapsed": false
   }
  },
  {
   "cell_type": "code",
   "execution_count": null,
   "outputs": [],
   "source": [
    "for sku in ['100654238000002']:\n",
    "    print(sku)\n",
    "    min_date = df_warehouse[df_warehouse['stock'] > 0].groupby('sku')['date'].min()[int(sku)]\n",
    "    sku_data = df_stock_sales[(df_stock_sales['sku'] == sku) ]\n",
    "    sku_stocks = stocks[(stocks['sku'] == int(sku)) ]\n",
    "    amount_miss_sales_dict = miss_sales[miss_sales['sku'] == int(sku)].groupby('store')['amount_miss_sales'].max().to_dict()\n",
    "    for store in sku_data['store'].unique():\n",
    "\n",
    "        if store == store:\n",
    "            max_date = sku_data[(sku_data['sales']>0) & (sku_data['store'] == store)]['date'].iloc[-1]\n",
    "            min_date = sku_data[(sku_data['sales']>0) & (sku_data['store'] == store)]['date'].iloc[0]\n",
    "            stocks_store = sku_stocks[(sku_stocks['store'] == store) &  (sku_stocks['date'] >= min_date) & (sku_stocks['date'] <= max_date)].set_index('date')['stock']\n",
    "            palmers_stock_store = sku_data[(sku_data['store'] == store) &  (sku_data['date'] >= min_date) & (sku_data['date'] <= max_date)].set_index('date')['stock']\n",
    "            sales_store = sku_data[(sku_data['store'] == store) &  (sku_data['date'] >= min_date) & (sku_data['date'] <= max_date)].set_index('date')['sales']\n",
    "            sum_of_our_stock = stocks_store.sum()\n",
    "            sum_of_palmers_stock = palmers_stock_store.sum()\n",
    "            our_saving_prec = np.round((sum_of_palmers_stock - sum_of_our_stock) * 100 / sum_of_palmers_stock, 2)\n",
    "            palmers_stock_store_zero = palmers_stock_store[palmers_stock_store == 0]\n",
    "            palmers_stock_store_zero = palmers_stock_store_zero.replace(0, max(palmers_stock_store))\n",
    "            plt.figure(figsize=(20, 4))\n",
    "            plt.plot(stocks_store, label='our stock')\n",
    "            plt.plot(palmers_stock_store, label='palmers stock')\n",
    "            plt.plot(sales_store, label='sales')\n",
    "            plt.title(f'sku: {sku}, store: {store}\\n'\n",
    "                      f'sum_of_our_stock: {sum_of_our_stock}, sum_of_palmers_stock: {sum_of_palmers_stock}  our_saving_prec_in_stock: {our_saving_prec}%\\n'\n",
    "                      f'our miss sales: {amount_miss_sales_dict[int(store)]}, prec_of_time_of_palmers_stock_zero: {np.round(len(palmers_stock_store_zero) *100/len(palmers_stock_store), 2)}%')\n",
    "\n",
    "\n",
    "\n",
    "            miss_sales[miss_sales['sku'] == int(sku)]\n",
    "            miss_sales_store = amount_miss_sales_dict[int(store)]\n",
    "            # plot y = miss_sales_store with dots on the graph with index of stocks_store\n",
    "            plt.plot(pd.DataFrame([miss_sales_store]*len(stocks_store), index=stocks_store.index), linestyle='--', label='missed sales')\n",
    "            # zero stock in palmers\n",
    "\n",
    "            plt.scatter(palmers_stock_store_zero.index, palmers_stock_store_zero, label='palmers zero stock', color='red', marker='x', linestyle='')\n",
    "            plt.legend()\n",
    "\n",
    "            plt.show()"
   ],
   "metadata": {
    "collapsed": false
   }
  },
  {
   "cell_type": "code",
   "execution_count": null,
   "outputs": [],
   "source": [
    "sku"
   ],
   "metadata": {
    "collapsed": false
   }
  },
  {
   "cell_type": "code",
   "execution_count": null,
   "outputs": [],
   "source": [
    "stocks[stocks['sku'] == int(sku) ]"
   ],
   "metadata": {
    "collapsed": false
   }
  },
  {
   "cell_type": "code",
   "execution_count": null,
   "outputs": [],
   "source": [
    "stocks['sku'].unique()"
   ],
   "metadata": {
    "collapsed": false
   }
  },
  {
   "cell_type": "code",
   "execution_count": null,
   "outputs": [],
   "source": [
    "stocks['sku']"
   ],
   "metadata": {
    "collapsed": false
   }
  },
  {
   "cell_type": "code",
   "execution_count": null,
   "outputs": [],
   "source": [
    "sku_stocks"
   ],
   "metadata": {
    "collapsed": false
   }
  },
  {
   "cell_type": "code",
   "execution_count": null,
   "outputs": [],
   "source": [
    "sku_data[(sku_data['sales']>0) & (sku_stocks['store'] == store)]"
   ],
   "metadata": {
    "collapsed": false
   }
  },
  {
   "cell_type": "code",
   "execution_count": null,
   "outputs": [],
   "source": [
    "sku_data[sku_data['sales']>0]['date'].iloc[-1]"
   ],
   "metadata": {
    "collapsed": false
   }
  },
  {
   "cell_type": "code",
   "execution_count": null,
   "outputs": [],
   "source": [],
   "metadata": {
    "collapsed": false
   }
  },
  {
   "cell_type": "code",
   "execution_count": null,
   "outputs": [],
   "source": [
    "max_date = sku_data[sku_data['sales']>0]['date'].max()"
   ],
   "metadata": {
    "collapsed": false
   }
  },
  {
   "cell_type": "code",
   "execution_count": null,
   "outputs": [],
   "source": [
    "max_date"
   ],
   "metadata": {
    "collapsed": false
   }
  },
  {
   "cell_type": "code",
   "execution_count": null,
   "outputs": [],
   "source": [
    "miss_sales[miss_sales['sku'] == int(sku)].groupby('store')['amount_miss_sales'].max().sum()\n"
   ],
   "metadata": {
    "collapsed": false
   }
  },
  {
   "cell_type": "code",
   "execution_count": null,
   "outputs": [],
   "source": [
    "miss_sales['sku'].unique()"
   ],
   "metadata": {
    "collapsed": false
   }
  },
  {
   "cell_type": "code",
   "execution_count": null,
   "outputs": [],
   "source": [],
   "metadata": {
    "collapsed": false
   }
  }
 ],
 "metadata": {
  "kernelspec": {
   "display_name": "Python 3",
   "language": "python",
   "name": "python3"
  },
  "language_info": {
   "codemirror_mode": {
    "name": "ipython",
    "version": 2
   },
   "file_extension": ".py",
   "mimetype": "text/x-python",
   "name": "python",
   "nbconvert_exporter": "python",
   "pygments_lexer": "ipython2",
   "version": "2.7.6"
  }
 },
 "nbformat": 4,
 "nbformat_minor": 0
}

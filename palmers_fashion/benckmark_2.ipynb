{
 "cells": [
  {
   "cell_type": "code",
   "execution_count": 1,
   "metadata": {
    "collapsed": true
   },
   "outputs": [],
   "source": [
    "import numpy as np\n",
    "import pandas as pd\n",
    "import matplotlib.pyplot as plt"
   ]
  },
  {
   "cell_type": "code",
   "execution_count": 2,
   "outputs": [],
   "source": [
    "store_100_path = r\"df_all_store_100.parquet\"\n",
    "store_42_path = r\"df_all_store_42.parquet\"\n",
    "store_4906_path = r\"df_all_store_4906.parquet\""
   ],
   "metadata": {
    "collapsed": false
   }
  },
  {
   "cell_type": "code",
   "execution_count": 3,
   "outputs": [],
   "source": [
    "df_100 = pd.read_parquet(store_100_path)\n",
    "df_42 = pd.read_parquet(store_42_path)\n",
    "df_4906 = pd.read_parquet(store_4906_path)\n",
    "df_all = pd.concat([df_100, df_42, df_4906])"
   ],
   "metadata": {
    "collapsed": false
   }
  },
  {
   "cell_type": "code",
   "execution_count": 4,
   "outputs": [],
   "source": [
    "del df_100, df_42, df_4906"
   ],
   "metadata": {
    "collapsed": false
   }
  },
  {
   "cell_type": "code",
   "execution_count": 5,
   "outputs": [],
   "source": [
    "df_all['date'] = pd.to_datetime(df_all['date'])"
   ],
   "metadata": {
    "collapsed": false
   }
  },
  {
   "cell_type": "code",
   "execution_count": 6,
   "outputs": [],
   "source": [
    "warehouse_path = r\"df_all_store_VZ01.parquet\"\n",
    "df_warehouse = pd.read_parquet(warehouse_path)"
   ],
   "metadata": {
    "collapsed": false
   }
  },
  {
   "cell_type": "code",
   "execution_count": 7,
   "outputs": [],
   "source": [
    "df_warehouse = df_warehouse.rename(columns={\"stock\": \"warehouse_stock\"})\n",
    "df_warehouse['date'] = pd.to_datetime(df_warehouse['date'])"
   ],
   "metadata": {
    "collapsed": false
   }
  },
  {
   "cell_type": "code",
   "execution_count": 8,
   "outputs": [],
   "source": [
    "df_warehouse['sku'] = df_warehouse['sku'].astype(str)\n"
   ],
   "metadata": {
    "collapsed": false
   }
  },
  {
   "cell_type": "code",
   "execution_count": 9,
   "outputs": [],
   "source": [
    "df_warehouse = df_warehouse[df_warehouse['date'] > '2018-01-01']"
   ],
   "metadata": {
    "collapsed": false
   }
  },
  {
   "cell_type": "code",
   "execution_count": 10,
   "outputs": [],
   "source": [
    "df_all = df_all.merge(df_warehouse[[\"sku\",\"date\",\"warehouse_stock\"]], on = [\"sku\",\"date\"], how = \"left\")\n"
   ],
   "metadata": {
    "collapsed": false
   }
  },
  {
   "cell_type": "code",
   "execution_count": 11,
   "outputs": [],
   "source": [
    "df_all = df_all[df_all['date'] > '2018-01-01']"
   ],
   "metadata": {
    "collapsed": false
   }
  },
  {
   "cell_type": "code",
   "execution_count": 12,
   "outputs": [],
   "source": [
    "df_all = df_all.sort_values('date')"
   ],
   "metadata": {
    "collapsed": false
   }
  },
  {
   "cell_type": "code",
   "execution_count": 13,
   "outputs": [],
   "source": [
    "df_all = df_all.merge(df_all[df_all['stock'] > 0].groupby(['sku', 'store']).agg({'stock': 'first'}).reset_index().rename(columns={'stock':'palmers_first_allocation'}), on = ['sku', 'store'], how = 'left')"
   ],
   "metadata": {
    "collapsed": false
   }
  },
  {
   "cell_type": "code",
   "execution_count": 14,
   "outputs": [],
   "source": [
    "sku_store_df_step_g = df_all.groupby(['sku', 'store'])"
   ],
   "metadata": {
    "collapsed": false
   }
  },
  {
   "cell_type": "code",
   "execution_count": 46,
   "outputs": [
    {
     "name": "stderr",
     "output_type": "stream",
     "text": [
      "/var/folders/sv/p02my_xx7t193mwjyb2ytt040000gn/T/ipykernel_32840/1219730119.py:8: SettingWithCopyWarning: \n",
      "A value is trying to be set on a copy of a slice from a DataFrame.\n",
      "Try using .loc[row_indexer,col_indexer] = value instead\n",
      "\n",
      "See the caveats in the documentation: https://pandas.pydata.org/pandas-docs/stable/user_guide/indexing.html#returning-a-view-versus-a-copy\n",
      "  sku_store_df_step['days_from_first_stock'] = 1\n",
      "/var/folders/sv/p02my_xx7t193mwjyb2ytt040000gn/T/ipykernel_32840/1219730119.py:10: SettingWithCopyWarning: \n",
      "A value is trying to be set on a copy of a slice from a DataFrame.\n",
      "Try using .loc[row_indexer,col_indexer] = value instead\n",
      "\n",
      "See the caveats in the documentation: https://pandas.pydata.org/pandas-docs/stable/user_guide/indexing.html#returning-a-view-versus-a-copy\n",
      "  sku_store_df_step['days_from_first_stock'] = sku_store_df_step['days_from_first_stock'].cumsum()\n",
      "/var/folders/sv/p02my_xx7t193mwjyb2ytt040000gn/T/ipykernel_32840/1219730119.py:11: SettingWithCopyWarning: \n",
      "A value is trying to be set on a copy of a slice from a DataFrame.\n",
      "Try using .loc[row_indexer,col_indexer] = value instead\n",
      "\n",
      "See the caveats in the documentation: https://pandas.pydata.org/pandas-docs/stable/user_guide/indexing.html#returning-a-view-versus-a-copy\n",
      "  sku_store_df_step['sales_cumsum'] = sku_store_df_step['sales'].cumsum()\n",
      "/var/folders/sv/p02my_xx7t193mwjyb2ytt040000gn/T/ipykernel_32840/1219730119.py:12: SettingWithCopyWarning: \n",
      "A value is trying to be set on a copy of a slice from a DataFrame.\n",
      "Try using .loc[row_indexer,col_indexer] = value instead\n",
      "\n",
      "See the caveats in the documentation: https://pandas.pydata.org/pandas-docs/stable/user_guide/indexing.html#returning-a-view-versus-a-copy\n",
      "  sku_store_df_step['dynamic_stock_with_palmers_init'] = sku_store_df_step['palmers_first_allocation'] - sku_store_df_step['sales_cumsum']\n",
      "/var/folders/sv/p02my_xx7t193mwjyb2ytt040000gn/T/ipykernel_32840/1219730119.py:13: SettingWithCopyWarning: \n",
      "A value is trying to be set on a copy of a slice from a DataFrame.\n",
      "Try using .loc[row_indexer,col_indexer] = value instead\n",
      "\n",
      "See the caveats in the documentation: https://pandas.pydata.org/pandas-docs/stable/user_guide/indexing.html#returning-a-view-versus-a-copy\n",
      "  sku_store_df_step['sales_cumsum_divide_days_from_first_stock'] =  sku_store_df_step['sales_cumsum'] / sku_store_df_step['days_from_first_stock']\n",
      "/var/folders/sv/p02my_xx7t193mwjyb2ytt040000gn/T/ipykernel_32840/1219730119.py:15: SettingWithCopyWarning: \n",
      "A value is trying to be set on a copy of a slice from a DataFrame.\n",
      "Try using .loc[row_indexer,col_indexer] = value instead\n",
      "\n",
      "See the caveats in the documentation: https://pandas.pydata.org/pandas-docs/stable/user_guide/indexing.html#returning-a-view-versus-a-copy\n",
      "  sku_store_df_step['days_from_last_sales_that_not_zero'] = 1\n",
      "/var/folders/sv/p02my_xx7t193mwjyb2ytt040000gn/T/ipykernel_32840/1219730119.py:27: SettingWithCopyWarning: \n",
      "A value is trying to be set on a copy of a slice from a DataFrame.\n",
      "Try using .loc[row_indexer,col_indexer] = value instead\n",
      "\n",
      "See the caveats in the documentation: https://pandas.pydata.org/pandas-docs/stable/user_guide/indexing.html#returning-a-view-versus-a-copy\n",
      "  sku_store_df_step['rate_sales'] = sku_store_df_step['sales'] / sku_store_df_step['days_from_last_sales_that_not_zero']\n",
      "/var/folders/sv/p02my_xx7t193mwjyb2ytt040000gn/T/ipykernel_32840/1219730119.py:8: SettingWithCopyWarning: \n",
      "A value is trying to be set on a copy of a slice from a DataFrame.\n",
      "Try using .loc[row_indexer,col_indexer] = value instead\n",
      "\n",
      "See the caveats in the documentation: https://pandas.pydata.org/pandas-docs/stable/user_guide/indexing.html#returning-a-view-versus-a-copy\n",
      "  sku_store_df_step['days_from_first_stock'] = 1\n",
      "/var/folders/sv/p02my_xx7t193mwjyb2ytt040000gn/T/ipykernel_32840/1219730119.py:10: SettingWithCopyWarning: \n",
      "A value is trying to be set on a copy of a slice from a DataFrame.\n",
      "Try using .loc[row_indexer,col_indexer] = value instead\n",
      "\n",
      "See the caveats in the documentation: https://pandas.pydata.org/pandas-docs/stable/user_guide/indexing.html#returning-a-view-versus-a-copy\n",
      "  sku_store_df_step['days_from_first_stock'] = sku_store_df_step['days_from_first_stock'].cumsum()\n",
      "/var/folders/sv/p02my_xx7t193mwjyb2ytt040000gn/T/ipykernel_32840/1219730119.py:11: SettingWithCopyWarning: \n",
      "A value is trying to be set on a copy of a slice from a DataFrame.\n",
      "Try using .loc[row_indexer,col_indexer] = value instead\n",
      "\n",
      "See the caveats in the documentation: https://pandas.pydata.org/pandas-docs/stable/user_guide/indexing.html#returning-a-view-versus-a-copy\n",
      "  sku_store_df_step['sales_cumsum'] = sku_store_df_step['sales'].cumsum()\n",
      "/var/folders/sv/p02my_xx7t193mwjyb2ytt040000gn/T/ipykernel_32840/1219730119.py:12: SettingWithCopyWarning: \n",
      "A value is trying to be set on a copy of a slice from a DataFrame.\n",
      "Try using .loc[row_indexer,col_indexer] = value instead\n",
      "\n",
      "See the caveats in the documentation: https://pandas.pydata.org/pandas-docs/stable/user_guide/indexing.html#returning-a-view-versus-a-copy\n",
      "  sku_store_df_step['dynamic_stock_with_palmers_init'] = sku_store_df_step['palmers_first_allocation'] - sku_store_df_step['sales_cumsum']\n",
      "/var/folders/sv/p02my_xx7t193mwjyb2ytt040000gn/T/ipykernel_32840/1219730119.py:13: SettingWithCopyWarning: \n",
      "A value is trying to be set on a copy of a slice from a DataFrame.\n",
      "Try using .loc[row_indexer,col_indexer] = value instead\n",
      "\n",
      "See the caveats in the documentation: https://pandas.pydata.org/pandas-docs/stable/user_guide/indexing.html#returning-a-view-versus-a-copy\n",
      "  sku_store_df_step['sales_cumsum_divide_days_from_first_stock'] =  sku_store_df_step['sales_cumsum'] / sku_store_df_step['days_from_first_stock']\n",
      "/var/folders/sv/p02my_xx7t193mwjyb2ytt040000gn/T/ipykernel_32840/1219730119.py:15: SettingWithCopyWarning: \n",
      "A value is trying to be set on a copy of a slice from a DataFrame.\n",
      "Try using .loc[row_indexer,col_indexer] = value instead\n",
      "\n",
      "See the caveats in the documentation: https://pandas.pydata.org/pandas-docs/stable/user_guide/indexing.html#returning-a-view-versus-a-copy\n",
      "  sku_store_df_step['days_from_last_sales_that_not_zero'] = 1\n",
      "/var/folders/sv/p02my_xx7t193mwjyb2ytt040000gn/T/ipykernel_32840/1219730119.py:27: SettingWithCopyWarning: \n",
      "A value is trying to be set on a copy of a slice from a DataFrame.\n",
      "Try using .loc[row_indexer,col_indexer] = value instead\n",
      "\n",
      "See the caveats in the documentation: https://pandas.pydata.org/pandas-docs/stable/user_guide/indexing.html#returning-a-view-versus-a-copy\n",
      "  sku_store_df_step['rate_sales'] = sku_store_df_step['sales'] / sku_store_df_step['days_from_last_sales_that_not_zero']\n"
     ]
    }
   ],
   "source": [
    "i = 0\n",
    "for store in ['42', '100']:\n",
    "    for sku in ['100009161000001']:\n",
    "        sku_store_df_step = sku_store_df_step_g.get_group((sku, store))\n",
    "        first_stock = sku_store_df_step[sku_store_df_step[\"stock\"]>0][\"stock\"].iloc[0]\n",
    "        # nan in our_stock if before first stock\n",
    "        sku_store_df_step.loc[sku_store_df_step[\"date\"]<sku_store_df_step[sku_store_df_step[\"stock\"]>0][\"date\"].iloc[0], \"palmers_first_allocation\"] = np.nan\n",
    "        sku_store_df_step['days_from_first_stock'] = 1\n",
    "        sku_store_df_step.loc[sku_store_df_step[\"date\"]<sku_store_df_step[sku_store_df_step[\"stock\"]>0][\"date\"].iloc[0], \"days_from_first_stock\"] = np.nan\n",
    "        sku_store_df_step['days_from_first_stock'] = sku_store_df_step['days_from_first_stock'].cumsum()\n",
    "        sku_store_df_step['sales_cumsum'] = sku_store_df_step['sales'].cumsum()\n",
    "        sku_store_df_step['dynamic_stock_with_palmers_init'] = sku_store_df_step['palmers_first_allocation'] - sku_store_df_step['sales_cumsum']\n",
    "        sku_store_df_step['sales_cumsum_divide_days_from_first_stock'] =  sku_store_df_step['sales_cumsum'] / sku_store_df_step['days_from_first_stock']\n",
    "        zero_sales_days_back = 1\n",
    "        sku_store_df_step['days_from_last_sales_that_not_zero'] = 1\n",
    "\n",
    "        for index, row in sku_store_df_step.shift(1).iterrows():\n",
    "            # if index is sku_store_df_step[sku_store_df_step[\"stock\"]>0][\"stock\"] index\n",
    "            if index > sku_store_df_step[sku_store_df_step[\"stock\"]>0].index[0]:\n",
    "                if row['sales'] == 0:\n",
    "                    zero_sales_days_back += 1\n",
    "                else:\n",
    "                    zero_sales_days_back = 1\n",
    "\n",
    "                sku_store_df_step.at[index, 'days_from_last_sales_that_not_zero'] = zero_sales_days_back\n",
    "        sku_store_df_step.loc[sku_store_df_step[\"date\"]<sku_store_df_step[sku_store_df_step[\"stock\"]>0][\"date\"].iloc[0], \"days_from_last_sales_that_not_zero\"] = np.nan\n",
    "        sku_store_df_step['rate_sales'] = sku_store_df_step['sales'] / sku_store_df_step['days_from_last_sales_that_not_zero']"
   ],
   "metadata": {
    "collapsed": false
   }
  },
  {
   "cell_type": "code",
   "execution_count": 47,
   "outputs": [
    {
     "name": "stdout",
     "output_type": "stream",
     "text": [
      "                     sku store       date  average_price  \\\n",
      "2014680  100009161000001   100 2018-09-12            NaN   \n",
      "2024532  100009161000001   100 2018-09-13            NaN   \n",
      "2043874  100009161000001   100 2018-09-14            NaN   \n",
      "2050162  100009161000001   100 2018-09-15            NaN   \n",
      "2064786  100009161000001   100 2018-09-16            NaN   \n",
      "2075427  100009161000001   100 2018-09-17            NaN   \n",
      "2088404  100009161000001   100 2018-09-18            NaN   \n",
      "2092978  100009161000001   100 2018-09-19            NaN   \n",
      "2104613  100009161000001   100 2018-09-20            NaN   \n",
      "2124014  100009161000001   100 2018-09-21            NaN   \n",
      "2129414  100009161000001   100 2018-09-22            NaN   \n",
      "2144075  100009161000001   100 2018-09-23            NaN   \n",
      "2158493  100009161000001   100 2018-09-24            NaN   \n",
      "2166636  100009161000001   100 2018-09-25            NaN   \n",
      "2173706  100009161000001   100 2018-09-26            NaN   \n",
      "2187204  100009161000001   100 2018-09-27          59.99   \n",
      "2203902  100009161000001   100 2018-09-28            NaN   \n",
      "2215120  100009161000001   100 2018-09-29          59.99   \n",
      "2223288  100009161000001   100 2018-09-30            NaN   \n",
      "2230173  100009161000001   100 2018-10-01            NaN   \n",
      "2243807  100009161000001   100 2018-10-02            NaN   \n",
      "2261011  100009161000001   100 2018-10-03          59.99   \n",
      "2269747  100009161000001   100 2018-10-04          59.99   \n",
      "2286353  100009161000001   100 2018-10-05            NaN   \n",
      "2291985  100009161000001   100 2018-10-06            NaN   \n",
      "2308256  100009161000001   100 2018-10-07            NaN   \n",
      "2312332  100009161000001   100 2018-10-08            NaN   \n",
      "2323021  100009161000001   100 2018-10-09            NaN   \n",
      "2340549  100009161000001   100 2018-10-10            NaN   \n",
      "2354623  100009161000001   100 2018-10-11            NaN   \n",
      "\n",
      "         average_dicounted_price  sales          item            sku_store  \\\n",
      "2014680                      NaN    0.0  100009161000  100009161000001,100   \n",
      "2024532                      NaN    0.0  100009161000  100009161000001,100   \n",
      "2043874                      NaN    0.0  100009161000  100009161000001,100   \n",
      "2050162                      NaN    0.0  100009161000  100009161000001,100   \n",
      "2064786                      NaN    0.0  100009161000  100009161000001,100   \n",
      "2075427                      NaN    0.0  100009161000  100009161000001,100   \n",
      "2088404                      NaN    0.0  100009161000  100009161000001,100   \n",
      "2092978                      NaN    0.0  100009161000  100009161000001,100   \n",
      "2104613                      NaN    0.0  100009161000  100009161000001,100   \n",
      "2124014                      NaN    0.0  100009161000  100009161000001,100   \n",
      "2129414                      NaN    0.0  100009161000  100009161000001,100   \n",
      "2144075                      NaN    0.0  100009161000  100009161000001,100   \n",
      "2158493                      NaN    0.0  100009161000  100009161000001,100   \n",
      "2166636                      NaN    0.0  100009161000  100009161000001,100   \n",
      "2173706                      NaN    0.0  100009161000  100009161000001,100   \n",
      "2187204                    39.99    1.0  100009161000  100009161000001,100   \n",
      "2203902                      NaN    0.0  100009161000  100009161000001,100   \n",
      "2215120                    56.99    1.0  100009161000  100009161000001,100   \n",
      "2223288                      NaN    0.0  100009161000  100009161000001,100   \n",
      "2230173                      NaN    0.0  100009161000  100009161000001,100   \n",
      "2243807                      NaN    0.0  100009161000  100009161000001,100   \n",
      "2261011                    47.99    1.0  100009161000  100009161000001,100   \n",
      "2269747                    47.99    1.0  100009161000  100009161000001,100   \n",
      "2286353                      NaN    0.0  100009161000  100009161000001,100   \n",
      "2291985                      NaN    0.0  100009161000  100009161000001,100   \n",
      "2308256                      NaN    0.0  100009161000  100009161000001,100   \n",
      "2312332                      NaN    0.0  100009161000  100009161000001,100   \n",
      "2323021                      NaN    0.0  100009161000  100009161000001,100   \n",
      "2340549                      NaN    0.0  100009161000  100009161000001,100   \n",
      "2354623                      NaN    0.0  100009161000  100009161000001,100   \n",
      "\n",
      "         stock  warehouse_stock  palmers_first_allocation  \\\n",
      "2014680    0.0            335.0                       NaN   \n",
      "2024532    0.0            335.0                       NaN   \n",
      "2043874    0.0            335.0                       NaN   \n",
      "2050162    6.0            169.0                       6.0   \n",
      "2064786    6.0            169.0                       6.0   \n",
      "2075427    6.0            169.0                       6.0   \n",
      "2088404    6.0            151.0                       6.0   \n",
      "2092978    6.0            149.0                       6.0   \n",
      "2104613    6.0            130.0                       6.0   \n",
      "2124014    6.0            128.0                       6.0   \n",
      "2129414    6.0            125.0                       6.0   \n",
      "2144075    6.0            125.0                       6.0   \n",
      "2158493    6.0            125.0                       6.0   \n",
      "2166636    6.0            120.0                       6.0   \n",
      "2173706    6.0            119.0                       6.0   \n",
      "2187204    6.0            116.0                       6.0   \n",
      "2203902    5.0            113.0                       6.0   \n",
      "2215120    6.0            107.0                       6.0   \n",
      "2223288    5.0            107.0                       6.0   \n",
      "2230173    5.0            107.0                       6.0   \n",
      "2243807    6.0            103.0                       6.0   \n",
      "2261011    6.0            101.0                       6.0   \n",
      "2269747    5.0             99.0                       6.0   \n",
      "2286353    5.0             98.0                       6.0   \n",
      "2291985    6.0             90.0                       6.0   \n",
      "2308256    6.0             90.0                       6.0   \n",
      "2312332    6.0             90.0                       6.0   \n",
      "2323021    6.0             79.0                       6.0   \n",
      "2340549    6.0             77.0                       6.0   \n",
      "2354623    6.0             77.0                       6.0   \n",
      "\n",
      "         days_from_first_stock  sales_cumsum  dynamic_stock_with_palmers_init  \\\n",
      "2014680                    NaN           0.0                              NaN   \n",
      "2024532                    NaN           0.0                              NaN   \n",
      "2043874                    NaN           0.0                              NaN   \n",
      "2050162                    1.0           0.0                              6.0   \n",
      "2064786                    2.0           0.0                              6.0   \n",
      "2075427                    3.0           0.0                              6.0   \n",
      "2088404                    4.0           0.0                              6.0   \n",
      "2092978                    5.0           0.0                              6.0   \n",
      "2104613                    6.0           0.0                              6.0   \n",
      "2124014                    7.0           0.0                              6.0   \n",
      "2129414                    8.0           0.0                              6.0   \n",
      "2144075                    9.0           0.0                              6.0   \n",
      "2158493                   10.0           0.0                              6.0   \n",
      "2166636                   11.0           0.0                              6.0   \n",
      "2173706                   12.0           0.0                              6.0   \n",
      "2187204                   13.0           1.0                              5.0   \n",
      "2203902                   14.0           1.0                              5.0   \n",
      "2215120                   15.0           2.0                              4.0   \n",
      "2223288                   16.0           2.0                              4.0   \n",
      "2230173                   17.0           2.0                              4.0   \n",
      "2243807                   18.0           2.0                              4.0   \n",
      "2261011                   19.0           3.0                              3.0   \n",
      "2269747                   20.0           4.0                              2.0   \n",
      "2286353                   21.0           4.0                              2.0   \n",
      "2291985                   22.0           4.0                              2.0   \n",
      "2308256                   23.0           4.0                              2.0   \n",
      "2312332                   24.0           4.0                              2.0   \n",
      "2323021                   25.0           4.0                              2.0   \n",
      "2340549                   26.0           4.0                              2.0   \n",
      "2354623                   27.0           4.0                              2.0   \n",
      "\n",
      "         sales_cumsum_divide_days_from_first_stock  \\\n",
      "2014680                                        NaN   \n",
      "2024532                                        NaN   \n",
      "2043874                                        NaN   \n",
      "2050162                                   0.000000   \n",
      "2064786                                   0.000000   \n",
      "2075427                                   0.000000   \n",
      "2088404                                   0.000000   \n",
      "2092978                                   0.000000   \n",
      "2104613                                   0.000000   \n",
      "2124014                                   0.000000   \n",
      "2129414                                   0.000000   \n",
      "2144075                                   0.000000   \n",
      "2158493                                   0.000000   \n",
      "2166636                                   0.000000   \n",
      "2173706                                   0.000000   \n",
      "2187204                                   0.076923   \n",
      "2203902                                   0.071429   \n",
      "2215120                                   0.133333   \n",
      "2223288                                   0.125000   \n",
      "2230173                                   0.117647   \n",
      "2243807                                   0.111111   \n",
      "2261011                                   0.157895   \n",
      "2269747                                   0.200000   \n",
      "2286353                                   0.190476   \n",
      "2291985                                   0.181818   \n",
      "2308256                                   0.173913   \n",
      "2312332                                   0.166667   \n",
      "2323021                                   0.160000   \n",
      "2340549                                   0.153846   \n",
      "2354623                                   0.148148   \n",
      "\n",
      "         days_from_last_sales_that_not_zero  rate_sales  \n",
      "2014680                                 NaN         NaN  \n",
      "2024532                                 NaN         NaN  \n",
      "2043874                                 NaN         NaN  \n",
      "2050162                                 1.0    0.000000  \n",
      "2064786                                 2.0    0.000000  \n",
      "2075427                                 3.0    0.000000  \n",
      "2088404                                 4.0    0.000000  \n",
      "2092978                                 5.0    0.000000  \n",
      "2104613                                 6.0    0.000000  \n",
      "2124014                                 7.0    0.000000  \n",
      "2129414                                 8.0    0.000000  \n",
      "2144075                                 9.0    0.000000  \n",
      "2158493                                10.0    0.000000  \n",
      "2166636                                11.0    0.000000  \n",
      "2173706                                12.0    0.000000  \n",
      "2187204                                13.0    0.076923  \n",
      "2203902                                 1.0    0.000000  \n",
      "2215120                                 2.0    0.500000  \n",
      "2223288                                 1.0    0.000000  \n",
      "2230173                                 2.0    0.000000  \n",
      "2243807                                 3.0    0.000000  \n",
      "2261011                                 4.0    0.250000  \n",
      "2269747                                 1.0    1.000000  \n",
      "2286353                                 1.0    0.000000  \n",
      "2291985                                 2.0    0.000000  \n",
      "2308256                                 3.0    0.000000  \n",
      "2312332                                 4.0    0.000000  \n",
      "2323021                                 5.0    0.000000  \n",
      "2340549                                 6.0    0.000000  \n",
      "2354623                                 7.0    0.000000  \n"
     ]
    }
   ],
   "source": [
    "print(sku_store_df_step.iloc[0:30])"
   ],
   "metadata": {
    "collapsed": false
   }
  },
  {
   "cell_type": "code",
   "execution_count": null,
   "outputs": [],
   "source": [
    "sku_store_df_step.loc[sku_store_df_step['date'] < sku_store_df_step[sku_store_df_step[\"stock\"]>0]['date'].iloc[0], \"sum_of_our_allocation_stock\"] = np.nan"
   ],
   "metadata": {
    "collapsed": false,
    "pycharm": {
     "is_executing": true
    }
   }
  },
  {
   "cell_type": "code",
   "execution_count": null,
   "outputs": [],
   "source": [
    "sku_store_df_step.loc[sku_store_df_step[\"date\"]<sku_store_df_step[sku_store_df_step[\"stock\"]>0]]"
   ],
   "metadata": {
    "collapsed": false,
    "pycharm": {
     "is_executing": true
    }
   }
  },
  {
   "cell_type": "code",
   "execution_count": null,
   "outputs": [],
   "source": [
    "print(df_all[(df_all['sku'] == '100009161000001') & (df_all['store'] == '100')])"
   ],
   "metadata": {
    "collapsed": false,
    "pycharm": {
     "is_executing": true
    }
   }
  },
  {
   "cell_type": "code",
   "execution_count": null,
   "outputs": [],
   "source": [],
   "metadata": {
    "collapsed": false,
    "pycharm": {
     "is_executing": true
    }
   }
  }
 ],
 "metadata": {
  "kernelspec": {
   "display_name": "Python 3",
   "language": "python",
   "name": "python3"
  },
  "language_info": {
   "codemirror_mode": {
    "name": "ipython",
    "version": 2
   },
   "file_extension": ".py",
   "mimetype": "text/x-python",
   "name": "python",
   "nbconvert_exporter": "python",
   "pygments_lexer": "ipython2",
   "version": "2.7.6"
  }
 },
 "nbformat": 4,
 "nbformat_minor": 0
}

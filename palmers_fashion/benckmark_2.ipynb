{
 "cells": [
  {
   "cell_type": "code",
   "execution_count": 1,
   "metadata": {
    "collapsed": true
   },
   "outputs": [],
   "source": [
    "import numpy as np\n",
    "import pandas as pd\n",
    "import matplotlib.pyplot as plt"
   ]
  },
  {
   "cell_type": "code",
   "execution_count": 2,
   "outputs": [],
   "source": [
    "store_100_path = r\"df_all_store_100.parquet\"\n",
    "store_42_path = r\"df_all_store_42.parquet\"\n",
    "store_4906_path = r\"df_all_store_4906.parquet\""
   ],
   "metadata": {
    "collapsed": false
   }
  },
  {
   "cell_type": "code",
   "execution_count": 3,
   "outputs": [],
   "source": [
    "df_100 = pd.read_parquet(store_100_path)\n",
    "df_42 = pd.read_parquet(store_42_path)\n",
    "df_4906 = pd.read_parquet(store_4906_path)\n",
    "df_all = pd.concat([df_100, df_42, df_4906])"
   ],
   "metadata": {
    "collapsed": false
   }
  },
  {
   "cell_type": "code",
   "execution_count": 3,
   "outputs": [],
   "source": [
    "del df_100, df_42, df_4906"
   ],
   "metadata": {
    "collapsed": false
   }
  },
  {
   "cell_type": "code",
   "execution_count": 4,
   "outputs": [],
   "source": [
    "df_all['date'] = pd.to_datetime(df_all['date'])"
   ],
   "metadata": {
    "collapsed": false
   }
  },
  {
   "cell_type": "code",
   "execution_count": 5,
   "outputs": [],
   "source": [
    "warehouse_path = r\"df_all_store_VZ01.parquet\"\n",
    "df_warehouse = pd.read_parquet(warehouse_path)"
   ],
   "metadata": {
    "collapsed": false
   }
  },
  {
   "cell_type": "code",
   "execution_count": 6,
   "outputs": [],
   "source": [
    "df_warehouse = df_warehouse.rename(columns={\"stock\": \"warehouse_stock\"})\n",
    "df_warehouse['date'] = pd.to_datetime(df_warehouse['date'])"
   ],
   "metadata": {
    "collapsed": false
   }
  },
  {
   "cell_type": "code",
   "execution_count": 7,
   "outputs": [],
   "source": [
    "df_warehouse['sku'] = df_warehouse['sku'].astype(str)\n"
   ],
   "metadata": {
    "collapsed": false
   }
  },
  {
   "cell_type": "code",
   "execution_count": 8,
   "outputs": [],
   "source": [
    "df_warehouse = df_warehouse[df_warehouse['date'] > '2018-01-01']"
   ],
   "metadata": {
    "collapsed": false
   }
  },
  {
   "cell_type": "code",
   "execution_count": 9,
   "outputs": [],
   "source": [
    "df_all = df_all.merge(df_warehouse[[\"sku\",\"date\",\"warehouse_stock\"]], on = [\"sku\",\"date\"], how = \"left\")\n"
   ],
   "metadata": {
    "collapsed": false
   }
  },
  {
   "cell_type": "code",
   "execution_count": 10,
   "outputs": [],
   "source": [
    "df_all = df_all[df_all['date'] > '2018-01-01']"
   ],
   "metadata": {
    "collapsed": false
   }
  },
  {
   "cell_type": "code",
   "execution_count": 11,
   "outputs": [],
   "source": [
    "df_all = df_all.sort_values('date')"
   ],
   "metadata": {
    "collapsed": false
   }
  },
  {
   "cell_type": "code",
   "execution_count": 12,
   "outputs": [],
   "source": [
    "df_all = df_all.merge(df_all[df_all['stock'] > 0].groupby(['sku', 'store']).agg({'stock': 'first'}).reset_index().rename(columns={'stock':'palmers_first_allocation'}), on = ['sku', 'store'], how = 'left')"
   ],
   "metadata": {
    "collapsed": false
   }
  },
  {
   "cell_type": "code",
   "execution_count": 13,
   "outputs": [],
   "source": [
    "sku_store_df_step_g = df_all.groupby(['sku', 'store'])"
   ],
   "metadata": {
    "collapsed": false
   }
  },
  {
   "cell_type": "code",
   "execution_count": 14,
   "outputs": [],
   "source": [
    "i = 0\n",
    "for store in ['42', '100']:\n",
    "    for sku in ['100009161000001']:\n",
    "        sku_store_df_step = sku_store_df_step_g.get_group((sku, store))\n",
    "        first_stock = sku_store_df_step[sku_store_df_step[\"stock\"]>0][\"stock\"].iloc[0]\n",
    "        # nan in our_stock if before first stock\n",
    "        sku_store_df_step.loc[sku_store_df_step[\"date\"]<sku_store_df_step[sku_store_df_step[\"stock\"]>0][\"date\"].iloc[0], \"palmers_first_allocation\"] = np.nan\n",
    "        sku_store_df_step['days_from_first_stock'] = 1\n",
    "        sku_store_df_step.loc[sku_store_df_step[\"date\"]<sku_store_df_step[sku_store_df_step[\"stock\"]>0][\"date\"].iloc[0], \"days_from_first_stock\"] = np.nan\n",
    "        sku_store_df_step['days_from_first_stock'] = sku_store_df_step['days_from_first_stock'].cumsum()\n",
    "        sku_store_df_step['sales_cumsum'] = sku_store_df_step['sales'].cumsum()\n",
    "        sku_store_df_step['dynamic_stock_with_palmers_init'] = sku_store_df_step['palmers_first_allocation'] - sku_store_df_step['sales_cumsum']\n",
    "        sku_store_df_step['sales_cumsum_divide_days_from_first_stock'] =  sku_store_df_step['sales_cumsum'] / sku_store_df_step['days_from_first_stock']\n",
    "        zero_sales_days_back = 1\n",
    "        sku_store_df_step['days_from_last_sales_that_not_zero'] = 1\n",
    "\n",
    "        for index, row in sku_store_df_step.shift(1).iterrows():\n",
    "            # if index is sku_store_df_step[sku_store_df_step[\"stock\"]>0][\"stock\"] index\n",
    "            if index > sku_store_df_step[sku_store_df_step[\"stock\"]>0].index[0]:\n",
    "                if row['sales'] == 0:\n",
    "                    zero_sales_days_back += 1\n",
    "                else:\n",
    "                    zero_sales_days_back = 1\n",
    "\n",
    "                sku_store_df_step.at[index, 'days_from_last_sales_that_not_zero'] = zero_sales_days_back\n",
    "        sku_store_df_step.loc[sku_store_df_step[\"date\"]<sku_store_df_step[sku_store_df_step[\"stock\"]>0][\"date\"].iloc[0], \"days_from_last_sales_that_not_zero\"] = np.nan\n",
    "        sku_store_df_step['rate_sales'] = sku_store_df_step['sales'] / sku_store_df_step['days_from_last_sales_that_not_zero']"
   ],
   "metadata": {
    "collapsed": false
   }
  },
  {
   "cell_type": "code",
   "execution_count": 19,
   "outputs": [],
   "source": [
    "print(sku_store_df_step.iloc[0:30])"
   ],
   "metadata": {
    "collapsed": false
   }
  },
  {
   "cell_type": "code",
   "execution_count": 21,
   "outputs": [
    {
     "data": {
      "text/plain": "{'3': 0.00888730705534243,\n '4': 0.00633550601965005,\n '5': 0.02311986898215578,\n '7': 0.016161844336196832,\n '8': 0.01692620264951282,\n '10': 0.008355408229065841,\n '11': 0.02208890459048387,\n '15': 0.006254079532664498,\n '18': 0.006992171237275469,\n '21': 0.008422388081263634,\n '22': 0.010594636621168522,\n '26': 0.005104915401820014,\n '27': 0.008597061029151996,\n '28': 0.002366621444322013,\n '29': 0.008356721559501092,\n '35': 0.004181644105838673,\n '36': 0.0030797598706632187,\n '37': 0.010212457464510528,\n '42': 0.01849169252833182,\n '43': 0.004591403201636935,\n '44': 0.00993403141223735,\n '45': 0.006219932941347976,\n '46': 0.010549983386369994,\n '47': 0.00498934232351794,\n '50': 0.005133808671395532,\n '51': 0.010039097847057418,\n '52': 0.00542799468889172,\n '55': 0.005265141714920616,\n '56': 0.004621609801647704,\n '57': 0.00697641127205246,\n '61': 0.003771885010040411,\n '63': 0.011553367838901636,\n '64': 0.004253877279777469,\n '67': 0.022115171199188887,\n '68': 0.012145679865199764,\n '69': 0.010203264151463772,\n '73': 0.011520534578020365,\n '74': 0.004465323479852855,\n '76': 0.012564632274044783,\n '79': 0.006800424993728847,\n '81': 0.006649391993675001,\n '82': 0.02007031571150333,\n '84': 0.0055120478367477735,\n '85': 0.006386725906624833,\n '88': 0.006581098811041957,\n '89': 0.015096733353208401,\n '90': 0.008053342228958147,\n '91': 0.00643006581098811,\n '95': 0.007798556124519485,\n '96': 0.018171239902130615,\n '99': 0.0070420777938150015,\n '100': 0.03250624160289353,\n '104': 0.0099327180818021,\n '105': 0.006175279706549448,\n '106': 0.006159519741326437,\n '109': 0.020247615320262192,\n '114': 0.0073454571243579455,\n '117': 0.011167248690937888,\n '119': 0.0065351322458081776,\n '121': 0.006715058515437543,\n '122': 0.004018791131867569,\n '123': 0.005446381314985232,\n '130': 0.007936455820220824,\n '133': 0.007554276663562829,\n '135': 0.006180533028290451,\n '136': 0.008028388950688381,\n '141': 0.0121233532478005,\n '143': 0.012305906178300366,\n '144': 0.011218468577912671,\n '147': 0.005149568636618542,\n '149': 0.003317472679443621,\n '150': 0.007337577141746441,\n '152': 0.005129868680089779,\n '156': 0.006130626471750919,\n '159': 0.0037167251317598757,\n '160': 0.00915128647282785,\n '162': 0.011328788334473741,\n '163': 0.0033003993837853597,\n '164': 0.01162297435196993,\n '166': 0.006549578880595937,\n '167': 0.011184321986596149,\n '168': 0.005458201288902489,\n '170': 0.004267010584129978,\n '171': 0.006817498289387108,\n '172': 0.006282972802240016,\n '173': 0.005433248010632723,\n '174': 0.005186341888805565,\n '175': 0.006307926080509782,\n '179': 0.006405112532718344,\n '180': 0.008011315655030122,\n '181': 0.010439663629808924,\n '182': 0.008333081611666578,\n '183': 0.015121686631478167,\n '184': 0.005999293428225835,\n '185': 0.004228924001507703,\n '186': 0.005470021262819747,\n '188': 0.005148255306183291,\n '189': 0.00499065565395319,\n '201': 0.0037416784100296418,\n '202': 0.010895389290840964,\n '203': 0.0036142853578103105,\n '213': 0.004695156306021751,\n '214': 0.0043733903493852954,\n '215': 0.006196292993513461,\n '216': 0.005864020393394998,\n '217': 0.004188210758014927,\n '218': 0.004544123305967905,\n '219': 0.0006671718611074265,\n '220': 0.001071677635164685,\n '221': 0.0030075266967244225,\n '225': 0.001472243417916191,\n '3005': 0.005556701071546302,\n '3202': 0.0042223573493314496,\n '3205': 0.005359701506258676,\n '3208': 0.008074355515922161,\n '3245': 0.0026581808009476992,\n '4104': 0.013025611256817827,\n '4123': 0.00807172885505166,\n '4129': 0.007784109489731726,\n '4133': 0.004113350923205629,\n '4134': 0.004428550227665831,\n '4803': 0.006804364985034599,\n '4805': 0.007085417698178279,\n '4904': 0.006619185393664231,\n '4906': 0.0069842912546639645}"
     },
     "execution_count": 21,
     "metadata": {},
     "output_type": "execute_result"
    }
   ],
   "source": [
    "sku_store_df_step.loc[sku_store_df_step['date'] < sku_store_df_step[sku_store_df_step[\"stock\"]>0]['date'].iloc[0], \"sum_of_our_allocation_stock\"] = np.nan"
   ],
   "metadata": {
    "collapsed": false
   }
  },
  {
   "cell_type": "code",
   "execution_count": 28,
   "outputs": [],
   "source": [
    "sku_store_df_step.loc[sku_store_df_step[\"date\"]<sku_store_df_step[sku_store_df_step[\"stock\"]>0]]"
   ],
   "metadata": {
    "collapsed": false
   }
  },
  {
   "cell_type": "code",
   "execution_count": 29,
   "outputs": [],
   "source": [
    "print(df_all[(df_all['sku'] == '100009161000001') & (df_all['store'] == '100')])"
   ],
   "metadata": {
    "collapsed": false
   }
  },
  {
   "cell_type": "code",
   "execution_count": 30,
   "outputs": [],
   "source": [],
   "metadata": {
    "collapsed": false
   }
  }
 ],
 "metadata": {
  "kernelspec": {
   "display_name": "Python 3",
   "language": "python",
   "name": "python3"
  },
  "language_info": {
   "codemirror_mode": {
    "name": "ipython",
    "version": 2
   },
   "file_extension": ".py",
   "mimetype": "text/x-python",
   "name": "python",
   "nbconvert_exporter": "python",
   "pygments_lexer": "ipython2",
   "version": "2.7.6"
  }
 },
 "nbformat": 4,
 "nbformat_minor": 0
}

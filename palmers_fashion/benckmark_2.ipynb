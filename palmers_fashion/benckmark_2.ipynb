{
 "cells": [
  {
   "cell_type": "code",
   "execution_count": 1,
   "metadata": {
    "collapsed": true
   },
   "outputs": [],
   "source": [
    "import numpy as np\n",
    "import pandas as pd\n",
    "import matplotlib.pyplot as plt"
   ]
  },
  {
   "cell_type": "code",
   "execution_count": 2,
   "outputs": [],
   "source": [
    "store_100_path = r\"df_all_store_100.parquet\"\n",
    "store_42_path = r\"df_all_store_42.parquet\"\n",
    "store_4906_path = r\"df_all_store_4906.parquet\""
   ],
   "metadata": {
    "collapsed": false
   }
  },
  {
   "cell_type": "code",
   "execution_count": 3,
   "outputs": [],
   "source": [
    "df_100 = pd.read_parquet(store_100_path)\n",
    "df_42 = pd.read_parquet(store_42_path)\n",
    "df_4906 = pd.read_parquet(store_4906_path)\n",
    "df_all = pd.concat([df_100, df_42, df_4906])"
   ],
   "metadata": {
    "collapsed": false
   }
  },
  {
   "cell_type": "code",
   "execution_count": 4,
   "outputs": [],
   "source": [
    "del df_100, df_42, df_4906"
   ],
   "metadata": {
    "collapsed": false
   }
  },
  {
   "cell_type": "code",
   "execution_count": 5,
   "outputs": [],
   "source": [
    "df_all['date'] = pd.to_datetime(df_all['date'])"
   ],
   "metadata": {
    "collapsed": false
   }
  },
  {
   "cell_type": "code",
   "execution_count": 6,
   "outputs": [],
   "source": [
    "warehouse_path = r\"df_all_store_VZ01.parquet\"\n",
    "df_warehouse = pd.read_parquet(warehouse_path)"
   ],
   "metadata": {
    "collapsed": false
   }
  },
  {
   "cell_type": "code",
   "execution_count": 7,
   "outputs": [],
   "source": [
    "df_warehouse = df_warehouse.rename(columns={\"stock\": \"warehouse_stock\"})\n",
    "df_warehouse['date'] = pd.to_datetime(df_warehouse['date'])"
   ],
   "metadata": {
    "collapsed": false
   }
  },
  {
   "cell_type": "code",
   "execution_count": 8,
   "outputs": [
    {
     "data": {
      "text/plain": "22823"
     },
     "execution_count": 8,
     "metadata": {},
     "output_type": "execute_result"
    }
   ],
   "source": [
    "df_all['sku'].nunique()"
   ],
   "metadata": {
    "collapsed": false
   }
  },
  {
   "cell_type": "code",
   "execution_count": 9,
   "outputs": [],
   "source": [
    "df_warehouse['sku'] = df_warehouse['sku'].astype(str)\n"
   ],
   "metadata": {
    "collapsed": false
   }
  },
  {
   "cell_type": "code",
   "execution_count": 10,
   "outputs": [],
   "source": [
    "df_warehouse = df_warehouse[df_warehouse['date'] > '2018-01-01']"
   ],
   "metadata": {
    "collapsed": false
   }
  },
  {
   "cell_type": "code",
   "execution_count": 11,
   "outputs": [],
   "source": [
    "df_all = df_all.merge(df_warehouse[[\"sku\",\"date\",\"warehouse_stock\"]], on = [\"sku\",\"date\"], how = \"left\")\n"
   ],
   "metadata": {
    "collapsed": false
   }
  },
  {
   "cell_type": "code",
   "execution_count": 12,
   "outputs": [],
   "source": [
    "df_all = df_all[df_all['date'] > '2018-01-01']"
   ],
   "metadata": {
    "collapsed": false
   }
  },
  {
   "cell_type": "code",
   "execution_count": 13,
   "outputs": [],
   "source": [
    "df_all = df_all.sort_values('date')"
   ],
   "metadata": {
    "collapsed": false
   }
  },
  {
   "cell_type": "code",
   "execution_count": 14,
   "outputs": [],
   "source": [
    "df_all = df_all.merge(df_all[df_all['stock'] > 0].groupby(['sku', 'store']).agg({'stock': 'first'}).reset_index().rename(columns={'stock':'palmers_first_allocation'}), on = ['sku', 'store'], how = 'left')"
   ],
   "metadata": {
    "collapsed": false
   }
  },
  {
   "cell_type": "code",
   "execution_count": 15,
   "outputs": [],
   "source": [
    "sku_store_df_step_g = df_all.groupby(['sku', 'store'])"
   ],
   "metadata": {
    "collapsed": false
   }
  },
  {
   "cell_type": "code",
   "execution_count": 16,
   "outputs": [],
   "source": [
    "import json\n",
    "dict_per_store_per_year_path = r\"dict_per_store_per_year.json\"\n",
    "with open(dict_per_store_per_year_path) as json_file:\n",
    "    dict_per_store_per_year = json.load(json_file)"
   ],
   "metadata": {
    "collapsed": false
   }
  },
  {
   "cell_type": "code",
   "execution_count": 17,
   "outputs": [],
   "source": [
    "first_dist_store_100 =  dict_per_store_per_year['2020']['100'] / (dict_per_store_per_year['2020']['100'] + dict_per_store_per_year['2020']['42'])\n",
    "first_dist_store_42 =  dict_per_store_per_year['2020']['42'] / (dict_per_store_per_year['2020']['100'] + dict_per_store_per_year['2020']['42'])"
   ],
   "metadata": {
    "collapsed": false
   }
  },
  {
   "cell_type": "code",
   "execution_count": 18,
   "outputs": [
    {
     "data": {
      "text/plain": "(0.6374031057660117, 0.3625968942339883)"
     },
     "execution_count": 18,
     "metadata": {},
     "output_type": "execute_result"
    }
   ],
   "source": [
    "first_dist_store_100, first_dist_store_42"
   ],
   "metadata": {
    "collapsed": false
   }
  },
  {
   "cell_type": "code",
   "execution_count": 19,
   "outputs": [
    {
     "data": {
      "text/plain": "0.49038461538461536"
     },
     "execution_count": 19,
     "metadata": {},
     "output_type": "execute_result"
    }
   ],
   "source": [
    "store_100_dist_need_to_be = 51 / 104\n",
    "store_100_dist_need_to_be"
   ],
   "metadata": {
    "collapsed": false
   }
  },
  {
   "cell_type": "code",
   "execution_count": 20,
   "outputs": [
    {
     "data": {
      "text/plain": "0.5096153846153846"
     },
     "execution_count": 20,
     "metadata": {},
     "output_type": "execute_result"
    }
   ],
   "source": [
    "store_42_dist_need_to_be = 53 / 104\n",
    "store_42_dist_need_to_be"
   ],
   "metadata": {
    "collapsed": false
   }
  },
  {
   "cell_type": "code",
   "execution_count": 21,
   "outputs": [
    {
     "name": "stderr",
     "output_type": "stream",
     "text": [
      "/var/folders/sv/p02my_xx7t193mwjyb2ytt040000gn/T/ipykernel_43858/784705553.py:13: SettingWithCopyWarning: \n",
      "A value is trying to be set on a copy of a slice from a DataFrame.\n",
      "Try using .loc[row_indexer,col_indexer] = value instead\n",
      "\n",
      "See the caveats in the documentation: https://pandas.pydata.org/pandas-docs/stable/user_guide/indexing.html#returning-a-view-versus-a-copy\n",
      "  sku_store_df_step['days_from_first_stock'] = 1\n",
      "/var/folders/sv/p02my_xx7t193mwjyb2ytt040000gn/T/ipykernel_43858/784705553.py:15: SettingWithCopyWarning: \n",
      "A value is trying to be set on a copy of a slice from a DataFrame.\n",
      "Try using .loc[row_indexer,col_indexer] = value instead\n",
      "\n",
      "See the caveats in the documentation: https://pandas.pydata.org/pandas-docs/stable/user_guide/indexing.html#returning-a-view-versus-a-copy\n",
      "  sku_store_df_step['days_from_first_stock'] = sku_store_df_step['days_from_first_stock'].cumsum()\n",
      "/var/folders/sv/p02my_xx7t193mwjyb2ytt040000gn/T/ipykernel_43858/784705553.py:16: SettingWithCopyWarning: \n",
      "A value is trying to be set on a copy of a slice from a DataFrame.\n",
      "Try using .loc[row_indexer,col_indexer] = value instead\n",
      "\n",
      "See the caveats in the documentation: https://pandas.pydata.org/pandas-docs/stable/user_guide/indexing.html#returning-a-view-versus-a-copy\n",
      "  sku_store_df_step['sales_cumsum'] = sku_store_df_step['sales'].cumsum()\n",
      "/var/folders/sv/p02my_xx7t193mwjyb2ytt040000gn/T/ipykernel_43858/784705553.py:17: SettingWithCopyWarning: \n",
      "A value is trying to be set on a copy of a slice from a DataFrame.\n",
      "Try using .loc[row_indexer,col_indexer] = value instead\n",
      "\n",
      "See the caveats in the documentation: https://pandas.pydata.org/pandas-docs/stable/user_guide/indexing.html#returning-a-view-versus-a-copy\n",
      "  sku_store_df_step['dynamic_stock_with_palmers_init'] = sku_store_df_step['palmers_first_allocation'] - sku_store_df_step['sales_cumsum']\n",
      "/var/folders/sv/p02my_xx7t193mwjyb2ytt040000gn/T/ipykernel_43858/784705553.py:18: SettingWithCopyWarning: \n",
      "A value is trying to be set on a copy of a slice from a DataFrame.\n",
      "Try using .loc[row_indexer,col_indexer] = value instead\n",
      "\n",
      "See the caveats in the documentation: https://pandas.pydata.org/pandas-docs/stable/user_guide/indexing.html#returning-a-view-versus-a-copy\n",
      "  sku_store_df_step['sales_cumsum_divide_days_from_first_stock'] =  sku_store_df_step['sales_cumsum'] / sku_store_df_step['days_from_first_stock']\n",
      "/var/folders/sv/p02my_xx7t193mwjyb2ytt040000gn/T/ipykernel_43858/784705553.py:21: SettingWithCopyWarning: \n",
      "A value is trying to be set on a copy of a slice from a DataFrame.\n",
      "Try using .loc[row_indexer,col_indexer] = value instead\n",
      "\n",
      "See the caveats in the documentation: https://pandas.pydata.org/pandas-docs/stable/user_guide/indexing.html#returning-a-view-versus-a-copy\n",
      "  sku_store_df_step['days_from_last_sales_that_not_zero'] = 1\n",
      "/var/folders/sv/p02my_xx7t193mwjyb2ytt040000gn/T/ipykernel_43858/784705553.py:31: SettingWithCopyWarning: \n",
      "A value is trying to be set on a copy of a slice from a DataFrame.\n",
      "Try using .loc[row_indexer,col_indexer] = value instead\n",
      "\n",
      "See the caveats in the documentation: https://pandas.pydata.org/pandas-docs/stable/user_guide/indexing.html#returning-a-view-versus-a-copy\n",
      "  sku_store_df_step['rate_sales'] = sku_store_df_step['sales'] / sku_store_df_step['days_from_last_sales_that_not_zero']\n",
      "/var/folders/sv/p02my_xx7t193mwjyb2ytt040000gn/T/ipykernel_43858/784705553.py:33: SettingWithCopyWarning: \n",
      "A value is trying to be set on a copy of a slice from a DataFrame.\n",
      "Try using .loc[row_indexer,col_indexer] = value instead\n",
      "\n",
      "See the caveats in the documentation: https://pandas.pydata.org/pandas-docs/stable/user_guide/indexing.html#returning-a-view-versus-a-copy\n",
      "  sku_store_df_step['diff_stock'] = sku_store_df_step['stock'].diff()\n",
      "/var/folders/sv/p02my_xx7t193mwjyb2ytt040000gn/T/ipykernel_43858/784705553.py:13: SettingWithCopyWarning: \n",
      "A value is trying to be set on a copy of a slice from a DataFrame.\n",
      "Try using .loc[row_indexer,col_indexer] = value instead\n",
      "\n",
      "See the caveats in the documentation: https://pandas.pydata.org/pandas-docs/stable/user_guide/indexing.html#returning-a-view-versus-a-copy\n",
      "  sku_store_df_step['days_from_first_stock'] = 1\n",
      "/var/folders/sv/p02my_xx7t193mwjyb2ytt040000gn/T/ipykernel_43858/784705553.py:15: SettingWithCopyWarning: \n",
      "A value is trying to be set on a copy of a slice from a DataFrame.\n",
      "Try using .loc[row_indexer,col_indexer] = value instead\n",
      "\n",
      "See the caveats in the documentation: https://pandas.pydata.org/pandas-docs/stable/user_guide/indexing.html#returning-a-view-versus-a-copy\n",
      "  sku_store_df_step['days_from_first_stock'] = sku_store_df_step['days_from_first_stock'].cumsum()\n",
      "/var/folders/sv/p02my_xx7t193mwjyb2ytt040000gn/T/ipykernel_43858/784705553.py:16: SettingWithCopyWarning: \n",
      "A value is trying to be set on a copy of a slice from a DataFrame.\n",
      "Try using .loc[row_indexer,col_indexer] = value instead\n",
      "\n",
      "See the caveats in the documentation: https://pandas.pydata.org/pandas-docs/stable/user_guide/indexing.html#returning-a-view-versus-a-copy\n",
      "  sku_store_df_step['sales_cumsum'] = sku_store_df_step['sales'].cumsum()\n",
      "/var/folders/sv/p02my_xx7t193mwjyb2ytt040000gn/T/ipykernel_43858/784705553.py:17: SettingWithCopyWarning: \n",
      "A value is trying to be set on a copy of a slice from a DataFrame.\n",
      "Try using .loc[row_indexer,col_indexer] = value instead\n",
      "\n",
      "See the caveats in the documentation: https://pandas.pydata.org/pandas-docs/stable/user_guide/indexing.html#returning-a-view-versus-a-copy\n",
      "  sku_store_df_step['dynamic_stock_with_palmers_init'] = sku_store_df_step['palmers_first_allocation'] - sku_store_df_step['sales_cumsum']\n",
      "/var/folders/sv/p02my_xx7t193mwjyb2ytt040000gn/T/ipykernel_43858/784705553.py:18: SettingWithCopyWarning: \n",
      "A value is trying to be set on a copy of a slice from a DataFrame.\n",
      "Try using .loc[row_indexer,col_indexer] = value instead\n",
      "\n",
      "See the caveats in the documentation: https://pandas.pydata.org/pandas-docs/stable/user_guide/indexing.html#returning-a-view-versus-a-copy\n",
      "  sku_store_df_step['sales_cumsum_divide_days_from_first_stock'] =  sku_store_df_step['sales_cumsum'] / sku_store_df_step['days_from_first_stock']\n",
      "/var/folders/sv/p02my_xx7t193mwjyb2ytt040000gn/T/ipykernel_43858/784705553.py:21: SettingWithCopyWarning: \n",
      "A value is trying to be set on a copy of a slice from a DataFrame.\n",
      "Try using .loc[row_indexer,col_indexer] = value instead\n",
      "\n",
      "See the caveats in the documentation: https://pandas.pydata.org/pandas-docs/stable/user_guide/indexing.html#returning-a-view-versus-a-copy\n",
      "  sku_store_df_step['days_from_last_sales_that_not_zero'] = 1\n",
      "/var/folders/sv/p02my_xx7t193mwjyb2ytt040000gn/T/ipykernel_43858/784705553.py:31: SettingWithCopyWarning: \n",
      "A value is trying to be set on a copy of a slice from a DataFrame.\n",
      "Try using .loc[row_indexer,col_indexer] = value instead\n",
      "\n",
      "See the caveats in the documentation: https://pandas.pydata.org/pandas-docs/stable/user_guide/indexing.html#returning-a-view-versus-a-copy\n",
      "  sku_store_df_step['rate_sales'] = sku_store_df_step['sales'] / sku_store_df_step['days_from_last_sales_that_not_zero']\n",
      "/var/folders/sv/p02my_xx7t193mwjyb2ytt040000gn/T/ipykernel_43858/784705553.py:33: SettingWithCopyWarning: \n",
      "A value is trying to be set on a copy of a slice from a DataFrame.\n",
      "Try using .loc[row_indexer,col_indexer] = value instead\n",
      "\n",
      "See the caveats in the documentation: https://pandas.pydata.org/pandas-docs/stable/user_guide/indexing.html#returning-a-view-versus-a-copy\n",
      "  sku_store_df_step['diff_stock'] = sku_store_df_step['stock'].diff()\n"
     ]
    }
   ],
   "source": [
    "i = 0\n",
    "\n",
    "dict_of_all_data_after_preprocess = {}\n",
    "for sku in ['100630105000002']:\n",
    "    dict_of_all_data_after_preprocess[sku] = {}\n",
    "    for store in ['42', '100']:\n",
    "        dict_of_all_data_after_preprocess[sku][store] = {}\n",
    "\n",
    "        sku_store_df_step = sku_store_df_step_g.get_group((sku, store))\n",
    "        first_stock = sku_store_df_step[sku_store_df_step[\"stock\"]>0][\"stock\"].iloc[0]\n",
    "        # nan in our_stock if before first stock\n",
    "        sku_store_df_step.loc[sku_store_df_step[\"date\"]<sku_store_df_step[sku_store_df_step[\"stock\"]>0][\"date\"].iloc[0], \"palmers_first_allocation\"] = np.nan\n",
    "        sku_store_df_step['days_from_first_stock'] = 1\n",
    "        sku_store_df_step.loc[sku_store_df_step[\"date\"]<sku_store_df_step[sku_store_df_step[\"stock\"]>0][\"date\"].iloc[0], \"days_from_first_stock\"] = np.nan\n",
    "        sku_store_df_step['days_from_first_stock'] = sku_store_df_step['days_from_first_stock'].cumsum()\n",
    "        sku_store_df_step['sales_cumsum'] = sku_store_df_step['sales'].cumsum()\n",
    "        sku_store_df_step['dynamic_stock_with_palmers_init'] = sku_store_df_step['palmers_first_allocation'] - sku_store_df_step['sales_cumsum']\n",
    "        sku_store_df_step['sales_cumsum_divide_days_from_first_stock'] =  sku_store_df_step['sales_cumsum'] / sku_store_df_step['days_from_first_stock']\n",
    "\n",
    "        zero_sales_days_back = 1\n",
    "        sku_store_df_step['days_from_last_sales_that_not_zero'] = 1\n",
    "        for index, row in sku_store_df_step.shift(1).iterrows():\n",
    "            # if index is sku_store_df_step[sku_store_df_step[\"stock\"]>0][\"stock\"] index\n",
    "            if index > sku_store_df_step[sku_store_df_step[\"stock\"]>0].index[0]:\n",
    "                if row['sales'] == 0:\n",
    "                    zero_sales_days_back += 1\n",
    "                else:\n",
    "                    zero_sales_days_back = 1\n",
    "                sku_store_df_step.at[index, 'days_from_last_sales_that_not_zero'] = zero_sales_days_back\n",
    "        sku_store_df_step.loc[sku_store_df_step[\"date\"]<sku_store_df_step[sku_store_df_step[\"stock\"]>0][\"date\"].iloc[0], \"days_from_last_sales_that_not_zero\"] = np.nan\n",
    "        sku_store_df_step['rate_sales'] = sku_store_df_step['sales'] / sku_store_df_step['days_from_last_sales_that_not_zero']\n",
    "        dict_of_all_data_after_preprocess[sku][store] = sku_store_df_step\n",
    "        sku_store_df_step['diff_stock'] = sku_store_df_step['stock'].diff()\n",
    "\n",
    "\n"
   ],
   "metadata": {
    "collapsed": false
   }
  },
  {
   "cell_type": "code",
   "execution_count": 22,
   "outputs": [
    {
     "name": "stdout",
     "output_type": "stream",
     "text": [
      "                      sku store       date  average_price  \\\n",
      "21180986  100630105000002   100 2020-12-11          24.99   \n",
      "21205875  100630105000002   100 2020-12-12            NaN   \n",
      "21229217  100630105000002   100 2020-12-13            NaN   \n",
      "21278747  100630105000002   100 2020-12-14            NaN   \n",
      "21307262  100630105000002   100 2020-12-15          24.99   \n",
      "...                   ...   ...        ...            ...   \n",
      "73205453  100630105000002   100 2023-12-08            NaN   \n",
      "73248678  100630105000002   100 2023-12-09            NaN   \n",
      "73300214  100630105000002   100 2023-12-10            NaN   \n",
      "73355073  100630105000002   100 2023-12-11            NaN   \n",
      "73388217  100630105000002   100 2023-12-12            NaN   \n",
      "\n",
      "          average_dicounted_price  sales          item            sku_store  \\\n",
      "21180986                    24.99    1.0  100630105000  100630105000002,100   \n",
      "21205875                      NaN    0.0  100630105000  100630105000002,100   \n",
      "21229217                      NaN    0.0  100630105000  100630105000002,100   \n",
      "21278747                      NaN    0.0  100630105000  100630105000002,100   \n",
      "21307262                    24.99    2.0  100630105000  100630105000002,100   \n",
      "...                           ...    ...           ...                  ...   \n",
      "73205453                      NaN    0.0  100630105000  100630105000002,100   \n",
      "73248678                      NaN    0.0  100630105000  100630105000002,100   \n",
      "73300214                      NaN    0.0  100630105000  100630105000002,100   \n",
      "73355073                      NaN    0.0  100630105000  100630105000002,100   \n",
      "73388217                      NaN    0.0  100630105000  100630105000002,100   \n",
      "\n",
      "          stock  warehouse_stock  palmers_first_allocation  \\\n",
      "21180986   14.0            324.0                      25.0   \n",
      "21205875   13.0            315.0                      25.0   \n",
      "21229217   13.0            315.0                      25.0   \n",
      "21278747   13.0            315.0                      25.0   \n",
      "21307262   13.0            304.0                      25.0   \n",
      "...         ...              ...                       ...   \n",
      "73205453    0.0              0.0                      25.0   \n",
      "73248678    0.0              0.0                      25.0   \n",
      "73300214    0.0              0.0                      25.0   \n",
      "73355073    0.0              0.0                      25.0   \n",
      "73388217    0.0              0.0                      25.0   \n",
      "\n",
      "          days_from_first_stock  sales_cumsum  \\\n",
      "21180986                   92.0          20.0   \n",
      "21205875                   93.0          20.0   \n",
      "21229217                   94.0          20.0   \n",
      "21278747                   95.0          20.0   \n",
      "21307262                   96.0          22.0   \n",
      "...                         ...           ...   \n",
      "73205453                 1184.0          51.0   \n",
      "73248678                 1185.0          51.0   \n",
      "73300214                 1186.0          51.0   \n",
      "73355073                 1187.0          51.0   \n",
      "73388217                 1188.0          51.0   \n",
      "\n",
      "          dynamic_stock_with_palmers_init  \\\n",
      "21180986                              5.0   \n",
      "21205875                              5.0   \n",
      "21229217                              5.0   \n",
      "21278747                              5.0   \n",
      "21307262                              3.0   \n",
      "...                                   ...   \n",
      "73205453                            -26.0   \n",
      "73248678                            -26.0   \n",
      "73300214                            -26.0   \n",
      "73355073                            -26.0   \n",
      "73388217                            -26.0   \n",
      "\n",
      "          sales_cumsum_divide_days_from_first_stock  \\\n",
      "21180986                                   0.217391   \n",
      "21205875                                   0.215054   \n",
      "21229217                                   0.212766   \n",
      "21278747                                   0.210526   \n",
      "21307262                                   0.229167   \n",
      "...                                             ...   \n",
      "73205453                                   0.043074   \n",
      "73248678                                   0.043038   \n",
      "73300214                                   0.043002   \n",
      "73355073                                   0.042965   \n",
      "73388217                                   0.042929   \n",
      "\n",
      "          days_from_last_sales_that_not_zero  rate_sales  diff_stock  \n",
      "21180986                                 1.0         1.0        -1.0  \n",
      "21205875                                 1.0         0.0        -1.0  \n",
      "21229217                                 2.0         0.0         0.0  \n",
      "21278747                                 3.0         0.0         0.0  \n",
      "21307262                                 4.0         0.5         0.0  \n",
      "...                                      ...         ...         ...  \n",
      "73205453                               785.0         0.0         0.0  \n",
      "73248678                               786.0         0.0         0.0  \n",
      "73300214                               787.0         0.0         0.0  \n",
      "73355073                               788.0         0.0         0.0  \n",
      "73388217                               789.0         0.0         0.0  \n",
      "\n",
      "[1097 rows x 18 columns]\n"
     ]
    }
   ],
   "source": [
    "print(sku_store_df_step.iloc[100:])"
   ],
   "metadata": {
    "collapsed": false
   }
  },
  {
   "cell_type": "code",
   "execution_count": 23,
   "outputs": [],
   "source": [
    "\n",
    "dynamic_distribution_per_store = {}\n",
    "date = '2021-06-13'\n",
    "total_stock_warehouse = 104\n",
    "update_stock_remain = 104\n",
    "warehouse_dict = {}\n",
    "for sku in dict_of_all_data_after_preprocess.keys():\n",
    "    dynamic_distribution_per_store[sku] = {}\n",
    "    warehouse_dict[sku] = {}\n",
    "    for store in dict_of_all_data_after_preprocess[sku].keys():\n",
    "        dynamic_distribution_per_store[sku][store] = {}\n",
    "        date_data = dict_of_all_data_after_preprocess[sku][store][dict_of_all_data_after_preprocess[sku][store]['date'] <= date]\n",
    "        dynamic_distribution_per_store[sku][store]['initial_stock_in_store'] = date_data['palmers_first_allocation'].iloc[-1]\n",
    "        dynamic_distribution_per_store[sku][store]['current_stock_in_store'] = date_data['dynamic_stock_with_palmers_init'].iloc[-1]\n",
    "        dynamic_distribution_per_store[sku][store]['sales_cumsum'] =  date_data.set_index('date')['sales_cumsum']\n",
    "        dynamic_distribution_per_store[sku][store]['rate_sales'] = date_data.set_index('date')['rate_sales']\n",
    "        dynamic_distribution_per_store[sku][store]['sales_cumsum_divide_days_from_first_stock'] = date_data.set_index('date')['sales_cumsum_divide_days_from_first_stock']\n",
    "        dynamic_distribution_per_store[sku][store]['initial_stock_in_warehouse'] = total_stock_warehouse\n",
    "        update_stock_remain -= date_data['diff_stock'][date_data['diff_stock'] > 0].sum() - np.abs(date_data['sales'][date_data['sales'] < 0].sum())\n",
    "        dynamic_distribution_per_store[sku][store]['prior_original_distribution'] = dict_per_store_per_year['2020'][store] / (dict_per_store_per_year['2020']['100'] + dict_per_store_per_year['2020']['42'])\n",
    "        dynamic_distribution_per_store[sku][store]['prior_original_allocation_stock'] = np.round(dynamic_distribution_per_store[sku][store]['prior_original_distribution'] * total_stock_warehouse)\n",
    "        dynamic_distribution_per_store[sku][store]['sales'] = date_data.set_index('date')['sales']\n",
    "\n",
    "\n",
    "\n",
    "\n",
    "    warehouse_dict[sku]['initial_stock_in_warehouse'] = total_stock_warehouse\n",
    "    warehouse_dict[sku]['remain_stock'] = update_stock_remain\n",
    "    for store in dict_of_all_data_after_preprocess[sku].keys():\n",
    "        dynamic_distribution_per_store[sku][store]['initial_stock_in_warehouse'] = warehouse_dict[sku]['initial_stock_in_warehouse']\n",
    "        dynamic_distribution_per_store[sku][store]['remain_stock'] = warehouse_dict[sku]['remain_stock']\n",
    "\n"
   ],
   "metadata": {
    "collapsed": false
   }
  },
  {
   "cell_type": "code",
   "execution_count": 24,
   "outputs": [
    {
     "data": {
      "text/plain": "{'100630105000002': {'42': {'initial_stock_in_store': 20.0,\n   'current_stock_in_store': -24.0,\n   'sales_cumsum': date\n   2020-09-02     0.0\n   2020-09-03     0.0\n   2020-09-04     0.0\n   2020-09-05     0.0\n   2020-09-06     0.0\n                 ... \n   2021-06-09    44.0\n   2021-06-10    44.0\n   2021-06-11    44.0\n   2021-06-12    44.0\n   2021-06-13    44.0\n   Name: sales_cumsum, Length: 285, dtype: float64,\n   'rate_sales': date\n   2020-09-02    NaN\n   2020-09-03    NaN\n   2020-09-04    NaN\n   2020-09-05    NaN\n   2020-09-06    NaN\n                ... \n   2021-06-09    0.0\n   2021-06-10    0.0\n   2021-06-11    0.0\n   2021-06-12    0.0\n   2021-06-13    0.0\n   Name: rate_sales, Length: 285, dtype: float64,\n   'sales_cumsum_divide_days_from_first_stock': date\n   2020-09-02         NaN\n   2020-09-03         NaN\n   2020-09-04         NaN\n   2020-09-05         NaN\n   2020-09-06         NaN\n                   ...   \n   2021-06-09    0.161765\n   2021-06-10    0.161172\n   2021-06-11    0.160584\n   2021-06-12    0.160000\n   2021-06-13    0.159420\n   Name: sales_cumsum_divide_days_from_first_stock, Length: 285, dtype: float64,\n   'initial_stock_in_warehouse': 104,\n   'prior_original_distribution': 0.3625968942339883,\n   'prior_original_allocation_stock': 38.0,\n   'sales': date\n   2020-09-02    0.0\n   2020-09-03    0.0\n   2020-09-04    0.0\n   2020-09-05    0.0\n   2020-09-06    0.0\n                ... \n   2021-06-09    0.0\n   2021-06-10    0.0\n   2021-06-11    0.0\n   2021-06-12    0.0\n   2021-06-13    0.0\n   Name: sales, Length: 285, dtype: float64,\n   'remain_stock': 16.0},\n  '100': {'initial_stock_in_store': 25.0,\n   'current_stock_in_store': -14.0,\n   'sales_cumsum': date\n   2020-09-02     0.0\n   2020-09-03     0.0\n   2020-09-04     0.0\n   2020-09-05     0.0\n   2020-09-06     0.0\n                 ... \n   2021-06-09    39.0\n   2021-06-10    39.0\n   2021-06-11    39.0\n   2021-06-12    39.0\n   2021-06-13    39.0\n   Name: sales_cumsum, Length: 285, dtype: float64,\n   'rate_sales': date\n   2020-09-02    NaN\n   2020-09-03    NaN\n   2020-09-04    NaN\n   2020-09-05    NaN\n   2020-09-06    NaN\n                ... \n   2021-06-09    0.0\n   2021-06-10    0.0\n   2021-06-11    0.0\n   2021-06-12    0.0\n   2021-06-13    0.0\n   Name: rate_sales, Length: 285, dtype: float64,\n   'sales_cumsum_divide_days_from_first_stock': date\n   2020-09-02         NaN\n   2020-09-03         NaN\n   2020-09-04         NaN\n   2020-09-05         NaN\n   2020-09-06         NaN\n                   ...   \n   2021-06-09    0.143382\n   2021-06-10    0.142857\n   2021-06-11    0.142336\n   2021-06-12    0.141818\n   2021-06-13    0.141304\n   Name: sales_cumsum_divide_days_from_first_stock, Length: 285, dtype: float64,\n   'initial_stock_in_warehouse': 104,\n   'prior_original_distribution': 0.6374031057660117,\n   'prior_original_allocation_stock': 66.0,\n   'sales': date\n   2020-09-02    0.0\n   2020-09-03    0.0\n   2020-09-04    0.0\n   2020-09-05    0.0\n   2020-09-06    0.0\n                ... \n   2021-06-09    0.0\n   2021-06-10    0.0\n   2021-06-11    0.0\n   2021-06-12    0.0\n   2021-06-13    0.0\n   Name: sales, Length: 285, dtype: float64,\n   'remain_stock': 16.0}}}"
     },
     "execution_count": 24,
     "metadata": {},
     "output_type": "execute_result"
    }
   ],
   "source": [
    "dynamic_distribution_per_store"
   ],
   "metadata": {
    "collapsed": false
   }
  },
  {
   "cell_type": "code",
   "execution_count": 25,
   "outputs": [],
   "source": [
    "import warnings\n",
    "warnings.filterwarnings(\"ignore\")\n",
    "for sku in dynamic_distribution_per_store:\n",
    "    df_of_sales_cumsum_divide_days_from_first_stock = pd.DataFrame()\n",
    "    df_of_sales_rolling = pd.DataFrame()\n",
    "    df_of_dynamic_distribution_per_store = pd.DataFrame()\n",
    "    df_of_sales_rolling_factor = pd.DataFrame()\n",
    "    for store in dynamic_distribution_per_store[sku]:\n",
    "        initial_dist = dynamic_distribution_per_store[sku][store]['prior_original_distribution']\n",
    "        dynamic_dist = pd.Series([np.nan] * len(dynamic_distribution_per_store[sku][store]['sales_cumsum']),\n",
    "                                 index=dynamic_distribution_per_store[sku][store]['sales_cumsum'].index)\n",
    "        first_index_that_no_nan = dynamic_distribution_per_store[sku][store]['sales_cumsum_divide_days_from_first_stock'].first_valid_index()\n",
    "\n",
    "        dynamic_dist.loc[first_index_that_no_nan] = initial_dist\n",
    "        # delete dynamic_dist rows after first_index_that_no_nan\n",
    "        dynamic_dist = dynamic_dist.loc[:first_index_that_no_nan]\n",
    "\n",
    "        dynamic_distribution_per_store[sku][store]['dynamic_dist'] = dynamic_dist\n",
    "\n",
    "\n",
    "        df_of_sales_cumsum_divide_days_from_first_stock[store] = dynamic_distribution_per_store[sku][store]['sales_cumsum_divide_days_from_first_stock']\n",
    "\n",
    "        df_of_sales_rolling[f'{store}'] = dynamic_distribution_per_store[sku][store]['sales'].rolling(7).sum()\n",
    "        df_of_dynamic_distribution_per_store[store] = dynamic_distribution_per_store[sku][store]['dynamic_dist']\n",
    "   # df_of_dynamic_distribution_per_store = df_of_dynamic_distribution_per_store.ffill()\n",
    "    A1 =  df_of_sales_rolling.sub(df_of_sales_rolling.min(axis=1), axis=0)\n",
    "    A2 = A1.divide(A1.max(axis=1), axis=0).fillna(0)\n",
    "\n",
    "    df_of_sales_rolling_factor = A2\n",
    "\n"
   ],
   "metadata": {
    "collapsed": false
   }
  },
  {
   "cell_type": "code",
   "execution_count": 53,
   "outputs": [
    {
     "name": "stdout",
     "output_type": "stream",
     "text": [
      "2020-09-02 00:00:00\n",
      "2020-09-03 00:00:00\n",
      "2020-09-04 00:00:00\n",
      "2020-09-05 00:00:00\n",
      "2020-09-06 00:00:00\n",
      "2020-09-07 00:00:00\n",
      "2020-09-08 00:00:00\n",
      "2020-09-09 00:00:00\n",
      "2020-09-10 00:00:00\n",
      "2020-09-11 00:00:00\n",
      "2020-09-12 00:00:00\n",
      "######\n",
      "                  42       100\n",
      "2020-09-12  0.359007  0.640993\n",
      "2020-09-13 00:00:00\n",
      "######\n",
      "                                                           42  \\\n",
      "2020-09-13  42     0.495369\n",
      "100    0.494868\n",
      "Name: 2020-09-...   \n",
      "\n",
      "                                                          100  \n",
      "2020-09-13  42     0.504631\n",
      "100    0.505132\n",
      "Name: 2020-09-...  \n",
      "2020-09-14 00:00:00\n",
      "######\n",
      "                                                           42  \\\n",
      "2020-09-14  42     42     0.417268\n",
      "100    0.417510\n",
      "Name: 2...   \n",
      "\n",
      "                                                          100  \n",
      "2020-09-14  42     42     0.582732\n",
      "100    0.582490\n",
      "Name: 2...  \n",
      "2020-09-15 00:00:00\n",
      "######\n",
      "                                                           42  \\\n",
      "2020-09-15  42     42     42     0.464656\n",
      "100    0.464514\n",
      "...   \n",
      "\n",
      "                                                          100  \n",
      "2020-09-15  42     42     42     0.535344\n",
      "100    0.535486\n",
      "...  \n",
      "2020-09-16 00:00:00\n",
      "######\n",
      "                                                           42  \\\n",
      "2020-09-16  42     42     42     42     0.438416\n",
      "100    0....   \n",
      "\n",
      "                                                          100  \n",
      "2020-09-16  42     42     42     42     0.561584\n",
      "100    0....  \n",
      "2020-09-17 00:00:00\n",
      "######\n",
      "                                                           42  \\\n",
      "2020-09-17  42     42     42     42     42     0.446539\n",
      "10...   \n",
      "\n",
      "                                                          100  \n",
      "2020-09-17  42     42     42     42     42     0.553461\n",
      "10...  \n",
      "2020-09-18 00:00:00\n",
      "######\n",
      "                                                           42  \\\n",
      "2020-09-18  42     42     42     42     42     42     0.44...   \n",
      "\n",
      "                                                          100  \n",
      "2020-09-18  42     42     42     42     42     42     0.55...  \n",
      "2020-09-19 00:00:00\n",
      "######\n",
      "                                                           42  \\\n",
      "2020-09-19  42     42     42     42     42     42     42  ...   \n",
      "\n",
      "                                                          100  \n",
      "2020-09-19  42     42     42     42     42     42     42  ...  \n",
      "2020-09-20 00:00:00\n",
      "######\n",
      "                                                           42  \\\n",
      "2020-09-20  42     42     42     42     42     42     42  ...   \n",
      "\n",
      "                                                          100  \n",
      "2020-09-20  42     42     42     42     42     42     42  ...  \n",
      "2020-09-21 00:00:00\n",
      "######\n"
     ]
    },
    {
     "name": "stderr",
     "output_type": "stream",
     "text": [
      "/var/folders/sv/p02my_xx7t193mwjyb2ytt040000gn/T/ipykernel_43858/665493372.py:27: FutureWarning: The frame.append method is deprecated and will be removed from pandas in a future version. Use pandas.concat instead.\n",
      "  df_of_dynamic_distribution_per_store = df_of_dynamic_distribution_per_store.append(new_dist_list_norm)\n",
      "/var/folders/sv/p02my_xx7t193mwjyb2ytt040000gn/T/ipykernel_43858/665493372.py:27: FutureWarning: The frame.append method is deprecated and will be removed from pandas in a future version. Use pandas.concat instead.\n",
      "  df_of_dynamic_distribution_per_store = df_of_dynamic_distribution_per_store.append(new_dist_list_norm)\n",
      "/var/folders/sv/p02my_xx7t193mwjyb2ytt040000gn/T/ipykernel_43858/665493372.py:27: FutureWarning: The frame.append method is deprecated and will be removed from pandas in a future version. Use pandas.concat instead.\n",
      "  df_of_dynamic_distribution_per_store = df_of_dynamic_distribution_per_store.append(new_dist_list_norm)\n",
      "/var/folders/sv/p02my_xx7t193mwjyb2ytt040000gn/T/ipykernel_43858/665493372.py:27: FutureWarning: The frame.append method is deprecated and will be removed from pandas in a future version. Use pandas.concat instead.\n",
      "  df_of_dynamic_distribution_per_store = df_of_dynamic_distribution_per_store.append(new_dist_list_norm)\n",
      "/var/folders/sv/p02my_xx7t193mwjyb2ytt040000gn/T/ipykernel_43858/665493372.py:27: FutureWarning: The frame.append method is deprecated and will be removed from pandas in a future version. Use pandas.concat instead.\n",
      "  df_of_dynamic_distribution_per_store = df_of_dynamic_distribution_per_store.append(new_dist_list_norm)\n",
      "/var/folders/sv/p02my_xx7t193mwjyb2ytt040000gn/T/ipykernel_43858/665493372.py:27: FutureWarning: The frame.append method is deprecated and will be removed from pandas in a future version. Use pandas.concat instead.\n",
      "  df_of_dynamic_distribution_per_store = df_of_dynamic_distribution_per_store.append(new_dist_list_norm)\n",
      "/var/folders/sv/p02my_xx7t193mwjyb2ytt040000gn/T/ipykernel_43858/665493372.py:27: FutureWarning: The frame.append method is deprecated and will be removed from pandas in a future version. Use pandas.concat instead.\n",
      "  df_of_dynamic_distribution_per_store = df_of_dynamic_distribution_per_store.append(new_dist_list_norm)\n",
      "/var/folders/sv/p02my_xx7t193mwjyb2ytt040000gn/T/ipykernel_43858/665493372.py:27: FutureWarning: The frame.append method is deprecated and will be removed from pandas in a future version. Use pandas.concat instead.\n",
      "  df_of_dynamic_distribution_per_store = df_of_dynamic_distribution_per_store.append(new_dist_list_norm)\n",
      "/var/folders/sv/p02my_xx7t193mwjyb2ytt040000gn/T/ipykernel_43858/665493372.py:27: FutureWarning: The frame.append method is deprecated and will be removed from pandas in a future version. Use pandas.concat instead.\n",
      "  df_of_dynamic_distribution_per_store = df_of_dynamic_distribution_per_store.append(new_dist_list_norm)\n"
     ]
    },
    {
     "name": "stdout",
     "output_type": "stream",
     "text": [
      "                                                           42  \\\n",
      "2020-09-21  42     42     42     42     42     42     42  ...   \n",
      "\n",
      "                                                          100  \n",
      "2020-09-21  42     42     42     42     42     42     42  ...  \n",
      "2020-09-22 00:00:00\n",
      "######\n"
     ]
    },
    {
     "name": "stderr",
     "output_type": "stream",
     "text": [
      "/var/folders/sv/p02my_xx7t193mwjyb2ytt040000gn/T/ipykernel_43858/665493372.py:27: FutureWarning: The frame.append method is deprecated and will be removed from pandas in a future version. Use pandas.concat instead.\n",
      "  df_of_dynamic_distribution_per_store = df_of_dynamic_distribution_per_store.append(new_dist_list_norm)\n"
     ]
    },
    {
     "name": "stdout",
     "output_type": "stream",
     "text": [
      "                                                           42  \\\n",
      "2020-09-22  42     42     42     42     42     42     42  ...   \n",
      "\n",
      "                                                          100  \n",
      "2020-09-22  42     42     42     42     42     42     42  ...  \n",
      "2020-09-23 00:00:00\n"
     ]
    },
    {
     "name": "stderr",
     "output_type": "stream",
     "text": [
      "/var/folders/sv/p02my_xx7t193mwjyb2ytt040000gn/T/ipykernel_43858/665493372.py:27: FutureWarning: The frame.append method is deprecated and will be removed from pandas in a future version. Use pandas.concat instead.\n",
      "  df_of_dynamic_distribution_per_store = df_of_dynamic_distribution_per_store.append(new_dist_list_norm)\n"
     ]
    },
    {
     "name": "stdout",
     "output_type": "stream",
     "text": [
      "######\n",
      "                                                           42  \\\n",
      "2020-09-23  42     42     42     42     42     42     42  ...   \n",
      "\n",
      "                                                          100  \n",
      "2020-09-23  42     42     42     42     42     42     42  ...  \n",
      "2020-09-24 00:00:00\n"
     ]
    },
    {
     "name": "stderr",
     "output_type": "stream",
     "text": [
      "/var/folders/sv/p02my_xx7t193mwjyb2ytt040000gn/T/ipykernel_43858/665493372.py:27: FutureWarning: The frame.append method is deprecated and will be removed from pandas in a future version. Use pandas.concat instead.\n",
      "  df_of_dynamic_distribution_per_store = df_of_dynamic_distribution_per_store.append(new_dist_list_norm)\n"
     ]
    },
    {
     "name": "stdout",
     "output_type": "stream",
     "text": [
      "######\n",
      "                                                           42  \\\n",
      "2020-09-24  42     42     42     42     42     42     42  ...   \n",
      "\n",
      "                                                          100  \n",
      "2020-09-24  42     42     42     42     42     42     42  ...  \n",
      "2020-09-25 00:00:00\n"
     ]
    },
    {
     "name": "stderr",
     "output_type": "stream",
     "text": [
      "/var/folders/sv/p02my_xx7t193mwjyb2ytt040000gn/T/ipykernel_43858/665493372.py:27: FutureWarning: The frame.append method is deprecated and will be removed from pandas in a future version. Use pandas.concat instead.\n",
      "  df_of_dynamic_distribution_per_store = df_of_dynamic_distribution_per_store.append(new_dist_list_norm)\n"
     ]
    },
    {
     "name": "stdout",
     "output_type": "stream",
     "text": [
      "######\n",
      "                                                           42  \\\n",
      "2020-09-25  42     42     42     42     42     42     42  ...   \n",
      "\n",
      "                                                          100  \n",
      "2020-09-25  42     42     42     42     42     42     42  ...  \n",
      "2020-09-26 00:00:00\n"
     ]
    },
    {
     "name": "stderr",
     "output_type": "stream",
     "text": [
      "/var/folders/sv/p02my_xx7t193mwjyb2ytt040000gn/T/ipykernel_43858/665493372.py:27: FutureWarning: The frame.append method is deprecated and will be removed from pandas in a future version. Use pandas.concat instead.\n",
      "  df_of_dynamic_distribution_per_store = df_of_dynamic_distribution_per_store.append(new_dist_list_norm)\n"
     ]
    },
    {
     "name": "stdout",
     "output_type": "stream",
     "text": [
      "######\n",
      "                                                           42  \\\n",
      "2020-09-26  42     42     42     42     42     42     42  ...   \n",
      "\n",
      "                                                          100  \n",
      "2020-09-26  42     42     42     42     42     42     42  ...  \n",
      "2020-09-27 00:00:00\n"
     ]
    },
    {
     "name": "stderr",
     "output_type": "stream",
     "text": [
      "/var/folders/sv/p02my_xx7t193mwjyb2ytt040000gn/T/ipykernel_43858/665493372.py:27: FutureWarning: The frame.append method is deprecated and will be removed from pandas in a future version. Use pandas.concat instead.\n",
      "  df_of_dynamic_distribution_per_store = df_of_dynamic_distribution_per_store.append(new_dist_list_norm)\n"
     ]
    },
    {
     "name": "stdout",
     "output_type": "stream",
     "text": [
      "######\n",
      "                                                           42  \\\n",
      "2020-09-27  42     42     42     42     42     42     42  ...   \n",
      "\n",
      "                                                          100  \n",
      "2020-09-27  42     42     42     42     42     42     42  ...  \n",
      "2020-09-28 00:00:00\n"
     ]
    },
    {
     "name": "stderr",
     "output_type": "stream",
     "text": [
      "/var/folders/sv/p02my_xx7t193mwjyb2ytt040000gn/T/ipykernel_43858/665493372.py:27: FutureWarning: The frame.append method is deprecated and will be removed from pandas in a future version. Use pandas.concat instead.\n",
      "  df_of_dynamic_distribution_per_store = df_of_dynamic_distribution_per_store.append(new_dist_list_norm)\n"
     ]
    },
    {
     "name": "stdout",
     "output_type": "stream",
     "text": [
      "######\n",
      "                                                           42  \\\n",
      "2020-09-28  42     42     42     42     42     42     42  ...   \n",
      "\n",
      "                                                          100  \n",
      "2020-09-28  42     42     42     42     42     42     42  ...  \n",
      "2020-09-29 00:00:00\n"
     ]
    },
    {
     "name": "stderr",
     "output_type": "stream",
     "text": [
      "/var/folders/sv/p02my_xx7t193mwjyb2ytt040000gn/T/ipykernel_43858/665493372.py:27: FutureWarning: The frame.append method is deprecated and will be removed from pandas in a future version. Use pandas.concat instead.\n",
      "  df_of_dynamic_distribution_per_store = df_of_dynamic_distribution_per_store.append(new_dist_list_norm)\n"
     ]
    },
    {
     "ename": "KeyboardInterrupt",
     "evalue": "",
     "output_type": "error",
     "traceback": [
      "\u001B[0;31m---------------------------------------------------------------------------\u001B[0m",
      "\u001B[0;31mKeyboardInterrupt\u001B[0m                         Traceback (most recent call last)",
      "Cell \u001B[0;32mIn[53], line 23\u001B[0m\n\u001B[1;32m     20\u001B[0m     new_dist \u001B[38;5;241m=\u001B[39m old_dist \u001B[38;5;241m+\u001B[39m df_of_sales_rolling_factor_row[i] \u001B[38;5;241m*\u001B[39m \u001B[38;5;241m0.01\u001B[39m\n\u001B[1;32m     21\u001B[0m     new_dist_list\u001B[38;5;241m.\u001B[39mappend(new_dist)\n\u001B[0;32m---> 23\u001B[0m new_dist_list_norm \u001B[38;5;241m=\u001B[39m [x \u001B[38;5;241m/\u001B[39m \u001B[38;5;28msum\u001B[39m(new_dist_list) \u001B[38;5;28;01mfor\u001B[39;00m x \u001B[38;5;129;01min\u001B[39;00m new_dist_list]\n\u001B[1;32m     24\u001B[0m new_dist_list_norm \u001B[38;5;241m=\u001B[39m pd\u001B[38;5;241m.\u001B[39mDataFrame([new_dist_list_norm], columns\u001B[38;5;241m=\u001B[39mdf_of_dynamic_distribution_per_store\u001B[38;5;241m.\u001B[39mcolumns, index\u001B[38;5;241m=\u001B[39m[index])\n\u001B[1;32m     25\u001B[0m \u001B[38;5;28mprint\u001B[39m(\u001B[38;5;124m\"\u001B[39m\u001B[38;5;124m######\u001B[39m\u001B[38;5;124m\"\u001B[39m)\n",
      "Cell \u001B[0;32mIn[53], line 23\u001B[0m, in \u001B[0;36m<listcomp>\u001B[0;34m(.0)\u001B[0m\n\u001B[1;32m     20\u001B[0m     new_dist \u001B[38;5;241m=\u001B[39m old_dist \u001B[38;5;241m+\u001B[39m df_of_sales_rolling_factor_row[i] \u001B[38;5;241m*\u001B[39m \u001B[38;5;241m0.01\u001B[39m\n\u001B[1;32m     21\u001B[0m     new_dist_list\u001B[38;5;241m.\u001B[39mappend(new_dist)\n\u001B[0;32m---> 23\u001B[0m new_dist_list_norm \u001B[38;5;241m=\u001B[39m [x \u001B[38;5;241m/\u001B[39m \u001B[38;5;28;43msum\u001B[39;49m\u001B[43m(\u001B[49m\u001B[43mnew_dist_list\u001B[49m\u001B[43m)\u001B[49m \u001B[38;5;28;01mfor\u001B[39;00m x \u001B[38;5;129;01min\u001B[39;00m new_dist_list]\n\u001B[1;32m     24\u001B[0m new_dist_list_norm \u001B[38;5;241m=\u001B[39m pd\u001B[38;5;241m.\u001B[39mDataFrame([new_dist_list_norm], columns\u001B[38;5;241m=\u001B[39mdf_of_dynamic_distribution_per_store\u001B[38;5;241m.\u001B[39mcolumns, index\u001B[38;5;241m=\u001B[39m[index])\n\u001B[1;32m     25\u001B[0m \u001B[38;5;28mprint\u001B[39m(\u001B[38;5;124m\"\u001B[39m\u001B[38;5;124m######\u001B[39m\u001B[38;5;124m\"\u001B[39m)\n",
      "File \u001B[0;32m~/Desktop/Palmers/palmers/venv/local_oran/lib/python3.9/site-packages/pandas/core/ops/common.py:72\u001B[0m, in \u001B[0;36m_unpack_zerodim_and_defer.<locals>.new_method\u001B[0;34m(self, other)\u001B[0m\n\u001B[1;32m     68\u001B[0m             \u001B[38;5;28;01mreturn\u001B[39;00m \u001B[38;5;28mNotImplemented\u001B[39m\n\u001B[1;32m     70\u001B[0m other \u001B[38;5;241m=\u001B[39m item_from_zerodim(other)\n\u001B[0;32m---> 72\u001B[0m \u001B[38;5;28;01mreturn\u001B[39;00m \u001B[43mmethod\u001B[49m\u001B[43m(\u001B[49m\u001B[38;5;28;43mself\u001B[39;49m\u001B[43m,\u001B[49m\u001B[43m \u001B[49m\u001B[43mother\u001B[49m\u001B[43m)\u001B[49m\n",
      "File \u001B[0;32m~/Desktop/Palmers/palmers/venv/local_oran/lib/python3.9/site-packages/pandas/core/arraylike.py:102\u001B[0m, in \u001B[0;36mOpsMixin.__add__\u001B[0;34m(self, other)\u001B[0m\n\u001B[1;32m    100\u001B[0m \u001B[38;5;129m@unpack_zerodim_and_defer\u001B[39m(\u001B[38;5;124m\"\u001B[39m\u001B[38;5;124m__add__\u001B[39m\u001B[38;5;124m\"\u001B[39m)\n\u001B[1;32m    101\u001B[0m \u001B[38;5;28;01mdef\u001B[39;00m \u001B[38;5;21m__add__\u001B[39m(\u001B[38;5;28mself\u001B[39m, other):\n\u001B[0;32m--> 102\u001B[0m     \u001B[38;5;28;01mreturn\u001B[39;00m \u001B[38;5;28;43mself\u001B[39;49m\u001B[38;5;241;43m.\u001B[39;49m\u001B[43m_arith_method\u001B[49m\u001B[43m(\u001B[49m\u001B[43mother\u001B[49m\u001B[43m,\u001B[49m\u001B[43m \u001B[49m\u001B[43moperator\u001B[49m\u001B[38;5;241;43m.\u001B[39;49m\u001B[43madd\u001B[49m\u001B[43m)\u001B[49m\n",
      "File \u001B[0;32m~/Desktop/Palmers/palmers/venv/local_oran/lib/python3.9/site-packages/pandas/core/series.py:6259\u001B[0m, in \u001B[0;36mSeries._arith_method\u001B[0;34m(self, other, op)\u001B[0m\n\u001B[1;32m   6257\u001B[0m \u001B[38;5;28;01mdef\u001B[39;00m \u001B[38;5;21m_arith_method\u001B[39m(\u001B[38;5;28mself\u001B[39m, other, op):\n\u001B[1;32m   6258\u001B[0m     \u001B[38;5;28mself\u001B[39m, other \u001B[38;5;241m=\u001B[39m ops\u001B[38;5;241m.\u001B[39malign_method_SERIES(\u001B[38;5;28mself\u001B[39m, other)\n\u001B[0;32m-> 6259\u001B[0m     \u001B[38;5;28;01mreturn\u001B[39;00m \u001B[43mbase\u001B[49m\u001B[38;5;241;43m.\u001B[39;49m\u001B[43mIndexOpsMixin\u001B[49m\u001B[38;5;241;43m.\u001B[39;49m\u001B[43m_arith_method\u001B[49m\u001B[43m(\u001B[49m\u001B[38;5;28;43mself\u001B[39;49m\u001B[43m,\u001B[49m\u001B[43m \u001B[49m\u001B[43mother\u001B[49m\u001B[43m,\u001B[49m\u001B[43m \u001B[49m\u001B[43mop\u001B[49m\u001B[43m)\u001B[49m\n",
      "File \u001B[0;32m~/Desktop/Palmers/palmers/venv/local_oran/lib/python3.9/site-packages/pandas/core/base.py:1325\u001B[0m, in \u001B[0;36mIndexOpsMixin._arith_method\u001B[0;34m(self, other, op)\u001B[0m\n\u001B[1;32m   1322\u001B[0m rvalues \u001B[38;5;241m=\u001B[39m ensure_wrapped_if_datetimelike(rvalues)\n\u001B[1;32m   1324\u001B[0m \u001B[38;5;28;01mwith\u001B[39;00m np\u001B[38;5;241m.\u001B[39merrstate(\u001B[38;5;28mall\u001B[39m\u001B[38;5;241m=\u001B[39m\u001B[38;5;124m\"\u001B[39m\u001B[38;5;124mignore\u001B[39m\u001B[38;5;124m\"\u001B[39m):\n\u001B[0;32m-> 1325\u001B[0m     result \u001B[38;5;241m=\u001B[39m \u001B[43mops\u001B[49m\u001B[38;5;241;43m.\u001B[39;49m\u001B[43marithmetic_op\u001B[49m\u001B[43m(\u001B[49m\u001B[43mlvalues\u001B[49m\u001B[43m,\u001B[49m\u001B[43m \u001B[49m\u001B[43mrvalues\u001B[49m\u001B[43m,\u001B[49m\u001B[43m \u001B[49m\u001B[43mop\u001B[49m\u001B[43m)\u001B[49m\n\u001B[1;32m   1327\u001B[0m \u001B[38;5;28;01mreturn\u001B[39;00m \u001B[38;5;28mself\u001B[39m\u001B[38;5;241m.\u001B[39m_construct_result(result, name\u001B[38;5;241m=\u001B[39mres_name)\n",
      "File \u001B[0;32m~/Desktop/Palmers/palmers/venv/local_oran/lib/python3.9/site-packages/pandas/core/ops/array_ops.py:226\u001B[0m, in \u001B[0;36marithmetic_op\u001B[0;34m(left, right, op)\u001B[0m\n\u001B[1;32m    222\u001B[0m     _bool_arith_check(op, left, right)\n\u001B[1;32m    224\u001B[0m     \u001B[38;5;66;03m# error: Argument 1 to \"_na_arithmetic_op\" has incompatible type\u001B[39;00m\n\u001B[1;32m    225\u001B[0m     \u001B[38;5;66;03m# \"Union[ExtensionArray, ndarray[Any, Any]]\"; expected \"ndarray[Any, Any]\"\u001B[39;00m\n\u001B[0;32m--> 226\u001B[0m     res_values \u001B[38;5;241m=\u001B[39m \u001B[43m_na_arithmetic_op\u001B[49m\u001B[43m(\u001B[49m\u001B[43mleft\u001B[49m\u001B[43m,\u001B[49m\u001B[43m \u001B[49m\u001B[43mright\u001B[49m\u001B[43m,\u001B[49m\u001B[43m \u001B[49m\u001B[43mop\u001B[49m\u001B[43m)\u001B[49m  \u001B[38;5;66;03m# type: ignore[arg-type]\u001B[39;00m\n\u001B[1;32m    228\u001B[0m \u001B[38;5;28;01mreturn\u001B[39;00m res_values\n",
      "File \u001B[0;32m~/Desktop/Palmers/palmers/venv/local_oran/lib/python3.9/site-packages/pandas/core/ops/array_ops.py:165\u001B[0m, in \u001B[0;36m_na_arithmetic_op\u001B[0;34m(left, right, op, is_cmp)\u001B[0m\n\u001B[1;32m    162\u001B[0m     func \u001B[38;5;241m=\u001B[39m partial(expressions\u001B[38;5;241m.\u001B[39mevaluate, op)\n\u001B[1;32m    164\u001B[0m \u001B[38;5;28;01mtry\u001B[39;00m:\n\u001B[0;32m--> 165\u001B[0m     result \u001B[38;5;241m=\u001B[39m \u001B[43mfunc\u001B[49m\u001B[43m(\u001B[49m\u001B[43mleft\u001B[49m\u001B[43m,\u001B[49m\u001B[43m \u001B[49m\u001B[43mright\u001B[49m\u001B[43m)\u001B[49m\n\u001B[1;32m    166\u001B[0m \u001B[38;5;28;01mexcept\u001B[39;00m \u001B[38;5;167;01mTypeError\u001B[39;00m:\n\u001B[1;32m    167\u001B[0m     \u001B[38;5;28;01mif\u001B[39;00m \u001B[38;5;129;01mnot\u001B[39;00m is_cmp \u001B[38;5;129;01mand\u001B[39;00m (is_object_dtype(left\u001B[38;5;241m.\u001B[39mdtype) \u001B[38;5;129;01mor\u001B[39;00m is_object_dtype(right)):\n\u001B[1;32m    168\u001B[0m         \u001B[38;5;66;03m# For object dtype, fallback to a masked operation (only operating\u001B[39;00m\n\u001B[1;32m    169\u001B[0m         \u001B[38;5;66;03m#  on the non-missing values)\u001B[39;00m\n\u001B[1;32m    170\u001B[0m         \u001B[38;5;66;03m# Don't do this for comparisons, as that will handle complex numbers\u001B[39;00m\n\u001B[1;32m    171\u001B[0m         \u001B[38;5;66;03m#  incorrectly, see GH#32047\u001B[39;00m\n",
      "File \u001B[0;32m~/Desktop/Palmers/palmers/venv/local_oran/lib/python3.9/site-packages/pandas/core/computation/expressions.py:241\u001B[0m, in \u001B[0;36mevaluate\u001B[0;34m(op, a, b, use_numexpr)\u001B[0m\n\u001B[1;32m    238\u001B[0m \u001B[38;5;28;01mif\u001B[39;00m op_str \u001B[38;5;129;01mis\u001B[39;00m \u001B[38;5;129;01mnot\u001B[39;00m \u001B[38;5;28;01mNone\u001B[39;00m:\n\u001B[1;32m    239\u001B[0m     \u001B[38;5;28;01mif\u001B[39;00m use_numexpr:\n\u001B[1;32m    240\u001B[0m         \u001B[38;5;66;03m# error: \"None\" not callable\u001B[39;00m\n\u001B[0;32m--> 241\u001B[0m         \u001B[38;5;28;01mreturn\u001B[39;00m \u001B[43m_evaluate\u001B[49m\u001B[43m(\u001B[49m\u001B[43mop\u001B[49m\u001B[43m,\u001B[49m\u001B[43m \u001B[49m\u001B[43mop_str\u001B[49m\u001B[43m,\u001B[49m\u001B[43m \u001B[49m\u001B[43ma\u001B[49m\u001B[43m,\u001B[49m\u001B[43m \u001B[49m\u001B[43mb\u001B[49m\u001B[43m)\u001B[49m  \u001B[38;5;66;03m# type: ignore[misc]\u001B[39;00m\n\u001B[1;32m    242\u001B[0m \u001B[38;5;28;01mreturn\u001B[39;00m _evaluate_standard(op, op_str, a, b)\n",
      "File \u001B[0;32m~/Desktop/Palmers/palmers/venv/local_oran/lib/python3.9/site-packages/pandas/core/computation/expressions.py:70\u001B[0m, in \u001B[0;36m_evaluate_standard\u001B[0;34m(op, op_str, a, b)\u001B[0m\n\u001B[1;32m     68\u001B[0m \u001B[38;5;28;01mif\u001B[39;00m _TEST_MODE:\n\u001B[1;32m     69\u001B[0m     _store_test_result(\u001B[38;5;28;01mFalse\u001B[39;00m)\n\u001B[0;32m---> 70\u001B[0m \u001B[38;5;28;01mreturn\u001B[39;00m \u001B[43mop\u001B[49m\u001B[43m(\u001B[49m\u001B[43ma\u001B[49m\u001B[43m,\u001B[49m\u001B[43m \u001B[49m\u001B[43mb\u001B[49m\u001B[43m)\u001B[49m\n",
      "File \u001B[0;32m~/Desktop/Palmers/palmers/venv/local_oran/lib/python3.9/site-packages/pandas/core/ops/common.py:72\u001B[0m, in \u001B[0;36m_unpack_zerodim_and_defer.<locals>.new_method\u001B[0;34m(self, other)\u001B[0m\n\u001B[1;32m     68\u001B[0m             \u001B[38;5;28;01mreturn\u001B[39;00m \u001B[38;5;28mNotImplemented\u001B[39m\n\u001B[1;32m     70\u001B[0m other \u001B[38;5;241m=\u001B[39m item_from_zerodim(other)\n\u001B[0;32m---> 72\u001B[0m \u001B[38;5;28;01mreturn\u001B[39;00m \u001B[43mmethod\u001B[49m\u001B[43m(\u001B[49m\u001B[38;5;28;43mself\u001B[39;49m\u001B[43m,\u001B[49m\u001B[43m \u001B[49m\u001B[43mother\u001B[49m\u001B[43m)\u001B[49m\n",
      "File \u001B[0;32m~/Desktop/Palmers/palmers/venv/local_oran/lib/python3.9/site-packages/pandas/core/arraylike.py:106\u001B[0m, in \u001B[0;36mOpsMixin.__radd__\u001B[0;34m(self, other)\u001B[0m\n\u001B[1;32m    104\u001B[0m \u001B[38;5;129m@unpack_zerodim_and_defer\u001B[39m(\u001B[38;5;124m\"\u001B[39m\u001B[38;5;124m__radd__\u001B[39m\u001B[38;5;124m\"\u001B[39m)\n\u001B[1;32m    105\u001B[0m \u001B[38;5;28;01mdef\u001B[39;00m \u001B[38;5;21m__radd__\u001B[39m(\u001B[38;5;28mself\u001B[39m, other):\n\u001B[0;32m--> 106\u001B[0m     \u001B[38;5;28;01mreturn\u001B[39;00m \u001B[38;5;28;43mself\u001B[39;49m\u001B[38;5;241;43m.\u001B[39;49m\u001B[43m_arith_method\u001B[49m\u001B[43m(\u001B[49m\u001B[43mother\u001B[49m\u001B[43m,\u001B[49m\u001B[43m \u001B[49m\u001B[43mroperator\u001B[49m\u001B[38;5;241;43m.\u001B[39;49m\u001B[43mradd\u001B[49m\u001B[43m)\u001B[49m\n",
      "File \u001B[0;32m~/Desktop/Palmers/palmers/venv/local_oran/lib/python3.9/site-packages/pandas/core/series.py:6259\u001B[0m, in \u001B[0;36mSeries._arith_method\u001B[0;34m(self, other, op)\u001B[0m\n\u001B[1;32m   6257\u001B[0m \u001B[38;5;28;01mdef\u001B[39;00m \u001B[38;5;21m_arith_method\u001B[39m(\u001B[38;5;28mself\u001B[39m, other, op):\n\u001B[1;32m   6258\u001B[0m     \u001B[38;5;28mself\u001B[39m, other \u001B[38;5;241m=\u001B[39m ops\u001B[38;5;241m.\u001B[39malign_method_SERIES(\u001B[38;5;28mself\u001B[39m, other)\n\u001B[0;32m-> 6259\u001B[0m     \u001B[38;5;28;01mreturn\u001B[39;00m \u001B[43mbase\u001B[49m\u001B[38;5;241;43m.\u001B[39;49m\u001B[43mIndexOpsMixin\u001B[49m\u001B[38;5;241;43m.\u001B[39;49m\u001B[43m_arith_method\u001B[49m\u001B[43m(\u001B[49m\u001B[38;5;28;43mself\u001B[39;49m\u001B[43m,\u001B[49m\u001B[43m \u001B[49m\u001B[43mother\u001B[49m\u001B[43m,\u001B[49m\u001B[43m \u001B[49m\u001B[43mop\u001B[49m\u001B[43m)\u001B[49m\n",
      "File \u001B[0;32m~/Desktop/Palmers/palmers/venv/local_oran/lib/python3.9/site-packages/pandas/core/base.py:1325\u001B[0m, in \u001B[0;36mIndexOpsMixin._arith_method\u001B[0;34m(self, other, op)\u001B[0m\n\u001B[1;32m   1322\u001B[0m rvalues \u001B[38;5;241m=\u001B[39m ensure_wrapped_if_datetimelike(rvalues)\n\u001B[1;32m   1324\u001B[0m \u001B[38;5;28;01mwith\u001B[39;00m np\u001B[38;5;241m.\u001B[39merrstate(\u001B[38;5;28mall\u001B[39m\u001B[38;5;241m=\u001B[39m\u001B[38;5;124m\"\u001B[39m\u001B[38;5;124mignore\u001B[39m\u001B[38;5;124m\"\u001B[39m):\n\u001B[0;32m-> 1325\u001B[0m     result \u001B[38;5;241m=\u001B[39m \u001B[43mops\u001B[49m\u001B[38;5;241;43m.\u001B[39;49m\u001B[43marithmetic_op\u001B[49m\u001B[43m(\u001B[49m\u001B[43mlvalues\u001B[49m\u001B[43m,\u001B[49m\u001B[43m \u001B[49m\u001B[43mrvalues\u001B[49m\u001B[43m,\u001B[49m\u001B[43m \u001B[49m\u001B[43mop\u001B[49m\u001B[43m)\u001B[49m\n\u001B[1;32m   1327\u001B[0m \u001B[38;5;28;01mreturn\u001B[39;00m \u001B[38;5;28mself\u001B[39m\u001B[38;5;241m.\u001B[39m_construct_result(result, name\u001B[38;5;241m=\u001B[39mres_name)\n",
      "File \u001B[0;32m~/Desktop/Palmers/palmers/venv/local_oran/lib/python3.9/site-packages/pandas/core/ops/array_ops.py:226\u001B[0m, in \u001B[0;36marithmetic_op\u001B[0;34m(left, right, op)\u001B[0m\n\u001B[1;32m    222\u001B[0m     _bool_arith_check(op, left, right)\n\u001B[1;32m    224\u001B[0m     \u001B[38;5;66;03m# error: Argument 1 to \"_na_arithmetic_op\" has incompatible type\u001B[39;00m\n\u001B[1;32m    225\u001B[0m     \u001B[38;5;66;03m# \"Union[ExtensionArray, ndarray[Any, Any]]\"; expected \"ndarray[Any, Any]\"\u001B[39;00m\n\u001B[0;32m--> 226\u001B[0m     res_values \u001B[38;5;241m=\u001B[39m \u001B[43m_na_arithmetic_op\u001B[49m\u001B[43m(\u001B[49m\u001B[43mleft\u001B[49m\u001B[43m,\u001B[49m\u001B[43m \u001B[49m\u001B[43mright\u001B[49m\u001B[43m,\u001B[49m\u001B[43m \u001B[49m\u001B[43mop\u001B[49m\u001B[43m)\u001B[49m  \u001B[38;5;66;03m# type: ignore[arg-type]\u001B[39;00m\n\u001B[1;32m    228\u001B[0m \u001B[38;5;28;01mreturn\u001B[39;00m res_values\n",
      "File \u001B[0;32m~/Desktop/Palmers/palmers/venv/local_oran/lib/python3.9/site-packages/pandas/core/ops/array_ops.py:165\u001B[0m, in \u001B[0;36m_na_arithmetic_op\u001B[0;34m(left, right, op, is_cmp)\u001B[0m\n\u001B[1;32m    162\u001B[0m     func \u001B[38;5;241m=\u001B[39m partial(expressions\u001B[38;5;241m.\u001B[39mevaluate, op)\n\u001B[1;32m    164\u001B[0m \u001B[38;5;28;01mtry\u001B[39;00m:\n\u001B[0;32m--> 165\u001B[0m     result \u001B[38;5;241m=\u001B[39m \u001B[43mfunc\u001B[49m\u001B[43m(\u001B[49m\u001B[43mleft\u001B[49m\u001B[43m,\u001B[49m\u001B[43m \u001B[49m\u001B[43mright\u001B[49m\u001B[43m)\u001B[49m\n\u001B[1;32m    166\u001B[0m \u001B[38;5;28;01mexcept\u001B[39;00m \u001B[38;5;167;01mTypeError\u001B[39;00m:\n\u001B[1;32m    167\u001B[0m     \u001B[38;5;28;01mif\u001B[39;00m \u001B[38;5;129;01mnot\u001B[39;00m is_cmp \u001B[38;5;129;01mand\u001B[39;00m (is_object_dtype(left\u001B[38;5;241m.\u001B[39mdtype) \u001B[38;5;129;01mor\u001B[39;00m is_object_dtype(right)):\n\u001B[1;32m    168\u001B[0m         \u001B[38;5;66;03m# For object dtype, fallback to a masked operation (only operating\u001B[39;00m\n\u001B[1;32m    169\u001B[0m         \u001B[38;5;66;03m#  on the non-missing values)\u001B[39;00m\n\u001B[1;32m    170\u001B[0m         \u001B[38;5;66;03m# Don't do this for comparisons, as that will handle complex numbers\u001B[39;00m\n\u001B[1;32m    171\u001B[0m         \u001B[38;5;66;03m#  incorrectly, see GH#32047\u001B[39;00m\n",
      "File \u001B[0;32m~/Desktop/Palmers/palmers/venv/local_oran/lib/python3.9/site-packages/pandas/core/computation/expressions.py:241\u001B[0m, in \u001B[0;36mevaluate\u001B[0;34m(op, a, b, use_numexpr)\u001B[0m\n\u001B[1;32m    238\u001B[0m \u001B[38;5;28;01mif\u001B[39;00m op_str \u001B[38;5;129;01mis\u001B[39;00m \u001B[38;5;129;01mnot\u001B[39;00m \u001B[38;5;28;01mNone\u001B[39;00m:\n\u001B[1;32m    239\u001B[0m     \u001B[38;5;28;01mif\u001B[39;00m use_numexpr:\n\u001B[1;32m    240\u001B[0m         \u001B[38;5;66;03m# error: \"None\" not callable\u001B[39;00m\n\u001B[0;32m--> 241\u001B[0m         \u001B[38;5;28;01mreturn\u001B[39;00m \u001B[43m_evaluate\u001B[49m\u001B[43m(\u001B[49m\u001B[43mop\u001B[49m\u001B[43m,\u001B[49m\u001B[43m \u001B[49m\u001B[43mop_str\u001B[49m\u001B[43m,\u001B[49m\u001B[43m \u001B[49m\u001B[43ma\u001B[49m\u001B[43m,\u001B[49m\u001B[43m \u001B[49m\u001B[43mb\u001B[49m\u001B[43m)\u001B[49m  \u001B[38;5;66;03m# type: ignore[misc]\u001B[39;00m\n\u001B[1;32m    242\u001B[0m \u001B[38;5;28;01mreturn\u001B[39;00m _evaluate_standard(op, op_str, a, b)\n",
      "File \u001B[0;32m~/Desktop/Palmers/palmers/venv/local_oran/lib/python3.9/site-packages/pandas/core/computation/expressions.py:70\u001B[0m, in \u001B[0;36m_evaluate_standard\u001B[0;34m(op, op_str, a, b)\u001B[0m\n\u001B[1;32m     68\u001B[0m \u001B[38;5;28;01mif\u001B[39;00m _TEST_MODE:\n\u001B[1;32m     69\u001B[0m     _store_test_result(\u001B[38;5;28;01mFalse\u001B[39;00m)\n\u001B[0;32m---> 70\u001B[0m \u001B[38;5;28;01mreturn\u001B[39;00m \u001B[43mop\u001B[49m\u001B[43m(\u001B[49m\u001B[43ma\u001B[49m\u001B[43m,\u001B[49m\u001B[43m \u001B[49m\u001B[43mb\u001B[49m\u001B[43m)\u001B[49m\n",
      "File \u001B[0;32m~/Desktop/Palmers/palmers/venv/local_oran/lib/python3.9/site-packages/pandas/core/roperator.py:11\u001B[0m, in \u001B[0;36mradd\u001B[0;34m(left, right)\u001B[0m\n\u001B[1;32m     10\u001B[0m \u001B[38;5;28;01mdef\u001B[39;00m \u001B[38;5;21mradd\u001B[39m(left, right):\n\u001B[0;32m---> 11\u001B[0m     \u001B[38;5;28;01mreturn\u001B[39;00m \u001B[43mright\u001B[49m\u001B[43m \u001B[49m\u001B[38;5;241;43m+\u001B[39;49m\u001B[43m \u001B[49m\u001B[43mleft\u001B[49m\n",
      "File \u001B[0;32m~/Desktop/Palmers/palmers/venv/local_oran/lib/python3.9/site-packages/pandas/core/ops/common.py:72\u001B[0m, in \u001B[0;36m_unpack_zerodim_and_defer.<locals>.new_method\u001B[0;34m(self, other)\u001B[0m\n\u001B[1;32m     68\u001B[0m             \u001B[38;5;28;01mreturn\u001B[39;00m \u001B[38;5;28mNotImplemented\u001B[39m\n\u001B[1;32m     70\u001B[0m other \u001B[38;5;241m=\u001B[39m item_from_zerodim(other)\n\u001B[0;32m---> 72\u001B[0m \u001B[38;5;28;01mreturn\u001B[39;00m \u001B[43mmethod\u001B[49m\u001B[43m(\u001B[49m\u001B[38;5;28;43mself\u001B[39;49m\u001B[43m,\u001B[49m\u001B[43m \u001B[49m\u001B[43mother\u001B[49m\u001B[43m)\u001B[49m\n",
      "File \u001B[0;32m~/Desktop/Palmers/palmers/venv/local_oran/lib/python3.9/site-packages/pandas/core/arraylike.py:106\u001B[0m, in \u001B[0;36mOpsMixin.__radd__\u001B[0;34m(self, other)\u001B[0m\n\u001B[1;32m    104\u001B[0m \u001B[38;5;129m@unpack_zerodim_and_defer\u001B[39m(\u001B[38;5;124m\"\u001B[39m\u001B[38;5;124m__radd__\u001B[39m\u001B[38;5;124m\"\u001B[39m)\n\u001B[1;32m    105\u001B[0m \u001B[38;5;28;01mdef\u001B[39;00m \u001B[38;5;21m__radd__\u001B[39m(\u001B[38;5;28mself\u001B[39m, other):\n\u001B[0;32m--> 106\u001B[0m     \u001B[38;5;28;01mreturn\u001B[39;00m \u001B[38;5;28;43mself\u001B[39;49m\u001B[38;5;241;43m.\u001B[39;49m\u001B[43m_arith_method\u001B[49m\u001B[43m(\u001B[49m\u001B[43mother\u001B[49m\u001B[43m,\u001B[49m\u001B[43m \u001B[49m\u001B[43mroperator\u001B[49m\u001B[38;5;241;43m.\u001B[39;49m\u001B[43mradd\u001B[49m\u001B[43m)\u001B[49m\n",
      "    \u001B[0;31m[... skipping similar frames: Series._arith_method at line 6259 (1 times), IndexOpsMixin._arith_method at line 1325 (1 times), _evaluate_standard at line 70 (1 times), _na_arithmetic_op at line 165 (1 times), arithmetic_op at line 226 (1 times), evaluate at line 241 (1 times)]\u001B[0m\n",
      "File \u001B[0;32m~/Desktop/Palmers/palmers/venv/local_oran/lib/python3.9/site-packages/pandas/core/roperator.py:11\u001B[0m, in \u001B[0;36mradd\u001B[0;34m(left, right)\u001B[0m\n\u001B[1;32m     10\u001B[0m \u001B[38;5;28;01mdef\u001B[39;00m \u001B[38;5;21mradd\u001B[39m(left, right):\n\u001B[0;32m---> 11\u001B[0m     \u001B[38;5;28;01mreturn\u001B[39;00m \u001B[43mright\u001B[49m\u001B[43m \u001B[49m\u001B[38;5;241;43m+\u001B[39;49m\u001B[43m \u001B[49m\u001B[43mleft\u001B[49m\n",
      "    \u001B[0;31m[... skipping similar frames: OpsMixin.__radd__ at line 106 (11 times), Series._arith_method at line 6259 (11 times), IndexOpsMixin._arith_method at line 1325 (11 times), _evaluate_standard at line 70 (11 times), _na_arithmetic_op at line 165 (11 times), arithmetic_op at line 226 (11 times), evaluate at line 241 (11 times), _unpack_zerodim_and_defer.<locals>.new_method at line 72 (11 times), radd at line 11 (11 times)]\u001B[0m\n",
      "File \u001B[0;32m~/Desktop/Palmers/palmers/venv/local_oran/lib/python3.9/site-packages/pandas/core/ops/common.py:72\u001B[0m, in \u001B[0;36m_unpack_zerodim_and_defer.<locals>.new_method\u001B[0;34m(self, other)\u001B[0m\n\u001B[1;32m     68\u001B[0m             \u001B[38;5;28;01mreturn\u001B[39;00m \u001B[38;5;28mNotImplemented\u001B[39m\n\u001B[1;32m     70\u001B[0m other \u001B[38;5;241m=\u001B[39m item_from_zerodim(other)\n\u001B[0;32m---> 72\u001B[0m \u001B[38;5;28;01mreturn\u001B[39;00m \u001B[43mmethod\u001B[49m\u001B[43m(\u001B[49m\u001B[38;5;28;43mself\u001B[39;49m\u001B[43m,\u001B[49m\u001B[43m \u001B[49m\u001B[43mother\u001B[49m\u001B[43m)\u001B[49m\n",
      "File \u001B[0;32m~/Desktop/Palmers/palmers/venv/local_oran/lib/python3.9/site-packages/pandas/core/arraylike.py:106\u001B[0m, in \u001B[0;36mOpsMixin.__radd__\u001B[0;34m(self, other)\u001B[0m\n\u001B[1;32m    104\u001B[0m \u001B[38;5;129m@unpack_zerodim_and_defer\u001B[39m(\u001B[38;5;124m\"\u001B[39m\u001B[38;5;124m__radd__\u001B[39m\u001B[38;5;124m\"\u001B[39m)\n\u001B[1;32m    105\u001B[0m \u001B[38;5;28;01mdef\u001B[39;00m \u001B[38;5;21m__radd__\u001B[39m(\u001B[38;5;28mself\u001B[39m, other):\n\u001B[0;32m--> 106\u001B[0m     \u001B[38;5;28;01mreturn\u001B[39;00m \u001B[38;5;28;43mself\u001B[39;49m\u001B[38;5;241;43m.\u001B[39;49m\u001B[43m_arith_method\u001B[49m\u001B[43m(\u001B[49m\u001B[43mother\u001B[49m\u001B[43m,\u001B[49m\u001B[43m \u001B[49m\u001B[43mroperator\u001B[49m\u001B[38;5;241;43m.\u001B[39;49m\u001B[43mradd\u001B[49m\u001B[43m)\u001B[49m\n",
      "File \u001B[0;32m~/Desktop/Palmers/palmers/venv/local_oran/lib/python3.9/site-packages/pandas/core/series.py:6259\u001B[0m, in \u001B[0;36mSeries._arith_method\u001B[0;34m(self, other, op)\u001B[0m\n\u001B[1;32m   6257\u001B[0m \u001B[38;5;28;01mdef\u001B[39;00m \u001B[38;5;21m_arith_method\u001B[39m(\u001B[38;5;28mself\u001B[39m, other, op):\n\u001B[1;32m   6258\u001B[0m     \u001B[38;5;28mself\u001B[39m, other \u001B[38;5;241m=\u001B[39m ops\u001B[38;5;241m.\u001B[39malign_method_SERIES(\u001B[38;5;28mself\u001B[39m, other)\n\u001B[0;32m-> 6259\u001B[0m     \u001B[38;5;28;01mreturn\u001B[39;00m \u001B[43mbase\u001B[49m\u001B[38;5;241;43m.\u001B[39;49m\u001B[43mIndexOpsMixin\u001B[49m\u001B[38;5;241;43m.\u001B[39;49m\u001B[43m_arith_method\u001B[49m\u001B[43m(\u001B[49m\u001B[38;5;28;43mself\u001B[39;49m\u001B[43m,\u001B[49m\u001B[43m \u001B[49m\u001B[43mother\u001B[49m\u001B[43m,\u001B[49m\u001B[43m \u001B[49m\u001B[43mop\u001B[49m\u001B[43m)\u001B[49m\n",
      "File \u001B[0;32m~/Desktop/Palmers/palmers/venv/local_oran/lib/python3.9/site-packages/pandas/core/base.py:1325\u001B[0m, in \u001B[0;36mIndexOpsMixin._arith_method\u001B[0;34m(self, other, op)\u001B[0m\n\u001B[1;32m   1322\u001B[0m rvalues \u001B[38;5;241m=\u001B[39m ensure_wrapped_if_datetimelike(rvalues)\n\u001B[1;32m   1324\u001B[0m \u001B[38;5;28;01mwith\u001B[39;00m np\u001B[38;5;241m.\u001B[39merrstate(\u001B[38;5;28mall\u001B[39m\u001B[38;5;241m=\u001B[39m\u001B[38;5;124m\"\u001B[39m\u001B[38;5;124mignore\u001B[39m\u001B[38;5;124m\"\u001B[39m):\n\u001B[0;32m-> 1325\u001B[0m     result \u001B[38;5;241m=\u001B[39m \u001B[43mops\u001B[49m\u001B[38;5;241;43m.\u001B[39;49m\u001B[43marithmetic_op\u001B[49m\u001B[43m(\u001B[49m\u001B[43mlvalues\u001B[49m\u001B[43m,\u001B[49m\u001B[43m \u001B[49m\u001B[43mrvalues\u001B[49m\u001B[43m,\u001B[49m\u001B[43m \u001B[49m\u001B[43mop\u001B[49m\u001B[43m)\u001B[49m\n\u001B[1;32m   1327\u001B[0m \u001B[38;5;28;01mreturn\u001B[39;00m \u001B[38;5;28mself\u001B[39m\u001B[38;5;241m.\u001B[39m_construct_result(result, name\u001B[38;5;241m=\u001B[39mres_name)\n",
      "File \u001B[0;32m~/Desktop/Palmers/palmers/venv/local_oran/lib/python3.9/site-packages/pandas/core/ops/array_ops.py:226\u001B[0m, in \u001B[0;36marithmetic_op\u001B[0;34m(left, right, op)\u001B[0m\n\u001B[1;32m    222\u001B[0m     _bool_arith_check(op, left, right)\n\u001B[1;32m    224\u001B[0m     \u001B[38;5;66;03m# error: Argument 1 to \"_na_arithmetic_op\" has incompatible type\u001B[39;00m\n\u001B[1;32m    225\u001B[0m     \u001B[38;5;66;03m# \"Union[ExtensionArray, ndarray[Any, Any]]\"; expected \"ndarray[Any, Any]\"\u001B[39;00m\n\u001B[0;32m--> 226\u001B[0m     res_values \u001B[38;5;241m=\u001B[39m \u001B[43m_na_arithmetic_op\u001B[49m\u001B[43m(\u001B[49m\u001B[43mleft\u001B[49m\u001B[43m,\u001B[49m\u001B[43m \u001B[49m\u001B[43mright\u001B[49m\u001B[43m,\u001B[49m\u001B[43m \u001B[49m\u001B[43mop\u001B[49m\u001B[43m)\u001B[49m  \u001B[38;5;66;03m# type: ignore[arg-type]\u001B[39;00m\n\u001B[1;32m    228\u001B[0m \u001B[38;5;28;01mreturn\u001B[39;00m res_values\n",
      "File \u001B[0;32m~/Desktop/Palmers/palmers/venv/local_oran/lib/python3.9/site-packages/pandas/core/ops/array_ops.py:165\u001B[0m, in \u001B[0;36m_na_arithmetic_op\u001B[0;34m(left, right, op, is_cmp)\u001B[0m\n\u001B[1;32m    162\u001B[0m     func \u001B[38;5;241m=\u001B[39m partial(expressions\u001B[38;5;241m.\u001B[39mevaluate, op)\n\u001B[1;32m    164\u001B[0m \u001B[38;5;28;01mtry\u001B[39;00m:\n\u001B[0;32m--> 165\u001B[0m     result \u001B[38;5;241m=\u001B[39m \u001B[43mfunc\u001B[49m\u001B[43m(\u001B[49m\u001B[43mleft\u001B[49m\u001B[43m,\u001B[49m\u001B[43m \u001B[49m\u001B[43mright\u001B[49m\u001B[43m)\u001B[49m\n\u001B[1;32m    166\u001B[0m \u001B[38;5;28;01mexcept\u001B[39;00m \u001B[38;5;167;01mTypeError\u001B[39;00m:\n\u001B[1;32m    167\u001B[0m     \u001B[38;5;28;01mif\u001B[39;00m \u001B[38;5;129;01mnot\u001B[39;00m is_cmp \u001B[38;5;129;01mand\u001B[39;00m (is_object_dtype(left\u001B[38;5;241m.\u001B[39mdtype) \u001B[38;5;129;01mor\u001B[39;00m is_object_dtype(right)):\n\u001B[1;32m    168\u001B[0m         \u001B[38;5;66;03m# For object dtype, fallback to a masked operation (only operating\u001B[39;00m\n\u001B[1;32m    169\u001B[0m         \u001B[38;5;66;03m#  on the non-missing values)\u001B[39;00m\n\u001B[1;32m    170\u001B[0m         \u001B[38;5;66;03m# Don't do this for comparisons, as that will handle complex numbers\u001B[39;00m\n\u001B[1;32m    171\u001B[0m         \u001B[38;5;66;03m#  incorrectly, see GH#32047\u001B[39;00m\n",
      "File \u001B[0;32m~/Desktop/Palmers/palmers/venv/local_oran/lib/python3.9/site-packages/pandas/core/computation/expressions.py:241\u001B[0m, in \u001B[0;36mevaluate\u001B[0;34m(op, a, b, use_numexpr)\u001B[0m\n\u001B[1;32m    238\u001B[0m \u001B[38;5;28;01mif\u001B[39;00m op_str \u001B[38;5;129;01mis\u001B[39;00m \u001B[38;5;129;01mnot\u001B[39;00m \u001B[38;5;28;01mNone\u001B[39;00m:\n\u001B[1;32m    239\u001B[0m     \u001B[38;5;28;01mif\u001B[39;00m use_numexpr:\n\u001B[1;32m    240\u001B[0m         \u001B[38;5;66;03m# error: \"None\" not callable\u001B[39;00m\n\u001B[0;32m--> 241\u001B[0m         \u001B[38;5;28;01mreturn\u001B[39;00m \u001B[43m_evaluate\u001B[49m\u001B[43m(\u001B[49m\u001B[43mop\u001B[49m\u001B[43m,\u001B[49m\u001B[43m \u001B[49m\u001B[43mop_str\u001B[49m\u001B[43m,\u001B[49m\u001B[43m \u001B[49m\u001B[43ma\u001B[49m\u001B[43m,\u001B[49m\u001B[43m \u001B[49m\u001B[43mb\u001B[49m\u001B[43m)\u001B[49m  \u001B[38;5;66;03m# type: ignore[misc]\u001B[39;00m\n\u001B[1;32m    242\u001B[0m \u001B[38;5;28;01mreturn\u001B[39;00m _evaluate_standard(op, op_str, a, b)\n",
      "File \u001B[0;32m~/Desktop/Palmers/palmers/venv/local_oran/lib/python3.9/site-packages/pandas/core/computation/expressions.py:70\u001B[0m, in \u001B[0;36m_evaluate_standard\u001B[0;34m(op, op_str, a, b)\u001B[0m\n\u001B[1;32m     68\u001B[0m \u001B[38;5;28;01mif\u001B[39;00m _TEST_MODE:\n\u001B[1;32m     69\u001B[0m     _store_test_result(\u001B[38;5;28;01mFalse\u001B[39;00m)\n\u001B[0;32m---> 70\u001B[0m \u001B[38;5;28;01mreturn\u001B[39;00m \u001B[43mop\u001B[49m\u001B[43m(\u001B[49m\u001B[43ma\u001B[49m\u001B[43m,\u001B[49m\u001B[43m \u001B[49m\u001B[43mb\u001B[49m\u001B[43m)\u001B[49m\n",
      "File \u001B[0;32m~/Desktop/Palmers/palmers/venv/local_oran/lib/python3.9/site-packages/pandas/core/roperator.py:11\u001B[0m, in \u001B[0;36mradd\u001B[0;34m(left, right)\u001B[0m\n\u001B[1;32m     10\u001B[0m \u001B[38;5;28;01mdef\u001B[39;00m \u001B[38;5;21mradd\u001B[39m(left, right):\n\u001B[0;32m---> 11\u001B[0m     \u001B[38;5;28;01mreturn\u001B[39;00m \u001B[43mright\u001B[49m\u001B[43m \u001B[49m\u001B[38;5;241;43m+\u001B[39;49m\u001B[43m \u001B[49m\u001B[43mleft\u001B[49m\n",
      "File \u001B[0;32m~/Desktop/Palmers/palmers/venv/local_oran/lib/python3.9/site-packages/pandas/core/ops/common.py:65\u001B[0m, in \u001B[0;36m_unpack_zerodim_and_defer.<locals>.new_method\u001B[0;34m(self, other)\u001B[0m\n\u001B[1;32m     63\u001B[0m \u001B[38;5;28;01melse\u001B[39;00m:\n\u001B[1;32m     64\u001B[0m     \u001B[38;5;28;01mfor\u001B[39;00m \u001B[38;5;28mcls\u001B[39m \u001B[38;5;129;01min\u001B[39;00m [ABCDataFrame, ABCSeries, ABCIndex]:\n\u001B[0;32m---> 65\u001B[0m         \u001B[38;5;28;01mif\u001B[39;00m \u001B[38;5;28;43misinstance\u001B[39;49m\u001B[43m(\u001B[49m\u001B[38;5;28;43mself\u001B[39;49m\u001B[43m,\u001B[49m\u001B[43m \u001B[49m\u001B[38;5;28;43mcls\u001B[39;49m\u001B[43m)\u001B[49m:\n\u001B[1;32m     66\u001B[0m             \u001B[38;5;28;01mbreak\u001B[39;00m\n\u001B[1;32m     67\u001B[0m         \u001B[38;5;28;01mif\u001B[39;00m \u001B[38;5;28misinstance\u001B[39m(other, \u001B[38;5;28mcls\u001B[39m):\n",
      "File \u001B[0;32m~/Desktop/Palmers/palmers/venv/local_oran/lib/python3.9/site-packages/pandas/core/dtypes/generic.py:45\u001B[0m, in \u001B[0;36mcreate_pandas_abc_type.<locals>._instancecheck\u001B[0;34m(cls, inst)\u001B[0m\n\u001B[1;32m     41\u001B[0m     \u001B[38;5;28;01mreturn\u001B[39;00m \u001B[38;5;28mgetattr\u001B[39m(inst, attr, \u001B[38;5;124m\"\u001B[39m\u001B[38;5;124m_typ\u001B[39m\u001B[38;5;124m\"\u001B[39m) \u001B[38;5;129;01min\u001B[39;00m comp\n\u001B[1;32m     43\u001B[0m \u001B[38;5;66;03m# https://github.com/python/mypy/issues/1006\u001B[39;00m\n\u001B[1;32m     44\u001B[0m \u001B[38;5;66;03m# error: 'classmethod' used with a non-method\u001B[39;00m\n\u001B[0;32m---> 45\u001B[0m \u001B[38;5;129m@classmethod\u001B[39m  \u001B[38;5;66;03m# type: ignore[misc]\u001B[39;00m\n\u001B[1;32m     46\u001B[0m \u001B[38;5;28;01mdef\u001B[39;00m \u001B[38;5;21m_instancecheck\u001B[39m(\u001B[38;5;28mcls\u001B[39m, inst) \u001B[38;5;241m-\u001B[39m\u001B[38;5;241m>\u001B[39m \u001B[38;5;28mbool\u001B[39m:\n\u001B[1;32m     47\u001B[0m     \u001B[38;5;28;01mreturn\u001B[39;00m _check(inst) \u001B[38;5;129;01mand\u001B[39;00m \u001B[38;5;129;01mnot\u001B[39;00m \u001B[38;5;28misinstance\u001B[39m(inst, \u001B[38;5;28mtype\u001B[39m)\n\u001B[1;32m     49\u001B[0m \u001B[38;5;129m@classmethod\u001B[39m  \u001B[38;5;66;03m# type: ignore[misc]\u001B[39;00m\n\u001B[1;32m     50\u001B[0m \u001B[38;5;28;01mdef\u001B[39;00m \u001B[38;5;21m_subclasscheck\u001B[39m(\u001B[38;5;28mcls\u001B[39m, inst) \u001B[38;5;241m-\u001B[39m\u001B[38;5;241m>\u001B[39m \u001B[38;5;28mbool\u001B[39m:\n\u001B[1;32m     51\u001B[0m     \u001B[38;5;66;03m# Raise instead of returning False\u001B[39;00m\n\u001B[1;32m     52\u001B[0m     \u001B[38;5;66;03m# This is consistent with default __subclasscheck__ behavior\u001B[39;00m\n",
      "\u001B[0;31mKeyboardInterrupt\u001B[0m: "
     ]
    }
   ],
   "source": [
    "k = 0\n",
    "for index, row in df_of_sales_cumsum_divide_days_from_first_stock.iterrows():\n",
    "    print(index)\n",
    "    if row.isnull().all():\n",
    "        pass\n",
    "    else:\n",
    "        k += 1\n",
    "        if k == 1:\n",
    "            pass\n",
    "\n",
    "        else:\n",
    "            dynamic_distribution_per_store_row = df_of_dynamic_distribution_per_store.loc[index - pd.Timedelta(days=1)]\n",
    "            df_of_sales_rolling_factor_row = df_of_sales_rolling_factor.loc[index]\n",
    "            if sum(df_of_sales_rolling_factor_row) == 0:\n",
    "                # replace in uniuon disterbution. if there is 3 stores and all of them have 0 sales, then we will replace with 1/3\n",
    "                df_of_sales_rolling_factor_row = [1 / len(dynamic_distribution_per_store_row)] * len(dynamic_distribution_per_store_row)\n",
    "            new_dist_list = []\n",
    "            for i in range(len(dynamic_distribution_per_store_row)):\n",
    "                old_dist = dynamic_distribution_per_store_row.iloc[i]\n",
    "                new_dist = old_dist + df_of_sales_rolling_factor_row[i] * 0.01\n",
    "                new_dist_list.append(new_dist)\n",
    "\n",
    "            new_dist_list_norm = [x / sum(new_dist_list) for x in new_dist_list]\n",
    "            new_dist_list_norm = pd.DataFrame([new_dist_list_norm], columns=df_of_dynamic_distribution_per_store.columns, index=[index])\n",
    "            print(\"######\")\n",
    "            print(new_dist_list_norm)\n",
    "            df_of_dynamic_distribution_per_store = df_of_dynamic_distribution_per_store.append(new_dist_list_norm)\n"
   ],
   "metadata": {
    "collapsed": false
   }
  },
  {
   "cell_type": "code",
   "execution_count": 52,
   "outputs": [
    {
     "data": {
      "text/plain": "                  42       100\n2020-09-10       NaN       NaN\n2020-09-11  0.362597  0.637403\n2020-09-12  0.362235  0.637765\n2020-09-13  0.361873  0.638127\n2020-09-14  0.361511  0.638489\n2020-09-15  0.361650  0.638350\n2020-09-16  0.361788  0.638212\n2020-09-17  0.361426  0.638574\n2020-09-18  0.361065  0.638935\n2020-09-19  0.361204  0.638796\n2020-09-20  0.361343  0.638657\n2020-09-21  0.361481  0.638519\n2020-09-22  0.361120  0.638880\n2020-09-23  0.360759  0.639241\n2020-09-24  0.361398  0.638602\n2020-09-25  0.362036  0.637964\n2020-09-26  0.362673  0.637327\n2020-09-27  0.363310  0.636690\n2020-09-28  0.363946  0.636054\n2020-09-29  0.364581  0.635419\n2020-09-30  0.365216  0.634784\n2020-10-01  0.365850  0.634150",
      "text/html": "<div>\n<style scoped>\n    .dataframe tbody tr th:only-of-type {\n        vertical-align: middle;\n    }\n\n    .dataframe tbody tr th {\n        vertical-align: top;\n    }\n\n    .dataframe thead th {\n        text-align: right;\n    }\n</style>\n<table border=\"1\" class=\"dataframe\">\n  <thead>\n    <tr style=\"text-align: right;\">\n      <th></th>\n      <th>42</th>\n      <th>100</th>\n    </tr>\n  </thead>\n  <tbody>\n    <tr>\n      <th>2020-09-10</th>\n      <td>NaN</td>\n      <td>NaN</td>\n    </tr>\n    <tr>\n      <th>2020-09-11</th>\n      <td>0.362597</td>\n      <td>0.637403</td>\n    </tr>\n    <tr>\n      <th>2020-09-12</th>\n      <td>0.362235</td>\n      <td>0.637765</td>\n    </tr>\n    <tr>\n      <th>2020-09-13</th>\n      <td>0.361873</td>\n      <td>0.638127</td>\n    </tr>\n    <tr>\n      <th>2020-09-14</th>\n      <td>0.361511</td>\n      <td>0.638489</td>\n    </tr>\n    <tr>\n      <th>2020-09-15</th>\n      <td>0.361650</td>\n      <td>0.638350</td>\n    </tr>\n    <tr>\n      <th>2020-09-16</th>\n      <td>0.361788</td>\n      <td>0.638212</td>\n    </tr>\n    <tr>\n      <th>2020-09-17</th>\n      <td>0.361426</td>\n      <td>0.638574</td>\n    </tr>\n    <tr>\n      <th>2020-09-18</th>\n      <td>0.361065</td>\n      <td>0.638935</td>\n    </tr>\n    <tr>\n      <th>2020-09-19</th>\n      <td>0.361204</td>\n      <td>0.638796</td>\n    </tr>\n    <tr>\n      <th>2020-09-20</th>\n      <td>0.361343</td>\n      <td>0.638657</td>\n    </tr>\n    <tr>\n      <th>2020-09-21</th>\n      <td>0.361481</td>\n      <td>0.638519</td>\n    </tr>\n    <tr>\n      <th>2020-09-22</th>\n      <td>0.361120</td>\n      <td>0.638880</td>\n    </tr>\n    <tr>\n      <th>2020-09-23</th>\n      <td>0.360759</td>\n      <td>0.639241</td>\n    </tr>\n    <tr>\n      <th>2020-09-24</th>\n      <td>0.361398</td>\n      <td>0.638602</td>\n    </tr>\n    <tr>\n      <th>2020-09-25</th>\n      <td>0.362036</td>\n      <td>0.637964</td>\n    </tr>\n    <tr>\n      <th>2020-09-26</th>\n      <td>0.362673</td>\n      <td>0.637327</td>\n    </tr>\n    <tr>\n      <th>2020-09-27</th>\n      <td>0.363310</td>\n      <td>0.636690</td>\n    </tr>\n    <tr>\n      <th>2020-09-28</th>\n      <td>0.363946</td>\n      <td>0.636054</td>\n    </tr>\n    <tr>\n      <th>2020-09-29</th>\n      <td>0.364581</td>\n      <td>0.635419</td>\n    </tr>\n    <tr>\n      <th>2020-09-30</th>\n      <td>0.365216</td>\n      <td>0.634784</td>\n    </tr>\n    <tr>\n      <th>2020-10-01</th>\n      <td>0.365850</td>\n      <td>0.634150</td>\n    </tr>\n  </tbody>\n</table>\n</div>"
     },
     "execution_count": 52,
     "metadata": {},
     "output_type": "execute_result"
    }
   ],
   "source": [
    "df_of_dynamic_distribution_per_store.iloc[8:30]"
   ],
   "metadata": {
    "collapsed": false
   }
  },
  {
   "cell_type": "code",
   "execution_count": 28,
   "outputs": [
    {
     "data": {
      "text/plain": "                  42       100\n2020-09-02       NaN       NaN\n2020-09-03       NaN       NaN\n2020-09-04       NaN       NaN\n2020-09-05       NaN       NaN\n2020-09-06       NaN       NaN\n2020-09-07       NaN       NaN\n2020-09-08       NaN       NaN\n2020-09-09       NaN       NaN\n2020-09-10       NaN       NaN\n2020-09-11  0.362597  0.637403",
      "text/html": "<div>\n<style scoped>\n    .dataframe tbody tr th:only-of-type {\n        vertical-align: middle;\n    }\n\n    .dataframe tbody tr th {\n        vertical-align: top;\n    }\n\n    .dataframe thead th {\n        text-align: right;\n    }\n</style>\n<table border=\"1\" class=\"dataframe\">\n  <thead>\n    <tr style=\"text-align: right;\">\n      <th></th>\n      <th>42</th>\n      <th>100</th>\n    </tr>\n  </thead>\n  <tbody>\n    <tr>\n      <th>2020-09-02</th>\n      <td>NaN</td>\n      <td>NaN</td>\n    </tr>\n    <tr>\n      <th>2020-09-03</th>\n      <td>NaN</td>\n      <td>NaN</td>\n    </tr>\n    <tr>\n      <th>2020-09-04</th>\n      <td>NaN</td>\n      <td>NaN</td>\n    </tr>\n    <tr>\n      <th>2020-09-05</th>\n      <td>NaN</td>\n      <td>NaN</td>\n    </tr>\n    <tr>\n      <th>2020-09-06</th>\n      <td>NaN</td>\n      <td>NaN</td>\n    </tr>\n    <tr>\n      <th>2020-09-07</th>\n      <td>NaN</td>\n      <td>NaN</td>\n    </tr>\n    <tr>\n      <th>2020-09-08</th>\n      <td>NaN</td>\n      <td>NaN</td>\n    </tr>\n    <tr>\n      <th>2020-09-09</th>\n      <td>NaN</td>\n      <td>NaN</td>\n    </tr>\n    <tr>\n      <th>2020-09-10</th>\n      <td>NaN</td>\n      <td>NaN</td>\n    </tr>\n    <tr>\n      <th>2020-09-11</th>\n      <td>0.362597</td>\n      <td>0.637403</td>\n    </tr>\n  </tbody>\n</table>\n</div>"
     },
     "execution_count": 28,
     "metadata": {},
     "output_type": "execute_result"
    }
   ],
   "source": [
    "df_of_dynamic_distribution_per_store.iloc[:10]"
   ],
   "metadata": {
    "collapsed": false
   }
  },
  {
   "cell_type": "code",
   "execution_count": 29,
   "outputs": [
    {
     "data": {
      "text/plain": "0.5"
     },
     "execution_count": 29,
     "metadata": {},
     "output_type": "execute_result"
    }
   ],
   "source": [
    "df_of_sales_rolling_factor_row[i]"
   ],
   "metadata": {
    "collapsed": false
   }
  },
  {
   "cell_type": "code",
   "execution_count": 30,
   "outputs": [
    {
     "data": {
      "text/plain": "0.6022184797757001"
     },
     "execution_count": 30,
     "metadata": {},
     "output_type": "execute_result"
    }
   ],
   "source": [
    "old_dist"
   ],
   "metadata": {
    "collapsed": false
   }
  },
  {
   "cell_type": "code",
   "execution_count": 31,
   "outputs": [
    {
     "data": {
      "text/plain": "0.6027184797757"
     },
     "execution_count": 31,
     "metadata": {},
     "output_type": "execute_result"
    }
   ],
   "source": [
    "new_dist"
   ],
   "metadata": {
    "collapsed": false
   }
  },
  {
   "cell_type": "code",
   "execution_count": 32,
   "outputs": [
    {
     "data": {
      "text/plain": "0.5"
     },
     "execution_count": 32,
     "metadata": {},
     "output_type": "execute_result"
    }
   ],
   "source": [
    "df_of_sales_rolling_factor_row[i]"
   ],
   "metadata": {
    "collapsed": false
   }
  },
  {
   "cell_type": "code",
   "execution_count": 33,
   "outputs": [
    {
     "data": {
      "text/plain": "[0.3982815202243001, 0.6027184797757]"
     },
     "execution_count": 33,
     "metadata": {},
     "output_type": "execute_result"
    }
   ],
   "source": [
    "new_dist_list"
   ],
   "metadata": {
    "collapsed": false
   }
  },
  {
   "cell_type": "code",
   "execution_count": 33,
   "outputs": [],
   "source": [],
   "metadata": {
    "collapsed": false
   }
  },
  {
   "cell_type": "code",
   "execution_count": 34,
   "outputs": [
    {
     "data": {
      "text/plain": "                  42       100\n2020-09-02       NaN       NaN\n2020-09-03       NaN       NaN\n2020-09-04       NaN       NaN\n2020-09-05       NaN       NaN\n2020-09-06       NaN       NaN\n...              ...       ...\n2021-06-09  0.397475  0.602525\n2021-06-10  0.397577  0.602423\n2021-06-11  0.397679  0.602321\n2021-06-12  0.397782  0.602218\n2021-06-13  0.397884  0.602116\n\n[285 rows x 2 columns]",
      "text/html": "<div>\n<style scoped>\n    .dataframe tbody tr th:only-of-type {\n        vertical-align: middle;\n    }\n\n    .dataframe tbody tr th {\n        vertical-align: top;\n    }\n\n    .dataframe thead th {\n        text-align: right;\n    }\n</style>\n<table border=\"1\" class=\"dataframe\">\n  <thead>\n    <tr style=\"text-align: right;\">\n      <th></th>\n      <th>42</th>\n      <th>100</th>\n    </tr>\n  </thead>\n  <tbody>\n    <tr>\n      <th>2020-09-02</th>\n      <td>NaN</td>\n      <td>NaN</td>\n    </tr>\n    <tr>\n      <th>2020-09-03</th>\n      <td>NaN</td>\n      <td>NaN</td>\n    </tr>\n    <tr>\n      <th>2020-09-04</th>\n      <td>NaN</td>\n      <td>NaN</td>\n    </tr>\n    <tr>\n      <th>2020-09-05</th>\n      <td>NaN</td>\n      <td>NaN</td>\n    </tr>\n    <tr>\n      <th>2020-09-06</th>\n      <td>NaN</td>\n      <td>NaN</td>\n    </tr>\n    <tr>\n      <th>...</th>\n      <td>...</td>\n      <td>...</td>\n    </tr>\n    <tr>\n      <th>2021-06-09</th>\n      <td>0.397475</td>\n      <td>0.602525</td>\n    </tr>\n    <tr>\n      <th>2021-06-10</th>\n      <td>0.397577</td>\n      <td>0.602423</td>\n    </tr>\n    <tr>\n      <th>2021-06-11</th>\n      <td>0.397679</td>\n      <td>0.602321</td>\n    </tr>\n    <tr>\n      <th>2021-06-12</th>\n      <td>0.397782</td>\n      <td>0.602218</td>\n    </tr>\n    <tr>\n      <th>2021-06-13</th>\n      <td>0.397884</td>\n      <td>0.602116</td>\n    </tr>\n  </tbody>\n</table>\n<p>285 rows × 2 columns</p>\n</div>"
     },
     "execution_count": 34,
     "metadata": {},
     "output_type": "execute_result"
    }
   ],
   "source": [
    "df_of_dynamic_distribution_per_store"
   ],
   "metadata": {
    "collapsed": false
   }
  },
  {
   "cell_type": "code",
   "execution_count": 35,
   "outputs": [
    {
     "data": {
      "text/plain": "                  42       100\n2021-06-13  0.397884  0.602116",
      "text/html": "<div>\n<style scoped>\n    .dataframe tbody tr th:only-of-type {\n        vertical-align: middle;\n    }\n\n    .dataframe tbody tr th {\n        vertical-align: top;\n    }\n\n    .dataframe thead th {\n        text-align: right;\n    }\n</style>\n<table border=\"1\" class=\"dataframe\">\n  <thead>\n    <tr style=\"text-align: right;\">\n      <th></th>\n      <th>42</th>\n      <th>100</th>\n    </tr>\n  </thead>\n  <tbody>\n    <tr>\n      <th>2021-06-13</th>\n      <td>0.397884</td>\n      <td>0.602116</td>\n    </tr>\n  </tbody>\n</table>\n</div>"
     },
     "execution_count": 35,
     "metadata": {},
     "output_type": "execute_result"
    }
   ],
   "source": [
    "new_dist_list_norm"
   ],
   "metadata": {
    "collapsed": false
   }
  },
  {
   "cell_type": "code",
   "execution_count": 36,
   "outputs": [
    {
     "data": {
      "text/plain": "                  42       100\n2020-09-02       NaN       NaN\n2020-09-03       NaN       NaN\n2020-09-04       NaN       NaN\n2020-09-05       NaN       NaN\n2020-09-06       NaN       NaN\n...              ...       ...\n2021-06-09  0.397475  0.602525\n2021-06-10  0.397577  0.602423\n2021-06-11  0.397679  0.602321\n2021-06-12  0.397782  0.602218\n2021-06-13  0.397884  0.602116\n\n[285 rows x 2 columns]",
      "text/html": "<div>\n<style scoped>\n    .dataframe tbody tr th:only-of-type {\n        vertical-align: middle;\n    }\n\n    .dataframe tbody tr th {\n        vertical-align: top;\n    }\n\n    .dataframe thead th {\n        text-align: right;\n    }\n</style>\n<table border=\"1\" class=\"dataframe\">\n  <thead>\n    <tr style=\"text-align: right;\">\n      <th></th>\n      <th>42</th>\n      <th>100</th>\n    </tr>\n  </thead>\n  <tbody>\n    <tr>\n      <th>2020-09-02</th>\n      <td>NaN</td>\n      <td>NaN</td>\n    </tr>\n    <tr>\n      <th>2020-09-03</th>\n      <td>NaN</td>\n      <td>NaN</td>\n    </tr>\n    <tr>\n      <th>2020-09-04</th>\n      <td>NaN</td>\n      <td>NaN</td>\n    </tr>\n    <tr>\n      <th>2020-09-05</th>\n      <td>NaN</td>\n      <td>NaN</td>\n    </tr>\n    <tr>\n      <th>2020-09-06</th>\n      <td>NaN</td>\n      <td>NaN</td>\n    </tr>\n    <tr>\n      <th>...</th>\n      <td>...</td>\n      <td>...</td>\n    </tr>\n    <tr>\n      <th>2021-06-09</th>\n      <td>0.397475</td>\n      <td>0.602525</td>\n    </tr>\n    <tr>\n      <th>2021-06-10</th>\n      <td>0.397577</td>\n      <td>0.602423</td>\n    </tr>\n    <tr>\n      <th>2021-06-11</th>\n      <td>0.397679</td>\n      <td>0.602321</td>\n    </tr>\n    <tr>\n      <th>2021-06-12</th>\n      <td>0.397782</td>\n      <td>0.602218</td>\n    </tr>\n    <tr>\n      <th>2021-06-13</th>\n      <td>0.397884</td>\n      <td>0.602116</td>\n    </tr>\n  </tbody>\n</table>\n<p>285 rows × 2 columns</p>\n</div>"
     },
     "execution_count": 36,
     "metadata": {},
     "output_type": "execute_result"
    }
   ],
   "source": [
    "df_of_dynamic_distribution_per_store"
   ],
   "metadata": {
    "collapsed": false
   }
  },
  {
   "cell_type": "code",
   "execution_count": 37,
   "outputs": [
    {
     "data": {
      "text/plain": "                  42       100\n2021-06-13  0.398282  0.602718",
      "text/html": "<div>\n<style scoped>\n    .dataframe tbody tr th:only-of-type {\n        vertical-align: middle;\n    }\n\n    .dataframe tbody tr th {\n        vertical-align: top;\n    }\n\n    .dataframe thead th {\n        text-align: right;\n    }\n</style>\n<table border=\"1\" class=\"dataframe\">\n  <thead>\n    <tr style=\"text-align: right;\">\n      <th></th>\n      <th>42</th>\n      <th>100</th>\n    </tr>\n  </thead>\n  <tbody>\n    <tr>\n      <th>2021-06-13</th>\n      <td>0.398282</td>\n      <td>0.602718</td>\n    </tr>\n  </tbody>\n</table>\n</div>"
     },
     "execution_count": 37,
     "metadata": {},
     "output_type": "execute_result"
    }
   ],
   "source": [
    "new_df = pd.DataFrame([new_dist_list], columns=df_of_dynamic_distribution_per_store.columns, index=[index])\n",
    "new_df"
   ],
   "metadata": {
    "collapsed": false
   }
  },
  {
   "cell_type": "code",
   "execution_count": 38,
   "outputs": [
    {
     "data": {
      "text/plain": "DatetimeIndex(['2020-09-02', '2020-09-03', '2020-09-04', '2020-09-05',\n               '2020-09-06', '2020-09-07', '2020-09-08', '2020-09-09',\n               '2020-09-10', '2020-09-11',\n               ...\n               '2021-06-04', '2021-06-05', '2021-06-06', '2021-06-07',\n               '2021-06-08', '2021-06-09', '2021-06-10', '2021-06-11',\n               '2021-06-12', '2021-06-13'],\n              dtype='datetime64[ns]', length=285, freq=None)"
     },
     "execution_count": 38,
     "metadata": {},
     "output_type": "execute_result"
    }
   ],
   "source": [
    "df_of_dynamic_distribution_per_store.index"
   ],
   "metadata": {
    "collapsed": false
   }
  },
  {
   "cell_type": "code",
   "execution_count": 39,
   "outputs": [
    {
     "data": {
      "text/plain": "                  42       100\n2021-06-13  0.397884  0.602116",
      "text/html": "<div>\n<style scoped>\n    .dataframe tbody tr th:only-of-type {\n        vertical-align: middle;\n    }\n\n    .dataframe tbody tr th {\n        vertical-align: top;\n    }\n\n    .dataframe thead th {\n        text-align: right;\n    }\n</style>\n<table border=\"1\" class=\"dataframe\">\n  <thead>\n    <tr style=\"text-align: right;\">\n      <th></th>\n      <th>42</th>\n      <th>100</th>\n    </tr>\n  </thead>\n  <tbody>\n    <tr>\n      <th>2021-06-13</th>\n      <td>0.397884</td>\n      <td>0.602116</td>\n    </tr>\n  </tbody>\n</table>\n</div>"
     },
     "execution_count": 39,
     "metadata": {},
     "output_type": "execute_result"
    }
   ],
   "source": [
    "new_dist_list_norm"
   ],
   "metadata": {
    "collapsed": false
   }
  },
  {
   "cell_type": "code",
   "execution_count": 40,
   "outputs": [
    {
     "data": {
      "text/plain": "     42  100\n42  NaN  NaN\n100 NaN  NaN",
      "text/html": "<div>\n<style scoped>\n    .dataframe tbody tr th:only-of-type {\n        vertical-align: middle;\n    }\n\n    .dataframe tbody tr th {\n        vertical-align: top;\n    }\n\n    .dataframe thead th {\n        text-align: right;\n    }\n</style>\n<table border=\"1\" class=\"dataframe\">\n  <thead>\n    <tr style=\"text-align: right;\">\n      <th></th>\n      <th>42</th>\n      <th>100</th>\n    </tr>\n  </thead>\n  <tbody>\n    <tr>\n      <th>42</th>\n      <td>NaN</td>\n      <td>NaN</td>\n    </tr>\n    <tr>\n      <th>100</th>\n      <td>NaN</td>\n      <td>NaN</td>\n    </tr>\n  </tbody>\n</table>\n</div>"
     },
     "execution_count": 40,
     "metadata": {},
     "output_type": "execute_result"
    }
   ],
   "source": [
    "pd.DataFrame(new_dist_list_norm, index=dynamic_distribution_per_store_row.index, columns=df_of_dynamic_distribution_per_store.columns)"
   ],
   "metadata": {
    "collapsed": false
   }
  },
  {
   "cell_type": "code",
   "execution_count": 41,
   "outputs": [
    {
     "data": {
      "text/plain": "                  42       100\n2021-06-13  0.397884  0.602116",
      "text/html": "<div>\n<style scoped>\n    .dataframe tbody tr th:only-of-type {\n        vertical-align: middle;\n    }\n\n    .dataframe tbody tr th {\n        vertical-align: top;\n    }\n\n    .dataframe thead th {\n        text-align: right;\n    }\n</style>\n<table border=\"1\" class=\"dataframe\">\n  <thead>\n    <tr style=\"text-align: right;\">\n      <th></th>\n      <th>42</th>\n      <th>100</th>\n    </tr>\n  </thead>\n  <tbody>\n    <tr>\n      <th>2021-06-13</th>\n      <td>0.397884</td>\n      <td>0.602116</td>\n    </tr>\n  </tbody>\n</table>\n</div>"
     },
     "execution_count": 41,
     "metadata": {},
     "output_type": "execute_result"
    }
   ],
   "source": [
    "new_dist_list_norm"
   ],
   "metadata": {
    "collapsed": false
   }
  },
  {
   "cell_type": "code",
   "execution_count": 42,
   "outputs": [
    {
     "data": {
      "text/plain": "                  42       100\n2020-09-02       NaN       NaN\n2020-09-03       NaN       NaN\n2020-09-04       NaN       NaN\n2020-09-05       NaN       NaN\n2020-09-06       NaN       NaN\n...              ...       ...\n2021-06-09  0.397475  0.602525\n2021-06-10  0.397577  0.602423\n2021-06-11  0.397679  0.602321\n2021-06-12  0.397782  0.602218\n2021-06-13  0.397884  0.602116\n\n[285 rows x 2 columns]",
      "text/html": "<div>\n<style scoped>\n    .dataframe tbody tr th:only-of-type {\n        vertical-align: middle;\n    }\n\n    .dataframe tbody tr th {\n        vertical-align: top;\n    }\n\n    .dataframe thead th {\n        text-align: right;\n    }\n</style>\n<table border=\"1\" class=\"dataframe\">\n  <thead>\n    <tr style=\"text-align: right;\">\n      <th></th>\n      <th>42</th>\n      <th>100</th>\n    </tr>\n  </thead>\n  <tbody>\n    <tr>\n      <th>2020-09-02</th>\n      <td>NaN</td>\n      <td>NaN</td>\n    </tr>\n    <tr>\n      <th>2020-09-03</th>\n      <td>NaN</td>\n      <td>NaN</td>\n    </tr>\n    <tr>\n      <th>2020-09-04</th>\n      <td>NaN</td>\n      <td>NaN</td>\n    </tr>\n    <tr>\n      <th>2020-09-05</th>\n      <td>NaN</td>\n      <td>NaN</td>\n    </tr>\n    <tr>\n      <th>2020-09-06</th>\n      <td>NaN</td>\n      <td>NaN</td>\n    </tr>\n    <tr>\n      <th>...</th>\n      <td>...</td>\n      <td>...</td>\n    </tr>\n    <tr>\n      <th>2021-06-09</th>\n      <td>0.397475</td>\n      <td>0.602525</td>\n    </tr>\n    <tr>\n      <th>2021-06-10</th>\n      <td>0.397577</td>\n      <td>0.602423</td>\n    </tr>\n    <tr>\n      <th>2021-06-11</th>\n      <td>0.397679</td>\n      <td>0.602321</td>\n    </tr>\n    <tr>\n      <th>2021-06-12</th>\n      <td>0.397782</td>\n      <td>0.602218</td>\n    </tr>\n    <tr>\n      <th>2021-06-13</th>\n      <td>0.397884</td>\n      <td>0.602116</td>\n    </tr>\n  </tbody>\n</table>\n<p>285 rows × 2 columns</p>\n</div>"
     },
     "execution_count": 42,
     "metadata": {},
     "output_type": "execute_result"
    }
   ],
   "source": [
    "df_of_dynamic_distribution_per_store"
   ],
   "metadata": {
    "collapsed": false
   }
  },
  {
   "cell_type": "code",
   "execution_count": 43,
   "outputs": [
    {
     "data": {
      "text/plain": "0.6022184797757001"
     },
     "execution_count": 43,
     "metadata": {},
     "output_type": "execute_result"
    }
   ],
   "source": [
    "old_dist"
   ],
   "metadata": {
    "collapsed": false
   }
  },
  {
   "cell_type": "code",
   "execution_count": 44,
   "outputs": [
    {
     "data": {
      "text/plain": "                  42       100\n2021-06-13  0.397884  0.602116",
      "text/html": "<div>\n<style scoped>\n    .dataframe tbody tr th:only-of-type {\n        vertical-align: middle;\n    }\n\n    .dataframe tbody tr th {\n        vertical-align: top;\n    }\n\n    .dataframe thead th {\n        text-align: right;\n    }\n</style>\n<table border=\"1\" class=\"dataframe\">\n  <thead>\n    <tr style=\"text-align: right;\">\n      <th></th>\n      <th>42</th>\n      <th>100</th>\n    </tr>\n  </thead>\n  <tbody>\n    <tr>\n      <th>2021-06-13</th>\n      <td>0.397884</td>\n      <td>0.602116</td>\n    </tr>\n  </tbody>\n</table>\n</div>"
     },
     "execution_count": 44,
     "metadata": {},
     "output_type": "execute_result"
    }
   ],
   "source": [
    "new_dist_list_norm"
   ],
   "metadata": {
    "collapsed": false
   }
  },
  {
   "cell_type": "code",
   "execution_count": 45,
   "outputs": [
    {
     "data": {
      "text/plain": "                  42       100\ndate                          \n2020-09-02       NaN       NaN\n2020-09-03       NaN       NaN\n2020-09-04       NaN       NaN\n2020-09-05       NaN       NaN\n2020-09-06       NaN       NaN\n...              ...       ...\n2021-06-09  0.161765  0.143382\n2021-06-10  0.161172  0.142857\n2021-06-11  0.160584  0.142336\n2021-06-12  0.160000  0.141818\n2021-06-13  0.159420  0.141304\n\n[285 rows x 2 columns]",
      "text/html": "<div>\n<style scoped>\n    .dataframe tbody tr th:only-of-type {\n        vertical-align: middle;\n    }\n\n    .dataframe tbody tr th {\n        vertical-align: top;\n    }\n\n    .dataframe thead th {\n        text-align: right;\n    }\n</style>\n<table border=\"1\" class=\"dataframe\">\n  <thead>\n    <tr style=\"text-align: right;\">\n      <th></th>\n      <th>42</th>\n      <th>100</th>\n    </tr>\n    <tr>\n      <th>date</th>\n      <th></th>\n      <th></th>\n    </tr>\n  </thead>\n  <tbody>\n    <tr>\n      <th>2020-09-02</th>\n      <td>NaN</td>\n      <td>NaN</td>\n    </tr>\n    <tr>\n      <th>2020-09-03</th>\n      <td>NaN</td>\n      <td>NaN</td>\n    </tr>\n    <tr>\n      <th>2020-09-04</th>\n      <td>NaN</td>\n      <td>NaN</td>\n    </tr>\n    <tr>\n      <th>2020-09-05</th>\n      <td>NaN</td>\n      <td>NaN</td>\n    </tr>\n    <tr>\n      <th>2020-09-06</th>\n      <td>NaN</td>\n      <td>NaN</td>\n    </tr>\n    <tr>\n      <th>...</th>\n      <td>...</td>\n      <td>...</td>\n    </tr>\n    <tr>\n      <th>2021-06-09</th>\n      <td>0.161765</td>\n      <td>0.143382</td>\n    </tr>\n    <tr>\n      <th>2021-06-10</th>\n      <td>0.161172</td>\n      <td>0.142857</td>\n    </tr>\n    <tr>\n      <th>2021-06-11</th>\n      <td>0.160584</td>\n      <td>0.142336</td>\n    </tr>\n    <tr>\n      <th>2021-06-12</th>\n      <td>0.160000</td>\n      <td>0.141818</td>\n    </tr>\n    <tr>\n      <th>2021-06-13</th>\n      <td>0.159420</td>\n      <td>0.141304</td>\n    </tr>\n  </tbody>\n</table>\n<p>285 rows × 2 columns</p>\n</div>"
     },
     "execution_count": 45,
     "metadata": {},
     "output_type": "execute_result"
    }
   ],
   "source": [
    "df_of_sales_cumsum_divide_days_from_first_stock"
   ],
   "metadata": {
    "collapsed": false
   }
  },
  {
   "cell_type": "code",
   "execution_count": 46,
   "outputs": [
    {
     "data": {
      "text/plain": "42     0.397782\n100    0.602218\nName: 2021-06-12 00:00:00, dtype: float64"
     },
     "execution_count": 46,
     "metadata": {},
     "output_type": "execute_result"
    }
   ],
   "source": [
    "dynamic_distribution_per_store_row"
   ],
   "metadata": {
    "collapsed": false
   }
  },
  {
   "cell_type": "code",
   "execution_count": 47,
   "outputs": [
    {
     "data": {
      "text/plain": "{'100630105000002': {'42': {'initial_stock_in_store': 20.0,\n   'current_stock_in_store': -24.0,\n   'sales_cumsum': date\n   2020-09-02     0.0\n   2020-09-03     0.0\n   2020-09-04     0.0\n   2020-09-05     0.0\n   2020-09-06     0.0\n                 ... \n   2021-06-09    44.0\n   2021-06-10    44.0\n   2021-06-11    44.0\n   2021-06-12    44.0\n   2021-06-13    44.0\n   Name: sales_cumsum, Length: 285, dtype: float64,\n   'rate_sales': date\n   2020-09-02    NaN\n   2020-09-03    NaN\n   2020-09-04    NaN\n   2020-09-05    NaN\n   2020-09-06    NaN\n                ... \n   2021-06-09    0.0\n   2021-06-10    0.0\n   2021-06-11    0.0\n   2021-06-12    0.0\n   2021-06-13    0.0\n   Name: rate_sales, Length: 285, dtype: float64,\n   'sales_cumsum_divide_days_from_first_stock': date\n   2020-09-02         NaN\n   2020-09-03         NaN\n   2020-09-04         NaN\n   2020-09-05         NaN\n   2020-09-06         NaN\n                   ...   \n   2021-06-09    0.161765\n   2021-06-10    0.161172\n   2021-06-11    0.160584\n   2021-06-12    0.160000\n   2021-06-13    0.159420\n   Name: sales_cumsum_divide_days_from_first_stock, Length: 285, dtype: float64,\n   'initial_stock_in_warehouse': 104,\n   'prior_original_distribution': 0.3625968942339883,\n   'prior_original_allocation_stock': 38.0,\n   'sales': date\n   2020-09-02    0.0\n   2020-09-03    0.0\n   2020-09-04    0.0\n   2020-09-05    0.0\n   2020-09-06    0.0\n                ... \n   2021-06-09    0.0\n   2021-06-10    0.0\n   2021-06-11    0.0\n   2021-06-12    0.0\n   2021-06-13    0.0\n   Name: sales, Length: 285, dtype: float64,\n   'remain_stock': 16.0,\n   'dynamic_dist': date\n   2020-09-02         NaN\n   2020-09-03         NaN\n   2020-09-04         NaN\n   2020-09-05         NaN\n   2020-09-06         NaN\n   2020-09-07         NaN\n   2020-09-08         NaN\n   2020-09-09         NaN\n   2020-09-10         NaN\n   2020-09-11    0.362597\n   dtype: float64},\n  '100': {'initial_stock_in_store': 25.0,\n   'current_stock_in_store': -14.0,\n   'sales_cumsum': date\n   2020-09-02     0.0\n   2020-09-03     0.0\n   2020-09-04     0.0\n   2020-09-05     0.0\n   2020-09-06     0.0\n                 ... \n   2021-06-09    39.0\n   2021-06-10    39.0\n   2021-06-11    39.0\n   2021-06-12    39.0\n   2021-06-13    39.0\n   Name: sales_cumsum, Length: 285, dtype: float64,\n   'rate_sales': date\n   2020-09-02    NaN\n   2020-09-03    NaN\n   2020-09-04    NaN\n   2020-09-05    NaN\n   2020-09-06    NaN\n                ... \n   2021-06-09    0.0\n   2021-06-10    0.0\n   2021-06-11    0.0\n   2021-06-12    0.0\n   2021-06-13    0.0\n   Name: rate_sales, Length: 285, dtype: float64,\n   'sales_cumsum_divide_days_from_first_stock': date\n   2020-09-02         NaN\n   2020-09-03         NaN\n   2020-09-04         NaN\n   2020-09-05         NaN\n   2020-09-06         NaN\n                   ...   \n   2021-06-09    0.143382\n   2021-06-10    0.142857\n   2021-06-11    0.142336\n   2021-06-12    0.141818\n   2021-06-13    0.141304\n   Name: sales_cumsum_divide_days_from_first_stock, Length: 285, dtype: float64,\n   'initial_stock_in_warehouse': 104,\n   'prior_original_distribution': 0.6374031057660117,\n   'prior_original_allocation_stock': 66.0,\n   'sales': date\n   2020-09-02    0.0\n   2020-09-03    0.0\n   2020-09-04    0.0\n   2020-09-05    0.0\n   2020-09-06    0.0\n                ... \n   2021-06-09    0.0\n   2021-06-10    0.0\n   2021-06-11    0.0\n   2021-06-12    0.0\n   2021-06-13    0.0\n   Name: sales, Length: 285, dtype: float64,\n   'remain_stock': 16.0,\n   'dynamic_dist': date\n   2020-09-02         NaN\n   2020-09-03         NaN\n   2020-09-04         NaN\n   2020-09-05         NaN\n   2020-09-06         NaN\n   2020-09-07         NaN\n   2020-09-08         NaN\n   2020-09-09         NaN\n   2020-09-10         NaN\n   2020-09-11    0.637403\n   dtype: float64}}}"
     },
     "execution_count": 47,
     "metadata": {},
     "output_type": "execute_result"
    }
   ],
   "source": [
    "dynamic_distribution_per_store"
   ],
   "metadata": {
    "collapsed": false
   }
  },
  {
   "cell_type": "code",
   "execution_count": 48,
   "outputs": [
    {
     "name": "stdout",
     "output_type": "stream",
     "text": [
      "             42  100\n",
      "date                \n",
      "2020-09-02  0.0  0.0\n",
      "2020-09-03  0.0  0.0\n",
      "2020-09-04  0.0  0.0\n",
      "2020-09-05  0.0  0.0\n",
      "2020-09-06  0.0  0.0\n",
      "...         ...  ...\n",
      "2021-06-09  0.0  0.0\n",
      "2021-06-10  0.0  0.0\n",
      "2021-06-11  0.0  0.0\n",
      "2021-06-12  0.0  0.0\n",
      "2021-06-13  0.0  0.0\n",
      "\n",
      "[285 rows x 2 columns]\n"
     ]
    }
   ],
   "source": [
    "print(df_of_sales_rolling_factor)"
   ],
   "metadata": {
    "collapsed": false
   }
  },
  {
   "cell_type": "code",
   "execution_count": 48,
   "outputs": [],
   "source": [],
   "metadata": {
    "collapsed": false
   }
  }
 ],
 "metadata": {
  "kernelspec": {
   "display_name": "Python 3",
   "language": "python",
   "name": "python3"
  },
  "language_info": {
   "codemirror_mode": {
    "name": "ipython",
    "version": 2
   },
   "file_extension": ".py",
   "mimetype": "text/x-python",
   "name": "python",
   "nbconvert_exporter": "python",
   "pygments_lexer": "ipython2",
   "version": "2.7.6"
  }
 },
 "nbformat": 4,
 "nbformat_minor": 0
}

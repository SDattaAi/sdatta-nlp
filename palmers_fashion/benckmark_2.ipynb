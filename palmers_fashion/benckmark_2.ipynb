{
 "cells": [
  {
   "cell_type": "code",
   "execution_count": 8,
   "metadata": {
    "collapsed": true
   },
   "outputs": [],
   "source": [
    "import numpy as np\n",
    "import pandas as pd\n",
    "import matplotlib.pyplot as plt"
   ]
  },
  {
   "cell_type": "code",
   "execution_count": 9,
   "outputs": [],
   "source": [
    "store_100_path = r\"df_all_store_100.parquet\"\n",
    "store_42_path = r\"df_all_store_42.parquet\"\n",
    "store_4906_path = r\"df_all_store_4906.parquet\""
   ],
   "metadata": {
    "collapsed": false
   }
  },
  {
   "cell_type": "code",
   "execution_count": 10,
   "outputs": [],
   "source": [
    "df_100 = pd.read_parquet(store_100_path)\n",
    "df_42 = pd.read_parquet(store_42_path)\n",
    "df_4906 = pd.read_parquet(store_4906_path)\n",
    "df_all = pd.concat([df_100, df_42, df_4906])"
   ],
   "metadata": {
    "collapsed": false
   }
  },
  {
   "cell_type": "code",
   "execution_count": 11,
   "outputs": [],
   "source": [
    "del df_100, df_42, df_4906"
   ],
   "metadata": {
    "collapsed": false
   }
  },
  {
   "cell_type": "code",
   "execution_count": 12,
   "outputs": [],
   "source": [
    "df_all['date'] = pd.to_datetime(df_all['date'])"
   ],
   "metadata": {
    "collapsed": false
   }
  },
  {
   "cell_type": "code",
   "execution_count": 13,
   "outputs": [],
   "source": [
    "warehouse_path = r\"df_all_store_VZ01.parquet\"\n",
    "df_warehouse = pd.read_parquet(warehouse_path)"
   ],
   "metadata": {
    "collapsed": false
   }
  },
  {
   "cell_type": "code",
   "execution_count": 14,
   "outputs": [],
   "source": [
    "df_warehouse = df_warehouse.rename(columns={\"stock\": \"warehouse_stock\"})\n",
    "df_warehouse['date'] = pd.to_datetime(df_warehouse['date'])"
   ],
   "metadata": {
    "collapsed": false
   }
  },
  {
   "cell_type": "code",
   "execution_count": 15,
   "outputs": [],
   "source": [
    "df_warehouse['sku'] = df_warehouse['sku'].astype(str)\n"
   ],
   "metadata": {
    "collapsed": false
   }
  },
  {
   "cell_type": "code",
   "execution_count": 16,
   "outputs": [],
   "source": [
    "df_warehouse = df_warehouse[df_warehouse['date'] > '2018-01-01']"
   ],
   "metadata": {
    "collapsed": false
   }
  },
  {
   "cell_type": "code",
   "execution_count": 17,
   "outputs": [],
   "source": [
    "df_all = df_all.merge(df_warehouse[[\"sku\",\"date\",\"warehouse_stock\"]], on = [\"sku\",\"date\"], how = \"left\")\n"
   ],
   "metadata": {
    "collapsed": false
   }
  },
  {
   "cell_type": "code",
   "execution_count": 18,
   "outputs": [],
   "source": [
    "df_all = df_all[df_all['date'] > '2018-01-01']"
   ],
   "metadata": {
    "collapsed": false
   }
  },
  {
   "cell_type": "code",
   "execution_count": 19,
   "outputs": [],
   "source": [
    "df_all = df_all.sort_values('date')"
   ],
   "metadata": {
    "collapsed": false
   }
  },
  {
   "cell_type": "code",
   "execution_count": 20,
   "outputs": [],
   "source": [
    "df_all = df_all.merge(df_all[df_all['stock'] > 0].groupby(['sku', 'store']).agg({'stock': 'first'}).reset_index().rename(columns={'stock':'palmers_first_allocation'}), on = ['sku', 'store'], how = 'left')"
   ],
   "metadata": {
    "collapsed": false
   }
  },
  {
   "cell_type": "code",
   "execution_count": 21,
   "outputs": [],
   "source": [
    "sku_store_df_step_g = df_all.groupby(['sku', 'store'])"
   ],
   "metadata": {
    "collapsed": false
   }
  },
  {
   "cell_type": "code",
   "execution_count": 22,
   "outputs": [],
   "source": [
    "import json\n",
    "dict_per_store_per_year_path = r\"dict_per_store_per_year.json\"\n",
    "with open(dict_per_store_per_year_path) as json_file:\n",
    "    dict_per_store_per_year = json.load(json_file)"
   ],
   "metadata": {
    "collapsed": false
   }
  },
  {
   "cell_type": "code",
   "execution_count": 23,
   "outputs": [],
   "source": [
    "first_dist_store_100 =  dict_per_store_per_year['2020']['100'] / (dict_per_store_per_year['2020']['100'] + dict_per_store_per_year['2020']['42'])\n",
    "first_dist_store_42 =  dict_per_store_per_year['2020']['42'] / (dict_per_store_per_year['2020']['100'] + dict_per_store_per_year['2020']['42'])"
   ],
   "metadata": {
    "collapsed": false
   }
  },
  {
   "cell_type": "code",
   "execution_count": 24,
   "outputs": [
    {
     "data": {
      "text/plain": "(0.6374031057660117, 0.3625968942339883)"
     },
     "execution_count": 24,
     "metadata": {},
     "output_type": "execute_result"
    }
   ],
   "source": [
    "first_dist_store_100, first_dist_store_42"
   ],
   "metadata": {
    "collapsed": false
   }
  },
  {
   "cell_type": "code",
   "execution_count": 25,
   "outputs": [
    {
     "data": {
      "text/plain": "0.49038461538461536"
     },
     "execution_count": 25,
     "metadata": {},
     "output_type": "execute_result"
    }
   ],
   "source": [
    "store_100_dist_need_to_be = 51 / 104\n",
    "store_100_dist_need_to_be"
   ],
   "metadata": {
    "collapsed": false
   }
  },
  {
   "cell_type": "code",
   "execution_count": 26,
   "outputs": [
    {
     "data": {
      "text/plain": "0.5096153846153846"
     },
     "execution_count": 26,
     "metadata": {},
     "output_type": "execute_result"
    }
   ],
   "source": [
    "store_42_dist_need_to_be = 53 / 104\n",
    "store_42_dist_need_to_be"
   ],
   "metadata": {
    "collapsed": false
   }
  },
  {
   "cell_type": "code",
   "execution_count": 94,
   "outputs": [
    {
     "name": "stderr",
     "output_type": "stream",
     "text": [
      "/var/folders/sv/p02my_xx7t193mwjyb2ytt040000gn/T/ipykernel_37550/2893759788.py:13: SettingWithCopyWarning: \n",
      "A value is trying to be set on a copy of a slice from a DataFrame.\n",
      "Try using .loc[row_indexer,col_indexer] = value instead\n",
      "\n",
      "See the caveats in the documentation: https://pandas.pydata.org/pandas-docs/stable/user_guide/indexing.html#returning-a-view-versus-a-copy\n",
      "  sku_store_df_step['days_from_first_stock'] = 1\n",
      "/var/folders/sv/p02my_xx7t193mwjyb2ytt040000gn/T/ipykernel_37550/2893759788.py:15: SettingWithCopyWarning: \n",
      "A value is trying to be set on a copy of a slice from a DataFrame.\n",
      "Try using .loc[row_indexer,col_indexer] = value instead\n",
      "\n",
      "See the caveats in the documentation: https://pandas.pydata.org/pandas-docs/stable/user_guide/indexing.html#returning-a-view-versus-a-copy\n",
      "  sku_store_df_step['days_from_first_stock'] = sku_store_df_step['days_from_first_stock'].cumsum()\n",
      "/var/folders/sv/p02my_xx7t193mwjyb2ytt040000gn/T/ipykernel_37550/2893759788.py:16: SettingWithCopyWarning: \n",
      "A value is trying to be set on a copy of a slice from a DataFrame.\n",
      "Try using .loc[row_indexer,col_indexer] = value instead\n",
      "\n",
      "See the caveats in the documentation: https://pandas.pydata.org/pandas-docs/stable/user_guide/indexing.html#returning-a-view-versus-a-copy\n",
      "  sku_store_df_step['sales_cumsum'] = sku_store_df_step['sales'].cumsum()\n",
      "/var/folders/sv/p02my_xx7t193mwjyb2ytt040000gn/T/ipykernel_37550/2893759788.py:17: SettingWithCopyWarning: \n",
      "A value is trying to be set on a copy of a slice from a DataFrame.\n",
      "Try using .loc[row_indexer,col_indexer] = value instead\n",
      "\n",
      "See the caveats in the documentation: https://pandas.pydata.org/pandas-docs/stable/user_guide/indexing.html#returning-a-view-versus-a-copy\n",
      "  sku_store_df_step['dynamic_stock_with_palmers_init'] = sku_store_df_step['palmers_first_allocation'] - sku_store_df_step['sales_cumsum']\n",
      "/var/folders/sv/p02my_xx7t193mwjyb2ytt040000gn/T/ipykernel_37550/2893759788.py:18: SettingWithCopyWarning: \n",
      "A value is trying to be set on a copy of a slice from a DataFrame.\n",
      "Try using .loc[row_indexer,col_indexer] = value instead\n",
      "\n",
      "See the caveats in the documentation: https://pandas.pydata.org/pandas-docs/stable/user_guide/indexing.html#returning-a-view-versus-a-copy\n",
      "  sku_store_df_step['sales_cumsum_divide_days_from_first_stock'] =  sku_store_df_step['sales_cumsum'] / sku_store_df_step['days_from_first_stock']\n",
      "/var/folders/sv/p02my_xx7t193mwjyb2ytt040000gn/T/ipykernel_37550/2893759788.py:19: SettingWithCopyWarning: \n",
      "A value is trying to be set on a copy of a slice from a DataFrame.\n",
      "Try using .loc[row_indexer,col_indexer] = value instead\n",
      "\n",
      "See the caveats in the documentation: https://pandas.pydata.org/pandas-docs/stable/user_guide/indexing.html#returning-a-view-versus-a-copy\n",
      "  sku_store_df_step['original_distribution'] = dict_per_store_per_year['2020'][store] / (dict_per_store_per_year['2020']['100'] + dict_per_store_per_year['2020']['42'])\n",
      "/var/folders/sv/p02my_xx7t193mwjyb2ytt040000gn/T/ipykernel_37550/2893759788.py:21: SettingWithCopyWarning: \n",
      "A value is trying to be set on a copy of a slice from a DataFrame.\n",
      "Try using .loc[row_indexer,col_indexer] = value instead\n",
      "\n",
      "See the caveats in the documentation: https://pandas.pydata.org/pandas-docs/stable/user_guide/indexing.html#returning-a-view-versus-a-copy\n",
      "  sku_store_df_step['days_from_last_sales_that_not_zero'] = 1\n",
      "/var/folders/sv/p02my_xx7t193mwjyb2ytt040000gn/T/ipykernel_37550/2893759788.py:31: SettingWithCopyWarning: \n",
      "A value is trying to be set on a copy of a slice from a DataFrame.\n",
      "Try using .loc[row_indexer,col_indexer] = value instead\n",
      "\n",
      "See the caveats in the documentation: https://pandas.pydata.org/pandas-docs/stable/user_guide/indexing.html#returning-a-view-versus-a-copy\n",
      "  sku_store_df_step['rate_sales'] = sku_store_df_step['sales'] / sku_store_df_step['days_from_last_sales_that_not_zero']\n",
      "/var/folders/sv/p02my_xx7t193mwjyb2ytt040000gn/T/ipykernel_37550/2893759788.py:33: SettingWithCopyWarning: \n",
      "A value is trying to be set on a copy of a slice from a DataFrame.\n",
      "Try using .loc[row_indexer,col_indexer] = value instead\n",
      "\n",
      "See the caveats in the documentation: https://pandas.pydata.org/pandas-docs/stable/user_guide/indexing.html#returning-a-view-versus-a-copy\n",
      "  sku_store_df_step['diff_stock'] = sku_store_df_step['stock'].diff()\n",
      "/var/folders/sv/p02my_xx7t193mwjyb2ytt040000gn/T/ipykernel_37550/2893759788.py:13: SettingWithCopyWarning: \n",
      "A value is trying to be set on a copy of a slice from a DataFrame.\n",
      "Try using .loc[row_indexer,col_indexer] = value instead\n",
      "\n",
      "See the caveats in the documentation: https://pandas.pydata.org/pandas-docs/stable/user_guide/indexing.html#returning-a-view-versus-a-copy\n",
      "  sku_store_df_step['days_from_first_stock'] = 1\n",
      "/var/folders/sv/p02my_xx7t193mwjyb2ytt040000gn/T/ipykernel_37550/2893759788.py:15: SettingWithCopyWarning: \n",
      "A value is trying to be set on a copy of a slice from a DataFrame.\n",
      "Try using .loc[row_indexer,col_indexer] = value instead\n",
      "\n",
      "See the caveats in the documentation: https://pandas.pydata.org/pandas-docs/stable/user_guide/indexing.html#returning-a-view-versus-a-copy\n",
      "  sku_store_df_step['days_from_first_stock'] = sku_store_df_step['days_from_first_stock'].cumsum()\n",
      "/var/folders/sv/p02my_xx7t193mwjyb2ytt040000gn/T/ipykernel_37550/2893759788.py:16: SettingWithCopyWarning: \n",
      "A value is trying to be set on a copy of a slice from a DataFrame.\n",
      "Try using .loc[row_indexer,col_indexer] = value instead\n",
      "\n",
      "See the caveats in the documentation: https://pandas.pydata.org/pandas-docs/stable/user_guide/indexing.html#returning-a-view-versus-a-copy\n",
      "  sku_store_df_step['sales_cumsum'] = sku_store_df_step['sales'].cumsum()\n",
      "/var/folders/sv/p02my_xx7t193mwjyb2ytt040000gn/T/ipykernel_37550/2893759788.py:17: SettingWithCopyWarning: \n",
      "A value is trying to be set on a copy of a slice from a DataFrame.\n",
      "Try using .loc[row_indexer,col_indexer] = value instead\n",
      "\n",
      "See the caveats in the documentation: https://pandas.pydata.org/pandas-docs/stable/user_guide/indexing.html#returning-a-view-versus-a-copy\n",
      "  sku_store_df_step['dynamic_stock_with_palmers_init'] = sku_store_df_step['palmers_first_allocation'] - sku_store_df_step['sales_cumsum']\n",
      "/var/folders/sv/p02my_xx7t193mwjyb2ytt040000gn/T/ipykernel_37550/2893759788.py:18: SettingWithCopyWarning: \n",
      "A value is trying to be set on a copy of a slice from a DataFrame.\n",
      "Try using .loc[row_indexer,col_indexer] = value instead\n",
      "\n",
      "See the caveats in the documentation: https://pandas.pydata.org/pandas-docs/stable/user_guide/indexing.html#returning-a-view-versus-a-copy\n",
      "  sku_store_df_step['sales_cumsum_divide_days_from_first_stock'] =  sku_store_df_step['sales_cumsum'] / sku_store_df_step['days_from_first_stock']\n",
      "/var/folders/sv/p02my_xx7t193mwjyb2ytt040000gn/T/ipykernel_37550/2893759788.py:19: SettingWithCopyWarning: \n",
      "A value is trying to be set on a copy of a slice from a DataFrame.\n",
      "Try using .loc[row_indexer,col_indexer] = value instead\n",
      "\n",
      "See the caveats in the documentation: https://pandas.pydata.org/pandas-docs/stable/user_guide/indexing.html#returning-a-view-versus-a-copy\n",
      "  sku_store_df_step['original_distribution'] = dict_per_store_per_year['2020'][store] / (dict_per_store_per_year['2020']['100'] + dict_per_store_per_year['2020']['42'])\n",
      "/var/folders/sv/p02my_xx7t193mwjyb2ytt040000gn/T/ipykernel_37550/2893759788.py:21: SettingWithCopyWarning: \n",
      "A value is trying to be set on a copy of a slice from a DataFrame.\n",
      "Try using .loc[row_indexer,col_indexer] = value instead\n",
      "\n",
      "See the caveats in the documentation: https://pandas.pydata.org/pandas-docs/stable/user_guide/indexing.html#returning-a-view-versus-a-copy\n",
      "  sku_store_df_step['days_from_last_sales_that_not_zero'] = 1\n",
      "/var/folders/sv/p02my_xx7t193mwjyb2ytt040000gn/T/ipykernel_37550/2893759788.py:31: SettingWithCopyWarning: \n",
      "A value is trying to be set on a copy of a slice from a DataFrame.\n",
      "Try using .loc[row_indexer,col_indexer] = value instead\n",
      "\n",
      "See the caveats in the documentation: https://pandas.pydata.org/pandas-docs/stable/user_guide/indexing.html#returning-a-view-versus-a-copy\n",
      "  sku_store_df_step['rate_sales'] = sku_store_df_step['sales'] / sku_store_df_step['days_from_last_sales_that_not_zero']\n",
      "/var/folders/sv/p02my_xx7t193mwjyb2ytt040000gn/T/ipykernel_37550/2893759788.py:33: SettingWithCopyWarning: \n",
      "A value is trying to be set on a copy of a slice from a DataFrame.\n",
      "Try using .loc[row_indexer,col_indexer] = value instead\n",
      "\n",
      "See the caveats in the documentation: https://pandas.pydata.org/pandas-docs/stable/user_guide/indexing.html#returning-a-view-versus-a-copy\n",
      "  sku_store_df_step['diff_stock'] = sku_store_df_step['stock'].diff()\n"
     ]
    }
   ],
   "source": [
    "i = 0\n",
    "\n",
    "dict_of_all_data_after_preprocess = {}\n",
    "for sku in ['100630105000002']:\n",
    "    dict_of_all_data_after_preprocess[sku] = {}\n",
    "    for store in ['42', '100']:\n",
    "        dict_of_all_data_after_preprocess[sku][store] = {}\n",
    "\n",
    "        sku_store_df_step = sku_store_df_step_g.get_group((sku, store))\n",
    "        first_stock = sku_store_df_step[sku_store_df_step[\"stock\"]>0][\"stock\"].iloc[0]\n",
    "        # nan in our_stock if before first stock\n",
    "        sku_store_df_step.loc[sku_store_df_step[\"date\"]<sku_store_df_step[sku_store_df_step[\"stock\"]>0][\"date\"].iloc[0], \"palmers_first_allocation\"] = np.nan\n",
    "        sku_store_df_step['days_from_first_stock'] = 1\n",
    "        sku_store_df_step.loc[sku_store_df_step[\"date\"]<sku_store_df_step[sku_store_df_step[\"stock\"]>0][\"date\"].iloc[0], \"days_from_first_stock\"] = np.nan\n",
    "        sku_store_df_step['days_from_first_stock'] = sku_store_df_step['days_from_first_stock'].cumsum()\n",
    "        sku_store_df_step['sales_cumsum'] = sku_store_df_step['sales'].cumsum()\n",
    "        sku_store_df_step['dynamic_stock_with_palmers_init'] = sku_store_df_step['palmers_first_allocation'] - sku_store_df_step['sales_cumsum']\n",
    "        sku_store_df_step['sales_cumsum_divide_days_from_first_stock'] =  sku_store_df_step['sales_cumsum'] / sku_store_df_step['days_from_first_stock']\n",
    "\n",
    "        zero_sales_days_back = 1\n",
    "        sku_store_df_step['days_from_last_sales_that_not_zero'] = 1\n",
    "        for index, row in sku_store_df_step.shift(1).iterrows():\n",
    "            # if index is sku_store_df_step[sku_store_df_step[\"stock\"]>0][\"stock\"] index\n",
    "            if index > sku_store_df_step[sku_store_df_step[\"stock\"]>0].index[0]:\n",
    "                if row['sales'] == 0:\n",
    "                    zero_sales_days_back += 1\n",
    "                else:\n",
    "                    zero_sales_days_back = 1\n",
    "                sku_store_df_step.at[index, 'days_from_last_sales_that_not_zero'] = zero_sales_days_back\n",
    "        sku_store_df_step.loc[sku_store_df_step[\"date\"]<sku_store_df_step[sku_store_df_step[\"stock\"]>0][\"date\"].iloc[0], \"days_from_last_sales_that_not_zero\"] = np.nan\n",
    "        sku_store_df_step['rate_sales'] = sku_store_df_step['sales'] / sku_store_df_step['days_from_last_sales_that_not_zero']\n",
    "        dict_of_all_data_after_preprocess[sku][store] = sku_store_df_step\n",
    "        sku_store_df_step['diff_stock'] = sku_store_df_step['stock'].diff()\n",
    "\n",
    "\n"
   ],
   "metadata": {
    "collapsed": false
   }
  },
  {
   "cell_type": "code",
   "execution_count": 76,
   "outputs": [
    {
     "name": "stdout",
     "output_type": "stream",
     "text": [
      "                      sku store       date  average_price  \\\n",
      "18058906  100630105000002   100 2020-09-07            NaN   \n",
      "18068852  100630105000002   100 2020-09-08            NaN   \n",
      "18109716  100630105000002   100 2020-09-09            NaN   \n",
      "18153253  100630105000002   100 2020-09-10            NaN   \n",
      "18164071  100630105000002   100 2020-09-11            NaN   \n",
      "...                   ...   ...        ...            ...   \n",
      "73205453  100630105000002   100 2023-12-08            NaN   \n",
      "73248678  100630105000002   100 2023-12-09            NaN   \n",
      "73300214  100630105000002   100 2023-12-10            NaN   \n",
      "73355073  100630105000002   100 2023-12-11            NaN   \n",
      "73388217  100630105000002   100 2023-12-12            NaN   \n",
      "\n",
      "          average_dicounted_price  sales          item            sku_store  \\\n",
      "18058906                      NaN    0.0  100630105000  100630105000002,100   \n",
      "18068852                      NaN    0.0  100630105000  100630105000002,100   \n",
      "18109716                      NaN    0.0  100630105000  100630105000002,100   \n",
      "18153253                      NaN    0.0  100630105000  100630105000002,100   \n",
      "18164071                      NaN    0.0  100630105000  100630105000002,100   \n",
      "...                           ...    ...           ...                  ...   \n",
      "73205453                      NaN    0.0  100630105000  100630105000002,100   \n",
      "73248678                      NaN    0.0  100630105000  100630105000002,100   \n",
      "73300214                      NaN    0.0  100630105000  100630105000002,100   \n",
      "73355073                      NaN    0.0  100630105000  100630105000002,100   \n",
      "73388217                      NaN    0.0  100630105000  100630105000002,100   \n",
      "\n",
      "          stock  warehouse_stock  palmers_first_allocation  \\\n",
      "18058906    0.0           3165.0                       NaN   \n",
      "18068852    0.0           3165.0                       NaN   \n",
      "18109716    0.0           3165.0                       NaN   \n",
      "18153253    0.0           3165.0                       NaN   \n",
      "18164071   25.0           2203.0                      25.0   \n",
      "...         ...              ...                       ...   \n",
      "73205453    0.0              0.0                      25.0   \n",
      "73248678    0.0              0.0                      25.0   \n",
      "73300214    0.0              0.0                      25.0   \n",
      "73355073    0.0              0.0                      25.0   \n",
      "73388217    0.0              0.0                      25.0   \n",
      "\n",
      "          days_from_first_stock  sales_cumsum  \\\n",
      "18058906                    NaN           0.0   \n",
      "18068852                    NaN           0.0   \n",
      "18109716                    NaN           0.0   \n",
      "18153253                    NaN           0.0   \n",
      "18164071                    1.0           0.0   \n",
      "...                         ...           ...   \n",
      "73205453                 1184.0          51.0   \n",
      "73248678                 1185.0          51.0   \n",
      "73300214                 1186.0          51.0   \n",
      "73355073                 1187.0          51.0   \n",
      "73388217                 1188.0          51.0   \n",
      "\n",
      "          dynamic_stock_with_palmers_init  \\\n",
      "18058906                              NaN   \n",
      "18068852                              NaN   \n",
      "18109716                              NaN   \n",
      "18153253                              NaN   \n",
      "18164071                             25.0   \n",
      "...                                   ...   \n",
      "73205453                            -26.0   \n",
      "73248678                            -26.0   \n",
      "73300214                            -26.0   \n",
      "73355073                            -26.0   \n",
      "73388217                            -26.0   \n",
      "\n",
      "          sales_cumsum_divide_days_from_first_stock  \\\n",
      "18058906                                        NaN   \n",
      "18068852                                        NaN   \n",
      "18109716                                        NaN   \n",
      "18153253                                        NaN   \n",
      "18164071                                   0.000000   \n",
      "...                                             ...   \n",
      "73205453                                   0.043074   \n",
      "73248678                                   0.043038   \n",
      "73300214                                   0.043002   \n",
      "73355073                                   0.042965   \n",
      "73388217                                   0.042929   \n",
      "\n",
      "          days_from_last_sales_that_not_zero  rate_sales  diff_stock  \n",
      "18058906                                 NaN         NaN         0.0  \n",
      "18068852                                 NaN         NaN         0.0  \n",
      "18109716                                 NaN         NaN         0.0  \n",
      "18153253                                 NaN         NaN         0.0  \n",
      "18164071                                 1.0         0.0        25.0  \n",
      "...                                      ...         ...         ...  \n",
      "73205453                               785.0         0.0         0.0  \n",
      "73248678                               786.0         0.0         0.0  \n",
      "73300214                               787.0         0.0         0.0  \n",
      "73355073                               788.0         0.0         0.0  \n",
      "73388217                               789.0         0.0         0.0  \n",
      "\n",
      "[1192 rows x 18 columns]\n"
     ]
    }
   ],
   "source": [
    "print(sku_store_df_step.iloc[100:])"
   ],
   "metadata": {
    "collapsed": false
   }
  },
  {
   "cell_type": "code",
   "execution_count": 97,
   "outputs": [],
   "source": [
    "\n",
    "dynamic_distribution_per_store = {}\n",
    "date = '2020-09-12'\n",
    "total_stock_warehouse = 104\n",
    "update_stock_remain = 104\n",
    "warehouse_dict = {}\n",
    "for sku in dict_of_all_data_after_preprocess.keys():\n",
    "    dynamic_distribution_per_store[sku] = {}\n",
    "    warehouse_dict[sku] = {}\n",
    "    for store in dict_of_all_data_after_preprocess[sku].keys():\n",
    "        dynamic_distribution_per_store[sku][store] = {}\n",
    "        date_data = dict_of_all_data_after_preprocess[sku][store][dict_of_all_data_after_preprocess[sku][store]['date'] <= date]\n",
    "        dynamic_distribution_per_store[sku][store]['initial_stock_in_store'] = date_data['palmers_first_allocation'].iloc[-1]\n",
    "        dynamic_distribution_per_store[sku][store]['current_stock_in_store'] = date_data['dynamic_stock_with_palmers_init'].iloc[-1]\n",
    "        dynamic_distribution_per_store[sku][store]['sales_cumsum'] =  date_data.set_index('date')['sales_cumsum']\n",
    "        dynamic_distribution_per_store[sku][store]['rate_sales'] = date_data.set_index('date')['rate_sales']\n",
    "        dynamic_distribution_per_store[sku][store]['sales_cumsum_divide_days_from_first_stock'] = date_data.set_index('date')['sales_cumsum_divide_days_from_first_stock']\n",
    "        dynamic_distribution_per_store[sku][store]['initial_stock_in_warehouse'] = total_stock_warehouse\n",
    "        update_stock_remain -= date_data['diff_stock'][date_data['diff_stock'] > 0].sum() - np.abs(date_data['sales'][date_data['sales'] < 0].sum())\n",
    "        dynamic_distribution_per_store[sku][store]['prior_original_distribution'] = dict_per_store_per_year['2020'][store] / (dict_per_store_per_year['2020']['100'] + dict_per_store_per_year['2020']['42'])\n",
    "        dynamic_distribution_per_store[sku][store]['prior_original_allocation_stock'] = np.round(dynamic_distribution_per_store[sku][store]['prior_original_distribution'] * total_stock_warehouse)\n",
    "\n",
    "        dynamic_distribution_per_store[sku][store]['dynamic_distribution'] =  dynamic_distribution_per_store[sku][store]['prior_original_distribution']\n",
    "        dynamic_distribution_per_store[sku][store]['dynamic_allocation_stock'] = dynamic_distribution_per_store[sku][store]['prior_original_allocation_stock']\n",
    "\n",
    "        dynamic_distribution_per_store[sku][store]['action'] = 0\n",
    "\n",
    "    warehouse_dict[sku]['initial_stock_in_warehouse'] = total_stock_warehouse\n",
    "    warehouse_dict[sku]['remain_stock'] = update_stock_remain\n",
    "    for store in dict_of_all_data_after_preprocess[sku].keys():\n",
    "        dynamic_distribution_per_store[sku][store]['initial_stock_in_warehouse'] = warehouse_dict[sku]['initial_stock_in_warehouse']\n",
    "        dynamic_distribution_per_store[sku][store]['remain_stock'] = warehouse_dict[sku]['remain_stock']\n",
    "\n"
   ],
   "metadata": {
    "collapsed": false
   }
  },
  {
   "cell_type": "code",
   "execution_count": 98,
   "outputs": [
    {
     "data": {
      "text/plain": "{'100630105000002': {'42': {'initial_stock_in_store': 20.0,\n   'current_stock_in_store': 20.0,\n   'sales_cumsum': date\n   2020-09-02    0.0\n   2020-09-03    0.0\n   2020-09-04    0.0\n   2020-09-05    0.0\n   2020-09-06    0.0\n   2020-09-07    0.0\n   2020-09-08    0.0\n   2020-09-09    0.0\n   2020-09-10    0.0\n   2020-09-11    0.0\n   2020-09-12    0.0\n   Name: sales_cumsum, dtype: float64,\n   'rate_sales': date\n   2020-09-02    NaN\n   2020-09-03    NaN\n   2020-09-04    NaN\n   2020-09-05    NaN\n   2020-09-06    NaN\n   2020-09-07    NaN\n   2020-09-08    NaN\n   2020-09-09    NaN\n   2020-09-10    NaN\n   2020-09-11    0.0\n   2020-09-12    0.0\n   Name: rate_sales, dtype: float64,\n   'sales_cumsum_divide_days_from_first_stock': date\n   2020-09-02    NaN\n   2020-09-03    NaN\n   2020-09-04    NaN\n   2020-09-05    NaN\n   2020-09-06    NaN\n   2020-09-07    NaN\n   2020-09-08    NaN\n   2020-09-09    NaN\n   2020-09-10    NaN\n   2020-09-11    0.0\n   2020-09-12    0.0\n   Name: sales_cumsum_divide_days_from_first_stock, dtype: float64,\n   'initial_stock_in_warehouse': 104,\n   'prior_original_distribution': 0.3625968942339883,\n   'prior_original_allocation_stock': 38.0,\n   'remain_stock': 59.0},\n  '100': {'initial_stock_in_store': 25.0,\n   'current_stock_in_store': 23.0,\n   'sales_cumsum': date\n   2020-09-02    0.0\n   2020-09-03    0.0\n   2020-09-04    0.0\n   2020-09-05    0.0\n   2020-09-06    0.0\n   2020-09-07    0.0\n   2020-09-08    0.0\n   2020-09-09    0.0\n   2020-09-10    0.0\n   2020-09-11    0.0\n   2020-09-12    2.0\n   Name: sales_cumsum, dtype: float64,\n   'rate_sales': date\n   2020-09-02    NaN\n   2020-09-03    NaN\n   2020-09-04    NaN\n   2020-09-05    NaN\n   2020-09-06    NaN\n   2020-09-07    NaN\n   2020-09-08    NaN\n   2020-09-09    NaN\n   2020-09-10    NaN\n   2020-09-11    0.0\n   2020-09-12    1.0\n   Name: rate_sales, dtype: float64,\n   'sales_cumsum_divide_days_from_first_stock': date\n   2020-09-02    NaN\n   2020-09-03    NaN\n   2020-09-04    NaN\n   2020-09-05    NaN\n   2020-09-06    NaN\n   2020-09-07    NaN\n   2020-09-08    NaN\n   2020-09-09    NaN\n   2020-09-10    NaN\n   2020-09-11    0.0\n   2020-09-12    1.0\n   Name: sales_cumsum_divide_days_from_first_stock, dtype: float64,\n   'initial_stock_in_warehouse': 104,\n   'prior_original_distribution': 0.6374031057660117,\n   'prior_original_allocation_stock': 66.0,\n   'remain_stock': 59.0}}}"
     },
     "execution_count": 98,
     "metadata": {},
     "output_type": "execute_result"
    }
   ],
   "source": [
    "dynamic_distribution_per_store"
   ],
   "metadata": {
    "collapsed": false
   }
  },
  {
   "cell_type": "code",
   "execution_count": 90,
   "outputs": [
    {
     "data": {
      "text/plain": "{'100630105000002': {'initial_stock_in_warehouse': 104, 'remain_stock': 59.0}}"
     },
     "execution_count": 90,
     "metadata": {},
     "output_type": "execute_result"
    }
   ],
   "source": [
    "warehouse_dict"
   ],
   "metadata": {
    "collapsed": false
   }
  },
  {
   "cell_type": "code",
   "execution_count": null,
   "outputs": [],
   "source": [
    "def update_dynamic_distribution(store_data, total_stock_warehouse):\n",
    "    # Recalculate the distribution ratio based on new sales data and other metrics\n",
    "    # This could involve complex business logic depending on your specific needs\n",
    "    # For example, adjust the distribution based on the rate of sales\n",
    "    if store_data['action'] == 'increase_stock':\n",
    "        # Increase the distribution ratio for this store\n",
    "        store_data['dynamic_distribution_before_norm'] += 0.02  # Define how you calculate this\n",
    "    elif store_data['action'] == 'decrease_stock':\n",
    "        # Decrease the distribution ratio for this store\n",
    "        store_data['dynamic_distribution_before_norm'] -= 0.02\n",
    "    else:\n",
    "\n",
    "    # store_data['dynamic_distribution'] = max(0, min(store_data['dynamic_distribution'], 1))\n",
    "    # # Recalculate the dynamic allocation of stock based on the updated distribution\n",
    "    # store_data['dynamic_allocation_stock'] = round(store_data['dynamic_distribution'] * total_stock_warehouse)\n",
    "    # # Adjust the remaining stock in the warehouse\n",
    "    # store_data['remain_stock'] -= store_data['next_amount_allocation']\n",
    "    # store_data['remain_stock'] = max(0, store_data['remain_stock'])  # Ensure it doesn't go negative\n",
    "    # # Update the prioritization of the original distribution if needed\n"
   ],
   "metadata": {
    "collapsed": false
   }
  },
  {
   "cell_type": "code",
   "execution_count": null,
   "outputs": [],
   "source": [
    "def compare_and_update_belief(dynamic_distribution, deterministic_sales_percentage, current_date):\n",
    "    redistribution_suggestions = {}\n",
    "    for sku, stores in dynamic_distribution.items():\n",
    "        for store, data in stores.items():\n",
    "            # Extract necessary data\n",
    "            expected_sales = deterministic_sales_percentage[sku][store] * data['initial_stock']\n",
    "            actual_sales = data['sales_cumsum'][-1]\n",
    "            rate_sales = data['rate_sales']\n",
    "            sales_cumsum_div_days = data['sales_cumsum_divide_days_from_first_stock']\n",
    "            # Analyzing Sales Performance\n",
    "            if actual_sales < expected_sales:\n",
    "                if rate_sales < some_rate_threshold and sales_cumsum_div_days < some_cumsum_div_days_threshold:\n",
    "                    data['action'] = 'decrease_stock'\n",
    "                    redistribution_suggestions.setdefault(sku, []).append((store, 'decrease'))\n",
    "                else:\n",
    "                    data['action'] = 'monitor'\n",
    "            else:\n",
    "                if sales_cumsum_div_days > some_cumsum_div_days_threshold:\n",
    "                    data['action'] = 'increase_stock'\n",
    "                    redistribution_suggestions.setdefault(sku, []).append((store, 'increase'))\n",
    "                else:\n",
    "                    data['action'] = 'maintain_current_strategy'\n",
    "            # Belief Update\n",
    "            sales_difference = actual_sales - expected_sales\n",
    "            belief_update = sales_difference / expected_sales if expected_sales != 0 else 0\n",
    "            data['belief_update'] = belief_update\n",
    "            # Call to update store's stock based on decided action\n",
    "            update_store_stock(data, current_date)\n",
    "    # Handling Redistribution\n",
    "    handle_redistribution(redistribution_suggestions, dynamic_distribution)\n",
    "def handle_redistribution(redistribution_suggestions, dynamic_distribution):\n",
    "    # Logic to handle stock redistribution based on suggestions\n",
    "    for sku, suggestions in redistribution_suggestions.items():\n",
    "        decrease_stores = [store for store, action in suggestions if action == 'decrease']\n",
    "        increase_stores = [store for store, action in suggestions if action == 'increase']\n",
    "        # Logic to determine how much stock to move from decrease_stores to increase_stores\n",
    "        # Example: Transfer stock based on the rate of sales, stock remain, etc.\n",
    "        # Implement redistribution logic here\n",
    "        pass\n",
    "def update_store_stock(data, current_date):\n",
    "    # Implement the logic for updating the stock based on the action\n",
    "    # Example:\n",
    "    if data['action'] == 'increase_stock':\n",
    "        # Logic to increase stock\n",
    "        pass\n",
    "    elif data['action'] == 'consider_discount_or_redistribution':\n",
    "        # Logic for discounts or redistribution\n",
    "        pass\n",
    "    # ... additional conditions based on the 'action'\n",
    "\n",
    "\n",
    "\n",
    "\n"
   ],
   "metadata": {
    "collapsed": false
   }
  },
  {
   "cell_type": "code",
   "execution_count": 28,
   "outputs": [
    {
     "name": "stdout",
     "output_type": "stream",
     "text": [
      "                     sku store       date  average_price  \\\n",
      "2014680  100009161000001   100 2018-09-12            NaN   \n",
      "2024532  100009161000001   100 2018-09-13            NaN   \n",
      "2043874  100009161000001   100 2018-09-14            NaN   \n",
      "2050162  100009161000001   100 2018-09-15            NaN   \n",
      "2064786  100009161000001   100 2018-09-16            NaN   \n",
      "2075427  100009161000001   100 2018-09-17            NaN   \n",
      "2088404  100009161000001   100 2018-09-18            NaN   \n",
      "2092978  100009161000001   100 2018-09-19            NaN   \n",
      "2104613  100009161000001   100 2018-09-20            NaN   \n",
      "2124014  100009161000001   100 2018-09-21            NaN   \n",
      "2129414  100009161000001   100 2018-09-22            NaN   \n",
      "2144075  100009161000001   100 2018-09-23            NaN   \n",
      "2158493  100009161000001   100 2018-09-24            NaN   \n",
      "2166636  100009161000001   100 2018-09-25            NaN   \n",
      "2173706  100009161000001   100 2018-09-26            NaN   \n",
      "2187204  100009161000001   100 2018-09-27          59.99   \n",
      "2203902  100009161000001   100 2018-09-28            NaN   \n",
      "2215120  100009161000001   100 2018-09-29          59.99   \n",
      "2223288  100009161000001   100 2018-09-30            NaN   \n",
      "2230173  100009161000001   100 2018-10-01            NaN   \n",
      "2243807  100009161000001   100 2018-10-02            NaN   \n",
      "2261011  100009161000001   100 2018-10-03          59.99   \n",
      "2269747  100009161000001   100 2018-10-04          59.99   \n",
      "2286353  100009161000001   100 2018-10-05            NaN   \n",
      "2291985  100009161000001   100 2018-10-06            NaN   \n",
      "2308256  100009161000001   100 2018-10-07            NaN   \n",
      "2312332  100009161000001   100 2018-10-08            NaN   \n",
      "2323021  100009161000001   100 2018-10-09            NaN   \n",
      "2340549  100009161000001   100 2018-10-10            NaN   \n",
      "2354623  100009161000001   100 2018-10-11            NaN   \n",
      "\n",
      "         average_dicounted_price  sales          item            sku_store  \\\n",
      "2014680                      NaN    0.0  100009161000  100009161000001,100   \n",
      "2024532                      NaN    0.0  100009161000  100009161000001,100   \n",
      "2043874                      NaN    0.0  100009161000  100009161000001,100   \n",
      "2050162                      NaN    0.0  100009161000  100009161000001,100   \n",
      "2064786                      NaN    0.0  100009161000  100009161000001,100   \n",
      "2075427                      NaN    0.0  100009161000  100009161000001,100   \n",
      "2088404                      NaN    0.0  100009161000  100009161000001,100   \n",
      "2092978                      NaN    0.0  100009161000  100009161000001,100   \n",
      "2104613                      NaN    0.0  100009161000  100009161000001,100   \n",
      "2124014                      NaN    0.0  100009161000  100009161000001,100   \n",
      "2129414                      NaN    0.0  100009161000  100009161000001,100   \n",
      "2144075                      NaN    0.0  100009161000  100009161000001,100   \n",
      "2158493                      NaN    0.0  100009161000  100009161000001,100   \n",
      "2166636                      NaN    0.0  100009161000  100009161000001,100   \n",
      "2173706                      NaN    0.0  100009161000  100009161000001,100   \n",
      "2187204                    39.99    1.0  100009161000  100009161000001,100   \n",
      "2203902                      NaN    0.0  100009161000  100009161000001,100   \n",
      "2215120                    56.99    1.0  100009161000  100009161000001,100   \n",
      "2223288                      NaN    0.0  100009161000  100009161000001,100   \n",
      "2230173                      NaN    0.0  100009161000  100009161000001,100   \n",
      "2243807                      NaN    0.0  100009161000  100009161000001,100   \n",
      "2261011                    47.99    1.0  100009161000  100009161000001,100   \n",
      "2269747                    47.99    1.0  100009161000  100009161000001,100   \n",
      "2286353                      NaN    0.0  100009161000  100009161000001,100   \n",
      "2291985                      NaN    0.0  100009161000  100009161000001,100   \n",
      "2308256                      NaN    0.0  100009161000  100009161000001,100   \n",
      "2312332                      NaN    0.0  100009161000  100009161000001,100   \n",
      "2323021                      NaN    0.0  100009161000  100009161000001,100   \n",
      "2340549                      NaN    0.0  100009161000  100009161000001,100   \n",
      "2354623                      NaN    0.0  100009161000  100009161000001,100   \n",
      "\n",
      "         stock  warehouse_stock  palmers_first_allocation  \\\n",
      "2014680    0.0            335.0                       NaN   \n",
      "2024532    0.0            335.0                       NaN   \n",
      "2043874    0.0            335.0                       NaN   \n",
      "2050162    6.0            169.0                       6.0   \n",
      "2064786    6.0            169.0                       6.0   \n",
      "2075427    6.0            169.0                       6.0   \n",
      "2088404    6.0            151.0                       6.0   \n",
      "2092978    6.0            149.0                       6.0   \n",
      "2104613    6.0            130.0                       6.0   \n",
      "2124014    6.0            128.0                       6.0   \n",
      "2129414    6.0            125.0                       6.0   \n",
      "2144075    6.0            125.0                       6.0   \n",
      "2158493    6.0            125.0                       6.0   \n",
      "2166636    6.0            120.0                       6.0   \n",
      "2173706    6.0            119.0                       6.0   \n",
      "2187204    6.0            116.0                       6.0   \n",
      "2203902    5.0            113.0                       6.0   \n",
      "2215120    6.0            107.0                       6.0   \n",
      "2223288    5.0            107.0                       6.0   \n",
      "2230173    5.0            107.0                       6.0   \n",
      "2243807    6.0            103.0                       6.0   \n",
      "2261011    6.0            101.0                       6.0   \n",
      "2269747    5.0             99.0                       6.0   \n",
      "2286353    5.0             98.0                       6.0   \n",
      "2291985    6.0             90.0                       6.0   \n",
      "2308256    6.0             90.0                       6.0   \n",
      "2312332    6.0             90.0                       6.0   \n",
      "2323021    6.0             79.0                       6.0   \n",
      "2340549    6.0             77.0                       6.0   \n",
      "2354623    6.0             77.0                       6.0   \n",
      "\n",
      "         days_from_first_stock  sales_cumsum  dynamic_stock_with_palmers_init  \\\n",
      "2014680                    NaN           0.0                              NaN   \n",
      "2024532                    NaN           0.0                              NaN   \n",
      "2043874                    NaN           0.0                              NaN   \n",
      "2050162                    1.0           0.0                              6.0   \n",
      "2064786                    2.0           0.0                              6.0   \n",
      "2075427                    3.0           0.0                              6.0   \n",
      "2088404                    4.0           0.0                              6.0   \n",
      "2092978                    5.0           0.0                              6.0   \n",
      "2104613                    6.0           0.0                              6.0   \n",
      "2124014                    7.0           0.0                              6.0   \n",
      "2129414                    8.0           0.0                              6.0   \n",
      "2144075                    9.0           0.0                              6.0   \n",
      "2158493                   10.0           0.0                              6.0   \n",
      "2166636                   11.0           0.0                              6.0   \n",
      "2173706                   12.0           0.0                              6.0   \n",
      "2187204                   13.0           1.0                              5.0   \n",
      "2203902                   14.0           1.0                              5.0   \n",
      "2215120                   15.0           2.0                              4.0   \n",
      "2223288                   16.0           2.0                              4.0   \n",
      "2230173                   17.0           2.0                              4.0   \n",
      "2243807                   18.0           2.0                              4.0   \n",
      "2261011                   19.0           3.0                              3.0   \n",
      "2269747                   20.0           4.0                              2.0   \n",
      "2286353                   21.0           4.0                              2.0   \n",
      "2291985                   22.0           4.0                              2.0   \n",
      "2308256                   23.0           4.0                              2.0   \n",
      "2312332                   24.0           4.0                              2.0   \n",
      "2323021                   25.0           4.0                              2.0   \n",
      "2340549                   26.0           4.0                              2.0   \n",
      "2354623                   27.0           4.0                              2.0   \n",
      "\n",
      "         sales_cumsum_divide_days_from_first_stock  \\\n",
      "2014680                                        NaN   \n",
      "2024532                                        NaN   \n",
      "2043874                                        NaN   \n",
      "2050162                                   0.000000   \n",
      "2064786                                   0.000000   \n",
      "2075427                                   0.000000   \n",
      "2088404                                   0.000000   \n",
      "2092978                                   0.000000   \n",
      "2104613                                   0.000000   \n",
      "2124014                                   0.000000   \n",
      "2129414                                   0.000000   \n",
      "2144075                                   0.000000   \n",
      "2158493                                   0.000000   \n",
      "2166636                                   0.000000   \n",
      "2173706                                   0.000000   \n",
      "2187204                                   0.076923   \n",
      "2203902                                   0.071429   \n",
      "2215120                                   0.133333   \n",
      "2223288                                   0.125000   \n",
      "2230173                                   0.117647   \n",
      "2243807                                   0.111111   \n",
      "2261011                                   0.157895   \n",
      "2269747                                   0.200000   \n",
      "2286353                                   0.190476   \n",
      "2291985                                   0.181818   \n",
      "2308256                                   0.173913   \n",
      "2312332                                   0.166667   \n",
      "2323021                                   0.160000   \n",
      "2340549                                   0.153846   \n",
      "2354623                                   0.148148   \n",
      "\n",
      "         days_from_last_sales_that_not_zero  rate_sales  \n",
      "2014680                                 NaN         NaN  \n",
      "2024532                                 NaN         NaN  \n",
      "2043874                                 NaN         NaN  \n",
      "2050162                                 1.0    0.000000  \n",
      "2064786                                 2.0    0.000000  \n",
      "2075427                                 3.0    0.000000  \n",
      "2088404                                 4.0    0.000000  \n",
      "2092978                                 5.0    0.000000  \n",
      "2104613                                 6.0    0.000000  \n",
      "2124014                                 7.0    0.000000  \n",
      "2129414                                 8.0    0.000000  \n",
      "2144075                                 9.0    0.000000  \n",
      "2158493                                10.0    0.000000  \n",
      "2166636                                11.0    0.000000  \n",
      "2173706                                12.0    0.000000  \n",
      "2187204                                13.0    0.076923  \n",
      "2203902                                 1.0    0.000000  \n",
      "2215120                                 2.0    0.500000  \n",
      "2223288                                 1.0    0.000000  \n",
      "2230173                                 2.0    0.000000  \n",
      "2243807                                 3.0    0.000000  \n",
      "2261011                                 4.0    0.250000  \n",
      "2269747                                 1.0    1.000000  \n",
      "2286353                                 1.0    0.000000  \n",
      "2291985                                 2.0    0.000000  \n",
      "2308256                                 3.0    0.000000  \n",
      "2312332                                 4.0    0.000000  \n",
      "2323021                                 5.0    0.000000  \n",
      "2340549                                 6.0    0.000000  \n",
      "2354623                                 7.0    0.000000  \n"
     ]
    }
   ],
   "source": [
    "print(sku_store_df_step.iloc[0:30])"
   ],
   "metadata": {
    "collapsed": false
   }
  },
  {
   "cell_type": "code",
   "execution_count": 29,
   "outputs": [
    {
     "name": "stderr",
     "output_type": "stream",
     "text": [
      "/var/folders/sv/p02my_xx7t193mwjyb2ytt040000gn/T/ipykernel_37550/4001794443.py:1: SettingWithCopyWarning: \n",
      "A value is trying to be set on a copy of a slice from a DataFrame.\n",
      "Try using .loc[row_indexer,col_indexer] = value instead\n",
      "\n",
      "See the caveats in the documentation: https://pandas.pydata.org/pandas-docs/stable/user_guide/indexing.html#returning-a-view-versus-a-copy\n",
      "  sku_store_df_step.loc[sku_store_df_step['date'] < sku_store_df_step[sku_store_df_step[\"stock\"]>0]['date'].iloc[0], \"sum_of_our_allocation_stock\"] = np.nan\n"
     ]
    }
   ],
   "source": [
    "sku_store_df_step.loc[sku_store_df_step['date'] < sku_store_df_step[sku_store_df_step[\"stock\"]>0]['date'].iloc[0], \"sum_of_our_allocation_stock\"] = np.nan"
   ],
   "metadata": {
    "collapsed": false
   }
  },
  {
   "cell_type": "code",
   "execution_count": 30,
   "outputs": [
    {
     "name": "stderr",
     "output_type": "stream",
     "text": [
      "/var/folders/sv/p02my_xx7t193mwjyb2ytt040000gn/T/ipykernel_37550/1012264236.py:1: FutureWarning: Automatic reindexing on DataFrame vs Series comparisons is deprecated and will raise ValueError in a future version. Do `left, right = left.align(right, axis=1, copy=False)` before e.g. `left == right`\n",
      "  sku_store_df_step.loc[sku_store_df_step[\"date\"]<sku_store_df_step[sku_store_df_step[\"stock\"]>0]]\n"
     ]
    },
    {
     "ename": "TypeError",
     "evalue": "Invalid comparison between dtype=datetime64[ns] and ndarray",
     "output_type": "error",
     "traceback": [
      "\u001B[0;31m---------------------------------------------------------------------------\u001B[0m",
      "\u001B[0;31mTypeError\u001B[0m                                 Traceback (most recent call last)",
      "File \u001B[0;32m~/Desktop/Palmers/palmers/venv/local_oran/lib/python3.9/site-packages/pandas/core/arrays/datetimelike.py:595\u001B[0m, in \u001B[0;36mDatetimeLikeArrayMixin._validate_comparison_value\u001B[0;34m(self, other)\u001B[0m\n\u001B[1;32m    594\u001B[0m \u001B[38;5;28;01mtry\u001B[39;00m:\n\u001B[0;32m--> 595\u001B[0m     other \u001B[38;5;241m=\u001B[39m \u001B[38;5;28;43mself\u001B[39;49m\u001B[38;5;241;43m.\u001B[39;49m\u001B[43m_validate_listlike\u001B[49m\u001B[43m(\u001B[49m\u001B[43mother\u001B[49m\u001B[43m,\u001B[49m\u001B[43m \u001B[49m\u001B[43mallow_object\u001B[49m\u001B[38;5;241;43m=\u001B[39;49m\u001B[38;5;28;43;01mTrue\u001B[39;49;00m\u001B[43m)\u001B[49m\n\u001B[1;32m    596\u001B[0m     \u001B[38;5;28mself\u001B[39m\u001B[38;5;241m.\u001B[39m_check_compatible_with(other)\n",
      "File \u001B[0;32m~/Desktop/Palmers/palmers/venv/local_oran/lib/python3.9/site-packages/pandas/core/arrays/datetimelike.py:773\u001B[0m, in \u001B[0;36mDatetimeLikeArrayMixin._validate_listlike\u001B[0;34m(self, value, allow_object)\u001B[0m\n\u001B[1;32m    772\u001B[0m     msg \u001B[38;5;241m=\u001B[39m \u001B[38;5;28mself\u001B[39m\u001B[38;5;241m.\u001B[39m_validation_error_message(value, \u001B[38;5;28;01mTrue\u001B[39;00m)\n\u001B[0;32m--> 773\u001B[0m     \u001B[38;5;28;01mraise\u001B[39;00m \u001B[38;5;167;01mTypeError\u001B[39;00m(msg)\n\u001B[1;32m    775\u001B[0m \u001B[38;5;28;01mreturn\u001B[39;00m value\n",
      "\u001B[0;31mTypeError\u001B[0m: value should be a 'Timestamp', 'NaT', or array of those. Got 'FloatingArray' instead.",
      "\nThe above exception was the direct cause of the following exception:\n",
      "\u001B[0;31mInvalidComparison\u001B[0m                         Traceback (most recent call last)",
      "File \u001B[0;32m~/Desktop/Palmers/palmers/venv/local_oran/lib/python3.9/site-packages/pandas/core/arrays/datetimelike.py:1054\u001B[0m, in \u001B[0;36mDatetimeLikeArrayMixin._cmp_method\u001B[0;34m(self, other, op)\u001B[0m\n\u001B[1;32m   1053\u001B[0m \u001B[38;5;28;01mtry\u001B[39;00m:\n\u001B[0;32m-> 1054\u001B[0m     other \u001B[38;5;241m=\u001B[39m \u001B[38;5;28;43mself\u001B[39;49m\u001B[38;5;241;43m.\u001B[39;49m\u001B[43m_validate_comparison_value\u001B[49m\u001B[43m(\u001B[49m\u001B[43mother\u001B[49m\u001B[43m)\u001B[49m\n\u001B[1;32m   1055\u001B[0m \u001B[38;5;28;01mexcept\u001B[39;00m InvalidComparison:\n",
      "File \u001B[0;32m~/Desktop/Palmers/palmers/venv/local_oran/lib/python3.9/site-packages/pandas/core/arrays/datetimelike.py:602\u001B[0m, in \u001B[0;36mDatetimeLikeArrayMixin._validate_comparison_value\u001B[0;34m(self, other)\u001B[0m\n\u001B[1;32m    601\u001B[0m         \u001B[38;5;28;01melse\u001B[39;00m:\n\u001B[0;32m--> 602\u001B[0m             \u001B[38;5;28;01mraise\u001B[39;00m InvalidComparison(other) \u001B[38;5;28;01mfrom\u001B[39;00m \u001B[38;5;21;01merr\u001B[39;00m\n\u001B[1;32m    604\u001B[0m \u001B[38;5;28;01mreturn\u001B[39;00m other\n",
      "\u001B[0;31mInvalidComparison\u001B[0m: [nan nan nan ... nan nan nan]",
      "\nDuring handling of the above exception, another exception occurred:\n",
      "\u001B[0;31mTypeError\u001B[0m                                 Traceback (most recent call last)",
      "Cell \u001B[0;32mIn[30], line 1\u001B[0m\n\u001B[0;32m----> 1\u001B[0m sku_store_df_step\u001B[38;5;241m.\u001B[39mloc[\u001B[43msku_store_df_step\u001B[49m\u001B[43m[\u001B[49m\u001B[38;5;124;43m\"\u001B[39;49m\u001B[38;5;124;43mdate\u001B[39;49m\u001B[38;5;124;43m\"\u001B[39;49m\u001B[43m]\u001B[49m\u001B[38;5;241;43m<\u001B[39;49m\u001B[43msku_store_df_step\u001B[49m\u001B[43m[\u001B[49m\u001B[43msku_store_df_step\u001B[49m\u001B[43m[\u001B[49m\u001B[38;5;124;43m\"\u001B[39;49m\u001B[38;5;124;43mstock\u001B[39;49m\u001B[38;5;124;43m\"\u001B[39;49m\u001B[43m]\u001B[49m\u001B[38;5;241;43m>\u001B[39;49m\u001B[38;5;241;43m0\u001B[39;49m\u001B[43m]\u001B[49m]\n",
      "File \u001B[0;32m~/Desktop/Palmers/palmers/venv/local_oran/lib/python3.9/site-packages/pandas/core/ops/common.py:72\u001B[0m, in \u001B[0;36m_unpack_zerodim_and_defer.<locals>.new_method\u001B[0;34m(self, other)\u001B[0m\n\u001B[1;32m     68\u001B[0m             \u001B[38;5;28;01mreturn\u001B[39;00m \u001B[38;5;28mNotImplemented\u001B[39m\n\u001B[1;32m     70\u001B[0m other \u001B[38;5;241m=\u001B[39m item_from_zerodim(other)\n\u001B[0;32m---> 72\u001B[0m \u001B[38;5;28;01mreturn\u001B[39;00m \u001B[43mmethod\u001B[49m\u001B[43m(\u001B[49m\u001B[38;5;28;43mself\u001B[39;49m\u001B[43m,\u001B[49m\u001B[43m \u001B[49m\u001B[43mother\u001B[49m\u001B[43m)\u001B[49m\n",
      "File \u001B[0;32m~/Desktop/Palmers/palmers/venv/local_oran/lib/python3.9/site-packages/pandas/core/arraylike.py:58\u001B[0m, in \u001B[0;36mOpsMixin.__gt__\u001B[0;34m(self, other)\u001B[0m\n\u001B[1;32m     56\u001B[0m \u001B[38;5;129m@unpack_zerodim_and_defer\u001B[39m(\u001B[38;5;124m\"\u001B[39m\u001B[38;5;124m__gt__\u001B[39m\u001B[38;5;124m\"\u001B[39m)\n\u001B[1;32m     57\u001B[0m \u001B[38;5;28;01mdef\u001B[39;00m \u001B[38;5;21m__gt__\u001B[39m(\u001B[38;5;28mself\u001B[39m, other):\n\u001B[0;32m---> 58\u001B[0m     \u001B[38;5;28;01mreturn\u001B[39;00m \u001B[38;5;28;43mself\u001B[39;49m\u001B[38;5;241;43m.\u001B[39;49m\u001B[43m_cmp_method\u001B[49m\u001B[43m(\u001B[49m\u001B[43mother\u001B[49m\u001B[43m,\u001B[49m\u001B[43m \u001B[49m\u001B[43moperator\u001B[49m\u001B[38;5;241;43m.\u001B[39;49m\u001B[43mgt\u001B[49m\u001B[43m)\u001B[49m\n",
      "File \u001B[0;32m~/Desktop/Palmers/palmers/venv/local_oran/lib/python3.9/site-packages/pandas/core/frame.py:7582\u001B[0m, in \u001B[0;36mDataFrame._cmp_method\u001B[0;34m(self, other, op)\u001B[0m\n\u001B[1;32m   7579\u001B[0m \u001B[38;5;28mself\u001B[39m, other \u001B[38;5;241m=\u001B[39m ops\u001B[38;5;241m.\u001B[39malign_method_FRAME(\u001B[38;5;28mself\u001B[39m, other, axis, flex\u001B[38;5;241m=\u001B[39m\u001B[38;5;28;01mFalse\u001B[39;00m, level\u001B[38;5;241m=\u001B[39m\u001B[38;5;28;01mNone\u001B[39;00m)\n\u001B[1;32m   7581\u001B[0m \u001B[38;5;66;03m# See GH#4537 for discussion of scalar op behavior\u001B[39;00m\n\u001B[0;32m-> 7582\u001B[0m new_data \u001B[38;5;241m=\u001B[39m \u001B[38;5;28;43mself\u001B[39;49m\u001B[38;5;241;43m.\u001B[39;49m\u001B[43m_dispatch_frame_op\u001B[49m\u001B[43m(\u001B[49m\u001B[43mother\u001B[49m\u001B[43m,\u001B[49m\u001B[43m \u001B[49m\u001B[43mop\u001B[49m\u001B[43m,\u001B[49m\u001B[43m \u001B[49m\u001B[43maxis\u001B[49m\u001B[38;5;241;43m=\u001B[39;49m\u001B[43maxis\u001B[49m\u001B[43m)\u001B[49m\n\u001B[1;32m   7583\u001B[0m \u001B[38;5;28;01mreturn\u001B[39;00m \u001B[38;5;28mself\u001B[39m\u001B[38;5;241m.\u001B[39m_construct_result(new_data)\n",
      "File \u001B[0;32m~/Desktop/Palmers/palmers/venv/local_oran/lib/python3.9/site-packages/pandas/core/frame.py:7633\u001B[0m, in \u001B[0;36mDataFrame._dispatch_frame_op\u001B[0;34m(self, right, func, axis)\u001B[0m\n\u001B[1;32m   7627\u001B[0m     \u001B[38;5;66;03m# TODO: The previous assertion `assert right._indexed_same(self)`\u001B[39;00m\n\u001B[1;32m   7628\u001B[0m     \u001B[38;5;66;03m#  fails in cases with empty columns reached via\u001B[39;00m\n\u001B[1;32m   7629\u001B[0m     \u001B[38;5;66;03m#  _frame_arith_method_with_reindex\u001B[39;00m\n\u001B[1;32m   7630\u001B[0m \n\u001B[1;32m   7631\u001B[0m     \u001B[38;5;66;03m# TODO operate_blockwise expects a manager of the same type\u001B[39;00m\n\u001B[1;32m   7632\u001B[0m     \u001B[38;5;28;01mwith\u001B[39;00m np\u001B[38;5;241m.\u001B[39merrstate(\u001B[38;5;28mall\u001B[39m\u001B[38;5;241m=\u001B[39m\u001B[38;5;124m\"\u001B[39m\u001B[38;5;124mignore\u001B[39m\u001B[38;5;124m\"\u001B[39m):\n\u001B[0;32m-> 7633\u001B[0m         bm \u001B[38;5;241m=\u001B[39m \u001B[38;5;28;43mself\u001B[39;49m\u001B[38;5;241;43m.\u001B[39;49m\u001B[43m_mgr\u001B[49m\u001B[38;5;241;43m.\u001B[39;49m\u001B[43moperate_blockwise\u001B[49m\u001B[43m(\u001B[49m\n\u001B[1;32m   7634\u001B[0m \u001B[43m            \u001B[49m\u001B[38;5;66;43;03m# error: Argument 1 to \"operate_blockwise\" of \"ArrayManager\" has\u001B[39;49;00m\n\u001B[1;32m   7635\u001B[0m \u001B[43m            \u001B[49m\u001B[38;5;66;43;03m# incompatible type \"Union[ArrayManager, BlockManager]\"; expected\u001B[39;49;00m\n\u001B[1;32m   7636\u001B[0m \u001B[43m            \u001B[49m\u001B[38;5;66;43;03m# \"ArrayManager\"\u001B[39;49;00m\n\u001B[1;32m   7637\u001B[0m \u001B[43m            \u001B[49m\u001B[38;5;66;43;03m# error: Argument 1 to \"operate_blockwise\" of \"BlockManager\" has\u001B[39;49;00m\n\u001B[1;32m   7638\u001B[0m \u001B[43m            \u001B[49m\u001B[38;5;66;43;03m# incompatible type \"Union[ArrayManager, BlockManager]\"; expected\u001B[39;49;00m\n\u001B[1;32m   7639\u001B[0m \u001B[43m            \u001B[49m\u001B[38;5;66;43;03m# \"BlockManager\"\u001B[39;49;00m\n\u001B[1;32m   7640\u001B[0m \u001B[43m            \u001B[49m\u001B[43mright\u001B[49m\u001B[38;5;241;43m.\u001B[39;49m\u001B[43m_mgr\u001B[49m\u001B[43m,\u001B[49m\u001B[43m  \u001B[49m\u001B[38;5;66;43;03m# type: ignore[arg-type]\u001B[39;49;00m\n\u001B[1;32m   7641\u001B[0m \u001B[43m            \u001B[49m\u001B[43marray_op\u001B[49m\u001B[43m,\u001B[49m\n\u001B[1;32m   7642\u001B[0m \u001B[43m        \u001B[49m\u001B[43m)\u001B[49m\n\u001B[1;32m   7643\u001B[0m     \u001B[38;5;28;01mreturn\u001B[39;00m \u001B[38;5;28mself\u001B[39m\u001B[38;5;241m.\u001B[39m_constructor(bm)\n\u001B[1;32m   7645\u001B[0m \u001B[38;5;28;01melif\u001B[39;00m \u001B[38;5;28misinstance\u001B[39m(right, Series) \u001B[38;5;129;01mand\u001B[39;00m axis \u001B[38;5;241m==\u001B[39m \u001B[38;5;241m1\u001B[39m:\n\u001B[1;32m   7646\u001B[0m     \u001B[38;5;66;03m# axis=1 means we want to operate row-by-row\u001B[39;00m\n",
      "File \u001B[0;32m~/Desktop/Palmers/palmers/venv/local_oran/lib/python3.9/site-packages/pandas/core/internals/managers.py:1589\u001B[0m, in \u001B[0;36mBlockManager.operate_blockwise\u001B[0;34m(self, other, array_op)\u001B[0m\n\u001B[1;32m   1585\u001B[0m \u001B[38;5;28;01mdef\u001B[39;00m \u001B[38;5;21moperate_blockwise\u001B[39m(\u001B[38;5;28mself\u001B[39m, other: BlockManager, array_op) \u001B[38;5;241m-\u001B[39m\u001B[38;5;241m>\u001B[39m BlockManager:\n\u001B[1;32m   1586\u001B[0m \u001B[38;5;250m    \u001B[39m\u001B[38;5;124;03m\"\"\"\u001B[39;00m\n\u001B[1;32m   1587\u001B[0m \u001B[38;5;124;03m    Apply array_op blockwise with another (aligned) BlockManager.\u001B[39;00m\n\u001B[1;32m   1588\u001B[0m \u001B[38;5;124;03m    \"\"\"\u001B[39;00m\n\u001B[0;32m-> 1589\u001B[0m     \u001B[38;5;28;01mreturn\u001B[39;00m \u001B[43moperate_blockwise\u001B[49m\u001B[43m(\u001B[49m\u001B[38;5;28;43mself\u001B[39;49m\u001B[43m,\u001B[49m\u001B[43m \u001B[49m\u001B[43mother\u001B[49m\u001B[43m,\u001B[49m\u001B[43m \u001B[49m\u001B[43marray_op\u001B[49m\u001B[43m)\u001B[49m\n",
      "File \u001B[0;32m~/Desktop/Palmers/palmers/venv/local_oran/lib/python3.9/site-packages/pandas/core/internals/ops.py:63\u001B[0m, in \u001B[0;36moperate_blockwise\u001B[0;34m(left, right, array_op)\u001B[0m\n\u001B[1;32m     61\u001B[0m res_blks: \u001B[38;5;28mlist\u001B[39m[Block] \u001B[38;5;241m=\u001B[39m []\n\u001B[1;32m     62\u001B[0m \u001B[38;5;28;01mfor\u001B[39;00m lvals, rvals, locs, left_ea, right_ea, rblk \u001B[38;5;129;01min\u001B[39;00m _iter_block_pairs(left, right):\n\u001B[0;32m---> 63\u001B[0m     res_values \u001B[38;5;241m=\u001B[39m \u001B[43marray_op\u001B[49m\u001B[43m(\u001B[49m\u001B[43mlvals\u001B[49m\u001B[43m,\u001B[49m\u001B[43m \u001B[49m\u001B[43mrvals\u001B[49m\u001B[43m)\u001B[49m\n\u001B[1;32m     64\u001B[0m     \u001B[38;5;28;01mif\u001B[39;00m left_ea \u001B[38;5;129;01mand\u001B[39;00m \u001B[38;5;129;01mnot\u001B[39;00m right_ea \u001B[38;5;129;01mand\u001B[39;00m \u001B[38;5;28mhasattr\u001B[39m(res_values, \u001B[38;5;124m\"\u001B[39m\u001B[38;5;124mreshape\u001B[39m\u001B[38;5;124m\"\u001B[39m):\n\u001B[1;32m     65\u001B[0m         res_values \u001B[38;5;241m=\u001B[39m res_values\u001B[38;5;241m.\u001B[39mreshape(\u001B[38;5;241m1\u001B[39m, \u001B[38;5;241m-\u001B[39m\u001B[38;5;241m1\u001B[39m)\n",
      "File \u001B[0;32m~/Desktop/Palmers/palmers/venv/local_oran/lib/python3.9/site-packages/pandas/core/ops/array_ops.py:273\u001B[0m, in \u001B[0;36mcomparison_op\u001B[0;34m(left, right, op)\u001B[0m\n\u001B[1;32m    264\u001B[0m         \u001B[38;5;28;01mraise\u001B[39;00m \u001B[38;5;167;01mValueError\u001B[39;00m(\n\u001B[1;32m    265\u001B[0m             \u001B[38;5;124m\"\u001B[39m\u001B[38;5;124mLengths must match to compare\u001B[39m\u001B[38;5;124m\"\u001B[39m, lvalues\u001B[38;5;241m.\u001B[39mshape, rvalues\u001B[38;5;241m.\u001B[39mshape\n\u001B[1;32m    266\u001B[0m         )\n\u001B[1;32m    268\u001B[0m \u001B[38;5;28;01mif\u001B[39;00m should_extension_dispatch(lvalues, rvalues) \u001B[38;5;129;01mor\u001B[39;00m (\n\u001B[1;32m    269\u001B[0m     (\u001B[38;5;28misinstance\u001B[39m(rvalues, (Timedelta, BaseOffset, Timestamp)) \u001B[38;5;129;01mor\u001B[39;00m right \u001B[38;5;129;01mis\u001B[39;00m NaT)\n\u001B[1;32m    270\u001B[0m     \u001B[38;5;129;01mand\u001B[39;00m \u001B[38;5;129;01mnot\u001B[39;00m is_object_dtype(lvalues\u001B[38;5;241m.\u001B[39mdtype)\n\u001B[1;32m    271\u001B[0m ):\n\u001B[1;32m    272\u001B[0m     \u001B[38;5;66;03m# Call the method on lvalues\u001B[39;00m\n\u001B[0;32m--> 273\u001B[0m     res_values \u001B[38;5;241m=\u001B[39m \u001B[43mop\u001B[49m\u001B[43m(\u001B[49m\u001B[43mlvalues\u001B[49m\u001B[43m,\u001B[49m\u001B[43m \u001B[49m\u001B[43mrvalues\u001B[49m\u001B[43m)\u001B[49m\n\u001B[1;32m    275\u001B[0m \u001B[38;5;28;01melif\u001B[39;00m is_scalar(rvalues) \u001B[38;5;129;01mand\u001B[39;00m isna(rvalues):  \u001B[38;5;66;03m# TODO: but not pd.NA?\u001B[39;00m\n\u001B[1;32m    276\u001B[0m     \u001B[38;5;66;03m# numpy does not like comparisons vs None\u001B[39;00m\n\u001B[1;32m    277\u001B[0m     \u001B[38;5;28;01mif\u001B[39;00m op \u001B[38;5;129;01mis\u001B[39;00m operator\u001B[38;5;241m.\u001B[39mne:\n",
      "File \u001B[0;32m~/Desktop/Palmers/palmers/venv/local_oran/lib/python3.9/site-packages/pandas/core/arrays/datetimelike.py:2034\u001B[0m, in \u001B[0;36mTimelikeOps.__array_ufunc__\u001B[0;34m(self, ufunc, method, *inputs, **kwargs)\u001B[0m\n\u001B[1;32m   2026\u001B[0m \u001B[38;5;28;01mif\u001B[39;00m (\n\u001B[1;32m   2027\u001B[0m     ufunc \u001B[38;5;129;01min\u001B[39;00m [np\u001B[38;5;241m.\u001B[39misnan, np\u001B[38;5;241m.\u001B[39misinf, np\u001B[38;5;241m.\u001B[39misfinite]\n\u001B[1;32m   2028\u001B[0m     \u001B[38;5;129;01mand\u001B[39;00m \u001B[38;5;28mlen\u001B[39m(inputs) \u001B[38;5;241m==\u001B[39m \u001B[38;5;241m1\u001B[39m\n\u001B[1;32m   2029\u001B[0m     \u001B[38;5;129;01mand\u001B[39;00m inputs[\u001B[38;5;241m0\u001B[39m] \u001B[38;5;129;01mis\u001B[39;00m \u001B[38;5;28mself\u001B[39m\n\u001B[1;32m   2030\u001B[0m ):\n\u001B[1;32m   2031\u001B[0m     \u001B[38;5;66;03m# numpy 1.18 changed isinf and isnan to not raise on dt64/td64\u001B[39;00m\n\u001B[1;32m   2032\u001B[0m     \u001B[38;5;28;01mreturn\u001B[39;00m \u001B[38;5;28mgetattr\u001B[39m(ufunc, method)(\u001B[38;5;28mself\u001B[39m\u001B[38;5;241m.\u001B[39m_ndarray, \u001B[38;5;241m*\u001B[39m\u001B[38;5;241m*\u001B[39mkwargs)\n\u001B[0;32m-> 2034\u001B[0m \u001B[38;5;28;01mreturn\u001B[39;00m \u001B[38;5;28;43msuper\u001B[39;49m\u001B[43m(\u001B[49m\u001B[43m)\u001B[49m\u001B[38;5;241;43m.\u001B[39;49m\u001B[43m__array_ufunc__\u001B[49m\u001B[43m(\u001B[49m\u001B[43mufunc\u001B[49m\u001B[43m,\u001B[49m\u001B[43m \u001B[49m\u001B[43mmethod\u001B[49m\u001B[43m,\u001B[49m\u001B[43m \u001B[49m\u001B[38;5;241;43m*\u001B[39;49m\u001B[43minputs\u001B[49m\u001B[43m,\u001B[49m\u001B[43m \u001B[49m\u001B[38;5;241;43m*\u001B[39;49m\u001B[38;5;241;43m*\u001B[39;49m\u001B[43mkwargs\u001B[49m\u001B[43m)\u001B[49m\n",
      "File \u001B[0;32m~/Desktop/Palmers/palmers/venv/local_oran/lib/python3.9/site-packages/pandas/core/arrays/base.py:1666\u001B[0m, in \u001B[0;36mExtensionArray.__array_ufunc__\u001B[0;34m(self, ufunc, method, *inputs, **kwargs)\u001B[0m\n\u001B[1;32m   1661\u001B[0m \u001B[38;5;28;01mif\u001B[39;00m \u001B[38;5;28many\u001B[39m(\n\u001B[1;32m   1662\u001B[0m     \u001B[38;5;28misinstance\u001B[39m(other, (ABCSeries, ABCIndex, ABCDataFrame)) \u001B[38;5;28;01mfor\u001B[39;00m other \u001B[38;5;129;01min\u001B[39;00m inputs\n\u001B[1;32m   1663\u001B[0m ):\n\u001B[1;32m   1664\u001B[0m     \u001B[38;5;28;01mreturn\u001B[39;00m \u001B[38;5;28mNotImplemented\u001B[39m\n\u001B[0;32m-> 1666\u001B[0m result \u001B[38;5;241m=\u001B[39m \u001B[43marraylike\u001B[49m\u001B[38;5;241;43m.\u001B[39;49m\u001B[43mmaybe_dispatch_ufunc_to_dunder_op\u001B[49m\u001B[43m(\u001B[49m\n\u001B[1;32m   1667\u001B[0m \u001B[43m    \u001B[49m\u001B[38;5;28;43mself\u001B[39;49m\u001B[43m,\u001B[49m\u001B[43m \u001B[49m\u001B[43mufunc\u001B[49m\u001B[43m,\u001B[49m\u001B[43m \u001B[49m\u001B[43mmethod\u001B[49m\u001B[43m,\u001B[49m\u001B[43m \u001B[49m\u001B[38;5;241;43m*\u001B[39;49m\u001B[43minputs\u001B[49m\u001B[43m,\u001B[49m\u001B[43m \u001B[49m\u001B[38;5;241;43m*\u001B[39;49m\u001B[38;5;241;43m*\u001B[39;49m\u001B[43mkwargs\u001B[49m\n\u001B[1;32m   1668\u001B[0m \u001B[43m\u001B[49m\u001B[43m)\u001B[49m\n\u001B[1;32m   1669\u001B[0m \u001B[38;5;28;01mif\u001B[39;00m result \u001B[38;5;129;01mis\u001B[39;00m \u001B[38;5;129;01mnot\u001B[39;00m \u001B[38;5;28mNotImplemented\u001B[39m:\n\u001B[1;32m   1670\u001B[0m     \u001B[38;5;28;01mreturn\u001B[39;00m result\n",
      "File \u001B[0;32m~/Desktop/Palmers/palmers/venv/local_oran/lib/python3.9/site-packages/pandas/_libs/ops_dispatch.pyx:113\u001B[0m, in \u001B[0;36mpandas._libs.ops_dispatch.maybe_dispatch_ufunc_to_dunder_op\u001B[0;34m()\u001B[0m\n",
      "File \u001B[0;32m~/Desktop/Palmers/palmers/venv/local_oran/lib/python3.9/site-packages/pandas/core/ops/common.py:72\u001B[0m, in \u001B[0;36m_unpack_zerodim_and_defer.<locals>.new_method\u001B[0;34m(self, other)\u001B[0m\n\u001B[1;32m     68\u001B[0m             \u001B[38;5;28;01mreturn\u001B[39;00m \u001B[38;5;28mNotImplemented\u001B[39m\n\u001B[1;32m     70\u001B[0m other \u001B[38;5;241m=\u001B[39m item_from_zerodim(other)\n\u001B[0;32m---> 72\u001B[0m \u001B[38;5;28;01mreturn\u001B[39;00m \u001B[43mmethod\u001B[49m\u001B[43m(\u001B[49m\u001B[38;5;28;43mself\u001B[39;49m\u001B[43m,\u001B[49m\u001B[43m \u001B[49m\u001B[43mother\u001B[49m\u001B[43m)\u001B[49m\n",
      "File \u001B[0;32m~/Desktop/Palmers/palmers/venv/local_oran/lib/python3.9/site-packages/pandas/core/arraylike.py:50\u001B[0m, in \u001B[0;36mOpsMixin.__lt__\u001B[0;34m(self, other)\u001B[0m\n\u001B[1;32m     48\u001B[0m \u001B[38;5;129m@unpack_zerodim_and_defer\u001B[39m(\u001B[38;5;124m\"\u001B[39m\u001B[38;5;124m__lt__\u001B[39m\u001B[38;5;124m\"\u001B[39m)\n\u001B[1;32m     49\u001B[0m \u001B[38;5;28;01mdef\u001B[39;00m \u001B[38;5;21m__lt__\u001B[39m(\u001B[38;5;28mself\u001B[39m, other):\n\u001B[0;32m---> 50\u001B[0m     \u001B[38;5;28;01mreturn\u001B[39;00m \u001B[38;5;28;43mself\u001B[39;49m\u001B[38;5;241;43m.\u001B[39;49m\u001B[43m_cmp_method\u001B[49m\u001B[43m(\u001B[49m\u001B[43mother\u001B[49m\u001B[43m,\u001B[49m\u001B[43m \u001B[49m\u001B[43moperator\u001B[49m\u001B[38;5;241;43m.\u001B[39;49m\u001B[43mlt\u001B[49m\u001B[43m)\u001B[49m\n",
      "File \u001B[0;32m~/Desktop/Palmers/palmers/venv/local_oran/lib/python3.9/site-packages/pandas/core/arrays/datetimelike.py:1051\u001B[0m, in \u001B[0;36mDatetimeLikeArrayMixin._cmp_method\u001B[0;34m(self, other, op)\u001B[0m\n\u001B[1;32m   1048\u001B[0m \u001B[38;5;28;01mdef\u001B[39;00m \u001B[38;5;21m_cmp_method\u001B[39m(\u001B[38;5;28mself\u001B[39m, other, op):\n\u001B[1;32m   1049\u001B[0m     \u001B[38;5;28;01mif\u001B[39;00m \u001B[38;5;28mself\u001B[39m\u001B[38;5;241m.\u001B[39mndim \u001B[38;5;241m>\u001B[39m \u001B[38;5;241m1\u001B[39m \u001B[38;5;129;01mand\u001B[39;00m \u001B[38;5;28mgetattr\u001B[39m(other, \u001B[38;5;124m\"\u001B[39m\u001B[38;5;124mshape\u001B[39m\u001B[38;5;124m\"\u001B[39m, \u001B[38;5;28;01mNone\u001B[39;00m) \u001B[38;5;241m==\u001B[39m \u001B[38;5;28mself\u001B[39m\u001B[38;5;241m.\u001B[39mshape:\n\u001B[1;32m   1050\u001B[0m         \u001B[38;5;66;03m# TODO: handle 2D-like listlikes\u001B[39;00m\n\u001B[0;32m-> 1051\u001B[0m         \u001B[38;5;28;01mreturn\u001B[39;00m \u001B[43mop\u001B[49m\u001B[43m(\u001B[49m\u001B[38;5;28;43mself\u001B[39;49m\u001B[38;5;241;43m.\u001B[39;49m\u001B[43mravel\u001B[49m\u001B[43m(\u001B[49m\u001B[43m)\u001B[49m\u001B[43m,\u001B[49m\u001B[43m \u001B[49m\u001B[43mother\u001B[49m\u001B[38;5;241;43m.\u001B[39;49m\u001B[43mravel\u001B[49m\u001B[43m(\u001B[49m\u001B[43m)\u001B[49m\u001B[43m)\u001B[49m\u001B[38;5;241m.\u001B[39mreshape(\u001B[38;5;28mself\u001B[39m\u001B[38;5;241m.\u001B[39mshape)\n\u001B[1;32m   1053\u001B[0m     \u001B[38;5;28;01mtry\u001B[39;00m:\n\u001B[1;32m   1054\u001B[0m         other \u001B[38;5;241m=\u001B[39m \u001B[38;5;28mself\u001B[39m\u001B[38;5;241m.\u001B[39m_validate_comparison_value(other)\n",
      "File \u001B[0;32m~/Desktop/Palmers/palmers/venv/local_oran/lib/python3.9/site-packages/pandas/core/ops/common.py:72\u001B[0m, in \u001B[0;36m_unpack_zerodim_and_defer.<locals>.new_method\u001B[0;34m(self, other)\u001B[0m\n\u001B[1;32m     68\u001B[0m             \u001B[38;5;28;01mreturn\u001B[39;00m \u001B[38;5;28mNotImplemented\u001B[39m\n\u001B[1;32m     70\u001B[0m other \u001B[38;5;241m=\u001B[39m item_from_zerodim(other)\n\u001B[0;32m---> 72\u001B[0m \u001B[38;5;28;01mreturn\u001B[39;00m \u001B[43mmethod\u001B[49m\u001B[43m(\u001B[49m\u001B[38;5;28;43mself\u001B[39;49m\u001B[43m,\u001B[49m\u001B[43m \u001B[49m\u001B[43mother\u001B[49m\u001B[43m)\u001B[49m\n",
      "File \u001B[0;32m~/Desktop/Palmers/palmers/venv/local_oran/lib/python3.9/site-packages/pandas/core/arraylike.py:50\u001B[0m, in \u001B[0;36mOpsMixin.__lt__\u001B[0;34m(self, other)\u001B[0m\n\u001B[1;32m     48\u001B[0m \u001B[38;5;129m@unpack_zerodim_and_defer\u001B[39m(\u001B[38;5;124m\"\u001B[39m\u001B[38;5;124m__lt__\u001B[39m\u001B[38;5;124m\"\u001B[39m)\n\u001B[1;32m     49\u001B[0m \u001B[38;5;28;01mdef\u001B[39;00m \u001B[38;5;21m__lt__\u001B[39m(\u001B[38;5;28mself\u001B[39m, other):\n\u001B[0;32m---> 50\u001B[0m     \u001B[38;5;28;01mreturn\u001B[39;00m \u001B[38;5;28;43mself\u001B[39;49m\u001B[38;5;241;43m.\u001B[39;49m\u001B[43m_cmp_method\u001B[49m\u001B[43m(\u001B[49m\u001B[43mother\u001B[49m\u001B[43m,\u001B[49m\u001B[43m \u001B[49m\u001B[43moperator\u001B[49m\u001B[38;5;241;43m.\u001B[39;49m\u001B[43mlt\u001B[49m\u001B[43m)\u001B[49m\n",
      "File \u001B[0;32m~/Desktop/Palmers/palmers/venv/local_oran/lib/python3.9/site-packages/pandas/core/arrays/datetimelike.py:1056\u001B[0m, in \u001B[0;36mDatetimeLikeArrayMixin._cmp_method\u001B[0;34m(self, other, op)\u001B[0m\n\u001B[1;32m   1054\u001B[0m     other \u001B[38;5;241m=\u001B[39m \u001B[38;5;28mself\u001B[39m\u001B[38;5;241m.\u001B[39m_validate_comparison_value(other)\n\u001B[1;32m   1055\u001B[0m \u001B[38;5;28;01mexcept\u001B[39;00m InvalidComparison:\n\u001B[0;32m-> 1056\u001B[0m     \u001B[38;5;28;01mreturn\u001B[39;00m \u001B[43minvalid_comparison\u001B[49m\u001B[43m(\u001B[49m\u001B[38;5;28;43mself\u001B[39;49m\u001B[43m,\u001B[49m\u001B[43m \u001B[49m\u001B[43mother\u001B[49m\u001B[43m,\u001B[49m\u001B[43m \u001B[49m\u001B[43mop\u001B[49m\u001B[43m)\u001B[49m\n\u001B[1;32m   1058\u001B[0m dtype \u001B[38;5;241m=\u001B[39m \u001B[38;5;28mgetattr\u001B[39m(other, \u001B[38;5;124m\"\u001B[39m\u001B[38;5;124mdtype\u001B[39m\u001B[38;5;124m\"\u001B[39m, \u001B[38;5;28;01mNone\u001B[39;00m)\n\u001B[1;32m   1059\u001B[0m \u001B[38;5;28;01mif\u001B[39;00m is_object_dtype(dtype):\n\u001B[1;32m   1060\u001B[0m     \u001B[38;5;66;03m# We have to use comp_method_OBJECT_ARRAY instead of numpy\u001B[39;00m\n\u001B[1;32m   1061\u001B[0m     \u001B[38;5;66;03m#  comparison otherwise it would fail to raise when\u001B[39;00m\n\u001B[1;32m   1062\u001B[0m     \u001B[38;5;66;03m#  comparing tz-aware and tz-naive\u001B[39;00m\n",
      "File \u001B[0;32m~/Desktop/Palmers/palmers/venv/local_oran/lib/python3.9/site-packages/pandas/core/ops/invalid.py:36\u001B[0m, in \u001B[0;36minvalid_comparison\u001B[0;34m(left, right, op)\u001B[0m\n\u001B[1;32m     34\u001B[0m \u001B[38;5;28;01melse\u001B[39;00m:\n\u001B[1;32m     35\u001B[0m     typ \u001B[38;5;241m=\u001B[39m \u001B[38;5;28mtype\u001B[39m(right)\u001B[38;5;241m.\u001B[39m\u001B[38;5;18m__name__\u001B[39m\n\u001B[0;32m---> 36\u001B[0m     \u001B[38;5;28;01mraise\u001B[39;00m \u001B[38;5;167;01mTypeError\u001B[39;00m(\u001B[38;5;124mf\u001B[39m\u001B[38;5;124m\"\u001B[39m\u001B[38;5;124mInvalid comparison between dtype=\u001B[39m\u001B[38;5;132;01m{\u001B[39;00mleft\u001B[38;5;241m.\u001B[39mdtype\u001B[38;5;132;01m}\u001B[39;00m\u001B[38;5;124m and \u001B[39m\u001B[38;5;132;01m{\u001B[39;00mtyp\u001B[38;5;132;01m}\u001B[39;00m\u001B[38;5;124m\"\u001B[39m)\n\u001B[1;32m     37\u001B[0m \u001B[38;5;28;01mreturn\u001B[39;00m res_values\n",
      "\u001B[0;31mTypeError\u001B[0m: Invalid comparison between dtype=datetime64[ns] and ndarray"
     ]
    }
   ],
   "source": [
    "sku_store_df_step.loc[sku_store_df_step[\"date\"]<sku_store_df_step[sku_store_df_step[\"stock\"]>0]]"
   ],
   "metadata": {
    "collapsed": false
   }
  },
  {
   "cell_type": "code",
   "execution_count": null,
   "outputs": [],
   "source": [
    "print(df_all[(df_all['sku'] == '100009161000001') & (df_all['store'] == '100')])"
   ],
   "metadata": {
    "collapsed": false
   }
  },
  {
   "cell_type": "code",
   "execution_count": null,
   "outputs": [],
   "source": [],
   "metadata": {
    "collapsed": false
   }
  }
 ],
 "metadata": {
  "kernelspec": {
   "display_name": "Python 3",
   "language": "python",
   "name": "python3"
  },
  "language_info": {
   "codemirror_mode": {
    "name": "ipython",
    "version": 2
   },
   "file_extension": ".py",
   "mimetype": "text/x-python",
   "name": "python",
   "nbconvert_exporter": "python",
   "pygments_lexer": "ipython2",
   "version": "2.7.6"
  }
 },
 "nbformat": 4,
 "nbformat_minor": 0
}

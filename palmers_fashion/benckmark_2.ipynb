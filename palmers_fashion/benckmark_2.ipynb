{
 "cells": [
  {
   "cell_type": "code",
   "execution_count": null,
   "metadata": {
    "collapsed": true
   },
   "outputs": [],
   "source": [
    "import numpy as np\n",
    "import pandas as pd\n",
    "import matplotlib.pyplot as plt"
   ]
  },
  {
   "cell_type": "code",
   "execution_count": null,
   "outputs": [],
   "source": [
    "store_100_path = r\"df_all_store_100.parquet\"\n",
    "store_42_path = r\"df_all_store_42.parquet\"\n",
    "store_4906_path = r\"df_all_store_4906.parquet\""
   ],
   "metadata": {
    "collapsed": false
   }
  },
  {
   "cell_type": "code",
   "execution_count": null,
   "outputs": [],
   "source": [
    "df_100 = pd.read_parquet(store_100_path)\n",
    "df_42 = pd.read_parquet(store_42_path)\n",
    "df_4906 = pd.read_parquet(store_4906_path)\n",
    "df_all = pd.concat([df_100, df_42, df_4906])"
   ],
   "metadata": {
    "collapsed": false
   }
  },
  {
   "cell_type": "code",
   "execution_count": null,
   "outputs": [],
   "source": [
    "del df_100, df_42, df_4906"
   ],
   "metadata": {
    "collapsed": false
   }
  },
  {
   "cell_type": "code",
   "execution_count": null,
   "outputs": [],
   "source": [
    "df_all['date'] = pd.to_datetime(df_all['date'])"
   ],
   "metadata": {
    "collapsed": false
   }
  },
  {
   "cell_type": "code",
   "execution_count": null,
   "outputs": [],
   "source": [
    "warehouse_path = r\"df_all_store_VZ01.parquet\"\n",
    "df_warehouse = pd.read_parquet(warehouse_path)"
   ],
   "metadata": {
    "collapsed": false
   }
  },
  {
   "cell_type": "code",
   "execution_count": null,
   "outputs": [],
   "source": [
    "df_warehouse = df_warehouse.rename(columns={\"stock\": \"warehouse_stock\"})\n",
    "df_warehouse['date'] = pd.to_datetime(df_warehouse['date'])"
   ],
   "metadata": {
    "collapsed": false
   }
  },
  {
   "cell_type": "code",
   "execution_count": null,
   "outputs": [],
   "source": [
    "df_warehouse['sku'] = df_warehouse['sku'].astype(str)\n"
   ],
   "metadata": {
    "collapsed": false
   }
  },
  {
   "cell_type": "code",
   "execution_count": null,
   "outputs": [],
   "source": [
    "df_warehouse = df_warehouse[df_warehouse['date'] > '2018-01-01']"
   ],
   "metadata": {
    "collapsed": false
   }
  },
  {
   "cell_type": "code",
   "execution_count": null,
   "outputs": [],
   "source": [
    "df_all = df_all.merge(df_warehouse[[\"sku\",\"date\",\"warehouse_stock\"]], on = [\"sku\",\"date\"], how = \"left\")\n"
   ],
   "metadata": {
    "collapsed": false
   }
  },
  {
   "cell_type": "code",
   "execution_count": null,
   "outputs": [],
   "source": [
    "df_all = df_all[df_all['date'] > '2018-01-01']"
   ],
   "metadata": {
    "collapsed": false
   }
  },
  {
   "cell_type": "code",
   "execution_count": null,
   "outputs": [],
   "source": [
    "df_all = df_all.sort_values('date')"
   ],
   "metadata": {
    "collapsed": false
   }
  },
  {
   "cell_type": "code",
   "execution_count": null,
   "outputs": [],
   "source": [
    "df_all = df_all.merge(df_all[df_all['stock'] > 0].groupby(['sku', 'store']).agg({'stock': 'first'}).reset_index().rename(columns={'stock':'palmers_first_allocation'}), on = ['sku', 'store'], how = 'left')"
   ],
   "metadata": {
    "collapsed": false
   }
  },
  {
   "cell_type": "code",
   "execution_count": null,
   "outputs": [],
   "source": [
    "sku_store_df_step_g = df_all.groupby(['sku', 'store'])"
   ],
   "metadata": {
    "collapsed": false
   }
  },
  {
   "cell_type": "code",
   "execution_count": null,
   "outputs": [],
   "source": [
    "i = 0\n",
    "for store in ['42', '100']:\n",
    "    for sku in ['100009161000001']:\n",
    "        sku_store_df_step = sku_store_df_step_g.get_group((sku, store))\n",
    "        first_stock = sku_store_df_step[sku_store_df_step[\"stock\"]>0][\"stock\"].iloc[0]\n",
    "        # nan in our_stock if before first stock\n",
    "        sku_store_df_step.loc[sku_store_df_step[\"date\"]<sku_store_df_step[sku_store_df_step[\"stock\"]>0][\"date\"].iloc[0], \"palmers_first_allocation\"] = np.nan\n",
    "        sku_store_df_step['days_from_first_stock'] = 1\n",
    "        sku_store_df_step.loc[sku_store_df_step[\"date\"]<sku_store_df_step[sku_store_df_step[\"stock\"]>0][\"date\"].iloc[0], \"days_from_first_stock\"] = np.nan\n",
    "        sku_store_df_step['days_from_first_stock'] = sku_store_df_step['days_from_first_stock'].cumsum()\n",
    "        sku_store_df_step['sales_cumsum'] = sku_store_df_step['sales'].cumsum()\n",
    "        sku_store_df_step['dynamic_stock_with_palmers_init'] = sku_store_df_step['palmers_first_allocation'] - sku_store_df_step['sales_cumsum']\n",
    "        sku_store_df_step['sales_cumsum_divide_days_from_first_stock'] =  sku_store_df_step['sales_cumsum'] / sku_store_df_step['days_from_first_stock']\n",
    "        zero_sales_days_back = 1\n",
    "        sku_store_df_step['days_from_last_sales_that_not_zero'] = 1\n",
    "\n",
    "        for index, row in sku_store_df_step.shift(1).iterrows():\n",
    "            # if index is sku_store_df_step[sku_store_df_step[\"stock\"]>0][\"stock\"] index\n",
    "            if index > sku_store_df_step[sku_store_df_step[\"stock\"]>0].index[0]:\n",
    "                if row['sales'] == 0:\n",
    "                    zero_sales_days_back += 1\n",
    "                else:\n",
    "                    zero_sales_days_back = 1\n",
    "\n",
    "                sku_store_df_step.at[index, 'days_from_last_sales_that_not_zero'] = zero_sales_days_back\n",
    "        sku_store_df_step.loc[sku_store_df_step[\"date\"]<sku_store_df_step[sku_store_df_step[\"stock\"]>0][\"date\"].iloc[0], \"days_from_last_sales_that_not_zero\"] = np.nan\n",
    "        sku_store_df_step['rate_sales'] = sku_store_df_step['sales'] / sku_store_df_step['days_from_last_sales_that_not_zero']"
   ],
   "metadata": {
    "collapsed": false
   }
  },
  {
   "cell_type": "code",
   "execution_count": null,
   "outputs": [],
   "source": [
    "print(sku_store_df_step.iloc[0:30])"
   ],
   "metadata": {
    "collapsed": false
   }
  },
  {
   "cell_type": "code",
   "execution_count": null,
   "outputs": [],
   "source": [
    "sku_store_df_step.loc[sku_store_df_step['date'] < sku_store_df_step[sku_store_df_step[\"stock\"]>0]['date'].iloc[0], \"sum_of_our_allocation_stock\"] = np.nan"
   ],
   "metadata": {
    "collapsed": false,
    "pycharm": {
     "is_executing": true
    }
   }
  },
  {
   "cell_type": "code",
   "execution_count": null,
   "outputs": [],
   "source": [
    "sku_store_df_step.loc[sku_store_df_step[\"date\"]<sku_store_df_step[sku_store_df_step[\"stock\"]>0]]"
   ],
   "metadata": {
    "collapsed": false,
    "pycharm": {
     "is_executing": true
    }
   }
  },
  {
   "cell_type": "code",
   "execution_count": null,
   "outputs": [],
   "source": [
    "print(df_all[(df_all['sku'] == '100009161000001') & (df_all['store'] == '100')])"
   ],
   "metadata": {
    "collapsed": false,
    "pycharm": {
     "is_executing": true
    }
   }
  },
  {
   "cell_type": "code",
   "execution_count": null,
   "outputs": [],
   "source": [],
   "metadata": {
    "collapsed": false,
    "pycharm": {
     "is_executing": true
    }
   }
  }
 ],
 "metadata": {
  "kernelspec": {
   "display_name": "Python 3",
   "language": "python",
   "name": "python3"
  },
  "language_info": {
   "codemirror_mode": {
    "name": "ipython",
    "version": 2
   },
   "file_extension": ".py",
   "mimetype": "text/x-python",
   "name": "python",
   "nbconvert_exporter": "python",
   "pygments_lexer": "ipython2",
   "version": "2.7.6"
  }
 },
 "nbformat": 4,
 "nbformat_minor": 0
}

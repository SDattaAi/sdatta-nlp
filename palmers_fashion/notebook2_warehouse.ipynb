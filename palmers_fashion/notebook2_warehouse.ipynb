{
 "cells": [
  {
   "cell_type": "code",
   "execution_count": 1,
   "metadata": {
    "collapsed": true
   },
   "outputs": [],
   "source": [
    "import pandas as pd\n",
    "import time\n",
    "import numpy as np"
   ]
  },
  {
   "cell_type": "code",
   "execution_count": 2,
   "outputs": [
    {
     "name": "stdout",
     "output_type": "stream",
     "text": [
      "<class 'pandas.core.frame.DataFrame'>\n",
      "RangeIndex: 4990977 entries, 0 to 4990976\n",
      "Data columns (total 7 columns):\n",
      " #   Column                   Dtype         \n",
      "---  ------                   -----         \n",
      " 0   sku                      int64         \n",
      " 1   store                    object        \n",
      " 2   date                     datetime64[ns]\n",
      " 3   average_price            float64       \n",
      " 4   average_dicounted_price  float64       \n",
      " 5   sales                    float64       \n",
      " 6   item                     object        \n",
      "dtypes: datetime64[ns](1), float64(3), int64(1), object(2)\n",
      "memory usage: 266.5+ MB\n"
     ]
    }
   ],
   "source": [
    "sales_data = pd.read_csv('/Users/guybasson/Desktop/sdatta-nlp/palmers_fashion/f_sales_v_fashion.csv')\n",
    "sales_data['date'] = pd.to_datetime(sales_data['date'])\n",
    "sales_data['item'] = sales_data['sku'].astype(str)\n",
    "sales_data['store'] = sales_data['store'].astype(str)\n",
    "sales_data = sales_data.rename(columns={'total_sales':'sales'})\n",
    "sales_data.info()"
   ],
   "metadata": {
    "collapsed": false
   }
  },
  {
   "cell_type": "code",
   "execution_count": 3,
   "outputs": [],
   "source": [
    "warehouse_data = pd.read_csv('/Users/guybasson/Desktop/sdatta-nlp/palmers_fashion/warehouse_stock_fashion.csv')\n",
    "warehouse_data['valid_to_date'] = warehouse_data['valid_to_date'].replace('2099-12-31', sales_data['date'].max().strftime('%Y-%m-%d'))"
   ],
   "metadata": {
    "collapsed": false
   }
  },
  {
   "cell_type": "code",
   "execution_count": 4,
   "outputs": [
    {
     "data": {
      "text/plain": "'2023-12-12'"
     },
     "execution_count": 4,
     "metadata": {},
     "output_type": "execute_result"
    }
   ],
   "source": [
    "warehouse_data['valid_to_date'].max()"
   ],
   "metadata": {
    "collapsed": false
   }
  },
  {
   "cell_type": "code",
   "execution_count": 5,
   "outputs": [
    {
     "data": {
      "text/plain": "          store              sku valid_from_date valid_to_date  stock  \\\n0           123  100549055000004      2017-04-21    2023-12-12    0.0   \n1            89  100532175000001      2017-04-21    2023-12-12    0.0   \n2            43  100553018000001      2017-04-21    2023-12-12    0.0   \n3           104  100548169000007      2017-04-21    2023-12-12    0.0   \n4            85  100549049000003      2017-04-21    2023-12-12    0.0   \n...         ...              ...             ...           ...    ...   \n17812117     18  100552850000002      2020-05-07    2023-12-12    0.0   \n17812118     99  100653096000013      2020-05-07    2020-08-14    1.0   \n17812119     46  100557049000004      2018-11-17    2023-12-12    0.0   \n17812120      8  100511203000004      2017-04-21    2023-12-12    0.0   \n17812121   3202  100542009000007      2017-04-21    2023-12-12    0.0   \n\n                  item  \n0         100549055000  \n1         100532175000  \n2         100553018000  \n3         100548169000  \n4         100549049000  \n...                ...  \n17812117  100552850000  \n17812118  100653096000  \n17812119  100557049000  \n17812120  100511203000  \n17812121  100542009000  \n\n[17812122 rows x 6 columns]",
      "text/html": "<div>\n<style scoped>\n    .dataframe tbody tr th:only-of-type {\n        vertical-align: middle;\n    }\n\n    .dataframe tbody tr th {\n        vertical-align: top;\n    }\n\n    .dataframe thead th {\n        text-align: right;\n    }\n</style>\n<table border=\"1\" class=\"dataframe\">\n  <thead>\n    <tr style=\"text-align: right;\">\n      <th></th>\n      <th>store</th>\n      <th>sku</th>\n      <th>valid_from_date</th>\n      <th>valid_to_date</th>\n      <th>stock</th>\n      <th>item</th>\n    </tr>\n  </thead>\n  <tbody>\n    <tr>\n      <th>0</th>\n      <td>123</td>\n      <td>100549055000004</td>\n      <td>2017-04-21</td>\n      <td>2023-12-12</td>\n      <td>0.0</td>\n      <td>100549055000</td>\n    </tr>\n    <tr>\n      <th>1</th>\n      <td>89</td>\n      <td>100532175000001</td>\n      <td>2017-04-21</td>\n      <td>2023-12-12</td>\n      <td>0.0</td>\n      <td>100532175000</td>\n    </tr>\n    <tr>\n      <th>2</th>\n      <td>43</td>\n      <td>100553018000001</td>\n      <td>2017-04-21</td>\n      <td>2023-12-12</td>\n      <td>0.0</td>\n      <td>100553018000</td>\n    </tr>\n    <tr>\n      <th>3</th>\n      <td>104</td>\n      <td>100548169000007</td>\n      <td>2017-04-21</td>\n      <td>2023-12-12</td>\n      <td>0.0</td>\n      <td>100548169000</td>\n    </tr>\n    <tr>\n      <th>4</th>\n      <td>85</td>\n      <td>100549049000003</td>\n      <td>2017-04-21</td>\n      <td>2023-12-12</td>\n      <td>0.0</td>\n      <td>100549049000</td>\n    </tr>\n    <tr>\n      <th>...</th>\n      <td>...</td>\n      <td>...</td>\n      <td>...</td>\n      <td>...</td>\n      <td>...</td>\n      <td>...</td>\n    </tr>\n    <tr>\n      <th>17812117</th>\n      <td>18</td>\n      <td>100552850000002</td>\n      <td>2020-05-07</td>\n      <td>2023-12-12</td>\n      <td>0.0</td>\n      <td>100552850000</td>\n    </tr>\n    <tr>\n      <th>17812118</th>\n      <td>99</td>\n      <td>100653096000013</td>\n      <td>2020-05-07</td>\n      <td>2020-08-14</td>\n      <td>1.0</td>\n      <td>100653096000</td>\n    </tr>\n    <tr>\n      <th>17812119</th>\n      <td>46</td>\n      <td>100557049000004</td>\n      <td>2018-11-17</td>\n      <td>2023-12-12</td>\n      <td>0.0</td>\n      <td>100557049000</td>\n    </tr>\n    <tr>\n      <th>17812120</th>\n      <td>8</td>\n      <td>100511203000004</td>\n      <td>2017-04-21</td>\n      <td>2023-12-12</td>\n      <td>0.0</td>\n      <td>100511203000</td>\n    </tr>\n    <tr>\n      <th>17812121</th>\n      <td>3202</td>\n      <td>100542009000007</td>\n      <td>2017-04-21</td>\n      <td>2023-12-12</td>\n      <td>0.0</td>\n      <td>100542009000</td>\n    </tr>\n  </tbody>\n</table>\n<p>17812122 rows × 6 columns</p>\n</div>"
     },
     "execution_count": 5,
     "metadata": {},
     "output_type": "execute_result"
    }
   ],
   "source": [
    "mbew_fashion = pd.read_csv('mbew_fashion.csv')\n",
    "mbew_fashion['valid_to_date'] = mbew_fashion['valid_to_date'].replace('2099-12-31', sales_data['date'].max().strftime('%Y-%m-%d'))\n",
    "mbew_fashion['valid_to_date'] = pd.to_datetime(mbew_fashion['valid_to_date'])\n",
    "mbew_fashion['valid_from_date'] = pd.to_datetime(mbew_fashion['valid_from_date'])\n",
    "mbew_fashion['item'] = mbew_fashion['sku'].astype(str).str[:12]\n",
    "mbew_fashion"
   ],
   "metadata": {
    "collapsed": false
   }
  },
  {
   "cell_type": "code",
   "execution_count": 6,
   "outputs": [
    {
     "name": "stdout",
     "output_type": "stream",
     "text": [
      "                     sku store       date  average_price  \\\n",
      "0        100009119000002    76 2019-08-05          49.90   \n",
      "1        100009134000001  4134 2018-02-27          49.99   \n",
      "2        100009134000003  4904 2018-02-03          49.99   \n",
      "3        100009134000004  4904 2018-01-11          49.99   \n",
      "4        100009134000004  4904 2018-02-08          49.99   \n",
      "...                  ...   ...        ...            ...   \n",
      "4990972  201999999991001    95 2018-08-30           2.99   \n",
      "4990973  201999999991001    95 2018-08-31           2.99   \n",
      "4990974  201999999991001    95 2018-12-03           2.99   \n",
      "4990975  201999999991001    96 2018-12-08           2.99   \n",
      "4990976  201999999991001    99 2021-07-20           2.99   \n",
      "\n",
      "         average_dicounted_price  sales             item  \n",
      "0                           5.00    1.0  100009119000002  \n",
      "1                          24.99    1.0  100009134000001  \n",
      "2                          24.99    1.0  100009134000003  \n",
      "3                          24.99    1.0  100009134000004  \n",
      "4                          24.99    1.0  100009134000004  \n",
      "...                          ...    ...              ...  \n",
      "4990972                     0.00    1.0  201999999991001  \n",
      "4990973                     0.00    2.0  201999999991001  \n",
      "4990974                     0.00    4.0  201999999991001  \n",
      "4990975                     2.99    1.0  201999999991001  \n",
      "4990976                     0.00    1.0  201999999991001  \n",
      "\n",
      "[4990977 rows x 7 columns]\n"
     ]
    }
   ],
   "source": [
    "mbew_fashion_no_zero = mbew_fashion[mbew_fashion['stock'] > 0]\n",
    "mbew_fashion_no_zero['valid_from_date'] = pd.to_datetime(mbew_fashion_no_zero['valid_from_date'])\n",
    "dict_of_first_month_date_for_sku = {}\n",
    "i= 0\n",
    "for sku in mbew_fashion_no_zero['sku'].unique():\n",
    "    i+=1\n",
    "    print(str(i) + ' out of ' + str(len(mbew_fashion_no_zero['sku'].unique())))\n",
    "    data_ = mbew_fashion_no_zero[mbew_fashion_no_zero['sku'] == sku]\n",
    "    first_date = data_['valid_from_date'].min()\n",
    "    # put the month in the dict from the first date\n",
    "    dict_of_first_month_date_for_sku[sku] =  first_date.strftime('%m/%y')"
   ],
   "metadata": {
    "collapsed": false
   }
  },
  {
   "cell_type": "code",
   "execution_count": 7,
   "outputs": [],
   "source": [
    "# take MM/YY from first date\n",
    "first_date.strftime('%m/%y')\n"
   ],
   "metadata": {
    "collapsed": false
   }
  },
  {
   "cell_type": "code",
   "execution_count": 0,
   "outputs": [],
   "source": [
    "dict_of_first_day_for_sku"
   ],
   "metadata": {
    "collapsed": false
   }
  },
  {
   "cell_type": "code",
   "execution_count": 9,
   "outputs": [],
   "source": [
    "print(sales_data)"
   ],
   "metadata": {
    "collapsed": false
   }
  },
  {
   "cell_type": "code",
   "execution_count": 13,
   "outputs": [
    {
     "name": "stdout",
     "output_type": "stream",
     "text": [
      "      store              sku valid_from_date valid_to_date  stock\n",
      "60441  VZ01  100642246000001      2023-02-02    2023-03-22    0.0\n",
      "64592  VZ01  100642246000001      2023-03-23    2023-04-05  439.0\n",
      "65653  VZ01  100642246000001      2023-04-06    2023-04-06  356.0\n",
      "65741  VZ01  100642246000001      2023-04-07    2023-04-07  251.0\n",
      "65850  VZ01  100642246000001      2023-04-08    2023-04-11  238.0\n",
      "65962  VZ01  100642246000001      2023-04-12    2023-04-12  224.0\n",
      "66086  VZ01  100642246000001      2023-04-13    2023-04-13  221.0\n",
      "66182  VZ01  100642246000001      2023-04-14    2023-04-14  212.0\n",
      "66293  VZ01  100642246000001      2023-04-15    2023-04-17  210.0\n",
      "66444  VZ01  100642246000001      2023-04-18    2023-04-18  207.0\n",
      "66502  VZ01  100642246000001      2023-04-19    2023-04-21  204.0\n",
      "66833  VZ01  100642246000001      2023-04-22    2023-04-24  198.0\n",
      "67022  VZ01  100642246000001      2023-04-25    2023-04-25  196.0\n",
      "67134  VZ01  100642246000001      2023-04-26    2023-04-26  188.0\n",
      "67258  VZ01  100642246000001      2023-04-27    2023-04-27  164.0\n",
      "67314  VZ01  100642246000001      2023-04-28    2023-05-02  161.0\n",
      "67626  VZ01  100642246000001      2023-05-03    2023-05-03  158.0\n",
      "67752  VZ01  100642246000001      2023-05-04    2023-05-04  156.0\n",
      "67809  VZ01  100642246000001      2023-05-05    2023-05-09  155.0\n",
      "68287  VZ01  100642246000001      2023-05-10    2023-05-10  154.0\n",
      "68407  VZ01  100642246000001      2023-05-11    2023-05-11  153.0\n",
      "68526  VZ01  100642246000001      2023-05-12    2023-05-12  152.0\n",
      "69163  VZ01  100642246000001      2023-05-13    2023-05-22  151.0\n",
      "69388  VZ01  100642246000001      2023-05-23    2023-05-23  150.0\n",
      "69533  VZ01  100642246000001      2023-05-24    2023-05-24  149.0\n",
      "69582  VZ01  100642246000001      2023-05-25    2023-05-30  148.0\n",
      "70071  VZ01  100642246000001      2023-05-31    2023-05-31  147.0\n",
      "70212  VZ01  100642246000001      2023-06-01    2023-06-01  146.0\n",
      "70265  VZ01  100642246000001      2023-06-02    2023-06-05  145.0\n",
      "70538  VZ01  100642246000001      2023-06-06    2023-06-09  144.0\n",
      "70993  VZ01  100642246000001      2023-06-10    2023-06-12  143.0\n",
      "71156  VZ01  100642246000001      2023-06-13    2023-06-13  142.0\n",
      "71284  VZ01  100642246000001      2023-06-14    2023-06-14  141.0\n",
      "71415  VZ01  100642246000001      2023-06-15    2023-06-15  140.0\n",
      "71513  VZ01  100642246000001      2023-06-16    2023-06-16  138.0\n",
      "71628  VZ01  100642246000001      2023-06-17    2023-06-19  137.0\n"
     ]
    }
   ],
   "source": [
    "strong_sku = sales_data.groupby(['sku'])['sales'].sum().sort_values(ascending=False).reset_index()"
   ],
   "metadata": {
    "collapsed": false
   }
  },
  {
   "cell_type": "code",
   "execution_count": 15,
   "outputs": [
    {
     "data": {
      "text/plain": "<Figure size 2000x400 with 1 Axes>",
      "image/png": "[encoded data removed]"
     },
     "metadata": {},
     "output_type": "display_data"
    }
   ],
   "source": [
    "import matplotlib.pyplot as plt\n",
    "for sku in [100630490000001, 100630490000002, 100630490000003, 100630490000004, 100630490000005, 100630490000006, 100630490000007, 100630490000008, 100630490000009, 100630490000010, 100630490000011, 100630490000012, 100630490000013, 100630490000014, 100630490000015, 100630490000016, 100630490000017, 100630490000018, 100630490000019, 100630490000020, 100630490000021,]:\n",
    "    sku_data = sales_data[sales_data['sku'] == sku].groupby('date')['sales'].sum()\n",
    "    sku_data = sku_data.reindex(pd.date_range(start=sales_data['date'].min(),\n",
    "                                                # today\n",
    "                                                end=sales_data['date'].max(),\n",
    "\n",
    "                                                freq='D')).fillna(0)\n",
    "    sku_warehouse = warehouse_data[warehouse_data['sku'].astype(str) == str(sku)].sort_values(by='valid_from_date')\n",
    "    sku_warehouse_df_final = pd.DataFrame()\n",
    "    for row in sku_warehouse.iterrows():\n",
    "        sku_warehouse_df_final = pd.concat([sku_warehouse_df_final, pd.DataFrame({'date':pd.date_range(start=row[1]['valid_from_date'], end=row[1]['valid_to_date'], freq='D'), 'warehouse stock':row[1]['stock']})])\n",
    "    sku_warehouse_df_final = sku_warehouse_df_final.set_index('date')\n",
    "    relevant_sku_stores_stock = mbew_fashion[mbew_fashion['sku'] == sku]\n",
    "    all_stores_sku_stock_data = {}\n",
    "    for store in relevant_sku_stores_stock['store'].unique():\n",
    "        store_sku_data = relevant_sku_stores_stock[relevant_sku_stores_stock['store'] == store]\n",
    "        one_store_stock_sku_all = pd.DataFrame()\n",
    "        for row in store_sku_data.iterrows():\n",
    "            one_store_stock_sku = pd.DataFrame({'date':pd.date_range(start=row[1]['valid_from_date'],\n",
    "                                                                     end=row[1]['valid_to_date'],\n",
    "                                                                     freq='D'),\n",
    "                                                'store stock':row[1]['stock']})\n",
    "            one_store_stock_sku_all = pd.concat([one_store_stock_sku_all, one_store_stock_sku])\n",
    "        one_store_stock_sku_all = one_store_stock_sku_all.set_index('date')\n",
    "        all_stores_sku_stock_data[store] = one_store_stock_sku_all\n",
    "        # merge all stores with outer join\n",
    "    all_stores_final_stock_data = pd.DataFrame()\n",
    "    for store in all_stores_sku_stock_data.keys():\n",
    "        relevant_store_data_1 = all_stores_sku_stock_data[store]\n",
    "        relevant_store_data_1 = relevant_store_data_1.rename(columns={'store stock':'store {}'.format(store) + ' stock'})\n",
    "        all_stores_final_stock_data = pd.concat([all_stores_final_stock_data, relevant_store_data_1], axis=1, join='outer')\n",
    "    all_store_sum_stock = all_stores_final_stock_data.sum(axis=1).to_frame().rename(columns={0:'all stores stock'})\n",
    "    # merge by index\n",
    "    sku_data = pd.merge(sku_data, sku_warehouse_df_final, left_index=True, right_index=True, how='left').fillna(0)\n",
    "    sku_data = pd.merge(sku_data, all_store_sum_stock, left_index=True, right_index=True, how='left').fillna(0)\n",
    "    sku_data_w = sku_data.resample('W').agg({'sales':'sum', 'warehouse stock':'mean', 'all stores stock':'mean'})\n",
    "    sku_data_w.plot(figsize=(20,4))\n",
    "    plt.title('sku: ' + str(sku))\n",
    "\n",
    "    plt.show()"
   ],
   "metadata": {
    "collapsed": false
   }
  },
  {
   "cell_type": "code",
   "execution_count": 11,
   "outputs": [
    {
     "name": "stdout",
     "output_type": "stream",
     "text": [
      "store: 7\n"
     ]
    },
    {
     "name": "stderr",
     "output_type": "stream",
     "text": [
      "\n",
      "KeyboardInterrupt\n",
      "\n"
     ]
    }
   ],
   "source": [
    "sku_warehouse = warehouse_data[warehouse_data['sku'].astype(str) == str(sku)].sort_values(by='valid_from_date')"
   ],
   "metadata": {
    "collapsed": false
   }
  },
  {
   "cell_type": "code",
   "execution_count": null,
   "outputs": [],
   "source": [
    "sales_data['sku_store'] = sales_data['sku'].astype(str) + ',' + sales_data['store'].astype(str)\n",
    "mbew_fashion['sku_store'] = mbew_fashion['sku'].astype(str) + ',' + mbew_fashion['store'].astype(str)"
   ],
   "metadata": {
    "collapsed": false
   }
  },
  {
   "cell_type": "code",
   "execution_count": null,
   "outputs": [],
   "source": [
    "import numpy as np\n",
    "import time\n",
    "\n",
    "start_time = time.time()\n",
    "mbew_fashion = mbew_fashion.sort_values('valid_from_date')\n",
    "\n",
    "for store in sales_data['store'].unique():\n",
    "    print(\"store:\", store)\n",
    "    len_of_store = sales_data[sales_data['store'] == store][\"sku_store\"].nunique()\n",
    "\n",
    "    unique_sku_stores =  sales_data[sales_data['store'] == store][\"sku_store\"].unique()\n",
    "\n",
    "    mbew_fashion['valid_from_date'] = pd.to_datetime(mbew_fashion['valid_from_date'])\n",
    "    mbew_fashion['valid_to_date'] = pd.to_datetime(mbew_fashion['valid_to_date'])\n",
    "    filtered_mbew_fashion = mbew_fashion[mbew_fashion['sku_store'].isin(unique_sku_stores)]\n",
    "\n",
    "    # Function to generate date ranges\n",
    "    def generate_date_ranges(row):\n",
    "        return pd.date_range(row['valid_from_date'], row['valid_to_date'])\n",
    "\n",
    "    # Apply function to create date ranges\n",
    "    df_all_2 = filtered_mbew_fashion.apply(generate_date_ranges, axis=1)\n",
    "\n",
    "    # Create DataFrame with SKU-store and dates\n",
    "    df_all_2 = pd.DataFrame({\n",
    "        'sku_store': np.repeat(filtered_mbew_fashion['sku_store'].values, df_all_2.str.len()),\n",
    "        'date': np.concatenate(df_all_2.values)  # Convert DatetimeIndex to array for concatenation\n",
    "    })\n",
    "    # merge left by ['sku_store', 'date'] and right by ['sku_store', 'valid_to_date']\n",
    "    df_all_2 = pd.merge(df_all_2, filtered_mbew_fashion[['sku_store','valid_from_date', 'stock']], left_on=['sku_store', 'date'], right_on=['sku_store', 'valid_from_date'], how='left')\n",
    "    # ffil stock\n",
    "    df_all_2['stock'] = df_all_2['stock'].ffill()\n",
    "    df_all_2 = df_all_2.drop(columns=['valid_from_date'])\n",
    "    df_all_2 = pd.merge(sales_data, df_all_2, on=[\"sku_store\",\"date\"], how=\"right\")\n",
    "    df_all_2['sku'] = df_all_2['sku_store'].str.split(',').str[0]\n",
    "    df_all_2['store'] = df_all_2['sku_store'].str.split(',').str[1]\n",
    "    df_all_2['item'] = df_all_2['sku'].astype(str).str[:12]\n",
    "    df_all_2['sales'] = df_all_2['sales'].fillna(0)\n",
    "    df_all_2.to_parquet(\"df_all_store_{}.parquet\".format(store))\n",
    "\n",
    "print(\"--- %s seconds ---\" % (time.time() - start_time))"
   ],
   "metadata": {
    "collapsed": false
   }
  },
  {
   "cell_type": "markdown",
   "source": [
    "# generate warehouse data"
   ],
   "metadata": {
    "collapsed": false
   }
  },
  {
   "cell_type": "code",
   "execution_count": null,
   "outputs": [],
   "source": [
    "sku_unique_in_sales = sales_data['sku'].unique()"
   ],
   "metadata": {
    "collapsed": false,
    "pycharm": {
     "is_executing": true
    }
   }
  },
  {
   "cell_type": "code",
   "execution_count": null,
   "outputs": [],
   "source": [
    "print(warehouse_data[warehouse_data['sku'].isin([100642246000001])])"
   ],
   "metadata": {
    "collapsed": false
   }
  },
  {
   "cell_type": "code",
   "execution_count": null,
   "outputs": [],
   "source": [
    "\n",
    "start_time = time.time()\n",
    "warehouse_data['valid_from_date'] = pd.to_datetime(warehouse_data['valid_from_date'])\n",
    "warehouse_data['valid_to_date'] = pd.to_datetime(warehouse_data['valid_to_date'])\n",
    "warehouse_data = warehouse_data.sort_values('valid_from_date')\n",
    "warehouse_data['sku_store'] = warehouse_data['sku'].astype(str) + ',' + warehouse_data['store'].astype(str)\n",
    "warehouse_data_sample = warehouse_data[warehouse_data['sku'].isin(sku_unique_in_sales)]\n",
    "for store in ['VZ01']:\n",
    "    print(\"store:\", store)\n",
    "\n",
    "    warehouse_data_sample['valid_from_date'] = pd.to_datetime(warehouse_data_sample['valid_from_date'])\n",
    "    warehouse_data_sample['valid_to_date'] = pd.to_datetime(warehouse_data_sample['valid_to_date'])\n",
    "    filtered_warehouse_data = warehouse_data_sample\n",
    "\n",
    "    # Function to generate date ranges\n",
    "    def generate_date_ranges(row):\n",
    "        return pd.date_range(row['valid_from_date'], row['valid_to_date'])\n",
    "\n",
    "    # Apply function to create date ranges\n",
    "    df_all_2 = filtered_warehouse_data.apply(generate_date_ranges, axis=1)\n",
    "\n",
    "    # Create DataFrame with SKU-store and dates\n",
    "    df_all_2 = pd.DataFrame({\n",
    "        'sku': np.repeat(filtered_warehouse_data['sku'].values, df_all_2.str.len()),\n",
    "        'date': np.concatenate(df_all_2.values)  # Convert DatetimeIndex to array for concatenation\n",
    "    })\n",
    "    df_all_2 = pd.merge(df_all_2, filtered_warehouse_data[['sku','valid_from_date', 'stock']], left_on=['sku', 'date'], right_on=['sku', 'valid_from_date'], how='left')\n",
    "    # ffil stock\n",
    "    df_all_2['stock'] = df_all_2['stock'].ffill()\n",
    "  #  df_all_2 = df_all_2.rename(columns={'stock':'warehouse stock'})\n",
    "    df_all_2 = df_all_2.drop(columns=['valid_from_date'])\n",
    "\n",
    "    df_all_2.to_parquet(\"df_all_store_{}.parquet\".format(store))\n",
    "\n",
    "print(\"--- %s seconds ---\" % (time.time() - start_time))"
   ],
   "metadata": {
    "collapsed": false
   }
  },
  {
   "cell_type": "code",
   "execution_count": null,
   "outputs": [],
   "source": [
    "df_all_2.to_parquet(\"df_all_store_{}.parquet\".format(store))"
   ],
   "metadata": {
    "collapsed": false
   }
  },
  {
   "cell_type": "code",
   "execution_count": null,
   "outputs": [],
   "source": [
    "df_all_2['sku_store'].unique()"
   ],
   "metadata": {
    "collapsed": false
   }
  },
  {
   "cell_type": "code",
   "execution_count": null,
   "outputs": [],
   "source": [
    "df_all_2"
   ],
   "metadata": {
    "collapsed": false
   }
  },
  {
   "cell_type": "code",
   "execution_count": null,
   "outputs": [],
   "source": [
    "warehouse_data_sample[warehouse_data_sample['sku'] == '100657013000006']"
   ],
   "metadata": {
    "collapsed": false
   }
  },
  {
   "cell_type": "code",
   "execution_count": null,
   "outputs": [],
   "source": [
    "unique_sku_stores"
   ],
   "metadata": {
    "collapsed": false
   }
  },
  {
   "cell_type": "code",
   "execution_count": null,
   "outputs": [],
   "source": [
    "df_all_2"
   ],
   "metadata": {
    "collapsed": false
   }
  },
  {
   "cell_type": "code",
   "execution_count": null,
   "outputs": [],
   "source": [
    "df_all_2"
   ],
   "metadata": {
    "collapsed": false
   }
  },
  {
   "cell_type": "code",
   "execution_count": null,
   "outputs": [],
   "source": [
    "mbew_fashion[mbew_fashion['sku_store'] == '100090812000001,100']"
   ],
   "metadata": {
    "collapsed": false
   }
  },
  {
   "cell_type": "code",
   "execution_count": null,
   "outputs": [],
   "source": [
    "df_all_2[df_all_2['sku_store'] == '100090812000001,100']"
   ],
   "metadata": {
    "collapsed": false
   }
  },
  {
   "cell_type": "code",
   "execution_count": null,
   "outputs": [],
   "source": [
    "warehouse_data.info()"
   ],
   "metadata": {
    "collapsed": false
   }
  },
  {
   "cell_type": "code",
   "execution_count": null,
   "outputs": [],
   "source": [
    "sku_warehouse_df_final"
   ],
   "metadata": {
    "collapsed": false
   }
  },
  {
   "cell_type": "code",
   "execution_count": null,
   "outputs": [],
   "source": [
    "print(100630490000005)"
   ],
   "metadata": {
    "collapsed": false
   }
  },
  {
   "cell_type": "code",
   "execution_count": null,
   "outputs": [],
   "source": [
    "sku_data"
   ],
   "metadata": {
    "collapsed": false
   }
  },
  {
   "cell_type": "code",
   "execution_count": null,
   "outputs": [],
   "source": [],
   "metadata": {
    "collapsed": false
   }
  }
 ],
 "metadata": {
  "kernelspec": {
   "display_name": "Python 3",
   "language": "python",
   "name": "python3"
  },
  "language_info": {
   "codemirror_mode": {
    "name": "ipython",
    "version": 2
   },
   "file_extension": ".py",
   "mimetype": "text/x-python",
   "name": "python",
   "nbconvert_exporter": "python",
   "pygments_lexer": "ipython2",
   "version": "2.7.6"
  }
 },
 "nbformat": 4,
 "nbformat_minor": 0
}

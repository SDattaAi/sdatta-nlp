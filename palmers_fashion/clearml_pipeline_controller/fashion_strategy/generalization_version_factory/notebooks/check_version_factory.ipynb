{
 "cells": [
  {
   "cell_type": "code",
   "outputs": [],
   "source": [
    "from simulation.generalization_version_factory.strategies.naive_bayes_strategy import NaiveBayesStrategy\n",
    "from simulation.generalization_version_factory.strategies.high_demand_strategy import HighDemandStrategy\n",
    "from simulation.generalization_version_factory.strategies.jit_strategy import JitStrategy\n",
    "from simulation.generalization_version_factory.main_simulation import main_simulation\n",
    "from simulation.generalization_version_factory.config import task_id\n",
    "from simulation.generalization_version_factory.utils.dummy_data.load_dummy_data_for_check import load_dummy_data_for_check"
   ],
   "metadata": {
    "collapsed": false
   },
   "id": "bd803fd4476622f3",
   "execution_count": null
  },
  {
   "cell_type": "code",
   "outputs": [],
   "source": [
    "dict_deliveries_from_warehouse, dict_arrivals_store_deliveries, skus_simulation, dict_sales, dict_stocks, start_dates, end_dates = load_dummy_data_for_check(task_id)"
   ],
   "metadata": {
    "collapsed": false
   },
   "id": "740fc95e22f67a5d",
   "execution_count": null
  },
  {
   "cell_type": "code",
   "outputs": [],
   "source": [
    "main_simulation(\n",
    "    dict_deliveries_from_warehouse=dict_deliveries_from_warehouse,\n",
    "    dict_arrivals_store_deliveries=dict_arrivals_store_deliveries,\n",
    "    skus_simulation=skus_simulation,\n",
    "    dict_sales=dict_sales,\n",
    "    dict_stocks=dict_stocks,\n",
    "    start_dates=start_dates,\n",
    "    end_dates=end_dates,\n",
    "original_strategy_key='EoqStrategy',\n",
    "    original_forecast_key='EOQForecasting',\n",
    "    use_strategy_selector=True,\n",
    "    strategy_key_high_demand=\"HighDemandStrategy\",\n",
    "    forecast_key_high_demand=\"HighDemandForecasting\",\n",
    ")\n",
    "# \n",
    "# main_simulation(\n",
    "#     dict_deliveries_from_warehouse=dict_deliveries_from_warehouse,\n",
    "#     dict_arrivals_store_deliveries=dict_arrivals_store_deliveries,\n",
    "#     skus_simulation=skus_simulation,\n",
    "#     dict_sales=dict_sales,\n",
    "#     dict_stocks=dict_stocks,\n",
    "#     start_dates=start_dates,\n",
    "#     end_dates=end_dates,\n",
    "#     original_strategy_class=NaiveBayesStrategy,\n",
    "#     use_strategy_selector=True,\n",
    "#     high_demand_strategy_class=HighDemandStrategy\n",
    "# )"
   ],
   "metadata": {
    "collapsed": false
   },
   "id": "9d144371f71f7631",
   "execution_count": null
  },
  {
   "cell_type": "code",
   "outputs": [],
   "source": [],
   "metadata": {
    "collapsed": false
   },
   "id": "336eeb6f624e4edc"
  }
 ],
 "metadata": {
  "kernelspec": {
   "display_name": "Python 3",
   "language": "python",
   "name": "python3"
  },
  "language_info": {
   "codemirror_mode": {
    "name": "ipython",
    "version": 2
   },
   "file_extension": ".py",
   "mimetype": "text/x-python",
   "name": "python",
   "nbconvert_exporter": "python",
   "pygments_lexer": "ipython2",
   "version": "2.7.6"
  }
 },
 "nbformat": 4,
 "nbformat_minor": 5
}

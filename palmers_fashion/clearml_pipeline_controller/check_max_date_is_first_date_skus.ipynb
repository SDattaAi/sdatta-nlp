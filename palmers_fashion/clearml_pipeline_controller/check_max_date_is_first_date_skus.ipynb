{
 "cells": [
  {
   "cell_type": "code",
   "execution_count": 1,
   "outputs": [],
   "source": [
    "import pandas as pd\n",
    "from clearml import Dataset"
   ],
   "metadata": {
    "collapsed": false
   }
  },
  {
   "cell_type": "code",
   "execution_count": 2,
   "metadata": {
    "collapsed": true
   },
   "outputs": [
    {
     "name": "stdout",
     "output_type": "stream",
     "text": [
      "max_stock_date_is_first_date_skus: /Users/guybasson/.clearml/cache/storage_manager/datasets/ds_a1ad1a0873fe4da3b606e03c24170b9b\n"
     ]
    }
   ],
   "source": [
    "max_stock_date_is_first_date_skus = Dataset.get(dataset_project=\"palmers_fashion\", dataset_name=\"max_stock_date_is_first_date_skus\").get_local_copy()\n",
    "print('max_stock_date_is_first_date_skus:',max_stock_date_is_first_date_skus)\n",
    "max_stock_date_is_first_date_skus = pd.read_csv(max_stock_date_is_first_date_skus + '/max_stock_date_is_first_date_skus.csv')"
   ]
  },
  {
   "cell_type": "code",
   "execution_count": 3,
   "outputs": [
    {
     "name": "stdout",
     "output_type": "stream",
     "text": [
      "                   sku\n",
      "12153  100557140000011\n"
     ]
    }
   ],
   "source": [
    "print(max_stock_date_is_first_date_skus[max_stock_date_is_first_date_skus['sku'] == 100642490000006])"
   ],
   "metadata": {
    "collapsed": false
   }
  },
  {
   "cell_type": "code",
   "execution_count": 4,
   "outputs": [
    {
     "name": "stdout",
     "output_type": "stream",
     "text": [
      "initial_stocks_path: /Users/guybasson/.clearml/cache/storage_manager/datasets/ds_c58e2ca713e846b3906820250ae0dda2\n"
     ]
    }
   ],
   "source": [
    "initial_stocks_path = Dataset.get(dataset_project=\"palmers_fashion\", dataset_name=\"initial_stocks\").get_local_copy()\n",
    "print('initial_stocks_path:',initial_stocks_path)\n",
    "initial_stock_sku_store = pd.read_csv(initial_stocks_path + '/initial_stock_sku_store.csv')"
   ],
   "metadata": {
    "collapsed": false
   }
  },
  {
   "cell_type": "code",
   "execution_count": 5,
   "outputs": [
    {
     "name": "stdout",
     "output_type": "stream",
     "text": [
      "                    sku store first_initial_stock_date  initial_stock\n",
      "788761  100557140000011  VZ01               2019-11-05           20.0\n"
     ]
    }
   ],
   "source": [
    "print(initial_stock_sku_store[(initial_stock_sku_store['sku'].astype(str) == '100062085000001') & (initial_stock_sku_store['store'] == 'VZ01')])"
   ],
   "metadata": {
    "collapsed": false
   }
  },
  {
   "cell_type": "code",
   "execution_count": 5,
   "outputs": [],
   "source": [],
   "metadata": {
    "collapsed": false
   }
  }
 ],
 "metadata": {
  "kernelspec": {
   "display_name": "Python 3",
   "language": "python",
   "name": "python3"
  },
  "language_info": {
   "codemirror_mode": {
    "name": "ipython",
    "version": 2
   },
   "file_extension": ".py",
   "mimetype": "text/x-python",
   "name": "python",
   "nbconvert_exporter": "python",
   "pygments_lexer": "ipython2",
   "version": "2.7.6"
  }
 },
 "nbformat": 4,
 "nbformat_minor": 0
}

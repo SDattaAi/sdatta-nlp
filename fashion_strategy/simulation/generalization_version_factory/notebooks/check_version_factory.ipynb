{
 "cells": [
  {
   "cell_type": "code",
   "outputs": [
    {
     "ename": "ModuleNotFoundError",
     "evalue": "No module named 'simulation'",
     "output_type": "error",
     "traceback": [
      "\u001B[0;31m---------------------------------------------------------------------------\u001B[0m",
      "\u001B[0;31mModuleNotFoundError\u001B[0m                       Traceback (most recent call last)",
      "Cell \u001B[0;32mIn[7], line 1\u001B[0m\n\u001B[0;32m----> 1\u001B[0m \u001B[38;5;28;01mfrom\u001B[39;00m \u001B[38;5;21;01mpalmers_fashion\u001B[39;00m\u001B[38;5;21;01m.\u001B[39;00m\u001B[38;5;21;01mclearml_pipeline_controller\u001B[39;00m\u001B[38;5;21;01m.\u001B[39;00m\u001B[38;5;21;01mfashion_strategy\u001B[39;00m\u001B[38;5;21;01m.\u001B[39;00m\u001B[38;5;21;01mgeneralization_version_factory\u001B[39;00m\u001B[38;5;21;01m.\u001B[39;00m\u001B[38;5;21;01mmain_simulation\u001B[39;00m \u001B[38;5;28;01mimport\u001B[39;00m main_simulation\n\u001B[1;32m      2\u001B[0m \u001B[38;5;28;01mfrom\u001B[39;00m \u001B[38;5;21;01mpalmers_fashion\u001B[39;00m\u001B[38;5;21;01m.\u001B[39;00m\u001B[38;5;21;01mclearml_pipeline_controller\u001B[39;00m\u001B[38;5;21;01m.\u001B[39;00m\u001B[38;5;21;01mfashion_strategy\u001B[39;00m\u001B[38;5;21;01m.\u001B[39;00m\u001B[38;5;21;01mgeneralization_version_factory\u001B[39;00m\u001B[38;5;21;01m.\u001B[39;00m\u001B[38;5;21;01mdummy_data\u001B[39;00m \u001B[38;5;28;01mimport\u001B[39;00m load_dummy_data_for_check\n",
      "File \u001B[0;32m~/Desktop/sdatta-nlp/palmers_fashion/clearml_pipeline_controller/fashion_strategy/generalization_version_factory/main_simulation.py:13\u001B[0m\n\u001B[1;32m     11\u001B[0m \u001B[38;5;28;01mfrom\u001B[39;00m \u001B[38;5;21;01mpalmers_fashion\u001B[39;00m\u001B[38;5;21;01m.\u001B[39;00m\u001B[38;5;21;01mclearml_pipeline_controller\u001B[39;00m\u001B[38;5;21;01m.\u001B[39;00m\u001B[38;5;21;01mfashion_strategy\u001B[39;00m\u001B[38;5;21;01m.\u001B[39;00m\u001B[38;5;21;01mgeneralization_version_factory\u001B[39;00m\u001B[38;5;21;01m.\u001B[39;00m\u001B[38;5;21;01mstrategy_selector\u001B[39;00m\u001B[38;5;21;01m.\u001B[39;00m\u001B[38;5;21;01mstrategy_selector\u001B[39;00m \u001B[38;5;28;01mimport\u001B[39;00m StrategySelector\n\u001B[1;32m     12\u001B[0m \u001B[38;5;28;01mfrom\u001B[39;00m \u001B[38;5;21;01mpalmers_fashion\u001B[39;00m\u001B[38;5;21;01m.\u001B[39;00m\u001B[38;5;21;01mclearml_pipeline_controller\u001B[39;00m\u001B[38;5;21;01m.\u001B[39;00m\u001B[38;5;21;01mfashion_strategy\u001B[39;00m\u001B[38;5;21;01m.\u001B[39;00m\u001B[38;5;21;01mgeneralization_version_factory\u001B[39;00m\u001B[38;5;21;01m.\u001B[39;00m\u001B[38;5;21;01mforecaster\u001B[39;00m\u001B[38;5;21;01m.\u001B[39;00m\u001B[38;5;21;01mforecast_factory\u001B[39;00m\u001B[38;5;21;01m.\u001B[39;00m\u001B[38;5;21;01mforecast_factory\u001B[39;00m \u001B[38;5;28;01mimport\u001B[39;00m ForecastFactory\n\u001B[0;32m---> 13\u001B[0m \u001B[38;5;28;01mfrom\u001B[39;00m \u001B[38;5;21;01mpalmers_fashion\u001B[39;00m\u001B[38;5;21;01m.\u001B[39;00m\u001B[38;5;21;01mclearml_pipeline_controller\u001B[39;00m\u001B[38;5;21;01m.\u001B[39;00m\u001B[38;5;21;01mfashion_strategy\u001B[39;00m\u001B[38;5;21;01m.\u001B[39;00m\u001B[38;5;21;01mgeneralization_version_factory\u001B[39;00m\u001B[38;5;21;01m.\u001B[39;00m\u001B[38;5;21;01mstrategies\u001B[39;00m\u001B[38;5;21;01m.\u001B[39;00m\u001B[38;5;21;01mstrategies_factory\u001B[39;00m\u001B[38;5;21;01m.\u001B[39;00m\u001B[38;5;21;01mstrategies_factory\u001B[39;00m \u001B[38;5;28;01mimport\u001B[39;00m StrategyFactory\n\u001B[1;32m     14\u001B[0m \u001B[38;5;28;01mimport\u001B[39;00m \u001B[38;5;21;01mpandas\u001B[39;00m \u001B[38;5;28;01mas\u001B[39;00m \u001B[38;5;21;01mpd\u001B[39;00m\n\u001B[1;32m     18\u001B[0m \u001B[38;5;28;01mdef\u001B[39;00m \u001B[38;5;21mmain_simulation\u001B[39m(dict_deliveries_from_warehouse: \u001B[38;5;28mdict\u001B[39m, dict_arrivals_store_deliveries: \u001B[38;5;28mdict\u001B[39m, skus_simulation: \u001B[38;5;28mlist\u001B[39m,\n\u001B[1;32m     19\u001B[0m                     dict_sales: \u001B[38;5;28mdict\u001B[39m, dict_stocks: \u001B[38;5;28mdict\u001B[39m, start_dates: \u001B[38;5;28mdict\u001B[39m, end_dates: \u001B[38;5;28mdict\u001B[39m, original_strategy_key,original_forecast_key,\n\u001B[1;32m     20\u001B[0m                     use_strategy_selector\u001B[38;5;241m=\u001B[39m\u001B[38;5;28;01mFalse\u001B[39;00m,strategy_key_high_demand\u001B[38;5;241m=\u001B[39m\u001B[38;5;28;01mNone\u001B[39;00m,forecast_key_high_demand\u001B[38;5;241m=\u001B[39m\u001B[38;5;28;01mNone\u001B[39;00m, \u001B[38;5;241m*\u001B[39m\u001B[38;5;241m*\u001B[39mstrategy_specific_args) \u001B[38;5;241m-\u001B[39m\u001B[38;5;241m>\u001B[39m \u001B[38;5;28;01mNone\u001B[39;00m:\n",
      "File \u001B[0;32m~/Desktop/sdatta-nlp/palmers_fashion/clearml_pipeline_controller/fashion_strategy/generalization_version_factory/strategies/strategies_factory/strategies_factory.py:1\u001B[0m\n\u001B[0;32m----> 1\u001B[0m \u001B[38;5;28;01mfrom\u001B[39;00m \u001B[38;5;21;01msimulation\u001B[39;00m\u001B[38;5;21;01m.\u001B[39;00m\u001B[38;5;21;01mgeneralization_version_factory\u001B[39;00m\u001B[38;5;21;01m.\u001B[39;00m\u001B[38;5;21;01mstrategies\u001B[39;00m\u001B[38;5;21;01m.\u001B[39;00m\u001B[38;5;21;01mnaive_bayes_strategy\u001B[39;00m \u001B[38;5;28;01mimport\u001B[39;00m NaiveBayesStrategy\n\u001B[1;32m      2\u001B[0m \u001B[38;5;28;01mfrom\u001B[39;00m \u001B[38;5;21;01msimulation\u001B[39;00m\u001B[38;5;21;01m.\u001B[39;00m\u001B[38;5;21;01mgeneralization_version_factory\u001B[39;00m\u001B[38;5;21;01m.\u001B[39;00m\u001B[38;5;21;01mstrategies\u001B[39;00m\u001B[38;5;21;01m.\u001B[39;00m\u001B[38;5;21;01mhigh_demand_strategy\u001B[39;00m \u001B[38;5;28;01mimport\u001B[39;00m HighDemandStrategy\n\u001B[1;32m      3\u001B[0m \u001B[38;5;28;01mfrom\u001B[39;00m \u001B[38;5;21;01msimulation\u001B[39;00m\u001B[38;5;21;01m.\u001B[39;00m\u001B[38;5;21;01mgeneralization_version_factory\u001B[39;00m\u001B[38;5;21;01m.\u001B[39;00m\u001B[38;5;21;01mstrategies\u001B[39;00m\u001B[38;5;21;01m.\u001B[39;00m\u001B[38;5;21;01meoq_strategy\u001B[39;00m \u001B[38;5;28;01mimport\u001B[39;00m EoqStrategy\n",
      "\u001B[0;31mModuleNotFoundError\u001B[0m: No module named 'simulation'"
     ]
    }
   ],
   "source": [
    "\n",
    "from palmers_fashion.clearml_pipeline_controller.fashion_strategy.generalization_version_factory.main_simulation import main_simulation\n",
    "from palmers_fashion.clearml_pipeline_controller.fashion_strategy.generalization_version_factory.dummy_data import load_dummy_data_for_check"
   ],
   "metadata": {
    "collapsed": false
   },
   "id": "bd803fd4476622f3",
   "execution_count": 7
  },
  {
   "cell_type": "code",
   "outputs": [
    {
     "ename": "NameError",
     "evalue": "name 'load_dummy_data_for_check' is not defined",
     "output_type": "error",
     "traceback": [
      "\u001B[0;31m---------------------------------------------------------------------------\u001B[0m",
      "\u001B[0;31mNameError\u001B[0m                                 Traceback (most recent call last)",
      "Cell \u001B[0;32mIn[8], line 1\u001B[0m\n\u001B[0;32m----> 1\u001B[0m dict_deliveries_from_warehouse, dict_arrivals_store_deliveries, skus_simulation, dict_sales, dict_stocks, start_dates, end_dates \u001B[38;5;241m=\u001B[39m \u001B[43mload_dummy_data_for_check\u001B[49m(\u001B[38;5;124m'\u001B[39m\u001B[38;5;124m299baa4c44064b278ca692c0fe43e334\u001B[39m\u001B[38;5;124m'\u001B[39m)\n",
      "\u001B[0;31mNameError\u001B[0m: name 'load_dummy_data_for_check' is not defined"
     ]
    }
   ],
   "source": [
    "dict_deliveries_from_warehouse, dict_arrivals_store_deliveries, skus_simulation, dict_sales, dict_stocks, start_dates, end_dates = load_dummy_data_for_check('299baa4c44064b278ca692c0fe43e334')"
   ],
   "metadata": {
    "collapsed": false
   },
   "id": "740fc95e22f67a5d",
   "execution_count": 8
  },
  {
   "cell_type": "code",
   "outputs": [],
   "source": [
    "main_simulation(\n",
    "    dict_deliveries_from_warehouse=dict_deliveries_from_warehouse,\n",
    "    dict_arrivals_store_deliveries=dict_arrivals_store_deliveries,\n",
    "    skus_simulation=skus_simulation,\n",
    "    dict_sales=dict_sales,\n",
    "    dict_stocks=dict_stocks,\n",
    "    start_dates=start_dates,\n",
    "    end_dates=end_dates,\n",
    "original_strategy_key='EoqStrategy',\n",
    "    original_forecast_key='EOQForecasting',\n",
    "    use_strategy_selector=True,\n",
    "    strategy_key_high_demand=\"HighDemandStrategy\",\n",
    "    forecast_key_high_demand=\"HighDemandForecasting\",\n",
    ")\n",
    "# \n",
    "# main_simulation(\n",
    "#     dict_deliveries_from_warehouse=dict_deliveries_from_warehouse,\n",
    "#     dict_arrivals_store_deliveries=dict_arrivals_store_deliveries,\n",
    "#     skus_simulation=skus_simulation,\n",
    "#     dict_sales=dict_sales,\n",
    "#     dict_stocks=dict_stocks,\n",
    "#     start_dates=start_dates,\n",
    "#     end_dates=end_dates,\n",
    "#     original_strategy_class=NaiveBayesStrategy,\n",
    "#     use_strategy_selector=True,\n",
    "#     high_demand_strategy_class=HighDemandStrategy\n",
    "# )"
   ],
   "metadata": {
    "collapsed": false
   },
   "id": "9d144371f71f7631",
   "execution_count": null
  },
  {
   "cell_type": "code",
   "outputs": [],
   "source": [],
   "metadata": {
    "collapsed": false
   },
   "id": "336eeb6f624e4edc"
  }
 ],
 "metadata": {
  "kernelspec": {
   "display_name": "Python 3",
   "language": "python",
   "name": "python3"
  },
  "language_info": {
   "codemirror_mode": {
    "name": "ipython",
    "version": 2
   },
   "file_extension": ".py",
   "mimetype": "text/x-python",
   "name": "python",
   "nbconvert_exporter": "python",
   "pygments_lexer": "ipython2",
   "version": "2.7.6"
  }
 },
 "nbformat": 4,
 "nbformat_minor": 5
}
